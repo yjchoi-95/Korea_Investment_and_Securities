{
 "cells": [
  {
   "cell_type": "markdown",
   "id": "8662f632-5c79-4011-bee5-1885c94c332b",
   "metadata": {},
   "source": [
    "## Import\n",
    "\n",
    "https://seong6496.tistory.com/169"
   ]
  },
  {
   "cell_type": "code",
   "execution_count": 1,
   "id": "a990da4d-1e1d-433e-ae15-dbdaad629bf4",
   "metadata": {},
   "outputs": [],
   "source": [
    "from tqdm import tqdm\n",
    "\n",
    "import numpy as np\n",
    "import pandas as pd\n",
    "import re\n"
   ]
  },
  {
   "cell_type": "code",
   "execution_count": 2,
   "id": "73b1506a-5fb6-49f7-b54b-8f4a5cfa77b4",
   "metadata": {},
   "outputs": [
    {
     "data": {
      "text/plain": [
       "'C:\\\\Users\\\\PC0\\\\Documents\\\\GitHub\\\\Korea_Investment_and_Securities\\\\scripts\\\\ipynb'"
      ]
     },
     "execution_count": 2,
     "metadata": {},
     "output_type": "execute_result"
    }
   ],
   "source": [
    "import os\n",
    "os.getcwd()"
   ]
  },
  {
   "cell_type": "code",
   "execution_count": null,
   "id": "da5a470a-80d0-4f48-8645-3ffaf57277d2",
   "metadata": {},
   "outputs": [],
   "source": []
  },
  {
   "cell_type": "markdown",
   "id": "23c92beb-bb29-4f3a-bbf8-9046a50ba277",
   "metadata": {},
   "source": [
    "* etf com crawling"
   ]
  },
  {
   "cell_type": "code",
   "execution_count": 4,
   "id": "93f4d2ef-b633-47ef-9151-9bb214ed928f",
   "metadata": {},
   "outputs": [],
   "source": [
    "from bs4 import BeautifulSoup\n",
    "\n",
    "import requests\n",
    "import pickle"
   ]
  },
  {
   "cell_type": "code",
   "execution_count": 5,
   "id": "00aacc1a-f202-4a20-8279-787bb0ea5855",
   "metadata": {},
   "outputs": [],
   "source": [
    "agent = {\"User-Agent\":\"Mozilla/5.0 (Windows NT 10.0; Win64; x64) AppleWebKit/537.36 (KHTML, like Gecko) Chrome/98.0.4758.82 Safari/537.36\"}"
   ]
  },
  {
   "cell_type": "code",
   "execution_count": 10,
   "id": "bcdd521d-8731-4a1d-a731-272d95f56624",
   "metadata": {},
   "outputs": [],
   "source": [
    "## HTTP GET Request\n",
    "req = requests.get('https://www.etf.com/AIEQ#efficiency',\n",
    "              headers=agent)\n",
    "\n",
    "## HTTP GET Request\n",
    "#req = requests.get('https://www.etf.com/AIEQ#efficiency')\n",
    "## HTML 소스 가져오기\n",
    "html = req.text\n",
    "## HTTP Header 가져오기\n",
    "header = req.headers\n",
    "## HTTP Status 가져오기 (200: 정상)\n",
    "status = req.status_code\n",
    "## HTTP가 정상적으로 되었는지 (True/False)\n",
    "is_ok = req.ok"
   ]
  },
  {
   "cell_type": "code",
   "execution_count": 11,
   "id": "84d0339e-b7cb-4db2-9f9b-e0514ee0eef2",
   "metadata": {},
   "outputs": [
    {
     "data": {
      "text/plain": [
       "503"
      ]
     },
     "execution_count": 11,
     "metadata": {},
     "output_type": "execute_result"
    }
   ],
   "source": [
    "status"
   ]
  },
  {
   "cell_type": "code",
   "execution_count": null,
   "id": "eed79501-cb41-4107-9397-f2fb042d6306",
   "metadata": {
    "tags": []
   },
   "outputs": [],
   "source": [
    "#for idx, sym in tqdm(enumerate(tot_df.Symbol[:5])):\n",
    "for idx, sym in tqdm(enumerate(df_theme.종목코드)):\n",
    "    ## HTTP GET Request\n",
    "    req = requests.get('https://finance.yahoo.com/quote/{code}/profile?p={code}'.format(code=sym),\n",
    "                  headers=agent)\n",
    "    ## HTML 소스 가져오기\n",
    "    html = req.text\n",
    "    ## HTTP Header 가져오기\n",
    "    header = req.headers\n",
    "    ## HTTP Status 가져오기 (200: 정상)\n",
    "    status = req.status_code\n",
    "    ## HTTP가 정상적으로 되었는지 (True/False)\n",
    "    is_ok = req.ok\n",
    "    \n",
    "    '''\n",
    "    if \"Please check your spelling. Try our suggested matches or see results in other tabs.\" in html:\n",
    "        continue\n",
    "    '''\n",
    "    \n",
    "    soup = BeautifulSoup(html, 'html.parser')\n",
    "    try:\n",
    "        description = soup.select('section > p')[0]\n",
    "    except IndexError:\n",
    "        continue\n",
    "    desc_dict[sym] = description.text\n",
    "    "
   ]
  },
  {
   "cell_type": "code",
   "execution_count": null,
   "id": "6c8e3fe9-fe18-482d-8447-ccca269a26fa",
   "metadata": {},
   "outputs": [],
   "source": []
  },
  {
   "cell_type": "code",
   "execution_count": null,
   "id": "e0d214ff-2465-4e55-ae2c-bf98b9fa3aef",
   "metadata": {},
   "outputs": [],
   "source": []
  }
 ],
 "metadata": {
  "kernelspec": {
   "display_name": "Python 3",
   "language": "python",
   "name": "python3"
  },
  "language_info": {
   "codemirror_mode": {
    "name": "ipython",
    "version": 3
   },
   "file_extension": ".py",
   "mimetype": "text/x-python",
   "name": "python",
   "nbconvert_exporter": "python",
   "pygments_lexer": "ipython3",
   "version": "3.8.8"
  }
 },
 "nbformat": 4,
 "nbformat_minor": 5
}
