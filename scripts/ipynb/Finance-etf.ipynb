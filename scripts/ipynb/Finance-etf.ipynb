{
 "cells": [
  {
   "cell_type": "markdown",
   "id": "8662f632-5c79-4011-bee5-1885c94c332b",
   "metadata": {},
   "source": [
    "## Import"
   ]
  },
  {
   "cell_type": "code",
   "execution_count": 114,
   "id": "a990da4d-1e1d-433e-ae15-dbdaad629bf4",
   "metadata": {},
   "outputs": [],
   "source": [
    "from tqdm import tqdm\n",
    "\n",
    "import numpy as np\n",
    "import pandas as pd\n",
    "import re, time"
   ]
  },
  {
   "cell_type": "code",
   "execution_count": null,
   "id": "da5a470a-80d0-4f48-8645-3ffaf57277d2",
   "metadata": {},
   "outputs": [],
   "source": []
  },
  {
   "cell_type": "markdown",
   "id": "23c92beb-bb29-4f3a-bbf8-9046a50ba277",
   "metadata": {},
   "source": [
    "* etf com crawling"
   ]
  },
  {
   "cell_type": "code",
   "execution_count": 273,
   "id": "93f4d2ef-b633-47ef-9151-9bb214ed928f",
   "metadata": {},
   "outputs": [],
   "source": [
    "from bs4 import BeautifulSoup\n",
    "from selenium import webdriver\n",
    "from selenium.common.exceptions import NoSuchElementException\n",
    "from selenium.webdriver.common.keys import Keys\n",
    "\n",
    "import requests\n",
    "import pickle"
   ]
  },
  {
   "cell_type": "code",
   "execution_count": 5,
   "id": "c6aacf9e-065d-4278-8aa2-810fa95ca6d6",
   "metadata": {},
   "outputs": [
    {
     "data": {
      "text/plain": [
       "'\\\\'"
      ]
     },
     "execution_count": 5,
     "metadata": {},
     "output_type": "execute_result"
    }
   ],
   "source": [
    "import os\n",
    "os.path.sep"
   ]
  },
  {
   "cell_type": "code",
   "execution_count": 9,
   "id": "48261f82-52be-4284-b26e-3bbf07c9452c",
   "metadata": {},
   "outputs": [
    {
     "name": "stderr",
     "output_type": "stream",
     "text": [
      "<ipython-input-9-b38ee1fd7cba>:6: DeprecationWarning: executable_path has been deprecated, please pass in a Service object\n",
      "  driver = webdriver.Chrome(\"C:\\\\Users\\\\PC0\\\\Desktop\\\\chromedriver.exe\", options=options)\n"
     ]
    }
   ],
   "source": [
    "options = webdriver.ChromeOptions()\n",
    "\n",
    "options.add_argument(\"--disable-blink-features=AutomationControlled\")\n",
    "options.add_argument(\"user-agent=Mozilla/5.0 (Windows NT 10.0; Win64; x64) AppleWebKit/537.36 (KHTML, like Gecko) Chrome/98.0.4758.82 Safari/537.36\")\n",
    "\n",
    "driver = webdriver.Chrome(\"C:\\\\Users\\\\PC0\\\\Desktop\\\\chromedriver.exe\", options=options)"
   ]
  },
  {
   "cell_type": "code",
   "execution_count": null,
   "id": "0e446840-63a4-44c2-b586-29b9edddc680",
   "metadata": {},
   "outputs": [],
   "source": []
  },
  {
   "cell_type": "markdown",
   "id": "8702b277-4c58-4665-9c05-b293c091e9b3",
   "metadata": {},
   "source": [
    "* etf url per sector"
   ]
  },
  {
   "cell_type": "code",
   "execution_count": 10,
   "id": "7568be13-90bc-447e-acf3-ee136cc84e7d",
   "metadata": {},
   "outputs": [],
   "source": [
    "# url 접속\n",
    "driver.get(\"https://www.etf.com/channels/\")"
   ]
  },
  {
   "cell_type": "code",
   "execution_count": 31,
   "id": "e8a76cc1-18a8-4143-9efe-7d108e14557c",
   "metadata": {},
   "outputs": [
    {
     "name": "stderr",
     "output_type": "stream",
     "text": [
      "<ipython-input-31-34923382a4dc>:1: DeprecationWarning: find_elements_by_* commands are deprecated. Please use find_elements() instead\n",
      "  sector = driver.find_elements_by_css_selector(\"div.container.discovery-slat\")[2]\n"
     ]
    }
   ],
   "source": [
    "# sector 정보\n",
    "sector = driver.find_elements_by_css_selector(\"div.container.discovery-slat\")[2]"
   ]
  },
  {
   "cell_type": "code",
   "execution_count": 67,
   "id": "617ce66d-8314-4e96-8e9b-dbbfc751c406",
   "metadata": {},
   "outputs": [],
   "source": [
    "# sector 이름 수집\n",
    "sector_names = sector.find_elements_by_css_selector(\"div.row > div.col-xs-12\")[1:]\n",
    "sector_names = [x.text for x in sector_names]"
   ]
  },
  {
   "cell_type": "code",
   "execution_count": 74,
   "id": "9e87c5b8-bb01-4b42-b9b5-46e9a6001532",
   "metadata": {},
   "outputs": [],
   "source": [
    "# sector 링크 수집\n",
    "sector_links = sector.find_elements_by_css_selector(\"div.row > div.col-xs-12 > a\")\n",
    "sector_links = [x.get_attribute(\"href\") for x in sector_links if x.get_attribute(\"href\") != None]"
   ]
  },
  {
   "cell_type": "code",
   "execution_count": 121,
   "id": "80f49122-3040-4e6f-881e-07bb636c90ad",
   "metadata": {},
   "outputs": [],
   "source": [
    "sector_dict = {x:y for x,y in zip(sector_names, sector_links)}"
   ]
  },
  {
   "cell_type": "code",
   "execution_count": null,
   "id": "1fe18f09-c7a8-4f21-8730-3740c05f08dd",
   "metadata": {},
   "outputs": [],
   "source": [
    "etf_sector_tot = []\n",
    "etf_names_tot = []\n",
    "etf_links_tot = []"
   ]
  },
  {
   "cell_type": "code",
   "execution_count": 152,
   "id": "2a3a3f06-8f33-4731-9f5c-2d3a5547f380",
   "metadata": {},
   "outputs": [],
   "source": [
    "start_idx = 0"
   ]
  },
  {
   "cell_type": "code",
   "execution_count": 177,
   "id": "0b5249ea-a648-485c-b55d-f504ae28afc5",
   "metadata": {
    "tags": []
   },
   "outputs": [
    {
     "name": "stderr",
     "output_type": "stream",
     "text": [
      "<ipython-input-177-07e38a907776>:5: DeprecationWarning: find_element_by_* commands are deprecated. Please use find_element() instead\n",
      "  num_etf = int(re.sub(\"[^0-9]\",\"\",driver.find_element_by_css_selector(\"span.totalEtfResults\").text))\n",
      "<ipython-input-177-07e38a907776>:12: DeprecationWarning: find_elements_by_* commands are deprecated. Please use find_elements() instead\n",
      "  etfs = driver.find_elements_by_css_selector(\"td.col_1.pad-left-10 > a.linkTickerName\")\n",
      "<ipython-input-177-07e38a907776>:26: DeprecationWarning: find_elements_by_* commands are deprecated. Please use find_elements() instead\n",
      "  driver.find_elements_by_css_selector(\"span.glyphicon.glyphicon-chevron-right\")[0].click()\n"
     ]
    }
   ],
   "source": [
    "for names, links in zip(sector_names[start_idx:], sector_links[start_idx:]):\n",
    "    driver.get(links)\n",
    "    time.sleep(5)\n",
    "    try:\n",
    "        num_etf = int(re.sub(\"[^0-9]\",\"\",driver.find_element_by_css_selector(\"span.totalEtfResults\").text))\n",
    "    except NoSuchElementException:\n",
    "        start_idx += 1\n",
    "        continue\n",
    "        \n",
    "    for pages in range(int(np.ceil(num_etf / 20))):\n",
    "\n",
    "        etfs = driver.find_elements_by_css_selector(\"td.col_1.pad-left-10 > a.linkTickerName\")\n",
    "        etf_names = [x.text for x in etfs]\n",
    "        etf_links = [x.get_attribute(\"href\") for x in etfs]\n",
    "        \n",
    "        etf_sector_tot.extend([names for x in range(len(etf_names))])\n",
    "        etf_names_tot.extend(etf_names)\n",
    "        etf_links_tot.extend(etf_links)\n",
    "        \n",
    "        if num_etf < 20:\n",
    "            break\n",
    "            \n",
    "        time.sleep(10)\n",
    "        # page click\n",
    "        try:\n",
    "            driver.find_elements_by_css_selector(\"span.glyphicon.glyphicon-chevron-right\")[0].click()\n",
    "        except:\n",
    "            time.sleep(3)\n",
    "            driver.find_elements_by_css_selector(\"span.glyphicon.glyphicon-chevron-right\")[0].click()\n",
    "        time.sleep(7)\n",
    "    start_idx += 1"
   ]
  },
  {
   "cell_type": "code",
   "execution_count": 178,
   "id": "f48754b9-204d-4788-92fc-62505b6124b2",
   "metadata": {},
   "outputs": [],
   "source": [
    "final_df = pd.DataFrame({\"sector\":etf_sector_tot, \"etf_names\":etf_names_tot,\"etf_links\":etf_links_tot})"
   ]
  },
  {
   "cell_type": "code",
   "execution_count": 179,
   "id": "9fe914f9-8509-40d2-8668-53e5b723439a",
   "metadata": {},
   "outputs": [],
   "source": [
    "final_df.drop_duplicates(inplace=True)"
   ]
  },
  {
   "cell_type": "code",
   "execution_count": 180,
   "id": "e74d0dc0-da10-40c0-a5cf-ed6eee4da094",
   "metadata": {},
   "outputs": [
    {
     "data": {
      "text/html": [
       "<div>\n",
       "<style scoped>\n",
       "    .dataframe tbody tr th:only-of-type {\n",
       "        vertical-align: middle;\n",
       "    }\n",
       "\n",
       "    .dataframe tbody tr th {\n",
       "        vertical-align: top;\n",
       "    }\n",
       "\n",
       "    .dataframe thead th {\n",
       "        text-align: right;\n",
       "    }\n",
       "</style>\n",
       "<table border=\"1\" class=\"dataframe\">\n",
       "  <thead>\n",
       "    <tr style=\"text-align: right;\">\n",
       "      <th></th>\n",
       "      <th>sector</th>\n",
       "      <th>etf_names</th>\n",
       "      <th>etf_links</th>\n",
       "    </tr>\n",
       "  </thead>\n",
       "  <tbody>\n",
       "    <tr>\n",
       "      <th>0</th>\n",
       "      <td>Aerospace &amp; Defense</td>\n",
       "      <td>ITA</td>\n",
       "      <td>https://www.etf.com/ITA</td>\n",
       "    </tr>\n",
       "    <tr>\n",
       "      <th>1</th>\n",
       "      <td>Aerospace &amp; Defense</td>\n",
       "      <td>XAR</td>\n",
       "      <td>https://www.etf.com/XAR</td>\n",
       "    </tr>\n",
       "    <tr>\n",
       "      <th>2</th>\n",
       "      <td>Aerospace &amp; Defense</td>\n",
       "      <td>PPA</td>\n",
       "      <td>https://www.etf.com/PPA</td>\n",
       "    </tr>\n",
       "    <tr>\n",
       "      <th>3</th>\n",
       "      <td>Aerospace &amp; Defense</td>\n",
       "      <td>DFEN</td>\n",
       "      <td>https://www.etf.com/DFEN</td>\n",
       "    </tr>\n",
       "    <tr>\n",
       "      <th>4</th>\n",
       "      <td>Aerospace &amp; Defense</td>\n",
       "      <td>SHLD</td>\n",
       "      <td>https://www.etf.com/SHLD</td>\n",
       "    </tr>\n",
       "    <tr>\n",
       "      <th>...</th>\n",
       "      <td>...</td>\n",
       "      <td>...</td>\n",
       "      <td>...</td>\n",
       "    </tr>\n",
       "    <tr>\n",
       "      <th>1877</th>\n",
       "      <td>Value</td>\n",
       "      <td>CFCV</td>\n",
       "      <td>https://www.etf.com/CFCV</td>\n",
       "    </tr>\n",
       "    <tr>\n",
       "      <th>1878</th>\n",
       "      <td>Value</td>\n",
       "      <td>USVT</td>\n",
       "      <td>https://www.etf.com/USVT</td>\n",
       "    </tr>\n",
       "    <tr>\n",
       "      <th>1879</th>\n",
       "      <td>Value</td>\n",
       "      <td>DMDV</td>\n",
       "      <td>https://www.etf.com/DMDV</td>\n",
       "    </tr>\n",
       "    <tr>\n",
       "      <th>1880</th>\n",
       "      <td>Value</td>\n",
       "      <td>AVSC</td>\n",
       "      <td>https://www.etf.com/AVSC</td>\n",
       "    </tr>\n",
       "    <tr>\n",
       "      <th>1881</th>\n",
       "      <td>Value</td>\n",
       "      <td>AILV</td>\n",
       "      <td>https://www.etf.com/AILV</td>\n",
       "    </tr>\n",
       "  </tbody>\n",
       "</table>\n",
       "<p>1662 rows × 3 columns</p>\n",
       "</div>"
      ],
      "text/plain": [
       "                   sector etf_names                 etf_links\n",
       "0     Aerospace & Defense       ITA   https://www.etf.com/ITA\n",
       "1     Aerospace & Defense       XAR   https://www.etf.com/XAR\n",
       "2     Aerospace & Defense       PPA   https://www.etf.com/PPA\n",
       "3     Aerospace & Defense      DFEN  https://www.etf.com/DFEN\n",
       "4     Aerospace & Defense      SHLD  https://www.etf.com/SHLD\n",
       "...                   ...       ...                       ...\n",
       "1877                Value      CFCV  https://www.etf.com/CFCV\n",
       "1878                Value      USVT  https://www.etf.com/USVT\n",
       "1879                Value      DMDV  https://www.etf.com/DMDV\n",
       "1880                Value      AVSC  https://www.etf.com/AVSC\n",
       "1881                Value      AILV  https://www.etf.com/AILV\n",
       "\n",
       "[1662 rows x 3 columns]"
      ]
     },
     "execution_count": 180,
     "metadata": {},
     "output_type": "execute_result"
    }
   ],
   "source": [
    "final_df"
   ]
  },
  {
   "cell_type": "code",
   "execution_count": 181,
   "id": "949f8a9f-4573-414d-8a2a-cca7ffd65971",
   "metadata": {},
   "outputs": [],
   "source": [
    "# final_df.to_csv(\"sector_df.csv\", index = False)"
   ]
  },
  {
   "cell_type": "code",
   "execution_count": null,
   "id": "e0d214ff-2465-4e55-ae2c-bf98b9fa3aef",
   "metadata": {},
   "outputs": [],
   "source": [
    "final_df.index = [x for x in range(final_df.shape[0])]"
   ]
  },
  {
   "cell_type": "code",
   "execution_count": null,
   "id": "fd3d8380-d379-4b15-bcff-0a835710bea0",
   "metadata": {},
   "outputs": [],
   "source": []
  },
  {
   "cell_type": "markdown",
   "id": "fe3ac18d-fe89-48c7-8de7-0843849370ec",
   "metadata": {},
   "source": [
    "* stock ratio per etf"
   ]
  },
  {
   "cell_type": "code",
   "execution_count": 329,
   "id": "2d80a6a8-0efa-4fec-aa22-dfc5ef05e7ce",
   "metadata": {},
   "outputs": [],
   "source": [
    "tot_stocks_name = []\n",
    "tot_etfs_name = []"
   ]
  },
  {
   "cell_type": "code",
   "execution_count": 333,
   "id": "479356a4-cd2e-42ba-9715-c07804f230c3",
   "metadata": {},
   "outputs": [],
   "source": [
    "start_idx = 836"
   ]
  },
  {
   "cell_type": "code",
   "execution_count": 334,
   "id": "3f7fcc3a-1428-4646-a65d-76ada9a3f9fd",
   "metadata": {
    "tags": []
   },
   "outputs": [
    {
     "name": "stderr",
     "output_type": "stream",
     "text": [
      "<ipython-input-334-44dca56af081>:7: DeprecationWarning: find_elements_by_* commands are deprecated. Please use find_elements() instead\n",
      "  element = driver.find_elements_by_xpath('//*[@id=\"top10HoldingsAppContainer\"]/div/h4/span')[0]\n"
     ]
    },
    {
     "name": "stdout",
     "output_type": "stream",
     "text": [
      "error: TBX\n"
     ]
    },
    {
     "name": "stderr",
     "output_type": "stream",
     "text": [
      "<ipython-input-334-44dca56af081>:18: DeprecationWarning: find_elements_by_* commands are deprecated. Please use find_elements() instead\n",
      "  stock_names = driver.find_elements_by_css_selector(\"div.view_all_table > table > tbody > tr > td.view_all_column1 > a\")\n",
      "<ipython-input-334-44dca56af081>:24: DeprecationWarning: find_elements_by_* commands are deprecated. Please use find_elements() instead\n",
      "  stock_names2 = driver.find_elements_by_css_selector(\"div.view_all_table > table > tbody > tr > td\")\n"
     ]
    },
    {
     "name": "stdout",
     "output_type": "stream",
     "text": [
      "error: PST\n",
      "error: IBTK\n",
      "error: TYO\n",
      "error: TYD\n",
      "error: UST\n",
      "error: IBTJ\n",
      "error: IBTL\n",
      "error: BTC\n",
      "error: CWEB\n",
      "error: WEBL\n",
      "error: WEBS\n",
      "error: PUNK\n",
      "error: META\n",
      "error: USO\n",
      "error: USL\n",
      "error: CORN\n",
      "error: OILK\n",
      "error: WEAT\n",
      "error: UCIB\n",
      "error: BDRY\n",
      "error: SOYB\n",
      "error: UNL\n",
      "error: CANE\n",
      "error: SBUG\n",
      "error: TAGS\n",
      "error: GRU\n",
      "error: FUE\n",
      "error: UCO\n",
      "error: SCO\n",
      "error: TBT\n",
      "error: TBF\n",
      "error: IGBH\n",
      "error: TMF\n",
      "error: TMV\n",
      "error: TTT\n",
      "error: UBT\n",
      "error: TYA\n",
      "error: TFJL\n",
      "error: TBJL\n",
      "error: WTMF\n",
      "error: FMF\n",
      "error: KMLM\n",
      "error: QLS\n",
      "error: QMN\n",
      "error: QED\n",
      "error: FUT\n",
      "error: EVNT\n",
      "error: DBMF\n",
      "error: FAAR\n",
      "error: DBV\n",
      "error: FTLS\n",
      "error: CCOR\n",
      "error: BTAL\n",
      "error: EOPS\n",
      "error: MSVX\n",
      "error: ASPY\n",
      "error: LBAY\n",
      "error: CBLS\n",
      "error: DIVA\n",
      "error: RALS\n",
      "error: DBEH\n",
      "error: AMJ\n",
      "error: MLPB\n",
      "error: ATMP\n",
      "error: AMUB\n",
      "error: AMNA\n",
      "error: AMTR\n",
      "error: MLPR\n",
      "error: AMND\n",
      "error: MLPO\n",
      "error: PYPE\n",
      "error: IMLP\n",
      "error: PSDN\n",
      "error: MNA\n",
      "error: ARB\n",
      "error: MRGR\n",
      "error: MARB\n",
      "error: AOR\n",
      "error: AOM\n",
      "error: CLSM\n",
      "error: PSMB\n",
      "error: PILL\n",
      "error: GLD\n",
      "error: IAU\n",
      "error: SLV\n",
      "error: GLDM\n",
      "error: SGOL\n",
      "error: IAUM\n",
      "error: PPLT\n",
      "error: SIVR\n",
      "error: GLTR\n",
      "error: BAR\n",
      "error: AAAU\n",
      "error: OUNZ\n",
      "error: PALL\n",
      "error: SLVO\n",
      "error: GLDI\n",
      "error: PLTM\n",
      "error: IGLD\n",
      "error: BGLD\n",
      "error: WGLD\n",
      "error: MVRL\n",
      "error: URE\n",
      "error: DRN\n",
      "error: FFR\n",
      "error: DRV\n",
      "error: SRS\n",
      "error: REK\n",
      "error: KLNE\n",
      "error: SULR\n",
      "error: SOXL\n",
      "error: USD\n",
      "error: SOXS\n",
      "error: SSG\n",
      "error: LDSF\n",
      "error: OVT\n",
      "error: SBND\n",
      "error: SWAR\n",
      "error: RPAR\n",
      "error: QAI\n",
      "error: DALT\n",
      "error: FLSP\n",
      "error: GAA\n",
      "error: HDG\n",
      "error: TRTY\n",
      "error: ALTY\n",
      "error: VEGA\n",
      "error: HTUS\n",
      "error: FORH\n",
      "error: UPAR\n",
      "error: ALTS\n",
      "error: MCRO\n",
      "error: FNGU\n",
      "error: CWEB\n",
      "error: BULZ\n",
      "error: SARK\n",
      "error: NAIL\n",
      "error: FNGO\n",
      "error: WEBL\n",
      "error: RETL\n",
      "error: GXTG\n",
      "error: FNGD\n",
      "error: FNGS\n",
      "error: TENG\n",
      "error: SSPX\n",
      "error: UBOT\n",
      "error: WEBS\n",
      "error: PSDN\n",
      "error: FNGG\n",
      "error: EMTY\n",
      "error: DOZR\n",
      "error: FNTC\n",
      "error: KLNE\n",
      "error: BERZ\n",
      "error: UCYB\n",
      "error: LTL\n",
      "error: KGRO\n",
      "error: PUNK\n",
      "error: MJIN\n",
      "error: MJXL\n",
      "error: WBAT\n",
      "error: GAST\n",
      "error: META\n",
      "error: SULR\n",
      "error: CCON\n",
      "error: TPOR\n",
      "error: ARMR\n",
      "error: ASET\n",
      "error: LFEQ\n",
      "error: TCTL\n",
      "error: ALTS\n",
      "error: HYRM\n",
      "error: OPER\n",
      "error: UPW\n",
      "error: UTSL\n",
      "error: SDP\n",
      "error: IWDL\n",
      "error: RWVG\n"
     ]
    }
   ],
   "source": [
    "for etf, url in zip(final_df.etf_names[start_idx:], final_df.etf_links[start_idx:]):\n",
    "    driver.get(url)\n",
    "    time.sleep(8)\n",
    "    \n",
    "    # view all click\n",
    "    try:\n",
    "        element = driver.find_elements_by_xpath('//*[@id=\"top10HoldingsAppContainer\"]/div/h4/span')[0]\n",
    "        driver.execute_script(\"arguments[0].click();\", element)\n",
    "        \n",
    "    except:\n",
    "        print(\"error:\", etf)\n",
    "        start_idx += 1\n",
    "        continue\n",
    "        \n",
    "    time.sleep(7.5)\n",
    "    \n",
    "    # href 속성이 존재하는 종목 수집\n",
    "    stock_names = driver.find_elements_by_css_selector(\"div.view_all_table > table > tbody > tr > td.view_all_column1 > a\")\n",
    "    stock_names = [x.text for x in stock_names]\n",
    "    \n",
    "    time.sleep(0.75)\n",
    "    \n",
    "    # href 속성이 존재하지 않는 종목 수집\n",
    "    stock_names2 = driver.find_elements_by_css_selector(\"div.view_all_table > table > tbody > tr > td\")\n",
    "    stock_names2 = [x.text for idx, x in enumerate(stock_names2) if idx % 2 == 0]\n",
    "    stock_names.extend(stock_names2)\n",
    "    \n",
    "    etf_names = [etf for x in range(len(stock_names))]\n",
    "    \n",
    "    tot_stocks_name.extend(stock_names)\n",
    "    tot_etfs_name.extend(etf_names)\n",
    "    \n",
    "    start_idx += 1"
   ]
  },
  {
   "cell_type": "code",
   "execution_count": 335,
   "id": "22c586bf-62e2-47f2-8668-432263f58c54",
   "metadata": {},
   "outputs": [
    {
     "data": {
      "text/html": [
       "<div>\n",
       "<style scoped>\n",
       "    .dataframe tbody tr th:only-of-type {\n",
       "        vertical-align: middle;\n",
       "    }\n",
       "\n",
       "    .dataframe tbody tr th {\n",
       "        vertical-align: top;\n",
       "    }\n",
       "\n",
       "    .dataframe thead th {\n",
       "        text-align: right;\n",
       "    }\n",
       "</style>\n",
       "<table border=\"1\" class=\"dataframe\">\n",
       "  <thead>\n",
       "    <tr style=\"text-align: right;\">\n",
       "      <th></th>\n",
       "      <th>etf_names</th>\n",
       "      <th>stock_names</th>\n",
       "    </tr>\n",
       "  </thead>\n",
       "  <tbody>\n",
       "    <tr>\n",
       "      <th>0</th>\n",
       "      <td>KORP</td>\n",
       "      <td>U.S. Dollar</td>\n",
       "    </tr>\n",
       "    <tr>\n",
       "      <th>1</th>\n",
       "      <td>KORP</td>\n",
       "      <td>Bank of America Corporation 3.419% 20-DEC-2028</td>\n",
       "    </tr>\n",
       "    <tr>\n",
       "      <th>2</th>\n",
       "      <td>KORP</td>\n",
       "      <td>Morgan Stanley 2.188% 28-APR-2026</td>\n",
       "    </tr>\n",
       "    <tr>\n",
       "      <th>3</th>\n",
       "      <td>KORP</td>\n",
       "      <td>HSBC Holdings Plc 2.099% 04-JUN-2026</td>\n",
       "    </tr>\n",
       "    <tr>\n",
       "      <th>4</th>\n",
       "      <td>KORP</td>\n",
       "      <td>Verizon Communications Inc. 4.329% 21-SEP-2028</td>\n",
       "    </tr>\n",
       "    <tr>\n",
       "      <th>...</th>\n",
       "      <td>...</td>\n",
       "      <td>...</td>\n",
       "    </tr>\n",
       "    <tr>\n",
       "      <th>207186</th>\n",
       "      <td>AILV</td>\n",
       "      <td>American International Group, Inc.</td>\n",
       "    </tr>\n",
       "    <tr>\n",
       "      <th>207187</th>\n",
       "      <td>AILV</td>\n",
       "      <td>S&amp;P Global, Inc.</td>\n",
       "    </tr>\n",
       "    <tr>\n",
       "      <th>207188</th>\n",
       "      <td>AILV</td>\n",
       "      <td>BlackRock, Inc.</td>\n",
       "    </tr>\n",
       "    <tr>\n",
       "      <th>207189</th>\n",
       "      <td>AILV</td>\n",
       "      <td>Motorola Solutions, Inc.</td>\n",
       "    </tr>\n",
       "    <tr>\n",
       "      <th>207201</th>\n",
       "      <td>AILV</td>\n",
       "      <td>U.S. Dollar</td>\n",
       "    </tr>\n",
       "  </tbody>\n",
       "</table>\n",
       "<p>153609 rows × 2 columns</p>\n",
       "</div>"
      ],
      "text/plain": [
       "       etf_names                                     stock_names\n",
       "0           KORP                                     U.S. Dollar\n",
       "1           KORP  Bank of America Corporation 3.419% 20-DEC-2028\n",
       "2           KORP               Morgan Stanley 2.188% 28-APR-2026\n",
       "3           KORP            HSBC Holdings Plc 2.099% 04-JUN-2026\n",
       "4           KORP  Verizon Communications Inc. 4.329% 21-SEP-2028\n",
       "...          ...                                             ...\n",
       "207186      AILV              American International Group, Inc.\n",
       "207187      AILV                                S&P Global, Inc.\n",
       "207188      AILV                                 BlackRock, Inc.\n",
       "207189      AILV                        Motorola Solutions, Inc.\n",
       "207201      AILV                                     U.S. Dollar\n",
       "\n",
       "[153609 rows x 2 columns]"
      ]
     },
     "execution_count": 335,
     "metadata": {},
     "output_type": "execute_result"
    }
   ],
   "source": [
    "final_st_df = pd.DataFrame({\"etf_names\":tot_etfs_name, \"stock_names\":tot_stocks_name})\n",
    "final_st_df.drop_duplicates(inplace=True)\n",
    "final_st_df"
   ]
  },
  {
   "cell_type": "code",
   "execution_count": 336,
   "id": "a45e7ee1-0294-4082-a7a3-015800f9c03d",
   "metadata": {},
   "outputs": [],
   "source": [
    "final_st_df.to_csv(\"final_stock_df.csv\", index =False)"
   ]
  },
  {
   "cell_type": "code",
   "execution_count": 337,
   "id": "3db44289-3223-4c0e-b10b-9a69f216435f",
   "metadata": {},
   "outputs": [
    {
     "data": {
      "text/html": [
       "<div>\n",
       "<style scoped>\n",
       "    .dataframe tbody tr th:only-of-type {\n",
       "        vertical-align: middle;\n",
       "    }\n",
       "\n",
       "    .dataframe tbody tr th {\n",
       "        vertical-align: top;\n",
       "    }\n",
       "\n",
       "    .dataframe thead th {\n",
       "        text-align: right;\n",
       "    }\n",
       "</style>\n",
       "<table border=\"1\" class=\"dataframe\">\n",
       "  <thead>\n",
       "    <tr style=\"text-align: right;\">\n",
       "      <th></th>\n",
       "      <th>etf_names</th>\n",
       "      <th>stock_names</th>\n",
       "    </tr>\n",
       "  </thead>\n",
       "  <tbody>\n",
       "    <tr>\n",
       "      <th>205951</th>\n",
       "      <td>AVSC</td>\n",
       "      <td>Innodata Inc.</td>\n",
       "    </tr>\n",
       "    <tr>\n",
       "      <th>205952</th>\n",
       "      <td>AVSC</td>\n",
       "      <td>IntriCon Corporation</td>\n",
       "    </tr>\n",
       "    <tr>\n",
       "      <th>205953</th>\n",
       "      <td>AVSC</td>\n",
       "      <td>Via Renewables, Inc. Class A</td>\n",
       "    </tr>\n",
       "    <tr>\n",
       "      <th>205954</th>\n",
       "      <td>AVSC</td>\n",
       "      <td>Flexsteel Industries, Inc.</td>\n",
       "    </tr>\n",
       "    <tr>\n",
       "      <th>205955</th>\n",
       "      <td>AVSC</td>\n",
       "      <td>KVH Industries, Inc.</td>\n",
       "    </tr>\n",
       "    <tr>\n",
       "      <th>...</th>\n",
       "      <td>...</td>\n",
       "      <td>...</td>\n",
       "    </tr>\n",
       "    <tr>\n",
       "      <th>207186</th>\n",
       "      <td>AILV</td>\n",
       "      <td>American International Group, Inc.</td>\n",
       "    </tr>\n",
       "    <tr>\n",
       "      <th>207187</th>\n",
       "      <td>AILV</td>\n",
       "      <td>S&amp;P Global, Inc.</td>\n",
       "    </tr>\n",
       "    <tr>\n",
       "      <th>207188</th>\n",
       "      <td>AILV</td>\n",
       "      <td>BlackRock, Inc.</td>\n",
       "    </tr>\n",
       "    <tr>\n",
       "      <th>207189</th>\n",
       "      <td>AILV</td>\n",
       "      <td>Motorola Solutions, Inc.</td>\n",
       "    </tr>\n",
       "    <tr>\n",
       "      <th>207201</th>\n",
       "      <td>AILV</td>\n",
       "      <td>U.S. Dollar</td>\n",
       "    </tr>\n",
       "  </tbody>\n",
       "</table>\n",
       "<p>200 rows × 2 columns</p>\n",
       "</div>"
      ],
      "text/plain": [
       "       etf_names                         stock_names\n",
       "205951      AVSC                       Innodata Inc.\n",
       "205952      AVSC                IntriCon Corporation\n",
       "205953      AVSC        Via Renewables, Inc. Class A\n",
       "205954      AVSC          Flexsteel Industries, Inc.\n",
       "205955      AVSC                KVH Industries, Inc.\n",
       "...          ...                                 ...\n",
       "207186      AILV  American International Group, Inc.\n",
       "207187      AILV                    S&P Global, Inc.\n",
       "207188      AILV                     BlackRock, Inc.\n",
       "207189      AILV            Motorola Solutions, Inc.\n",
       "207201      AILV                         U.S. Dollar\n",
       "\n",
       "[200 rows x 2 columns]"
      ]
     },
     "execution_count": 337,
     "metadata": {},
     "output_type": "execute_result"
    }
   ],
   "source": [
    "final_st_df.tail(200)"
   ]
  },
  {
   "cell_type": "code",
   "execution_count": null,
   "id": "0be3f1c2-a11e-438f-ac59-6cce78da6b60",
   "metadata": {},
   "outputs": [],
   "source": []
  }
 ],
 "metadata": {
  "kernelspec": {
   "display_name": "Python 3",
   "language": "python",
   "name": "python3"
  },
  "language_info": {
   "codemirror_mode": {
    "name": "ipython",
    "version": 3
   },
   "file_extension": ".py",
   "mimetype": "text/x-python",
   "name": "python",
   "nbconvert_exporter": "python",
   "pygments_lexer": "ipython3",
   "version": "3.8.8"
  }
 },
 "nbformat": 4,
 "nbformat_minor": 5
}
