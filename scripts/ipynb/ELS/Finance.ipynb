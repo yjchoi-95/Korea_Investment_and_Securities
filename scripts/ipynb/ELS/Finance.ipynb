{
 "cells": [
  {
   "cell_type": "markdown",
   "id": "8662f632-5c79-4011-bee5-1885c94c332b",
   "metadata": {},
   "source": [
    "## Import"
   ]
  },
  {
   "cell_type": "code",
   "execution_count": 1,
   "id": "a990da4d-1e1d-433e-ae15-dbdaad629bf4",
   "metadata": {},
   "outputs": [],
   "source": [
    "import FinanceDataReader as fdr\n",
    "import numpy as np"
   ]
  },
  {
   "cell_type": "code",
   "execution_count": 2,
   "id": "b5fff1bd-2ebe-4774-ae99-8111ecceb707",
   "metadata": {},
   "outputs": [],
   "source": [
    "df_krx = fdr.StockListing('KRX')\n",
    "df_kospi = fdr.StockListing('KOSPI')\n",
    "df_kosdaq = fdr.StockListing('KOSDAQ')\n",
    "df_konex = fdr.StockListing('KONEX')"
   ]
  },
  {
   "cell_type": "code",
   "execution_count": 3,
   "id": "6285f3b8-8cb2-457a-bd40-92bca17bdf0b",
   "metadata": {},
   "outputs": [
    {
     "name": "stderr",
     "output_type": "stream",
     "text": [
      "100%|█████████████████████████████████████████████████████████████████████████████| 3462/3462 [00:05<00:00, 679.36it/s]\n",
      "100%|█████████████████████████████████████████████████████████████████████████████| 4551/4551 [00:08<00:00, 544.23it/s]\n",
      "100%|███████████████████████████████████████████████████████████████████████████████| 307/307 [00:00<00:00, 698.54it/s]\n"
     ]
    }
   ],
   "source": [
    "df_nyse = fdr.StockListing('NYSE')   # 뉴욕거래소\n",
    "df_nasdaq = fdr.StockListing('NASDAQ') # 나스닥\n",
    "df_amex = fdr.StockListing('AMEX')   # 아멕스"
   ]
  },
  {
   "cell_type": "code",
   "execution_count": 15,
   "id": "c6f4cb36-ada1-47b2-80ad-f3cd7a4312ff",
   "metadata": {},
   "outputs": [],
   "source": [
    "stock_list = np.load(\"stock_list.npy\")"
   ]
  },
  {
   "cell_type": "code",
   "execution_count": 16,
   "id": "b09c5da4-e8fe-4238-a857-d60caa428e45",
   "metadata": {},
   "outputs": [
    {
     "data": {
      "text/plain": [
       "array(['AMD', '삼성전자', 'NAVER', 'APPLE', 'SK하이닉스', '현대차', 'FACEBOOK',\n",
       "       'NVIDIA', 'AMAZON', 'NETFLIX', 'POSCO', '셀트리온', '삼성전자 보통주',\n",
       "       '삼성전자보통주', 'MICROSOFT', '기아차', '신한지주', '현대차 보통주', '대한항공', 'LG생활건강',\n",
       "       '삼성중공업', 'SK텔레콤', '현대모비스', 'LG유플러스', '현대미포조선', '삼성SDI', '현대제철',\n",
       "       '롯데케미칼', 'KB금융', 'LG디스플레이', '한국전력', '현대중공업', '삼성엔지니어링', '삼성전기',\n",
       "       '고려아연', 'LG디스플레이 보통주', '현대제철 보통주', 'LG전자', '현대글로비스', '기아차 보통주',\n",
       "       'GS건설 보통주', 'KT', '하나금융지주', '엔씨소프트', 'SK', '한국가스공사', '대우증권',\n",
       "       '삼성카드', 'GS건설', '두산중공업', '대우조선해양', 'NHN', 'SK이노베이션', '대림산업', 'LG',\n",
       "       '우리금융', 'LG화학', '호남석유', 'GS', '삼성물산'], dtype='<U11')"
      ]
     },
     "execution_count": 16,
     "metadata": {},
     "output_type": "execute_result"
    }
   ],
   "source": [
    "stock_list"
   ]
  },
  {
   "cell_type": "code",
   "execution_count": 19,
   "id": "ee9d9319-774c-4323-9166-af4672240c56",
   "metadata": {},
   "outputs": [
    {
     "data": {
      "text/html": [
       "<div>\n",
       "<style scoped>\n",
       "    .dataframe tbody tr th:only-of-type {\n",
       "        vertical-align: middle;\n",
       "    }\n",
       "\n",
       "    .dataframe tbody tr th {\n",
       "        vertical-align: top;\n",
       "    }\n",
       "\n",
       "    .dataframe thead th {\n",
       "        text-align: right;\n",
       "    }\n",
       "</style>\n",
       "<table border=\"1\" class=\"dataframe\">\n",
       "  <thead>\n",
       "    <tr style=\"text-align: right;\">\n",
       "      <th></th>\n",
       "      <th>Symbol</th>\n",
       "      <th>Market</th>\n",
       "      <th>Name</th>\n",
       "      <th>Sector</th>\n",
       "      <th>Industry</th>\n",
       "      <th>ListingDate</th>\n",
       "      <th>SettleMonth</th>\n",
       "      <th>Representative</th>\n",
       "      <th>HomePage</th>\n",
       "      <th>Region</th>\n",
       "    </tr>\n",
       "  </thead>\n",
       "  <tbody>\n",
       "    <tr>\n",
       "      <th>0</th>\n",
       "      <td>060310</td>\n",
       "      <td>KOSDAQ</td>\n",
       "      <td>3S</td>\n",
       "      <td>전자부품 제조업</td>\n",
       "      <td>반도체 웨이퍼 캐리어</td>\n",
       "      <td>2002-04-23</td>\n",
       "      <td>03월</td>\n",
       "      <td>김세완</td>\n",
       "      <td>http://www.3sref.com</td>\n",
       "      <td>서울특별시</td>\n",
       "    </tr>\n",
       "    <tr>\n",
       "      <th>1</th>\n",
       "      <td>095570</td>\n",
       "      <td>KOSPI</td>\n",
       "      <td>AJ네트웍스</td>\n",
       "      <td>산업용 기계 및 장비 임대업</td>\n",
       "      <td>렌탈(파렛트, OA장비, 건설장비)</td>\n",
       "      <td>2015-08-21</td>\n",
       "      <td>12월</td>\n",
       "      <td>박대현</td>\n",
       "      <td>http://www.ajnet.co.kr</td>\n",
       "      <td>서울특별시</td>\n",
       "    </tr>\n",
       "    <tr>\n",
       "      <th>2</th>\n",
       "      <td>006840</td>\n",
       "      <td>KOSPI</td>\n",
       "      <td>AK홀딩스</td>\n",
       "      <td>기타 금융업</td>\n",
       "      <td>지주사업</td>\n",
       "      <td>1999-08-11</td>\n",
       "      <td>12월</td>\n",
       "      <td>채형석, 이석주(각자 대표이사)</td>\n",
       "      <td>http://www.aekyunggroup.co.kr</td>\n",
       "      <td>서울특별시</td>\n",
       "    </tr>\n",
       "  </tbody>\n",
       "</table>\n",
       "</div>"
      ],
      "text/plain": [
       "   Symbol  Market    Name           Sector             Industry ListingDate  \\\n",
       "0  060310  KOSDAQ      3S         전자부품 제조업          반도체 웨이퍼 캐리어  2002-04-23   \n",
       "1  095570   KOSPI  AJ네트웍스  산업용 기계 및 장비 임대업  렌탈(파렛트, OA장비, 건설장비)  2015-08-21   \n",
       "2  006840   KOSPI   AK홀딩스           기타 금융업                 지주사업  1999-08-11   \n",
       "\n",
       "  SettleMonth     Representative                       HomePage Region  \n",
       "0         03월                김세완           http://www.3sref.com  서울특별시  \n",
       "1         12월                박대현         http://www.ajnet.co.kr  서울특별시  \n",
       "2         12월  채형석, 이석주(각자 대표이사)  http://www.aekyunggroup.co.kr  서울특별시  "
      ]
     },
     "execution_count": 19,
     "metadata": {},
     "output_type": "execute_result"
    }
   ],
   "source": [
    "df_krx.head(3)"
   ]
  },
  {
   "cell_type": "code",
   "execution_count": 20,
   "id": "b88781a6-3f6e-49c8-aa52-cd9b50b7bf2e",
   "metadata": {},
   "outputs": [
    {
     "data": {
      "text/html": [
       "<div>\n",
       "<style scoped>\n",
       "    .dataframe tbody tr th:only-of-type {\n",
       "        vertical-align: middle;\n",
       "    }\n",
       "\n",
       "    .dataframe tbody tr th {\n",
       "        vertical-align: top;\n",
       "    }\n",
       "\n",
       "    .dataframe thead th {\n",
       "        text-align: right;\n",
       "    }\n",
       "</style>\n",
       "<table border=\"1\" class=\"dataframe\">\n",
       "  <thead>\n",
       "    <tr style=\"text-align: right;\">\n",
       "      <th></th>\n",
       "      <th>Symbol</th>\n",
       "      <th>Name</th>\n",
       "      <th>Industry</th>\n",
       "      <th>IndustryCode</th>\n",
       "    </tr>\n",
       "  </thead>\n",
       "  <tbody>\n",
       "    <tr>\n",
       "      <th>0</th>\n",
       "      <td>AAPL</td>\n",
       "      <td>Apple Inc</td>\n",
       "      <td>컴퓨터, 전화 및 가전제품</td>\n",
       "      <td>571060</td>\n",
       "    </tr>\n",
       "    <tr>\n",
       "      <th>1</th>\n",
       "      <td>MSFT</td>\n",
       "      <td>Microsoft Corp</td>\n",
       "      <td>소프트웨어 및 IT서비스</td>\n",
       "      <td>572010</td>\n",
       "    </tr>\n",
       "    <tr>\n",
       "      <th>2</th>\n",
       "      <td>AMZN</td>\n",
       "      <td>Amazon.com Inc</td>\n",
       "      <td>다양한 소매업</td>\n",
       "      <td>534020</td>\n",
       "    </tr>\n",
       "  </tbody>\n",
       "</table>\n",
       "</div>"
      ],
      "text/plain": [
       "  Symbol            Name        Industry IndustryCode\n",
       "0   AAPL       Apple Inc  컴퓨터, 전화 및 가전제품       571060\n",
       "1   MSFT  Microsoft Corp   소프트웨어 및 IT서비스       572010\n",
       "2   AMZN  Amazon.com Inc         다양한 소매업       534020"
      ]
     },
     "execution_count": 20,
     "metadata": {},
     "output_type": "execute_result"
    }
   ],
   "source": [
    "df_nasdaq.head(3)"
   ]
  },
  {
   "cell_type": "markdown",
   "id": "089f5a8b-5f1f-42bb-853f-ce1bec1f5cfb",
   "metadata": {},
   "source": [
    "* 국내 주식"
   ]
  },
  {
   "cell_type": "code",
   "execution_count": 21,
   "id": "4855685c-afe9-485c-a994-4697b214bee9",
   "metadata": {},
   "outputs": [],
   "source": [
    "# 회사 이름을 입력 시 symbol을 출력하는 함수\n",
    "def print_sym(name, df):\n",
    "    output = np.array(df.loc[df.Name == name,'Symbol'])\n",
    "    if output.shape[0] > 0:\n",
    "        return output[0]\n",
    "    else:\n",
    "        print(\"올바른 이름을 입력 하시오\", name)\n",
    "        return \"-\""
   ]
  },
  {
   "cell_type": "code",
   "execution_count": 70,
   "id": "182d22d1-6004-45ea-b4ff-12c4ec8a6af2",
   "metadata": {},
   "outputs": [],
   "source": [
    "import pandas as pd\n",
    "import re\n"
   ]
  },
  {
   "cell_type": "code",
   "execution_count": 90,
   "id": "ef2559e6-74e3-4ed1-96b0-7055dc888188",
   "metadata": {},
   "outputs": [],
   "source": [
    "stock_list = [re.sub(\"보통주\", \"\",x) if \"보통주\" in x else x for x in stock_list]\n",
    "stock_list = [re.sub(\" \", \"\",x) for x in stock_list]\n",
    "stock_list = np.unique(stock_list)"
   ]
  },
  {
   "cell_type": "code",
   "execution_count": 92,
   "id": "b81dfd29-a24f-4c2f-ba94-e94e4e0a90d2",
   "metadata": {},
   "outputs": [],
   "source": [
    "change_dict = {\"우리금융\":\"우리금융지주\",\n",
    "\"기아차\":\"기아\"}"
   ]
  },
  {
   "cell_type": "code",
   "execution_count": 93,
   "id": "5598c1db-be68-4b1f-a513-58d510097833",
   "metadata": {},
   "outputs": [
    {
     "name": "stdout",
     "output_type": "stream",
     "text": [
      "올바른 이름을 입력 하시오 AMAZON\n",
      "올바른 이름을 입력 하시오 AMD\n",
      "올바른 이름을 입력 하시오 APPLE\n",
      "올바른 이름을 입력 하시오 FACEBOOK\n",
      "올바른 이름을 입력 하시오 MICROSOFT\n",
      "올바른 이름을 입력 하시오 NETFLIX\n",
      "올바른 이름을 입력 하시오 NVIDIA\n",
      "올바른 이름을 입력 하시오 대림산업\n",
      "올바른 이름을 입력 하시오 대우증권\n",
      "올바른 이름을 입력 하시오 호남석유\n"
     ]
    }
   ],
   "source": [
    "cnt = 0\n",
    "for stocks in stock_list:\n",
    "    if stocks in list(change_dict.keys()):\n",
    "        stocks = change_dict[stocks]\n",
    "    \n",
    "    value = print_sym(stocks, df_krx)\n",
    "    if value == \"-\":\n",
    "        continue\n",
    "    else:\n",
    "        temp_df = fdr.DataReader(value,'2012')\n",
    "        temp_df.reset_index(inplace = True)\n",
    "        columns_ = ['Date']\n",
    "        columns_.extend([stocks + \"_\" +x for x in temp_df.columns if x != \"Date\"])\n",
    "        temp_df.columns = columns_\n",
    "        \n",
    "        if cnt == 0:\n",
    "            stock_df = temp_df\n",
    "            cnt += 1\n",
    "        else:\n",
    "            stock_df = pd.merge(stock_df, temp_df, on = \"Date\", how = \"outer\")"
   ]
  },
  {
   "cell_type": "code",
   "execution_count": 106,
   "id": "2ff27e95-3c57-49f2-a7c1-69bb8c90b512",
   "metadata": {},
   "outputs": [
    {
     "data": {
      "text/plain": [
       "['Apple Inc']"
      ]
     },
     "execution_count": 106,
     "metadata": {},
     "output_type": "execute_result"
    }
   ],
   "source": [
    "# check\n",
    "[x for x in df_krx.Name.unique() if x.startswith(\"기아\")]\n",
    "[x for x in df_nasdaq.Name.unique() if x.startswith(\"Apple\")]"
   ]
  },
  {
   "cell_type": "code",
   "execution_count": 108,
   "id": "5edf9ccf-fd79-44bd-9772-60910fd1b352",
   "metadata": {},
   "outputs": [],
   "source": [
    "change_dict2 = {\"AMAZON\":\"Amazon.com Inc\", \"AMD\":\"Advanced Micro Devices Inc\",\n",
    "               \"APPLE\":\"Apple Inc\",\"FACEBOOK\":\"Meta Platforms Inc Class A\",\n",
    "               \"NETFLIX\":\"Netflix Inc\", \"NVIDIA\":\"NVIDIA Corp\"}"
   ]
  },
  {
   "cell_type": "code",
   "execution_count": 111,
   "id": "91ba103d-45bd-44c6-a71a-914de7e56aa5",
   "metadata": {},
   "outputs": [],
   "source": [
    "cnt = 0\n",
    "for stocks in list(change_dict2.keys()):\n",
    "    name = stocks\n",
    "    stocks = change_dict2[stocks]\n",
    "    value = print_sym(stocks, df_nasdaq)\n",
    "    \n",
    "    if value == \"-\":\n",
    "        continue\n",
    "    else:\n",
    "        temp_df = fdr.DataReader(value,'2012')\n",
    "        temp_df.reset_index(inplace = True)\n",
    "        columns_ = ['Date']\n",
    "        columns_.extend([name + \"_\" +x for x in temp_df.columns if x != \"Date\"])\n",
    "        temp_df.columns = columns_\n",
    "        \n",
    "        if cnt == 0:\n",
    "            stock_df2 = temp_df\n",
    "            cnt += 1\n",
    "        else:\n",
    "            stock_df2 = pd.merge(stock_df2, temp_df, on = \"Date\", how = \"outer\")"
   ]
  },
  {
   "cell_type": "code",
   "execution_count": 113,
   "id": "7e878860-9ec3-490e-a162-6d4115b81c8f",
   "metadata": {},
   "outputs": [
    {
     "data": {
      "text/html": [
       "<div>\n",
       "<style scoped>\n",
       "    .dataframe tbody tr th:only-of-type {\n",
       "        vertical-align: middle;\n",
       "    }\n",
       "\n",
       "    .dataframe tbody tr th {\n",
       "        vertical-align: top;\n",
       "    }\n",
       "\n",
       "    .dataframe thead th {\n",
       "        text-align: right;\n",
       "    }\n",
       "</style>\n",
       "<table border=\"1\" class=\"dataframe\">\n",
       "  <thead>\n",
       "    <tr style=\"text-align: right;\">\n",
       "      <th></th>\n",
       "      <th>Date</th>\n",
       "      <th>GS_Open</th>\n",
       "      <th>GS_High</th>\n",
       "      <th>GS_Low</th>\n",
       "      <th>GS_Close</th>\n",
       "      <th>GS_Volume</th>\n",
       "      <th>GS_Change</th>\n",
       "      <th>GS건설_Open</th>\n",
       "      <th>GS건설_High</th>\n",
       "      <th>GS건설_Low</th>\n",
       "      <th>...</th>\n",
       "      <th>NETFLIX_High</th>\n",
       "      <th>NETFLIX_Low</th>\n",
       "      <th>NETFLIX_Volume</th>\n",
       "      <th>NETFLIX_Change</th>\n",
       "      <th>NVIDIA_Close</th>\n",
       "      <th>NVIDIA_Open</th>\n",
       "      <th>NVIDIA_High</th>\n",
       "      <th>NVIDIA_Low</th>\n",
       "      <th>NVIDIA_Volume</th>\n",
       "      <th>NVIDIA_Change</th>\n",
       "    </tr>\n",
       "  </thead>\n",
       "  <tbody>\n",
       "    <tr>\n",
       "      <th>0</th>\n",
       "      <td>2012-01-02</td>\n",
       "      <td>51100.0</td>\n",
       "      <td>52000.0</td>\n",
       "      <td>51000.0</td>\n",
       "      <td>51400.0</td>\n",
       "      <td>267713.0</td>\n",
       "      <td>0.013807</td>\n",
       "      <td>85165.0</td>\n",
       "      <td>86459.0</td>\n",
       "      <td>84795.0</td>\n",
       "      <td>...</td>\n",
       "      <td>NaN</td>\n",
       "      <td>NaN</td>\n",
       "      <td>NaN</td>\n",
       "      <td>NaN</td>\n",
       "      <td>NaN</td>\n",
       "      <td>NaN</td>\n",
       "      <td>NaN</td>\n",
       "      <td>NaN</td>\n",
       "      <td>NaN</td>\n",
       "      <td>NaN</td>\n",
       "    </tr>\n",
       "    <tr>\n",
       "      <th>1</th>\n",
       "      <td>2012-01-03</td>\n",
       "      <td>51900.0</td>\n",
       "      <td>53800.0</td>\n",
       "      <td>51800.0</td>\n",
       "      <td>53300.0</td>\n",
       "      <td>672872.0</td>\n",
       "      <td>0.036965</td>\n",
       "      <td>88031.0</td>\n",
       "      <td>90620.0</td>\n",
       "      <td>87939.0</td>\n",
       "      <td>...</td>\n",
       "      <td>10.39</td>\n",
       "      <td>10.02</td>\n",
       "      <td>29220000.0</td>\n",
       "      <td>0.0424</td>\n",
       "      <td>3.51</td>\n",
       "      <td>3.58</td>\n",
       "      <td>3.60</td>\n",
       "      <td>3.50</td>\n",
       "      <td>46810000.0</td>\n",
       "      <td>0.0145</td>\n",
       "    </tr>\n",
       "    <tr>\n",
       "      <th>2</th>\n",
       "      <td>2012-01-04</td>\n",
       "      <td>53500.0</td>\n",
       "      <td>54000.0</td>\n",
       "      <td>52800.0</td>\n",
       "      <td>53400.0</td>\n",
       "      <td>461090.0</td>\n",
       "      <td>0.001876</td>\n",
       "      <td>90805.0</td>\n",
       "      <td>90990.0</td>\n",
       "      <td>88863.0</td>\n",
       "      <td>...</td>\n",
       "      <td>11.57</td>\n",
       "      <td>10.26</td>\n",
       "      <td>100550000.0</td>\n",
       "      <td>0.1134</td>\n",
       "      <td>3.55</td>\n",
       "      <td>3.51</td>\n",
       "      <td>3.56</td>\n",
       "      <td>3.48</td>\n",
       "      <td>34740000.0</td>\n",
       "      <td>0.0114</td>\n",
       "    </tr>\n",
       "    <tr>\n",
       "      <th>3</th>\n",
       "      <td>2012-01-05</td>\n",
       "      <td>53900.0</td>\n",
       "      <td>55200.0</td>\n",
       "      <td>53500.0</td>\n",
       "      <td>53800.0</td>\n",
       "      <td>652056.0</td>\n",
       "      <td>0.007491</td>\n",
       "      <td>90620.0</td>\n",
       "      <td>90620.0</td>\n",
       "      <td>88031.0</td>\n",
       "      <td>...</td>\n",
       "      <td>11.69</td>\n",
       "      <td>11.04</td>\n",
       "      <td>86610000.0</td>\n",
       "      <td>-0.0139</td>\n",
       "      <td>3.68</td>\n",
       "      <td>3.53</td>\n",
       "      <td>3.69</td>\n",
       "      <td>3.52</td>\n",
       "      <td>56360000.0</td>\n",
       "      <td>0.0366</td>\n",
       "    </tr>\n",
       "    <tr>\n",
       "      <th>4</th>\n",
       "      <td>2012-01-06</td>\n",
       "      <td>53900.0</td>\n",
       "      <td>54500.0</td>\n",
       "      <td>52000.0</td>\n",
       "      <td>53000.0</td>\n",
       "      <td>458696.0</td>\n",
       "      <td>-0.014870</td>\n",
       "      <td>88771.0</td>\n",
       "      <td>89418.0</td>\n",
       "      <td>87014.0</td>\n",
       "      <td>...</td>\n",
       "      <td>12.47</td>\n",
       "      <td>11.24</td>\n",
       "      <td>125660000.0</td>\n",
       "      <td>0.0883</td>\n",
       "      <td>3.63</td>\n",
       "      <td>3.67</td>\n",
       "      <td>3.68</td>\n",
       "      <td>3.59</td>\n",
       "      <td>53360000.0</td>\n",
       "      <td>-0.0136</td>\n",
       "    </tr>\n",
       "  </tbody>\n",
       "</table>\n",
       "<p>5 rows × 295 columns</p>\n",
       "</div>"
      ],
      "text/plain": [
       "        Date  GS_Open  GS_High   GS_Low  GS_Close  GS_Volume  GS_Change  \\\n",
       "0 2012-01-02  51100.0  52000.0  51000.0   51400.0   267713.0   0.013807   \n",
       "1 2012-01-03  51900.0  53800.0  51800.0   53300.0   672872.0   0.036965   \n",
       "2 2012-01-04  53500.0  54000.0  52800.0   53400.0   461090.0   0.001876   \n",
       "3 2012-01-05  53900.0  55200.0  53500.0   53800.0   652056.0   0.007491   \n",
       "4 2012-01-06  53900.0  54500.0  52000.0   53000.0   458696.0  -0.014870   \n",
       "\n",
       "   GS건설_Open  GS건설_High  GS건설_Low  ...  NETFLIX_High  NETFLIX_Low  \\\n",
       "0    85165.0    86459.0   84795.0  ...           NaN          NaN   \n",
       "1    88031.0    90620.0   87939.0  ...         10.39        10.02   \n",
       "2    90805.0    90990.0   88863.0  ...         11.57        10.26   \n",
       "3    90620.0    90620.0   88031.0  ...         11.69        11.04   \n",
       "4    88771.0    89418.0   87014.0  ...         12.47        11.24   \n",
       "\n",
       "   NETFLIX_Volume  NETFLIX_Change  NVIDIA_Close  NVIDIA_Open  NVIDIA_High  \\\n",
       "0             NaN             NaN           NaN          NaN          NaN   \n",
       "1      29220000.0          0.0424          3.51         3.58         3.60   \n",
       "2     100550000.0          0.1134          3.55         3.51         3.56   \n",
       "3      86610000.0         -0.0139          3.68         3.53         3.69   \n",
       "4     125660000.0          0.0883          3.63         3.67         3.68   \n",
       "\n",
       "   NVIDIA_Low  NVIDIA_Volume  NVIDIA_Change  \n",
       "0         NaN            NaN            NaN  \n",
       "1        3.50     46810000.0         0.0145  \n",
       "2        3.48     34740000.0         0.0114  \n",
       "3        3.52     56360000.0         0.0366  \n",
       "4        3.59     53360000.0        -0.0136  \n",
       "\n",
       "[5 rows x 295 columns]"
      ]
     },
     "execution_count": 113,
     "metadata": {},
     "output_type": "execute_result"
    }
   ],
   "source": [
    "tot_stock = pd.merge(stock_df, stock_df2, on = \"Date\", how = \"outer\")\n",
    "tot_stock.head()"
   ]
  },
  {
   "cell_type": "code",
   "execution_count": 121,
   "id": "4e635456-a0ea-4824-932a-e685ebb409bc",
   "metadata": {},
   "outputs": [],
   "source": [
    "tot_stock.to_csv(\"total_stocks.csv\", index = False)"
   ]
  },
  {
   "cell_type": "code",
   "execution_count": null,
   "id": "f4d8e7e8-d9f5-4bff-8e12-25a8bb1c43e4",
   "metadata": {},
   "outputs": [],
   "source": []
  }
 ],
 "metadata": {
  "kernelspec": {
   "display_name": "Python 3",
   "language": "python",
   "name": "python3"
  },
  "language_info": {
   "codemirror_mode": {
    "name": "ipython",
    "version": 3
   },
   "file_extension": ".py",
   "mimetype": "text/x-python",
   "name": "python",
   "nbconvert_exporter": "python",
   "pygments_lexer": "ipython3",
   "version": "3.8.8"
  }
 },
 "nbformat": 4,
 "nbformat_minor": 5
}
