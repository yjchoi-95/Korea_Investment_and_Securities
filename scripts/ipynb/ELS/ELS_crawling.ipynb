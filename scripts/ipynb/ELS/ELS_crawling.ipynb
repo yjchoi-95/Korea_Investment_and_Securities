{
 "cells": [
  {
   "cell_type": "markdown",
   "id": "391dd2aa-f2a6-47b2-a7a3-915e089419d2",
   "metadata": {},
   "source": [
    "## Import"
   ]
  },
  {
   "cell_type": "code",
   "execution_count": 2,
   "id": "d310d7d3-a72c-48dc-8658-0abb06f28994",
   "metadata": {
    "tags": []
   },
   "outputs": [],
   "source": [
    "from selenium import webdriver\n",
    "from selenium.webdriver import ActionChains\n",
    "\n",
    "from selenium.webdriver.common.keys import Keys\n",
    "from selenium.webdriver.common.by import By\n",
    "\n",
    "from selenium.webdriver.support import expected_conditions as EC\n",
    "from selenium.webdriver.support.ui import Select\n",
    "from selenium.webdriver.support.ui import WebDriverWait\n",
    "from tqdm import tqdm\n",
    "\n",
    "import numpy as np\n",
    "import pandas as pd \n",
    "import selenium\n",
    "import warnings\n",
    "import time\n",
    "import re\n",
    "\n",
    "warnings.filterwarnings(action='ignore')"
   ]
  },
  {
   "cell_type": "code",
   "execution_count": null,
   "id": "2b12cff5-05b3-4b10-b2c1-c7ee70dc435d",
   "metadata": {},
   "outputs": [],
   "source": []
  },
  {
   "cell_type": "markdown",
   "id": "6436d225-6b44-4250-a541-c472597623ff",
   "metadata": {},
   "source": [
    "## Get information"
   ]
  },
  {
   "cell_type": "code",
   "execution_count": 2,
   "id": "4ee5da7f-0377-49a3-80c9-5c85cd833358",
   "metadata": {},
   "outputs": [],
   "source": [
    "URL = 'https://securities.koreainvestment.com/main/mall/openels/EdlsInfo.jsp?cmd=TF02cc000000_Main'\n",
    "\n",
    "driver = webdriver.Chrome(executable_path='chromedriver')\n",
    "driver.implicitly_wait(time_to_wait=0.5)"
   ]
  },
  {
   "cell_type": "code",
   "execution_count": 3,
   "id": "31889645-5f03-429d-8cc1-befab531cc32",
   "metadata": {},
   "outputs": [],
   "source": [
    "driver.get(url=URL)"
   ]
  },
  {
   "cell_type": "code",
   "execution_count": 4,
   "id": "9f7c67da-97c5-4492-9123-d618dc2d0c0a",
   "metadata": {},
   "outputs": [],
   "source": [
    "els_checkbox = driver.find_elements_by_css_selector(\"label.mtl_checkbox.marL20\")\n",
    "els_checkbox[0].click()"
   ]
  },
  {
   "cell_type": "code",
   "execution_count": 5,
   "id": "55c9ce08-8664-4382-a495-32d72512703b",
   "metadata": {},
   "outputs": [],
   "source": [
    "start_time, end_time = driver.find_elements_by_css_selector(\"td.t_left > div.calendarWap > div.mtl_calendar > a.btn_calendar\")"
   ]
  },
  {
   "cell_type": "code",
   "execution_count": 6,
   "id": "b6f9f996-e81f-4c70-b83b-56ee73e72d2c",
   "metadata": {},
   "outputs": [],
   "source": [
    "start_time.click()\n",
    "time.sleep(1)"
   ]
  },
  {
   "cell_type": "markdown",
   "id": "30d2606a-1eb4-4248-aca9-fc6e6b3560b8",
   "metadata": {},
   "source": [
    "* set start years"
   ]
  },
  {
   "cell_type": "code",
   "execution_count": 7,
   "id": "92cc5679-5142-459f-adf1-ccfce4685661",
   "metadata": {},
   "outputs": [],
   "source": [
    "year_list = driver.find_elements_by_css_selector(\"a.year\")\n",
    "year_list[0].click()\n",
    "time.sleep(1)\n",
    "\n",
    "year_list_2 = driver.find_elements_by_css_selector(\"div.select_year.on > a\")\n",
    "\n",
    "target_year = 2010\n",
    "target_idx =[idx for idx, x in enumerate(year_list_2) if str(target_year) == x.text]\n",
    "\n",
    "time.sleep(0.5)\n",
    "year_list_2[target_idx[0]].click()\n",
    "\n",
    "\n",
    "okey = driver.find_elements_by_css_selector(\"button.mtl_button.btnOk\")\n",
    "okey[0].click()\n",
    "time.sleep(1)"
   ]
  },
  {
   "cell_type": "markdown",
   "id": "3ba482e4-ae1f-4a6c-afae-ee6856d31ddd",
   "metadata": {},
   "source": [
    "* set end years"
   ]
  },
  {
   "cell_type": "code",
   "execution_count": 8,
   "id": "7ea66348-4c91-4a0a-adca-8803388d8851",
   "metadata": {},
   "outputs": [],
   "source": [
    "end_time.click()\n",
    "time.sleep(1)"
   ]
  },
  {
   "cell_type": "code",
   "execution_count": 9,
   "id": "ba974f22-eac5-4420-965c-0b304c07472d",
   "metadata": {},
   "outputs": [],
   "source": [
    "year_list = driver.find_elements_by_css_selector(\"div.selected_date > a.year\")\n",
    "year_list[1].click()\n",
    "time.sleep(1)\n",
    "\n",
    "year_list_2 = driver.find_elements_by_css_selector(\"div.select_year.on > a\")\n",
    "target_year = 2021\n",
    "\n",
    "target_idx =[idx for idx, x in enumerate(year_list_2) if str(target_year) == x.text]\n",
    "time.sleep(0.5)\n",
    "year_list_2[target_idx[0]].click()\n",
    "\n",
    "\n",
    "okey = driver.find_elements_by_css_selector(\"button.mtl_button.btnOk\")\n",
    "okey[1].click()\n",
    "time.sleep(1)"
   ]
  },
  {
   "cell_type": "code",
   "execution_count": null,
   "id": "b3a84433-2acc-4c1d-80e7-3dfef5025aa1",
   "metadata": {},
   "outputs": [],
   "source": []
  },
  {
   "cell_type": "markdown",
   "id": "92e6a491-baf7-49a9-9b0c-01851deef986",
   "metadata": {},
   "source": [
    "* 상환 확정 여부"
   ]
  },
  {
   "cell_type": "code",
   "execution_count": 10,
   "id": "0d374ffd-3636-4ed8-9ec8-ee9be0062847",
   "metadata": {},
   "outputs": [
    {
     "data": {
      "text/plain": [
       "'\\ntemp_btn = driver.find_elements_by_css_selector(\"td.t_left > span.mtl_selectbox\")\\ntemp_btn[1].click()\\ntime.sleep(1)\\n\\ndriver.find_elements_by_css_selector(\"ul.selectList > li > a\")[1].click()\\ntime.sleep(1)\\n'"
      ]
     },
     "execution_count": 10,
     "metadata": {},
     "output_type": "execute_result"
    }
   ],
   "source": [
    "'''\n",
    "temp_btn = driver.find_elements_by_css_selector(\"td.t_left > span.mtl_selectbox\")\n",
    "temp_btn[1].click()\n",
    "time.sleep(1)\n",
    "\n",
    "driver.find_elements_by_css_selector(\"ul.selectList > li > a\")[1].click()\n",
    "time.sleep(1)\n",
    "'''"
   ]
  },
  {
   "cell_type": "code",
   "execution_count": null,
   "id": "2b741004-16e7-4f45-bff8-07f155146e16",
   "metadata": {},
   "outputs": [],
   "source": []
  },
  {
   "cell_type": "markdown",
   "id": "458ab7a5-3734-4d91-a910-75386c44db91",
   "metadata": {},
   "source": [
    "* click search button"
   ]
  },
  {
   "cell_type": "code",
   "execution_count": 11,
   "id": "e6812502-b8c1-477e-99b0-6703dea5dc2c",
   "metadata": {},
   "outputs": [],
   "source": [
    "search_button = driver.find_elements_by_css_selector(\"div.btnCenter > button.mtl_button\")\n",
    "search_button[0].click()"
   ]
  },
  {
   "cell_type": "markdown",
   "id": "5e74025b-c368-4877-b5e6-2182785a50f6",
   "metadata": {},
   "source": [
    "* set to showing 120 products"
   ]
  },
  {
   "cell_type": "code",
   "execution_count": 12,
   "id": "67a29a8c-6d47-4a5e-bc1a-3cf79896d198",
   "metadata": {},
   "outputs": [],
   "source": [
    "product_list = driver.find_elements_by_css_selector(\"span.mtl_selectbox.marL10\")\n",
    "product_list[0].click()"
   ]
  },
  {
   "cell_type": "code",
   "execution_count": 13,
   "id": "d312d3dd-46da-4200-8d97-478b483aab53",
   "metadata": {},
   "outputs": [],
   "source": [
    "time.sleep(1)\n",
    "product_list2 = driver.find_elements_by_css_selector(\"ul.selectList > li > a\")\n",
    "product_list2[3].click()"
   ]
  },
  {
   "cell_type": "code",
   "execution_count": null,
   "id": "4c16ded5-acf4-4272-887b-afc54f51d5ee",
   "metadata": {},
   "outputs": [],
   "source": []
  },
  {
   "cell_type": "markdown",
   "id": "216bce5c-fe24-4de1-88ca-96810cff52fd",
   "metadata": {},
   "source": [
    "* product 정보 수집"
   ]
  },
  {
   "cell_type": "code",
   "execution_count": 14,
   "id": "1c5343b6-5644-4921-b3ac-a3c4e287942e",
   "metadata": {},
   "outputs": [],
   "source": [
    "# x_path 방법 탐색 필요\n",
    "shorts_list = driver.find_elements_by_css_selector(\"td.t_left > span.short_yellow\")\n",
    "title_list = driver.find_elements_by_css_selector(\"td.t_left > a.product_listTitle.name\")"
   ]
  },
  {
   "cell_type": "markdown",
   "id": "ce6f596a-e11a-43e0-826e-7c8c764d533d",
   "metadata": {},
   "source": [
    "* 차선책"
   ]
  },
  {
   "cell_type": "code",
   "execution_count": 15,
   "id": "e828f448-8434-4aaa-82c4-77d4b72c88fd",
   "metadata": {
    "tags": []
   },
   "outputs": [],
   "source": [
    "title_list = []\n",
    "product_list = []\n",
    "law_list = []\n",
    "profit_list = []\n",
    "due_list = []\n",
    "bools_list = []\n",
    "date_list = []\n",
    "bools2_list = []"
   ]
  },
  {
   "cell_type": "code",
   "execution_count": null,
   "id": "d312c1e1-3149-48f3-90dc-72a2e9cfdf09",
   "metadata": {},
   "outputs": [],
   "source": []
  },
  {
   "cell_type": "markdown",
   "id": "d4abeeb1-44f6-4d59-8b50-7b16af270f0b",
   "metadata": {},
   "source": [
    "* crawling code"
   ]
  },
  {
   "cell_type": "code",
   "execution_count": 16,
   "id": "d0aa043e-b138-47e2-83ca-66f19250d711",
   "metadata": {},
   "outputs": [
    {
     "name": "stdout",
     "output_type": "stream",
     "text": [
      "8797\n"
     ]
    }
   ],
   "source": [
    "total_products = int(driver.find_element_by_css_selector(\"em.fColor.fBd.letter_0\").text)\n",
    "pages_loop = np.int(np.ceil(total_products / 120))\n",
    "print(total_products)"
   ]
  },
  {
   "cell_type": "code",
   "execution_count": 17,
   "id": "c6455853-61d2-460d-b9eb-cba5ff8d6d53",
   "metadata": {
    "tags": []
   },
   "outputs": [
    {
     "name": "stderr",
     "output_type": "stream",
     "text": [
      "100%|██████████████████████████████████████████████████████████████████████████████████| 74/74 [44:01<00:00, 35.70s/it]\n"
     ]
    }
   ],
   "source": [
    "for cnt in tqdm(range(1, pages_loop+1)):\n",
    "    time.sleep(1)\n",
    "    \n",
    "    ## PRODUCT TABLE\n",
    "    row_list = driver.find_elements_by_css_selector(\"div.tableDefault2 > table > tbody > tr\")\n",
    "\n",
    "    for row in row_list:\n",
    "        _, _, title, product, law, profit, _, due, bools, date, bools2 = [x.text for x in row.find_elements_by_css_selector(\"td\")]\n",
    "        title_list.append(title)\n",
    "        product_list.append(product)\n",
    "        law_list.append(law)\n",
    "        try:\n",
    "            profit_list.append(np.float(re.sub(\"[^0-9.]\",\"\",profit)))\n",
    "        except ValueError:\n",
    "            profit_list.append(-10)\n",
    "        due_list.append(due)\n",
    "        bools_list.append(bools)\n",
    "        date_list.append(pd.to_datetime(date))\n",
    "        bools2_list.append(bools2)\n",
    "        \n",
    "    if cnt == pages_loop:\n",
    "        continue\n",
    "        \n",
    "    ## PAGE LIST\n",
    "    number_list = driver.find_elements_by_css_selector(\"span.num > a\")\n",
    "\n",
    "    ## go to next page\n",
    "    if cnt % 10 != 0:\n",
    "        number_list[cnt % 10].click()\n",
    "    ## go to next page list\n",
    "    else:\n",
    "        driver.find_elements_by_css_selector(\"a.btn.next\")[0].click()"
   ]
  },
  {
   "cell_type": "code",
   "execution_count": null,
   "id": "b960fb8e-4d2e-44f4-bc33-176c55c4664f",
   "metadata": {},
   "outputs": [],
   "source": []
  },
  {
   "cell_type": "markdown",
   "id": "e04c0da5-dcdf-4065-ab4a-b9fdc9e0fe57",
   "metadata": {},
   "source": [
    "* save csv file"
   ]
  },
  {
   "cell_type": "code",
   "execution_count": 18,
   "id": "7a554bf8-689c-4d23-ae75-bff898accc49",
   "metadata": {},
   "outputs": [],
   "source": [
    "title_list = [x.split(\"\\n\") for x in title_list]\n",
    "product_list = [x.split(\"\\n\") for x in product_list]"
   ]
  },
  {
   "cell_type": "code",
   "execution_count": 19,
   "id": "1d7e35b3-2920-4a65-82eb-031608384408",
   "metadata": {},
   "outputs": [],
   "source": [
    "product_df = pd.DataFrame(title_list, columns = [\"short\", \"title\"])\n",
    "temp_df = pd.DataFrame({\"products\":product_list,\"law\": law_list, \"profit\": profit_list, \"due\": due_list, \"bools\": bools_list, \"date\":date_list,\"bools2_list\":bools2_list})"
   ]
  },
  {
   "cell_type": "code",
   "execution_count": 20,
   "id": "eb625756-baa7-4b5e-8451-ecabfe0eb902",
   "metadata": {},
   "outputs": [],
   "source": [
    "els_df = pd.concat([product_df, temp_df], axis = 1)"
   ]
  },
  {
   "cell_type": "code",
   "execution_count": 21,
   "id": "4de0452e-0a7a-40a0-9bb0-42e1b9732e55",
   "metadata": {},
   "outputs": [
    {
     "data": {
      "text/html": [
       "<div>\n",
       "<style scoped>\n",
       "    .dataframe tbody tr th:only-of-type {\n",
       "        vertical-align: middle;\n",
       "    }\n",
       "\n",
       "    .dataframe tbody tr th {\n",
       "        vertical-align: top;\n",
       "    }\n",
       "\n",
       "    .dataframe thead th {\n",
       "        text-align: right;\n",
       "    }\n",
       "</style>\n",
       "<table border=\"1\" class=\"dataframe\">\n",
       "  <thead>\n",
       "    <tr style=\"text-align: right;\">\n",
       "      <th></th>\n",
       "      <th>short</th>\n",
       "      <th>title</th>\n",
       "      <th>products</th>\n",
       "      <th>law</th>\n",
       "      <th>profit</th>\n",
       "      <th>due</th>\n",
       "      <th>bools</th>\n",
       "      <th>date</th>\n",
       "      <th>bools2_list</th>\n",
       "    </tr>\n",
       "  </thead>\n",
       "  <tbody>\n",
       "    <tr>\n",
       "      <th>0</th>\n",
       "      <td>원금비보장종목형</td>\n",
       "      <td>TRUE ELS 제13653 회 (월지급식 스텝다운)[온라인전용상품]</td>\n",
       "      <td>[AMD, S&amp;P500]</td>\n",
       "      <td>85-85-85-80-80-70/50(종가)</td>\n",
       "      <td>8.16</td>\n",
       "      <td>3년/6개월</td>\n",
       "      <td>비보장</td>\n",
       "      <td>2021-02-03</td>\n",
       "      <td>미상환</td>\n",
       "    </tr>\n",
       "    <tr>\n",
       "      <th>1</th>\n",
       "      <td>원금비보장종목형</td>\n",
       "      <td>TRUE ELS 제13652 회 (멀티배리어리자드)[온라인전용상품]</td>\n",
       "      <td>[삼성전자, NAVER, S&amp;P500]</td>\n",
       "      <td>92-90-87-82-80-77/52(종가),리자드배리어87%,82%</td>\n",
       "      <td>8.70</td>\n",
       "      <td>3년/6개월</td>\n",
       "      <td>비보장</td>\n",
       "      <td>2021-02-03</td>\n",
       "      <td>상환</td>\n",
       "    </tr>\n",
       "    <tr>\n",
       "      <th>2</th>\n",
       "      <td>원금비보장종목형</td>\n",
       "      <td>TRUE ELS 제13651 회 (스텝다운)</td>\n",
       "      <td>[APPLE, S&amp;P500]</td>\n",
       "      <td>85-85-85-80-80-70/45(종가)</td>\n",
       "      <td>6.00</td>\n",
       "      <td>3년/6개월</td>\n",
       "      <td>비보장</td>\n",
       "      <td>2021-02-03</td>\n",
       "      <td>상환</td>\n",
       "    </tr>\n",
       "    <tr>\n",
       "      <th>3</th>\n",
       "      <td>원금비보장종목형</td>\n",
       "      <td>TRUE ELS 제13650 회 (멀티배리어리자드)</td>\n",
       "      <td>[삼성전자, SK하이닉스, S&amp;P500]</td>\n",
       "      <td>92-90-87-85-82-77/52(종가),리자드배리어87%,82%</td>\n",
       "      <td>6.10</td>\n",
       "      <td>3년/6개월</td>\n",
       "      <td>비보장</td>\n",
       "      <td>2021-02-03</td>\n",
       "      <td>상환</td>\n",
       "    </tr>\n",
       "    <tr>\n",
       "      <th>4</th>\n",
       "      <td>원금비보장종목형</td>\n",
       "      <td>TRUE ELS 제13649 회 (스텝다운)</td>\n",
       "      <td>[삼성전자, S&amp;P500, EUROSTOXX50]</td>\n",
       "      <td>88-88-82-82-80-77/48(종가)</td>\n",
       "      <td>5.00</td>\n",
       "      <td>3년/6개월</td>\n",
       "      <td>비보장</td>\n",
       "      <td>2021-02-03</td>\n",
       "      <td>상환</td>\n",
       "    </tr>\n",
       "  </tbody>\n",
       "</table>\n",
       "</div>"
      ],
      "text/plain": [
       "      short                                   title  \\\n",
       "0  원금비보장종목형  TRUE ELS 제13653 회 (월지급식 스텝다운)[온라인전용상품]   \n",
       "1  원금비보장종목형   TRUE ELS 제13652 회 (멀티배리어리자드)[온라인전용상품]   \n",
       "2  원금비보장종목형                TRUE ELS 제13651 회 (스텝다운)   \n",
       "3  원금비보장종목형            TRUE ELS 제13650 회 (멀티배리어리자드)   \n",
       "4  원금비보장종목형                TRUE ELS 제13649 회 (스텝다운)   \n",
       "\n",
       "                      products                                     law  \\\n",
       "0                [AMD, S&P500]                85-85-85-80-80-70/50(종가)   \n",
       "1        [삼성전자, NAVER, S&P500]  92-90-87-82-80-77/52(종가),리자드배리어87%,82%   \n",
       "2              [APPLE, S&P500]                85-85-85-80-80-70/45(종가)   \n",
       "3       [삼성전자, SK하이닉스, S&P500]  92-90-87-85-82-77/52(종가),리자드배리어87%,82%   \n",
       "4  [삼성전자, S&P500, EUROSTOXX50]                88-88-82-82-80-77/48(종가)   \n",
       "\n",
       "   profit     due bools       date bools2_list  \n",
       "0    8.16  3년/6개월   비보장 2021-02-03         미상환  \n",
       "1    8.70  3년/6개월   비보장 2021-02-03          상환  \n",
       "2    6.00  3년/6개월   비보장 2021-02-03          상환  \n",
       "3    6.10  3년/6개월   비보장 2021-02-03          상환  \n",
       "4    5.00  3년/6개월   비보장 2021-02-03          상환  "
      ]
     },
     "execution_count": 21,
     "metadata": {},
     "output_type": "execute_result"
    }
   ],
   "source": [
    "els_df.head()"
   ]
  },
  {
   "cell_type": "code",
   "execution_count": 68,
   "id": "5f1a215d-9a92-45fd-b9a7-748ade75d35c",
   "metadata": {},
   "outputs": [],
   "source": [
    "els_df.products = [\"--\".join(x) for x in els_df.products]"
   ]
  },
  {
   "cell_type": "code",
   "execution_count": 70,
   "id": "fb5094ef-f831-41aa-8794-9ede10b7df3c",
   "metadata": {},
   "outputs": [],
   "source": [
    "els_df.to_csv(\"els_df.csv\", index = False, encoding = \"cp949\")"
   ]
  },
  {
   "cell_type": "code",
   "execution_count": 23,
   "id": "b75f7e7d-bc9d-4424-8f98-25a6b026a933",
   "metadata": {},
   "outputs": [],
   "source": [
    "np.save(\"product_list.npy\",product_list)"
   ]
  },
  {
   "cell_type": "code",
   "execution_count": 114,
   "id": "445b5894-9651-4e14-bdaf-321f1ffe3d3a",
   "metadata": {},
   "outputs": [
    {
     "data": {
      "text/plain": [
       "'TRUE ELS 제13653 회 [온라인전용상품]'"
      ]
     },
     "execution_count": 114,
     "metadata": {},
     "output_type": "execute_result"
    }
   ],
   "source": [
    "re.sub(\"\",\"\",els_df.title[0])"
   ]
  },
  {
   "cell_type": "code",
   "execution_count": null,
   "id": "017a28d1-449d-4157-9677-9c7f3a72f95d",
   "metadata": {},
   "outputs": [],
   "source": []
  },
  {
   "cell_type": "code",
   "execution_count": 10,
   "id": "ae950464-5ada-4835-837a-d75b0361a739",
   "metadata": {},
   "outputs": [],
   "source": [
    "els_df = pd.read_csv(\"els_df.csv\", encoding = \"cp949\")\n",
    "product_list = [x.split(\"--\") for x in els_df.products]"
   ]
  },
  {
   "cell_type": "markdown",
   "id": "a9f95af7-883d-4a0d-9fd0-f7776f497fbe",
   "metadata": {},
   "source": [
    "* 종목 추출"
   ]
  },
  {
   "cell_type": "code",
   "execution_count": 11,
   "id": "1e98c40d-8016-42e6-b37d-ee7e4f6dc320",
   "metadata": {},
   "outputs": [],
   "source": [
    "unique_pro = []\n",
    "\n",
    "for product in product_list:\n",
    "    unique_pro.extend(product)"
   ]
  },
  {
   "cell_type": "code",
   "execution_count": 12,
   "id": "32ed2096-a84d-4fc7-ad25-6bb41a831ccc",
   "metadata": {},
   "outputs": [
    {
     "data": {
      "text/plain": [
       "array(['AMD', 'S&P500', '삼성전자', 'NAVER', 'APPLE', 'SK하이닉스', 'EUROSTOXX50',\n",
       "       'HSCEI', 'KOSPI200', 'NIKKEI225', '현대차', 'FACEBOOK', 'NVIDIA',\n",
       "       'AMAZON', 'NETFLIX', 'EUROSTOXX BANKS', 'POSCO', '셀트리온', 'HSI',\n",
       "       '삼성전자 보통주', '삼성전자보통주', 'SPXLTBUP', 'EUROSTOXX5O', 'KOSDAQ150',\n",
       "       'HSI(항셍지수)', 'MICROSOFT', 'DAX', 'ERUOSTOXX50', '기아차', '신한지주',\n",
       "       '현대차 보통주', 'S&P500I', 'FTSE100', 'EUROSTOXX', 'EUOSTOXX50',\n",
       "       'EUROSTOXX500', '3지수 월지급식 스텝다운형', '대한항공', 'LG생활건강', '삼성중공업',\n",
       "       'SK텔레콤', '현대모비스', 'LG유플러스', '현대미포조선', '삼성SDI', '현대제철', '롯데케미칼',\n",
       "       'KB금융', 'LG디스플레이', '한국전력', '현대중공업', '삼성엔지니어링', 'KOSP200', '삼성전기',\n",
       "       '고려아연', 'LG디스플레이 보통주', '현대제철 보통주', 'LG전자', '현대글로비스', '기아차 보통주',\n",
       "       'GS건설 보통주', 'KT', '하나금융지주', '엔씨소프트', 'SK', 'KOSPI200 지수', '한국가스공사',\n",
       "       '대우증권', '삼성카드', 'GS건설', '두산중공업', '대우조선해양', 'NHN', 'SK이노베이션',\n",
       "       '대림산업', 'LG', 'KOSPI200지수', '우리금융', 'HSCEI지수', 'LG화학', '호남석유',\n",
       "       'GS', '삼성물산'], dtype=object)"
      ]
     },
     "execution_count": 12,
     "metadata": {},
     "output_type": "execute_result"
    }
   ],
   "source": [
    "pd.Series(unique_pro).unique()"
   ]
  },
  {
   "cell_type": "code",
   "execution_count": 13,
   "id": "92f338c1-44d8-45ad-a931-bfe7d4774488",
   "metadata": {},
   "outputs": [
    {
     "name": "stdout",
     "output_type": "stream",
     "text": [
      "['AMD', '삼성전자', 'NAVER', 'APPLE', 'SK하이닉스', '현대차', 'FACEBOOK', 'NVIDIA', 'AMAZON', 'NETFLIX', 'POSCO', '셀트리온', '삼성전자 보통주', '삼성전자보통주', 'MICROSOFT', '기아차', '신한지주', '현대차 보통주', '대한항공', 'LG생활건강', '삼성중공업', 'SK텔레콤', '현대모비스', 'LG유플러스', '현대미포조선', '삼성SDI', '현대제철', '롯데케미칼', 'KB금융', 'LG디스플레이', '한국전력', '현대중공업', '삼성엔지니어링', '삼성전기', '고려아연', 'LG디스플레이 보통주', '현대제철 보통주', 'LG전자', '현대글로비스', '기아차 보통주', 'GS건설 보통주', 'KT', '하나금융지주', '엔씨소프트', 'SK', '한국가스공사', '대우증권', '삼성카드', 'GS건설', '두산중공업', '대우조선해양', 'NHN', 'SK이노베이션', '대림산업', 'LG', '우리금융', 'LG화학', '호남석유', 'GS', '삼성물산']\n"
     ]
    }
   ],
   "source": [
    "index_list = ['HSCEI', 'KOSPI200', 'NIKKEI225', 'EUROSTOXX50', 'HSI', \n",
    "              'SPXLTBUP', 'EUROSTOXX BANKS', 'EUROSTOXX5O', 'KOSDAQ150', \n",
    "              'HSI(항셍지수)', 'DAX', 'ERUOSTOXX50', 'S&P500', 'KOSPI200지수', 'S&P500I',\n",
    "             'FTSE100', 'EUROSTOXX', 'EUOSTOXX50', 'EUROSTOXX500', '3지수 월지급식 스텝다운형',\n",
    "             'KOSP200', 'KOSPI200 지수', 'HSCEI지수']\n",
    "stock_list = [x for x in pd.Series(unique_pro).unique() if x not in index_list]\n",
    "print(stock_list)"
   ]
  },
  {
   "cell_type": "code",
   "execution_count": 120,
   "id": "6fe5c7a7-e25a-4d97-b682-44529688a82a",
   "metadata": {},
   "outputs": [],
   "source": [
    "# np.save(\"stock_list.npy\",stock_list)"
   ]
  },
  {
   "cell_type": "markdown",
   "id": "6f473376-58d9-49f8-ae0b-8bb0daf47702",
   "metadata": {},
   "source": [
    "* 종목이 들어간 ELS 찾기, 시작 일자"
   ]
  },
  {
   "cell_type": "code",
   "execution_count": 14,
   "id": "72d85847-a189-4559-9690-86a84f10a093",
   "metadata": {},
   "outputs": [],
   "source": [
    "def check_tf(stock, df):\n",
    "    return [True if stock in x else False for x in df.products]"
   ]
  },
  {
   "cell_type": "code",
   "execution_count": 15,
   "id": "e2600eff-4ed5-47e2-8fbd-dc36b5fe4a22",
   "metadata": {},
   "outputs": [],
   "source": [
    "def total_check_tf(stock_list, df):\n",
    "    base_idx = np.array([False for x in range(df.shape[0])])\n",
    "    for stock in stock_list:\n",
    "        base_idx += np.array(check_tf(stock, df))\n",
    "    return list(base_idx)"
   ]
  },
  {
   "cell_type": "code",
   "execution_count": 16,
   "id": "1fbee0d7-9ad5-468a-854d-815f9dccd577",
   "metadata": {},
   "outputs": [],
   "source": [
    "stock_idx = total_check_tf(stock_list, els_df)"
   ]
  },
  {
   "cell_type": "code",
   "execution_count": 17,
   "id": "db8b2e94-3319-479b-93fb-f18f7c04ceec",
   "metadata": {},
   "outputs": [
    {
     "data": {
      "text/plain": [
       "(8880, 9)"
      ]
     },
     "execution_count": 17,
     "metadata": {},
     "output_type": "execute_result"
    }
   ],
   "source": [
    "els_df.shape"
   ]
  },
  {
   "cell_type": "code",
   "execution_count": null,
   "id": "d58006ba-b16a-4101-9214-143f64924ec9",
   "metadata": {},
   "outputs": [],
   "source": []
  },
  {
   "cell_type": "markdown",
   "id": "474ab46a-17b0-4583-b138-0ba559e78c62",
   "metadata": {},
   "source": [
    "* 종목 포함시"
   ]
  },
  {
   "cell_type": "code",
   "execution_count": 36,
   "id": "1c33ec0c-ad74-4af4-b12b-fc18220e055a",
   "metadata": {},
   "outputs": [
    {
     "data": {
      "text/plain": [
       "1485"
      ]
     },
     "execution_count": 36,
     "metadata": {},
     "output_type": "execute_result"
    }
   ],
   "source": [
    "total_cnt = els_df.loc[stock_idx,:].shape[0]; total_cnt"
   ]
  },
  {
   "cell_type": "code",
   "execution_count": 33,
   "id": "b0a86d19-ee8c-444d-a961-f134c3d5c5be",
   "metadata": {},
   "outputs": [
    {
     "data": {
      "text/plain": [
       "10.721919191919245"
      ]
     },
     "execution_count": 33,
     "metadata": {},
     "output_type": "execute_result"
    }
   ],
   "source": [
    "# 종목이 들어간 profit\n",
    "profit_1 = els_df.loc[stock_idx, 'profit'].mean(); profit_1"
   ]
  },
  {
   "cell_type": "code",
   "execution_count": 38,
   "id": "b1e01753-3177-46d7-b733-35745d84f531",
   "metadata": {},
   "outputs": [
    {
     "data": {
      "text/plain": [
       "Counter({'미상환': 408, '상환': 1077})"
      ]
     },
     "execution_count": 38,
     "metadata": {},
     "output_type": "execute_result"
    }
   ],
   "source": [
    "from collections import Counter\n",
    "\n",
    "temp_dict = Counter(els_df.loc[stock_idx, 'bools2_list']); temp_dict"
   ]
  },
  {
   "cell_type": "code",
   "execution_count": 44,
   "id": "883ae850-3409-4040-a8e0-b2137444771a",
   "metadata": {},
   "outputs": [
    {
     "data": {
      "text/plain": [
       "0.27474747474747474"
      ]
     },
     "execution_count": 44,
     "metadata": {},
     "output_type": "execute_result"
    }
   ],
   "source": [
    "# 미상환율\n",
    "rate1 = temp_dict['미상환']/total_cnt\n",
    "rate1"
   ]
  },
  {
   "cell_type": "code",
   "execution_count": null,
   "id": "aef31669-f6eb-455f-b318-0c2653645caa",
   "metadata": {},
   "outputs": [],
   "source": []
  },
  {
   "cell_type": "markdown",
   "id": "8e5a53cb-69a9-439b-9eeb-f1296eef4d1b",
   "metadata": {},
   "source": [
    "* 종목 미포함시"
   ]
  },
  {
   "cell_type": "code",
   "execution_count": 40,
   "id": "879a58ce-2393-4155-abc2-924146b295e8",
   "metadata": {},
   "outputs": [],
   "source": [
    "total_cnt2 = els_df.loc[[~x for x in stock_idx],:].shape[0]"
   ]
  },
  {
   "cell_type": "code",
   "execution_count": 41,
   "id": "445606d3-1827-421e-9f71-167d0ec2035f",
   "metadata": {},
   "outputs": [
    {
     "data": {
      "text/plain": [
       "6.6534915483434744"
      ]
     },
     "execution_count": 41,
     "metadata": {},
     "output_type": "execute_result"
    }
   ],
   "source": [
    "# 종목이 들어가지 않은 profit\n",
    "profit_2 = els_df.loc[[~x for x in stock_idx], 'profit'].mean(); profit_2"
   ]
  },
  {
   "cell_type": "code",
   "execution_count": 42,
   "id": "1389bbe9-2d25-49ae-a6c5-0cb62d100e1f",
   "metadata": {},
   "outputs": [
    {
     "data": {
      "text/plain": [
       "Counter({'미상환': 1169, '상환': 6226})"
      ]
     },
     "execution_count": 42,
     "metadata": {},
     "output_type": "execute_result"
    }
   ],
   "source": [
    "temp_dict2 = Counter(els_df.loc[[~x for x in stock_idx], 'bools2_list'])\n",
    "temp_dict2"
   ]
  },
  {
   "cell_type": "code",
   "execution_count": 45,
   "id": "02ddfaf2-03dd-4c53-a7af-78dad744721e",
   "metadata": {},
   "outputs": [
    {
     "data": {
      "text/plain": [
       "0.15807978363759298"
      ]
     },
     "execution_count": 45,
     "metadata": {},
     "output_type": "execute_result"
    }
   ],
   "source": [
    "# 미상환율\n",
    "rate2 = temp_dict2['미상환']/total_cnt2\n",
    "rate2"
   ]
  },
  {
   "cell_type": "code",
   "execution_count": null,
   "id": "7de11260-1efb-43e0-a35f-9b4acbd5c588",
   "metadata": {},
   "outputs": [],
   "source": []
  },
  {
   "cell_type": "markdown",
   "id": "e9c7ef51-5a48-4312-ab8c-08d8a80bee65",
   "metadata": {},
   "source": [
    "* 비교"
   ]
  },
  {
   "cell_type": "code",
   "execution_count": 46,
   "id": "d60684a8-c492-4a8c-ab58-34b67779adbd",
   "metadata": {},
   "outputs": [
    {
     "data": {
      "text/plain": [
       "1.7380304326412108"
      ]
     },
     "execution_count": 46,
     "metadata": {},
     "output_type": "execute_result"
    }
   ],
   "source": [
    "# 종목이 포함된 상품의 상대적 미상환율\n",
    "rate1 / rate2"
   ]
  },
  {
   "cell_type": "code",
   "execution_count": 48,
   "id": "1063fd6c-49aa-4d18-b35b-5b40132d4e4b",
   "metadata": {},
   "outputs": [
    {
     "data": {
      "text/plain": [
       "1.6114725800754477"
      ]
     },
     "execution_count": 48,
     "metadata": {},
     "output_type": "execute_result"
    }
   ],
   "source": [
    "# 종목이 포함된 상품의 상대적 수익률 \n",
    "profit_1 / profit_2"
   ]
  },
  {
   "cell_type": "code",
   "execution_count": null,
   "id": "2527ebae-68d2-4801-8c1b-5bf914cad587",
   "metadata": {},
   "outputs": [],
   "source": []
  }
 ],
 "metadata": {
  "kernelspec": {
   "display_name": "Python 3",
   "language": "python",
   "name": "python3"
  },
  "language_info": {
   "codemirror_mode": {
    "name": "ipython",
    "version": 3
   },
   "file_extension": ".py",
   "mimetype": "text/x-python",
   "name": "python",
   "nbconvert_exporter": "python",
   "pygments_lexer": "ipython3",
   "version": "3.8.8"
  }
 },
 "nbformat": 4,
 "nbformat_minor": 5
}
