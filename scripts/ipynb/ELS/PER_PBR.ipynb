{
 "cells": [
  {
   "cell_type": "markdown",
   "id": "05176f26-b5ed-424d-b0a5-918269d6e176",
   "metadata": {},
   "source": [
    "https://www.codingfactory.net/12644#_Adjacent_Sibling_Selector"
   ]
  },
  {
   "cell_type": "code",
   "execution_count": 1,
   "id": "1da2f765-58d0-4b18-b47a-13305976b265",
   "metadata": {},
   "outputs": [],
   "source": [
    "from bs4 import BeautifulSoup\n",
    "\n",
    "import numpy as np\n",
    "import requests\n",
    "import re"
   ]
  },
  {
   "cell_type": "code",
   "execution_count": 2,
   "id": "6c789f02-a288-49b2-9ed3-84fb1e23edb5",
   "metadata": {},
   "outputs": [],
   "source": [
    "code = '005930'\n",
    "url = 'https://finance.naver.com/item/sise.naver?code={}'.format(code)\n",
    "\n",
    "response = requests.get(url)\n",
    "\n",
    "if response.status_code == 200:\n",
    "    html = response.text\n",
    "    soup = BeautifulSoup(html, 'html.parser')"
   ]
  },
  {
   "cell_type": "code",
   "execution_count": 3,
   "id": "5835a7f3-2f09-4e13-aab4-169267aa22df",
   "metadata": {},
   "outputs": [],
   "source": [
    "def select_nums(x):\n",
    "    return np.float(re.sub(\"[^0-9.]\", \"\", x))"
   ]
  },
  {
   "cell_type": "code",
   "execution_count": 4,
   "id": "a07b835b-81f3-4a2e-9a43-2351c53915d8",
   "metadata": {},
   "outputs": [],
   "source": [
    "values = soup.select('table.lwidth > tr > td')\n",
    "names_1 = soup.select('table.lwidth > tr > th[scope=\"row\"]')[:2]\n",
    "names_2 = soup.select('table.lwidth > tr > th[scope=\"row\"] > strong')"
   ]
  },
  {
   "cell_type": "code",
   "execution_count": 5,
   "id": "29df49f1-9130-44f6-9838-bb17b9aa4166",
   "metadata": {},
   "outputs": [],
   "source": [
    "names_1 = [x.get_text() for x in names_1]\n",
    "names_1.extend([x.get_text() for x in names_2])"
   ]
  },
  {
   "cell_type": "code",
   "execution_count": 6,
   "id": "0badf615-b6b9-474b-bfde-da0d9d5ff520",
   "metadata": {},
   "outputs": [],
   "source": [
    "values = [select_nums(x.get_text()) for x in values]"
   ]
  },
  {
   "cell_type": "code",
   "execution_count": 7,
   "id": "eeed0efe-a439-46c2-89b8-35e5985af5ba",
   "metadata": {},
   "outputs": [
    {
     "data": {
      "text/plain": [
       "'14.21'"
      ]
     },
     "execution_count": 7,
     "metadata": {},
     "output_type": "execute_result"
    }
   ],
   "source": [
    "per = soup.select_one('td > em#_per')\n",
    "per.get_text()"
   ]
  },
  {
   "cell_type": "code",
   "execution_count": 8,
   "id": "e7234cfe-1cde-4f4e-bb2e-557386f4d5e9",
   "metadata": {},
   "outputs": [],
   "source": [
    "names_1.append('PER')\n",
    "values.append(select_nums(per.get_text()))"
   ]
  },
  {
   "cell_type": "code",
   "execution_count": 9,
   "id": "d0c31d28-db1b-4313-9793-a9b223026267",
   "metadata": {},
   "outputs": [
    {
     "data": {
      "text/plain": [
       "{'외국인한도주식수(A)': 5969782550.0,\n",
       " '외국인보유주식수(B)': 3112838107.0,\n",
       " '외국인소진율(B/A)': 52.14,\n",
       " 'PER': 14.21}"
      ]
     },
     "execution_count": 9,
     "metadata": {},
     "output_type": "execute_result"
    }
   ],
   "source": [
    "{x:y for x,y in zip(names_1, values)}"
   ]
  },
  {
   "cell_type": "code",
   "execution_count": null,
   "id": "8865cab3-578c-4649-99a3-921122a83a6c",
   "metadata": {},
   "outputs": [],
   "source": []
  },
  {
   "cell_type": "code",
   "execution_count": null,
   "id": "e1e59633-ebe6-44ec-91bc-199d57c13d07",
   "metadata": {},
   "outputs": [],
   "source": []
  }
 ],
 "metadata": {
  "kernelspec": {
   "display_name": "Python 3",
   "language": "python",
   "name": "python3"
  },
  "language_info": {
   "codemirror_mode": {
    "name": "ipython",
    "version": 3
   },
   "file_extension": ".py",
   "mimetype": "text/x-python",
   "name": "python",
   "nbconvert_exporter": "python",
   "pygments_lexer": "ipython3",
   "version": "3.8.8"
  }
 },
 "nbformat": 4,
 "nbformat_minor": 5
}
