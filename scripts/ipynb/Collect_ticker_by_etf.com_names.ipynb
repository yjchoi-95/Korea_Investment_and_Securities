{
 "cells": [
  {
   "cell_type": "markdown",
   "id": "4dec0ba1-b1f6-40f4-878f-c8f755d46300",
   "metadata": {},
   "source": [
    "## Import"
   ]
  },
  {
   "cell_type": "code",
   "execution_count": 1,
   "id": "41c2be1a",
   "metadata": {},
   "outputs": [],
   "source": [
    "import selenium\n",
    "import pandas as pd\n",
    "import numpy as np \n",
    "import warnings\n",
    "warnings.filterwarnings('ignore')"
   ]
  },
  {
   "cell_type": "code",
   "execution_count": 2,
   "id": "d92743f3",
   "metadata": {},
   "outputs": [],
   "source": [
    "from selenium import webdriver\n",
    "from selenium.webdriver.chrome.options import Options\n",
    "from selenium.webdriver.common.keys import Keys\n",
    "from selenium.webdriver.support.ui import WebDriverWait\n",
    "from selenium.webdriver.common.by import By\n",
    "from selenium.webdriver.support import expected_conditions as EC\n",
    "from bs4 import BeautifulSoup\n",
    "\n",
    "import requests\n",
    "import time"
   ]
  },
  {
   "cell_type": "code",
   "execution_count": 3,
   "id": "16296a9d",
   "metadata": {},
   "outputs": [
    {
     "data": {
      "text/plain": [
       "'C:\\\\Users\\\\PC0\\\\Documents\\\\GitHub\\\\Korea_Investment_and_Securities\\\\scripts\\\\ipynb'"
      ]
     },
     "execution_count": 3,
     "metadata": {},
     "output_type": "execute_result"
    }
   ],
   "source": [
    "import os\n",
    "os.getcwd()"
   ]
  },
  {
   "cell_type": "code",
   "execution_count": 6,
   "id": "c5c80fe2-d212-401e-9b40-aa794c6b9c7a",
   "metadata": {},
   "outputs": [],
   "source": [
    "data_path = \"C:\\\\Users\\\\PC0\\\\Documents\\\\GitHub\\\\Korea_Investment_and_Securities\\\\datasets\\\\\""
   ]
  },
  {
   "cell_type": "code",
   "execution_count": 7,
   "id": "f2f368a1-beba-450f-85c1-3d6bf5d0e565",
   "metadata": {},
   "outputs": [],
   "source": [
    "niche_df = pd.read_csv(data_path + \"etf_niche_grouped_df2.csv\")"
   ]
  },
  {
   "cell_type": "code",
   "execution_count": 8,
   "id": "e2b8172c-f6b7-46f8-b690-da91f33b1eb5",
   "metadata": {},
   "outputs": [
    {
     "data": {
      "text/html": [
       "<div>\n",
       "<style scoped>\n",
       "    .dataframe tbody tr th:only-of-type {\n",
       "        vertical-align: middle;\n",
       "    }\n",
       "\n",
       "    .dataframe tbody tr th {\n",
       "        vertical-align: top;\n",
       "    }\n",
       "\n",
       "    .dataframe thead th {\n",
       "        text-align: right;\n",
       "    }\n",
       "</style>\n",
       "<table border=\"1\" class=\"dataframe\">\n",
       "  <thead>\n",
       "    <tr style=\"text-align: right;\">\n",
       "      <th></th>\n",
       "      <th>Theme</th>\n",
       "      <th>Symbol</th>\n",
       "      <th>stock_names</th>\n",
       "      <th>cnts</th>\n",
       "      <th>marketCap</th>\n",
       "    </tr>\n",
       "  </thead>\n",
       "  <tbody>\n",
       "    <tr>\n",
       "      <th>0</th>\n",
       "      <td>5G</td>\n",
       "      <td>NVDA</td>\n",
       "      <td>NVIDIA Corporation</td>\n",
       "      <td>4</td>\n",
       "      <td>6.047336e+11</td>\n",
       "    </tr>\n",
       "    <tr>\n",
       "      <th>1</th>\n",
       "      <td>5G</td>\n",
       "      <td>NXPI</td>\n",
       "      <td>NXP Semiconductors NV</td>\n",
       "      <td>3</td>\n",
       "      <td>4.943163e+10</td>\n",
       "    </tr>\n",
       "    <tr>\n",
       "      <th>2</th>\n",
       "      <td>5G</td>\n",
       "      <td>AMD</td>\n",
       "      <td>Advanced Micro Devices, Inc.</td>\n",
       "      <td>3</td>\n",
       "      <td>1.379936e+11</td>\n",
       "    </tr>\n",
       "    <tr>\n",
       "      <th>3</th>\n",
       "      <td>5G</td>\n",
       "      <td>MRVL</td>\n",
       "      <td>Marvell Technology, Inc.</td>\n",
       "      <td>3</td>\n",
       "      <td>5.716745e+10</td>\n",
       "    </tr>\n",
       "    <tr>\n",
       "      <th>4</th>\n",
       "      <td>5G</td>\n",
       "      <td>NaN</td>\n",
       "      <td>Amazon.com, Inc.</td>\n",
       "      <td>3</td>\n",
       "      <td>NaN</td>\n",
       "    </tr>\n",
       "  </tbody>\n",
       "</table>\n",
       "</div>"
      ],
      "text/plain": [
       "  Theme Symbol                   stock_names  cnts     marketCap\n",
       "0    5G   NVDA            NVIDIA Corporation     4  6.047336e+11\n",
       "1    5G   NXPI         NXP Semiconductors NV     3  4.943163e+10\n",
       "2    5G    AMD  Advanced Micro Devices, Inc.     3  1.379936e+11\n",
       "3    5G   MRVL      Marvell Technology, Inc.     3  5.716745e+10\n",
       "4    5G    NaN              Amazon.com, Inc.     3           NaN"
      ]
     },
     "execution_count": 8,
     "metadata": {},
     "output_type": "execute_result"
    }
   ],
   "source": [
    "niche_df.head()"
   ]
  },
  {
   "cell_type": "code",
   "execution_count": 12,
   "id": "a47b2de6-a67c-4a95-a8e4-6a2e14d6514b",
   "metadata": {},
   "outputs": [],
   "source": [
    "options = webdriver.ChromeOptions()\n",
    "\n",
    "options.add_argument(\"--disable-blink-features=AutomationControlled\")\n",
    "options.add_argument(\"user-agent=Mozilla/5.0 (Windows NT 10.0; Win64; x64) AppleWebKit/537.36 (KHTML, like Gecko) Chrome/98.0.4758.82 Safari/537.36\")"
   ]
  },
  {
   "cell_type": "code",
   "execution_count": 13,
   "id": "04589d67",
   "metadata": {},
   "outputs": [],
   "source": [
    "driver = webdriver.Chrome(\"C:\\\\Users\\\\PC0\\\\Desktop\\\\chromedriver.exe\", options=options)"
   ]
  },
  {
   "cell_type": "code",
   "execution_count": 14,
   "id": "2c70f6e7",
   "metadata": {},
   "outputs": [],
   "source": [
    "# investion.com 호출 \n",
    "driver.get('https://www.investing.com/')"
   ]
  },
  {
   "cell_type": "code",
   "execution_count": 15,
   "id": "89291415",
   "metadata": {},
   "outputs": [],
   "source": [
    "# 검색 창에 키 값 보내기 \n",
    "search_box = driver.find_element_by_xpath('/html/body/div[5]/header/div[2]/div/div[3]/div[1]/input') # 객체 잡기 \n",
    "search_box.send_keys('Amazon.com, Inc.')\n",
    "search_box.send_keys(Keys.ENTER)"
   ]
  },
  {
   "cell_type": "code",
   "execution_count": 126,
   "id": "568246fe",
   "metadata": {},
   "outputs": [],
   "source": []
  },
  {
   "cell_type": "code",
   "execution_count": 16,
   "id": "79aa16eb",
   "metadata": {},
   "outputs": [
    {
     "name": "stdout",
     "output_type": "stream",
     "text": [
      "['CDwindow-315F152DEB07C8A8BFFE67AA5112C527']\n"
     ]
    }
   ],
   "source": [
    "### 팝업창 개수 확인 하기 #### 두번째 부터가 팝업창 현재의 경우 팝업이 뜨지 않음  \n",
    "#### 팝업이 발생하는경우 제거하기 if 문 걸어서 \n",
    "tabs = driver.window_handles\n",
    "print(tabs)"
   ]
  },
  {
   "cell_type": "code",
   "execution_count": 17,
   "id": "729b020a",
   "metadata": {},
   "outputs": [],
   "source": [
    "#### 만약 팝업이 있는 경우 팝업을 제거하는 코드 \n",
    "# driver.switch_to_window(tabs[1])\n",
    "# driver.close()"
   ]
  },
  {
   "cell_type": "code",
   "execution_count": 67,
   "id": "11d7cd13",
   "metadata": {},
   "outputs": [],
   "source": [
    "# 현재 페이지 긁기 \n",
    "soup =BeautifulSoup(driver.page_source,'html.parser')"
   ]
  },
  {
   "cell_type": "code",
   "execution_count": 18,
   "id": "b6d4cf81",
   "metadata": {},
   "outputs": [
    {
     "data": {
      "text/plain": [
       "array(['10x Genomics Inc Class A',\n",
       "       '17 Education & Technology Group, Inc. Unsponsored ADR',\n",
       "       '1847 Goedeker Inc', ..., 'trivago N.V. Sponsored ADR Class A',\n",
       "       'uniQure N.V.', 'voestalpine AG'], dtype='<U123')"
      ]
     },
     "execution_count": 18,
     "metadata": {},
     "output_type": "execute_result"
    }
   ],
   "source": [
    "a = np.load(data_path + 'stock_names.npy')\n",
    "a"
   ]
  },
  {
   "cell_type": "code",
   "execution_count": 19,
   "id": "0e91cb4b",
   "metadata": {},
   "outputs": [],
   "source": [
    "start_idx=0"
   ]
  },
  {
   "cell_type": "code",
   "execution_count": 20,
   "id": "de9afd96",
   "metadata": {},
   "outputs": [],
   "source": [
    "ticker_lst = []\n",
    "investing_lst=[]\n",
    "detail_lst=[]\n",
    "etf_com_lst = []"
   ]
  },
  {
   "cell_type": "code",
   "execution_count": 182,
   "id": "54f655ed",
   "metadata": {},
   "outputs": [],
   "source": [
    "# start_idx=183"
   ]
  },
  {
   "cell_type": "code",
   "execution_count": 22,
   "id": "4ce95de9-f868-47fb-8158-ece72a9784d1",
   "metadata": {},
   "outputs": [],
   "source": [
    "from tqdm import tqdm"
   ]
  },
  {
   "cell_type": "code",
   "execution_count": null,
   "id": "a7757a16",
   "metadata": {},
   "outputs": [
    {
     "name": "stderr",
     "output_type": "stream",
     "text": [
      "  0%|▏                                                                           | 32/10082 [04:09<21:31:19,  7.71s/it]"
     ]
    }
   ],
   "source": [
    "#### 긁기 \n",
    "for i in tqdm(range(start_idx,len(a))):\n",
    "    \n",
    "    # 검색 창에 키 값 보내기 \n",
    "    search_box = driver.find_element_by_xpath('/html/body/div[5]/header/div[2]/div/div[3]/div[1]/input') # 객체 잡기 \n",
    "    search_box.send_keys(a[i])\n",
    "    click_box = driver.find_element_by_xpath('/html/body/div[5]/header/div[2]/div/div[3]/div[1]/label') # 클릭 선택\n",
    "    click_box.click()\n",
    "    \n",
    "    time.sleep(3)\n",
    "\n",
    "    # 현재 페이지 긁기 \n",
    "    soup =BeautifulSoup(driver.page_source,'html.parser')\n",
    "    \n",
    "    try:\n",
    "        if driver.find_element_by_xpath('//*[@id=\"fullColumn\"]/div/div[2]/div[2]/h2'):\n",
    "            Ticker = driver.find_element_by_xpath('//*[@id=\"fullColumn\"]/div/div[2]/div[2]/div[1]/a[1]/span[2]')\n",
    "            ticker = Ticker.text\n",
    "           \n",
    "            Invest = driver.find_element_by_xpath('//*[@id=\"fullColumn\"]/div/div[2]/div[2]/div[1]/a[1]/span[3]')\n",
    "            investing_name = Invest.text\n",
    "            \n",
    "            Detail = driver.find_element_by_xpath('//*[@id=\"fullColumn\"]/div/div[2]/div[2]/div[1]/a[1]/span[4]')\n",
    "            detail = Detail.text\n",
    "\n",
    "            ticker_lst.append(ticker) \n",
    "            investing_lst.append(investing_name)\n",
    "            detail_lst.append(detail)\n",
    "            etf_com_lst.append(a[i])\n",
    "    except :\n",
    "            ticker_lst.append('None') \n",
    "            investing_lst.append('None')\n",
    "            detail_lst.append('None')\n",
    "            etf_com_lst.append(a[i])\n",
    "            \n",
    "        \n",
    "    search_box = driver.find_element_by_xpath('/html/body/div[5]/header/div[2]/div/div[3]/div[1]/input') \n",
    "    search_box.clear()\n",
    "    \n",
    "    time.sleep(3)\n",
    "\n",
    "    start_idx += 1"
   ]
  },
  {
   "cell_type": "code",
   "execution_count": 208,
   "id": "3e7d401d",
   "metadata": {},
   "outputs": [
    {
     "data": {
      "text/html": [
       "<div>\n",
       "<style scoped>\n",
       "    .dataframe tbody tr th:only-of-type {\n",
       "        vertical-align: middle;\n",
       "    }\n",
       "\n",
       "    .dataframe tbody tr th {\n",
       "        vertical-align: top;\n",
       "    }\n",
       "\n",
       "    .dataframe thead th {\n",
       "        text-align: right;\n",
       "    }\n",
       "</style>\n",
       "<table border=\"1\" class=\"dataframe\">\n",
       "  <thead>\n",
       "    <tr style=\"text-align: right;\">\n",
       "      <th></th>\n",
       "      <th>etf.com_names</th>\n",
       "      <th>Ticker_names</th>\n",
       "      <th>investing_names</th>\n",
       "      <th>details</th>\n",
       "    </tr>\n",
       "  </thead>\n",
       "  <tbody>\n",
       "    <tr>\n",
       "      <th>0</th>\n",
       "      <td>10x Genomics Inc Class A</td>\n",
       "      <td>None</td>\n",
       "      <td>None</td>\n",
       "      <td>None</td>\n",
       "    </tr>\n",
       "    <tr>\n",
       "      <th>1</th>\n",
       "      <td>17 Education &amp; Technology Group, Inc. Unsponso...</td>\n",
       "      <td>YQ</td>\n",
       "      <td>17 Education Technology Group Inc</td>\n",
       "      <td>Stock - NASDAQ equities</td>\n",
       "    </tr>\n",
       "    <tr>\n",
       "      <th>2</th>\n",
       "      <td>1847 Goedeker Inc</td>\n",
       "      <td>None</td>\n",
       "      <td>None</td>\n",
       "      <td>None</td>\n",
       "    </tr>\n",
       "    <tr>\n",
       "      <th>3</th>\n",
       "      <td>1Life Healthcare, Inc.</td>\n",
       "      <td>ONEM</td>\n",
       "      <td>1Life Healthcare Inc</td>\n",
       "      <td>Stock - NASDAQ equities</td>\n",
       "    </tr>\n",
       "    <tr>\n",
       "      <th>4</th>\n",
       "      <td>1st Source Corporation</td>\n",
       "      <td>SRCE</td>\n",
       "      <td>1st Source Corporation</td>\n",
       "      <td>Stock - NASDAQ equities</td>\n",
       "    </tr>\n",
       "    <tr>\n",
       "      <th>5</th>\n",
       "      <td>1stdibs.com, Inc.</td>\n",
       "      <td>DIBS</td>\n",
       "      <td>1Stdibs.Com Inc</td>\n",
       "      <td>Stock - NASDAQ equities</td>\n",
       "    </tr>\n",
       "    <tr>\n",
       "      <th>6</th>\n",
       "      <td>2020 Bulkers Ltd.</td>\n",
       "      <td>20202</td>\n",
       "      <td>2020 Bulkers Ltd</td>\n",
       "      <td>Stock - Oslo equities</td>\n",
       "    </tr>\n",
       "    <tr>\n",
       "      <th>7</th>\n",
       "      <td>22nd Century Group, Inc.</td>\n",
       "      <td>XXII</td>\n",
       "      <td>22nd Century Group Inc</td>\n",
       "      <td>Stock - NASDAQ equities</td>\n",
       "    </tr>\n",
       "    <tr>\n",
       "      <th>8</th>\n",
       "      <td>23andMe Holding Co Class A</td>\n",
       "      <td>None</td>\n",
       "      <td>None</td>\n",
       "      <td>None</td>\n",
       "    </tr>\n",
       "    <tr>\n",
       "      <th>9</th>\n",
       "      <td>2G Energy AG</td>\n",
       "      <td>2GBG</td>\n",
       "      <td>2G energy AG</td>\n",
       "      <td>Stock - Xetra equities</td>\n",
       "    </tr>\n",
       "    <tr>\n",
       "      <th>10</th>\n",
       "      <td>2U, Inc.</td>\n",
       "      <td>TWOU</td>\n",
       "      <td>2U Inc</td>\n",
       "      <td>Stock - NASDAQ equities</td>\n",
       "    </tr>\n",
       "    <tr>\n",
       "      <th>11</th>\n",
       "      <td>2seventy Bio, Inc.</td>\n",
       "      <td>TSVT</td>\n",
       "      <td>2Seventy Bio Inc</td>\n",
       "      <td>Stock - NASDAQ equities</td>\n",
       "    </tr>\n",
       "    <tr>\n",
       "      <th>12</th>\n",
       "      <td>360 DigiTech, Inc. ADR Class A</td>\n",
       "      <td>None</td>\n",
       "      <td>None</td>\n",
       "      <td>None</td>\n",
       "    </tr>\n",
       "    <tr>\n",
       "      <th>13</th>\n",
       "      <td>360 Security Technology, Inc. Class A</td>\n",
       "      <td>None</td>\n",
       "      <td>None</td>\n",
       "      <td>None</td>\n",
       "    </tr>\n",
       "    <tr>\n",
       "      <th>14</th>\n",
       "      <td>3D Printing ETF</td>\n",
       "      <td>PRNT</td>\n",
       "      <td>The 3D Printing ETF</td>\n",
       "      <td>ETF - NYSE etf</td>\n",
       "    </tr>\n",
       "    <tr>\n",
       "      <th>15</th>\n",
       "      <td>3D Systems Corporation</td>\n",
       "      <td>DDD</td>\n",
       "      <td>3D Systems Corporation</td>\n",
       "      <td>Stock - NYSE equities</td>\n",
       "    </tr>\n",
       "  </tbody>\n",
       "</table>\n",
       "</div>"
      ],
      "text/plain": [
       "                                        etf.com_names Ticker_names  \\\n",
       "0                            10x Genomics Inc Class A         None   \n",
       "1   17 Education & Technology Group, Inc. Unsponso...           YQ   \n",
       "2                                   1847 Goedeker Inc         None   \n",
       "3                              1Life Healthcare, Inc.         ONEM   \n",
       "4                              1st Source Corporation         SRCE   \n",
       "5                                   1stdibs.com, Inc.         DIBS   \n",
       "6                                   2020 Bulkers Ltd.        20202   \n",
       "7                            22nd Century Group, Inc.         XXII   \n",
       "8                          23andMe Holding Co Class A         None   \n",
       "9                                        2G Energy AG         2GBG   \n",
       "10                                           2U, Inc.         TWOU   \n",
       "11                                 2seventy Bio, Inc.         TSVT   \n",
       "12                     360 DigiTech, Inc. ADR Class A         None   \n",
       "13              360 Security Technology, Inc. Class A         None   \n",
       "14                                    3D Printing ETF         PRNT   \n",
       "15                             3D Systems Corporation          DDD   \n",
       "\n",
       "                      investing_names                  details  \n",
       "0                                None                     None  \n",
       "1   17 Education Technology Group Inc  Stock - NASDAQ equities  \n",
       "2                                None                     None  \n",
       "3                1Life Healthcare Inc  Stock - NASDAQ equities  \n",
       "4              1st Source Corporation  Stock - NASDAQ equities  \n",
       "5                     1Stdibs.Com Inc  Stock - NASDAQ equities  \n",
       "6                    2020 Bulkers Ltd    Stock - Oslo equities  \n",
       "7              22nd Century Group Inc  Stock - NASDAQ equities  \n",
       "8                                None                     None  \n",
       "9                        2G energy AG   Stock - Xetra equities  \n",
       "10                             2U Inc  Stock - NASDAQ equities  \n",
       "11                   2Seventy Bio Inc  Stock - NASDAQ equities  \n",
       "12                               None                     None  \n",
       "13                               None                     None  \n",
       "14                The 3D Printing ETF           ETF - NYSE etf  \n",
       "15             3D Systems Corporation    Stock - NYSE equities  "
      ]
     },
     "execution_count": 208,
     "metadata": {},
     "output_type": "execute_result"
    }
   ],
   "source": [
    "df= pd.DataFrame({'etf.com_names':etf_com_lst,\n",
    "             'Ticker_names':ticker_lst,\n",
    "             'investing_names':investing_lst,\n",
    "             'details':detail_lst})\n",
    "df\n"
   ]
  },
  {
   "cell_type": "code",
   "execution_count": 209,
   "id": "917bf9aa",
   "metadata": {},
   "outputs": [],
   "source": [
    "df.to_csv('C:/Windows/[2380861]python38_64bit_base/notebooks/Git_hub/korea_/Overseas stock/investing_com.csv',index=False)"
   ]
  },
  {
   "cell_type": "code",
   "execution_count": null,
   "id": "92e8bf20",
   "metadata": {},
   "outputs": [],
   "source": []
  }
 ],
 "metadata": {
  "kernelspec": {
   "display_name": "Python 3",
   "language": "python",
   "name": "python3"
  },
  "language_info": {
   "codemirror_mode": {
    "name": "ipython",
    "version": 3
   },
   "file_extension": ".py",
   "mimetype": "text/x-python",
   "name": "python",
   "nbconvert_exporter": "python",
   "pygments_lexer": "ipython3",
   "version": "3.8.8"
  }
 },
 "nbformat": 4,
 "nbformat_minor": 5
}
