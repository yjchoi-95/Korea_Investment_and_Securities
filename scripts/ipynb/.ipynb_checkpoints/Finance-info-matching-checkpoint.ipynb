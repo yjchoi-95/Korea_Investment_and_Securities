{
 "cells": [
  {
   "cell_type": "markdown",
   "id": "da8f20f8-ca5f-46a4-8482-0b6842881145",
   "metadata": {},
   "source": [
    "## Import"
   ]
  },
  {
   "cell_type": "code",
   "execution_count": 1,
   "id": "5a0ce671-12a9-4865-b9ce-b8e40c795e69",
   "metadata": {},
   "outputs": [],
   "source": [
    "from tqdm import tqdm\n",
    "\n",
    "import FinanceDataReader as fdr\n",
    "import numpy as np\n",
    "import pandas as pd\n",
    "import re\n"
   ]
  },
  {
   "cell_type": "code",
   "execution_count": null,
   "id": "0272f466-3e26-44a5-9ffc-a1d284c5da78",
   "metadata": {},
   "outputs": [],
   "source": []
  },
  {
   "cell_type": "markdown",
   "id": "6c3b644d-7408-4c6f-8648-015bf35f5007",
   "metadata": {},
   "source": [
    "## Load data"
   ]
  },
  {
   "cell_type": "code",
   "execution_count": 2,
   "id": "ae5d93b9-7b9f-4ff6-93bb-b70b87904d98",
   "metadata": {},
   "outputs": [],
   "source": [
    "data_path = \"C:\\\\Users\\\\PC0\\\\Documents\\\\GitHub\\\\Korea_Investment_and_Securities\\\\datasets\\\\\""
   ]
  },
  {
   "cell_type": "code",
   "execution_count": 3,
   "id": "e2ec51fb-582e-4202-a3f2-a272f35c3e89",
   "metadata": {},
   "outputs": [],
   "source": [
    "am_stocks = pd.read_csv(data_path + \"amrican_ticker_stockname.csv\")\n",
    "info_df = pd.read_csv(data_path + \"info_df.csv\")\n",
    "tot_df = pd.read_csv(data_path + \"tot_df.csv\")\n",
    "final_df = pd.read_csv(data_path + \"all_joined_stocks.csv\")\n",
    "etf_niche = pd.read_csv(data_path + \"etf_niche_grouped_df.csv\")\n",
    "investing_df = pd.read_csv(data_path + \"investing_com.csv\")"
   ]
  },
  {
   "cell_type": "code",
   "execution_count": 4,
   "id": "9c045f03-c84c-475b-ab78-129c50b1229e",
   "metadata": {},
   "outputs": [],
   "source": [
    "info_df.rename(columns = {\"Unnamed: 0\":\"Symbol\"}, inplace = True)"
   ]
  },
  {
   "cell_type": "code",
   "execution_count": 5,
   "id": "dae22ca6-6afa-4064-9b39-832f6ebac085",
   "metadata": {},
   "outputs": [],
   "source": [
    "cap_df = info_df.loc[:, ['Symbol', 'marketCap']]"
   ]
  },
  {
   "cell_type": "code",
   "execution_count": 6,
   "id": "5dce1503-7d92-4c28-8a7a-922f3744c429",
   "metadata": {},
   "outputs": [],
   "source": [
    "joined_df = pd.merge(am_stocks, cap_df, how = \"inner\")"
   ]
  },
  {
   "cell_type": "code",
   "execution_count": 15,
   "id": "7b81c834-47da-4a99-a264-1cf1ab33a16b",
   "metadata": {},
   "outputs": [
    {
     "data": {
      "text/html": [
       "<div>\n",
       "<style scoped>\n",
       "    .dataframe tbody tr th:only-of-type {\n",
       "        vertical-align: middle;\n",
       "    }\n",
       "\n",
       "    .dataframe tbody tr th {\n",
       "        vertical-align: top;\n",
       "    }\n",
       "\n",
       "    .dataframe thead th {\n",
       "        text-align: right;\n",
       "    }\n",
       "</style>\n",
       "<table border=\"1\" class=\"dataframe\">\n",
       "  <thead>\n",
       "    <tr style=\"text-align: right;\">\n",
       "      <th></th>\n",
       "      <th>Symbol</th>\n",
       "      <th>marketCap</th>\n",
       "    </tr>\n",
       "  </thead>\n",
       "  <tbody>\n",
       "    <tr>\n",
       "      <th>0</th>\n",
       "      <td>TSM</td>\n",
       "      <td>6.211272e+11</td>\n",
       "    </tr>\n",
       "    <tr>\n",
       "      <th>1</th>\n",
       "      <td>V</td>\n",
       "      <td>4.879828e+11</td>\n",
       "    </tr>\n",
       "    <tr>\n",
       "      <th>2</th>\n",
       "      <td>JPM</td>\n",
       "      <td>4.489458e+11</td>\n",
       "    </tr>\n",
       "    <tr>\n",
       "      <th>3</th>\n",
       "      <td>UNH</td>\n",
       "      <td>4.468141e+11</td>\n",
       "    </tr>\n",
       "    <tr>\n",
       "      <th>4</th>\n",
       "      <td>JNJ</td>\n",
       "      <td>4.359586e+11</td>\n",
       "    </tr>\n",
       "  </tbody>\n",
       "</table>\n",
       "</div>"
      ],
      "text/plain": [
       "  Symbol     marketCap\n",
       "0    TSM  6.211272e+11\n",
       "1      V  4.879828e+11\n",
       "2    JPM  4.489458e+11\n",
       "3    UNH  4.468141e+11\n",
       "4    JNJ  4.359586e+11"
      ]
     },
     "execution_count": 15,
     "metadata": {},
     "output_type": "execute_result"
    }
   ],
   "source": [
    "cap_df.head()"
   ]
  },
  {
   "cell_type": "code",
   "execution_count": 16,
   "id": "bee289de-1568-4fc1-93c0-71dfedc5d61a",
   "metadata": {},
   "outputs": [
    {
     "data": {
      "text/html": [
       "<div>\n",
       "<style scoped>\n",
       "    .dataframe tbody tr th:only-of-type {\n",
       "        vertical-align: middle;\n",
       "    }\n",
       "\n",
       "    .dataframe tbody tr th {\n",
       "        vertical-align: top;\n",
       "    }\n",
       "\n",
       "    .dataframe thead th {\n",
       "        text-align: right;\n",
       "    }\n",
       "</style>\n",
       "<table border=\"1\" class=\"dataframe\">\n",
       "  <thead>\n",
       "    <tr style=\"text-align: right;\">\n",
       "      <th></th>\n",
       "      <th>Symbol</th>\n",
       "      <th>Name</th>\n",
       "    </tr>\n",
       "  </thead>\n",
       "  <tbody>\n",
       "    <tr>\n",
       "      <th>0</th>\n",
       "      <td>NVDA</td>\n",
       "      <td>NVIDIA Corp</td>\n",
       "    </tr>\n",
       "    <tr>\n",
       "      <th>1</th>\n",
       "      <td>QCOM</td>\n",
       "      <td>Qualcomm Inc</td>\n",
       "    </tr>\n",
       "    <tr>\n",
       "      <th>2</th>\n",
       "      <td>NXPI</td>\n",
       "      <td>NXP Semiconductors NV</td>\n",
       "    </tr>\n",
       "    <tr>\n",
       "      <th>3</th>\n",
       "      <td>AMD</td>\n",
       "      <td>Advanced Micro Devices Inc</td>\n",
       "    </tr>\n",
       "    <tr>\n",
       "      <th>4</th>\n",
       "      <td>MRVL</td>\n",
       "      <td>Marvell Technology Inc</td>\n",
       "    </tr>\n",
       "  </tbody>\n",
       "</table>\n",
       "</div>"
      ],
      "text/plain": [
       "  Symbol                        Name\n",
       "0   NVDA                 NVIDIA Corp\n",
       "1   QCOM                Qualcomm Inc\n",
       "2   NXPI       NXP Semiconductors NV\n",
       "3    AMD  Advanced Micro Devices Inc\n",
       "4   MRVL      Marvell Technology Inc"
      ]
     },
     "execution_count": 16,
     "metadata": {},
     "output_type": "execute_result"
    }
   ],
   "source": [
    "am_stocks.head()"
   ]
  },
  {
   "cell_type": "code",
   "execution_count": 7,
   "id": "09b3bbfb-3240-4d11-b7ef-b8fb43088151",
   "metadata": {},
   "outputs": [
    {
     "data": {
      "text/html": [
       "<div>\n",
       "<style scoped>\n",
       "    .dataframe tbody tr th:only-of-type {\n",
       "        vertical-align: middle;\n",
       "    }\n",
       "\n",
       "    .dataframe tbody tr th {\n",
       "        vertical-align: top;\n",
       "    }\n",
       "\n",
       "    .dataframe thead th {\n",
       "        text-align: right;\n",
       "    }\n",
       "</style>\n",
       "<table border=\"1\" class=\"dataframe\">\n",
       "  <thead>\n",
       "    <tr style=\"text-align: right;\">\n",
       "      <th></th>\n",
       "      <th>Symbol</th>\n",
       "      <th>Name</th>\n",
       "      <th>marketCap</th>\n",
       "    </tr>\n",
       "  </thead>\n",
       "  <tbody>\n",
       "    <tr>\n",
       "      <th>0</th>\n",
       "      <td>NVDA</td>\n",
       "      <td>NVIDIA Corp</td>\n",
       "      <td>6.047336e+11</td>\n",
       "    </tr>\n",
       "    <tr>\n",
       "      <th>1</th>\n",
       "      <td>QCOM</td>\n",
       "      <td>Qualcomm Inc</td>\n",
       "      <td>1.849456e+11</td>\n",
       "    </tr>\n",
       "    <tr>\n",
       "      <th>2</th>\n",
       "      <td>NXPI</td>\n",
       "      <td>NXP Semiconductors NV</td>\n",
       "      <td>4.943163e+10</td>\n",
       "    </tr>\n",
       "    <tr>\n",
       "      <th>3</th>\n",
       "      <td>AMD</td>\n",
       "      <td>Advanced Micro Devices Inc</td>\n",
       "      <td>1.379936e+11</td>\n",
       "    </tr>\n",
       "    <tr>\n",
       "      <th>4</th>\n",
       "      <td>MRVL</td>\n",
       "      <td>Marvell Technology Inc</td>\n",
       "      <td>5.716745e+10</td>\n",
       "    </tr>\n",
       "  </tbody>\n",
       "</table>\n",
       "</div>"
      ],
      "text/plain": [
       "  Symbol                        Name     marketCap\n",
       "0   NVDA                 NVIDIA Corp  6.047336e+11\n",
       "1   QCOM                Qualcomm Inc  1.849456e+11\n",
       "2   NXPI       NXP Semiconductors NV  4.943163e+10\n",
       "3    AMD  Advanced Micro Devices Inc  1.379936e+11\n",
       "4   MRVL      Marvell Technology Inc  5.716745e+10"
      ]
     },
     "execution_count": 7,
     "metadata": {},
     "output_type": "execute_result"
    }
   ],
   "source": [
    "joined_df.head()"
   ]
  },
  {
   "cell_type": "code",
   "execution_count": 14,
   "id": "196fb0e1-af3f-4972-ad6d-c0d5a1e30b01",
   "metadata": {},
   "outputs": [
    {
     "data": {
      "text/html": [
       "<div>\n",
       "<style scoped>\n",
       "    .dataframe tbody tr th:only-of-type {\n",
       "        vertical-align: middle;\n",
       "    }\n",
       "\n",
       "    .dataframe tbody tr th {\n",
       "        vertical-align: top;\n",
       "    }\n",
       "\n",
       "    .dataframe thead th {\n",
       "        text-align: right;\n",
       "    }\n",
       "</style>\n",
       "<table border=\"1\" class=\"dataframe\">\n",
       "  <thead>\n",
       "    <tr style=\"text-align: right;\">\n",
       "      <th></th>\n",
       "      <th>etf.com_names</th>\n",
       "      <th>Ticker_names</th>\n",
       "      <th>investing_names</th>\n",
       "      <th>details</th>\n",
       "    </tr>\n",
       "  </thead>\n",
       "  <tbody>\n",
       "    <tr>\n",
       "      <th>0</th>\n",
       "      <td>10x Genomics Inc Class A</td>\n",
       "      <td>None</td>\n",
       "      <td>None</td>\n",
       "      <td>None</td>\n",
       "    </tr>\n",
       "    <tr>\n",
       "      <th>1</th>\n",
       "      <td>17 Education &amp; Technology Group, Inc. Unsponso...</td>\n",
       "      <td>YQ</td>\n",
       "      <td>17 Education Technology Group Inc</td>\n",
       "      <td>Stock - NASDAQ equities</td>\n",
       "    </tr>\n",
       "    <tr>\n",
       "      <th>2</th>\n",
       "      <td>1847 Goedeker Inc</td>\n",
       "      <td>None</td>\n",
       "      <td>None</td>\n",
       "      <td>None</td>\n",
       "    </tr>\n",
       "    <tr>\n",
       "      <th>3</th>\n",
       "      <td>1Life Healthcare, Inc.</td>\n",
       "      <td>None</td>\n",
       "      <td>None</td>\n",
       "      <td>None</td>\n",
       "    </tr>\n",
       "    <tr>\n",
       "      <th>4</th>\n",
       "      <td>1st Source Corporation</td>\n",
       "      <td>SRCE</td>\n",
       "      <td>1st Source Corporation</td>\n",
       "      <td>Stock - NASDAQ equities</td>\n",
       "    </tr>\n",
       "  </tbody>\n",
       "</table>\n",
       "</div>"
      ],
      "text/plain": [
       "                                       etf.com_names Ticker_names  \\\n",
       "0                           10x Genomics Inc Class A         None   \n",
       "1  17 Education & Technology Group, Inc. Unsponso...           YQ   \n",
       "2                                  1847 Goedeker Inc         None   \n",
       "3                             1Life Healthcare, Inc.         None   \n",
       "4                             1st Source Corporation         SRCE   \n",
       "\n",
       "                     investing_names                  details  \n",
       "0                               None                     None  \n",
       "1  17 Education Technology Group Inc  Stock - NASDAQ equities  \n",
       "2                               None                     None  \n",
       "3                               None                     None  \n",
       "4             1st Source Corporation  Stock - NASDAQ equities  "
      ]
     },
     "execution_count": 14,
     "metadata": {},
     "output_type": "execute_result"
    }
   ],
   "source": [
    "investing_df.head()"
   ]
  },
  {
   "cell_type": "code",
   "execution_count": 30,
   "id": "4521e800-582a-4842-bbd7-582ce6995b29",
   "metadata": {},
   "outputs": [],
   "source": [
    "# joined_df.to_csv(data_path + \"marketCap_joined_df.csv\", index = False)"
   ]
  },
  {
   "cell_type": "code",
   "execution_count": 8,
   "id": "c937fef2-3e87-4f01-910a-f453d70842ff",
   "metadata": {},
   "outputs": [],
   "source": [
    "final_df.drop_duplicates(inplace = True)"
   ]
  },
  {
   "cell_type": "code",
   "execution_count": 9,
   "id": "8f85ea65-3158-46bb-9b20-98e3cc0138c4",
   "metadata": {},
   "outputs": [],
   "source": [
    "# ticker별 최소 길이 stock names 탐색\n",
    "for idx, ticker in enumerate(final_df.Ticker.unique()):\n",
    "    temp_df = final_df.loc[final_df.Ticker == ticker]\n",
    "    len_list = np.array([len(x) for x in temp_df.stock_names])\n",
    "    min_idx = np.argmin(len_list)\n",
    "    \n",
    "    if idx == 0:\n",
    "        output_df = pd.DataFrame(temp_df.iloc[min_idx,:]).T\n",
    "    else:\n",
    "        output_df = output_df.append(pd.DataFrame(temp_df.iloc[min_idx,:]).T)"
   ]
  },
  {
   "cell_type": "code",
   "execution_count": 83,
   "id": "fcb6dc3d-e09a-4e45-bee0-3f1c4936168d",
   "metadata": {},
   "outputs": [],
   "source": [
    "# output_df.to_csv(data_path + \"ticker_stocks_df.csv\", index = False)"
   ]
  },
  {
   "cell_type": "code",
   "execution_count": 11,
   "id": "22de4824-3fb3-46a0-af31-1aa72081e6c2",
   "metadata": {},
   "outputs": [],
   "source": [
    "output_df = pd.read_csv(data_path + \"ticker_stocks_df.csv\")"
   ]
  },
  {
   "cell_type": "code",
   "execution_count": 12,
   "id": "d8385afc-c3b1-4855-b684-4b6c4b31c2ac",
   "metadata": {},
   "outputs": [],
   "source": [
    "temp_df = pd.merge(cap_df, output_df.loc[:, ['Ticker', \"stock_names\"]], left_on = 'Symbol', right_on = 'Ticker', how = \"inner\")\n",
    "\n",
    "del temp_df['Ticker']\n",
    "\n",
    "temp_df = temp_df.loc[:, ['Symbol', 'stock_names', 'marketCap']]\n",
    "theme_df = pd.merge(etf_niche, temp_df, on = \"stock_names\", how = \"outer\")\n",
    "theme_df = theme_df.loc[:, ['Theme', 'Symbol', 'stock_names', 'etf_names', 'marketCap']]"
   ]
  },
  {
   "cell_type": "code",
   "execution_count": 13,
   "id": "c8837f91-46eb-4b8c-ab99-184295bb363b",
   "metadata": {},
   "outputs": [
    {
     "data": {
      "text/html": [
       "<div>\n",
       "<style scoped>\n",
       "    .dataframe tbody tr th:only-of-type {\n",
       "        vertical-align: middle;\n",
       "    }\n",
       "\n",
       "    .dataframe tbody tr th {\n",
       "        vertical-align: top;\n",
       "    }\n",
       "\n",
       "    .dataframe thead th {\n",
       "        text-align: right;\n",
       "    }\n",
       "</style>\n",
       "<table border=\"1\" class=\"dataframe\">\n",
       "  <thead>\n",
       "    <tr style=\"text-align: right;\">\n",
       "      <th></th>\n",
       "      <th>Theme</th>\n",
       "      <th>Symbol</th>\n",
       "      <th>stock_names</th>\n",
       "      <th>etf_names</th>\n",
       "      <th>marketCap</th>\n",
       "    </tr>\n",
       "  </thead>\n",
       "  <tbody>\n",
       "    <tr>\n",
       "      <th>0</th>\n",
       "      <td>5G</td>\n",
       "      <td>NVDA</td>\n",
       "      <td>NVIDIA Corporation</td>\n",
       "      <td>4</td>\n",
       "      <td>6.047336e+11</td>\n",
       "    </tr>\n",
       "    <tr>\n",
       "      <th>1</th>\n",
       "      <td>Agriculture</td>\n",
       "      <td>NVDA</td>\n",
       "      <td>NVIDIA Corporation</td>\n",
       "      <td>1</td>\n",
       "      <td>6.047336e+11</td>\n",
       "    </tr>\n",
       "    <tr>\n",
       "      <th>2</th>\n",
       "      <td>Blockchain</td>\n",
       "      <td>NVDA</td>\n",
       "      <td>NVIDIA Corporation</td>\n",
       "      <td>5</td>\n",
       "      <td>6.047336e+11</td>\n",
       "    </tr>\n",
       "    <tr>\n",
       "      <th>3</th>\n",
       "      <td>Broad Technology</td>\n",
       "      <td>NVDA</td>\n",
       "      <td>NVIDIA Corporation</td>\n",
       "      <td>3</td>\n",
       "      <td>6.047336e+11</td>\n",
       "    </tr>\n",
       "    <tr>\n",
       "      <th>4</th>\n",
       "      <td>Broad Thematic</td>\n",
       "      <td>NVDA</td>\n",
       "      <td>NVIDIA Corporation</td>\n",
       "      <td>11</td>\n",
       "      <td>6.047336e+11</td>\n",
       "    </tr>\n",
       "  </tbody>\n",
       "</table>\n",
       "</div>"
      ],
      "text/plain": [
       "              Theme Symbol         stock_names  etf_names     marketCap\n",
       "0                5G   NVDA  NVIDIA Corporation          4  6.047336e+11\n",
       "1       Agriculture   NVDA  NVIDIA Corporation          1  6.047336e+11\n",
       "2        Blockchain   NVDA  NVIDIA Corporation          5  6.047336e+11\n",
       "3  Broad Technology   NVDA  NVIDIA Corporation          3  6.047336e+11\n",
       "4    Broad Thematic   NVDA  NVIDIA Corporation         11  6.047336e+11"
      ]
     },
     "execution_count": 13,
     "metadata": {},
     "output_type": "execute_result"
    }
   ],
   "source": [
    "theme_df.head()"
   ]
  },
  {
   "cell_type": "code",
   "execution_count": 105,
   "id": "b22b433d-c8b8-4c85-ab08-6d0ca87bc23c",
   "metadata": {},
   "outputs": [],
   "source": [
    "# 최종 데이터 합본\n",
    "for idx, theme in enumerate(theme_df.Theme.unique()):\n",
    "    temp_df2 = theme_df.loc[theme_df.Theme == theme, :]\n",
    "    \n",
    "    if idx == 0:\n",
    "        final_df2 = temp_df2.sort_values(\"etf_names\", ascending = False)\n",
    "    else:\n",
    "        final_df2 = final_df2.append(temp_df2.sort_values(\"etf_names\", ascending = False))"
   ]
  },
  {
   "cell_type": "code",
   "execution_count": 114,
   "id": "6d234852-03a5-4a6d-ad70-443262579304",
   "metadata": {},
   "outputs": [],
   "source": [
    "final_df2.rename(columns = {\"etf_names\":\"cnts\"}, inplace = True)\n",
    "# final_df2.to_csv(data_path + \"etf_niche_grouped_df2.csv\", index = False)"
   ]
  },
  {
   "cell_type": "code",
   "execution_count": 27,
   "id": "ae0d033f-4b8a-4af7-8a52-daa5118402d6",
   "metadata": {},
   "outputs": [],
   "source": [
    "final_df2 = pd.read_csv(data_path + \"etf_niche_grouped_df2.csv\")"
   ]
  },
  {
   "cell_type": "code",
   "execution_count": null,
   "id": "44fbdefe-eee5-4189-b5d4-8e6a39fde475",
   "metadata": {},
   "outputs": [],
   "source": []
  },
  {
   "cell_type": "markdown",
   "id": "87c717c6-aa87-4831-b3f7-c40bbfce0d3a",
   "metadata": {},
   "source": [
    "* ticker 삽입"
   ]
  },
  {
   "cell_type": "code",
   "execution_count": 34,
   "id": "edc14c04-4df3-44e4-a53d-11e072ba8db0",
   "metadata": {},
   "outputs": [],
   "source": [
    "nan_stocks = final_df2.loc[final_df2.Symbol.isnull(),:].stock_names.unique()"
   ]
  },
  {
   "cell_type": "code",
   "execution_count": 35,
   "id": "3f9f3fad-ebe2-43a3-9e57-5c88093dfe83",
   "metadata": {},
   "outputs": [],
   "source": [
    "y = \"Amazon.com, Inc.\""
   ]
  },
  {
   "cell_type": "code",
   "execution_count": 40,
   "id": "a76f7395-74c7-4a23-8c4d-d7683c06cc72",
   "metadata": {},
   "outputs": [],
   "source": [
    "def find_ticker(y):\n",
    "    global investing_df\n",
    "    \n",
    "    try:\n",
    "        return investing_df.loc[investing_df['etf.com_names'] == y,'Ticker_names'].values[0]\n",
    "    except:\n",
    "        return np.nan"
   ]
  },
  {
   "cell_type": "code",
   "execution_count": 45,
   "id": "0d56275b-69ee-4f9e-b5c7-f8a45477ce1c",
   "metadata": {},
   "outputs": [
    {
     "data": {
      "text/plain": [
       "'None'"
      ]
     },
     "execution_count": 45,
     "metadata": {},
     "output_type": "execute_result"
    }
   ],
   "source": [
    "find_ticker('VMware, Inc. Class A')"
   ]
  },
  {
   "cell_type": "code",
   "execution_count": 47,
   "id": "2afb3e3b-f052-416a-83c8-a26122659b84",
   "metadata": {},
   "outputs": [
    {
     "data": {
      "text/html": [
       "<div>\n",
       "<style scoped>\n",
       "    .dataframe tbody tr th:only-of-type {\n",
       "        vertical-align: middle;\n",
       "    }\n",
       "\n",
       "    .dataframe tbody tr th {\n",
       "        vertical-align: top;\n",
       "    }\n",
       "\n",
       "    .dataframe thead th {\n",
       "        text-align: right;\n",
       "    }\n",
       "</style>\n",
       "<table border=\"1\" class=\"dataframe\">\n",
       "  <thead>\n",
       "    <tr style=\"text-align: right;\">\n",
       "      <th></th>\n",
       "      <th>etf.com_names</th>\n",
       "      <th>Ticker_names</th>\n",
       "      <th>investing_names</th>\n",
       "      <th>details</th>\n",
       "    </tr>\n",
       "  </thead>\n",
       "  <tbody>\n",
       "    <tr>\n",
       "      <th>9351</th>\n",
       "      <td>VMware, Inc. Class A</td>\n",
       "      <td>None</td>\n",
       "      <td>None</td>\n",
       "      <td>None</td>\n",
       "    </tr>\n",
       "  </tbody>\n",
       "</table>\n",
       "</div>"
      ],
      "text/plain": [
       "             etf.com_names Ticker_names investing_names details\n",
       "9351  VMware, Inc. Class A         None            None    None"
      ]
     },
     "execution_count": 47,
     "metadata": {},
     "output_type": "execute_result"
    }
   ],
   "source": [
    "investing_df.loc[investing_df['etf.com_names'] == \"VMware, Inc. Class A\"]"
   ]
  },
  {
   "cell_type": "code",
   "execution_count": 43,
   "id": "1630ce5e-8f73-4ade-9683-441ca98bd8d5",
   "metadata": {},
   "outputs": [],
   "source": [
    "mapping_dict = {x:find_ticker(x) for x in nan_stocks}"
   ]
  },
  {
   "cell_type": "code",
   "execution_count": 58,
   "id": "7020469f-2d62-4440-a7a3-4094aa97975f",
   "metadata": {},
   "outputs": [],
   "source": [
    "ticker_list = [mapping_dict[x] if mapping_dict[x] != \"None\" else np.nan for x in final_df2.loc[final_df2.Symbol.isnull(),:].stock_names]"
   ]
  },
  {
   "cell_type": "code",
   "execution_count": 63,
   "id": "6fdce1e0-031b-4924-92ae-5acc998cd721",
   "metadata": {},
   "outputs": [],
   "source": [
    "final_df2.loc[final_df2.Symbol.isnull(),'Symbol'] = ticker_list"
   ]
  },
  {
   "cell_type": "code",
   "execution_count": 65,
   "id": "abd6afbb-fced-45b6-8c80-4e471d1cdc2e",
   "metadata": {},
   "outputs": [
    {
     "data": {
      "text/html": [
       "<div>\n",
       "<style scoped>\n",
       "    .dataframe tbody tr th:only-of-type {\n",
       "        vertical-align: middle;\n",
       "    }\n",
       "\n",
       "    .dataframe tbody tr th {\n",
       "        vertical-align: top;\n",
       "    }\n",
       "\n",
       "    .dataframe thead th {\n",
       "        text-align: right;\n",
       "    }\n",
       "</style>\n",
       "<table border=\"1\" class=\"dataframe\">\n",
       "  <thead>\n",
       "    <tr style=\"text-align: right;\">\n",
       "      <th></th>\n",
       "      <th>Theme</th>\n",
       "      <th>Symbol</th>\n",
       "      <th>stock_names</th>\n",
       "      <th>cnts</th>\n",
       "      <th>marketCap</th>\n",
       "    </tr>\n",
       "  </thead>\n",
       "  <tbody>\n",
       "    <tr>\n",
       "      <th>0</th>\n",
       "      <td>5G</td>\n",
       "      <td>NVDA</td>\n",
       "      <td>NVIDIA Corporation</td>\n",
       "      <td>4</td>\n",
       "      <td>6.047336e+11</td>\n",
       "    </tr>\n",
       "    <tr>\n",
       "      <th>1</th>\n",
       "      <td>5G</td>\n",
       "      <td>NXPI</td>\n",
       "      <td>NXP Semiconductors NV</td>\n",
       "      <td>3</td>\n",
       "      <td>4.943163e+10</td>\n",
       "    </tr>\n",
       "    <tr>\n",
       "      <th>2</th>\n",
       "      <td>5G</td>\n",
       "      <td>AMD</td>\n",
       "      <td>Advanced Micro Devices, Inc.</td>\n",
       "      <td>3</td>\n",
       "      <td>1.379936e+11</td>\n",
       "    </tr>\n",
       "    <tr>\n",
       "      <th>3</th>\n",
       "      <td>5G</td>\n",
       "      <td>MRVL</td>\n",
       "      <td>Marvell Technology, Inc.</td>\n",
       "      <td>3</td>\n",
       "      <td>5.716745e+10</td>\n",
       "    </tr>\n",
       "    <tr>\n",
       "      <th>4</th>\n",
       "      <td>5G</td>\n",
       "      <td>AMZN</td>\n",
       "      <td>Amazon.com, Inc.</td>\n",
       "      <td>3</td>\n",
       "      <td>NaN</td>\n",
       "    </tr>\n",
       "    <tr>\n",
       "      <th>5</th>\n",
       "      <td>5G</td>\n",
       "      <td>AAPL</td>\n",
       "      <td>Apple Inc.</td>\n",
       "      <td>3</td>\n",
       "      <td>2.770713e+12</td>\n",
       "    </tr>\n",
       "    <tr>\n",
       "      <th>6</th>\n",
       "      <td>5G</td>\n",
       "      <td>QCOM</td>\n",
       "      <td>Qualcomm Inc</td>\n",
       "      <td>3</td>\n",
       "      <td>1.849456e+11</td>\n",
       "    </tr>\n",
       "    <tr>\n",
       "      <th>7</th>\n",
       "      <td>5G</td>\n",
       "      <td>ADI</td>\n",
       "      <td>Analog Devices, Inc.</td>\n",
       "      <td>2</td>\n",
       "      <td>NaN</td>\n",
       "    </tr>\n",
       "    <tr>\n",
       "      <th>8</th>\n",
       "      <td>5G</td>\n",
       "      <td>MDTKF</td>\n",
       "      <td>MediaTek Inc</td>\n",
       "      <td>2</td>\n",
       "      <td>NaN</td>\n",
       "    </tr>\n",
       "    <tr>\n",
       "      <th>9</th>\n",
       "      <td>5G</td>\n",
       "      <td>FB</td>\n",
       "      <td>Meta Platforms Inc. Class A</td>\n",
       "      <td>2</td>\n",
       "      <td>6.055891e+11</td>\n",
       "    </tr>\n",
       "  </tbody>\n",
       "</table>\n",
       "</div>"
      ],
      "text/plain": [
       "  Theme Symbol                   stock_names  cnts     marketCap\n",
       "0    5G   NVDA            NVIDIA Corporation     4  6.047336e+11\n",
       "1    5G   NXPI         NXP Semiconductors NV     3  4.943163e+10\n",
       "2    5G    AMD  Advanced Micro Devices, Inc.     3  1.379936e+11\n",
       "3    5G   MRVL      Marvell Technology, Inc.     3  5.716745e+10\n",
       "4    5G   AMZN              Amazon.com, Inc.     3           NaN\n",
       "5    5G   AAPL                    Apple Inc.     3  2.770713e+12\n",
       "6    5G   QCOM                  Qualcomm Inc     3  1.849456e+11\n",
       "7    5G    ADI          Analog Devices, Inc.     2           NaN\n",
       "8    5G  MDTKF                  MediaTek Inc     2           NaN\n",
       "9    5G     FB   Meta Platforms Inc. Class A     2  6.055891e+11"
      ]
     },
     "execution_count": 65,
     "metadata": {},
     "output_type": "execute_result"
    }
   ],
   "source": [
    "final_df2.head(10)"
   ]
  },
  {
   "cell_type": "code",
   "execution_count": null,
   "id": "6c0843f6-458d-445e-bf8b-68b50b1675b6",
   "metadata": {},
   "outputs": [],
   "source": []
  },
  {
   "cell_type": "code",
   "execution_count": 68,
   "id": "4e51d3a8-aae9-4b23-9fbf-35c3f236afbc",
   "metadata": {},
   "outputs": [],
   "source": [
    "final_df3 = pd.merge(final_df2.loc[:, ['Theme', 'Symbol', 'stock_names', 'cnts']], cap_df, on = 'Symbol', how = \"left\")"
   ]
  },
  {
   "cell_type": "code",
   "execution_count": 75,
   "id": "358fb47f-5af0-49f8-abf5-908f4b694624",
   "metadata": {},
   "outputs": [],
   "source": [
    "select_idx = [False if x or y else True for x,y in zip(final_df3.Symbol.isnull(), final_df3.marketCap.isnull())]"
   ]
  },
  {
   "cell_type": "code",
   "execution_count": 77,
   "id": "c0a1152c-f97c-4928-9671-f8e5d0883656",
   "metadata": {},
   "outputs": [],
   "source": [
    "final_df3.loc[select_idx,:].to_csv(\"matched_df.csv\", index = False)"
   ]
  },
  {
   "cell_type": "code",
   "execution_count": 81,
   "id": "7d1bbe9a-75e0-4fb7-942f-3443e4c748ee",
   "metadata": {},
   "outputs": [],
   "source": [
    "final_df4 = final_df3.loc[select_idx,:]"
   ]
  },
  {
   "cell_type": "code",
   "execution_count": 82,
   "id": "7ba0f877-0582-4c4a-9b47-caa7234bc425",
   "metadata": {},
   "outputs": [],
   "source": [
    "final_df4.index = [x for x in range(final_df4.shape[0])]"
   ]
  },
  {
   "cell_type": "code",
   "execution_count": 83,
   "id": "8fd8af3f-d439-4cba-8c57-7360987628ce",
   "metadata": {},
   "outputs": [
    {
     "data": {
      "text/html": [
       "<div>\n",
       "<style scoped>\n",
       "    .dataframe tbody tr th:only-of-type {\n",
       "        vertical-align: middle;\n",
       "    }\n",
       "\n",
       "    .dataframe tbody tr th {\n",
       "        vertical-align: top;\n",
       "    }\n",
       "\n",
       "    .dataframe thead th {\n",
       "        text-align: right;\n",
       "    }\n",
       "</style>\n",
       "<table border=\"1\" class=\"dataframe\">\n",
       "  <thead>\n",
       "    <tr style=\"text-align: right;\">\n",
       "      <th></th>\n",
       "      <th>Theme</th>\n",
       "      <th>Symbol</th>\n",
       "      <th>stock_names</th>\n",
       "      <th>cnts</th>\n",
       "      <th>marketCap</th>\n",
       "    </tr>\n",
       "  </thead>\n",
       "  <tbody>\n",
       "    <tr>\n",
       "      <th>0</th>\n",
       "      <td>5G</td>\n",
       "      <td>NVDA</td>\n",
       "      <td>NVIDIA Corporation</td>\n",
       "      <td>4</td>\n",
       "      <td>6.047336e+11</td>\n",
       "    </tr>\n",
       "    <tr>\n",
       "      <th>1</th>\n",
       "      <td>5G</td>\n",
       "      <td>NXPI</td>\n",
       "      <td>NXP Semiconductors NV</td>\n",
       "      <td>3</td>\n",
       "      <td>4.943163e+10</td>\n",
       "    </tr>\n",
       "    <tr>\n",
       "      <th>2</th>\n",
       "      <td>5G</td>\n",
       "      <td>AMD</td>\n",
       "      <td>Advanced Micro Devices, Inc.</td>\n",
       "      <td>3</td>\n",
       "      <td>1.379936e+11</td>\n",
       "    </tr>\n",
       "    <tr>\n",
       "      <th>3</th>\n",
       "      <td>5G</td>\n",
       "      <td>MRVL</td>\n",
       "      <td>Marvell Technology, Inc.</td>\n",
       "      <td>3</td>\n",
       "      <td>5.716745e+10</td>\n",
       "    </tr>\n",
       "    <tr>\n",
       "      <th>4</th>\n",
       "      <td>5G</td>\n",
       "      <td>AMZN</td>\n",
       "      <td>Amazon.com, Inc.</td>\n",
       "      <td>3</td>\n",
       "      <td>1.573853e+12</td>\n",
       "    </tr>\n",
       "  </tbody>\n",
       "</table>\n",
       "</div>"
      ],
      "text/plain": [
       "  Theme Symbol                   stock_names  cnts     marketCap\n",
       "0    5G   NVDA            NVIDIA Corporation     4  6.047336e+11\n",
       "1    5G   NXPI         NXP Semiconductors NV     3  4.943163e+10\n",
       "2    5G    AMD  Advanced Micro Devices, Inc.     3  1.379936e+11\n",
       "3    5G   MRVL      Marvell Technology, Inc.     3  5.716745e+10\n",
       "4    5G   AMZN              Amazon.com, Inc.     3  1.573853e+12"
      ]
     },
     "execution_count": 83,
     "metadata": {},
     "output_type": "execute_result"
    }
   ],
   "source": [
    "final_df4.head()"
   ]
  },
  {
   "cell_type": "code",
   "execution_count": null,
   "id": "698a5f4b-2978-4805-80ac-6d21d6d813d7",
   "metadata": {},
   "outputs": [],
   "source": []
  },
  {
   "cell_type": "markdown",
   "id": "76a3b072-e79a-4372-8de3-d1c3b1854599",
   "metadata": {},
   "source": [
    "* 빈도순 정렬"
   ]
  },
  {
   "cell_type": "code",
   "execution_count": 85,
   "id": "5cfed26a-4636-42ea-81bd-bbe13d402740",
   "metadata": {},
   "outputs": [],
   "source": [
    "loop_theme = final_df4.Theme.unique()"
   ]
  },
  {
   "cell_type": "code",
   "execution_count": 90,
   "id": "cfe6a15d-d42d-48bf-adeb-1695962231bf",
   "metadata": {},
   "outputs": [],
   "source": [
    "for idx, theme in enumerate(loop_theme):\n",
    "    if idx == 0:\n",
    "        cnts_df = final_df4.loc[final_df4.Theme == theme].sort_values(\"cnts\", ascending = False)\n",
    "    else:\n",
    "        cnts_df = cnts_df.append(final_df4.loc[final_df4.Theme == theme].sort_values(\"cnts\", ascending = False))"
   ]
  },
  {
   "cell_type": "code",
   "execution_count": 96,
   "id": "acd9e1cb-a2b0-4368-8e14-13c3dd8b9fb5",
   "metadata": {},
   "outputs": [],
   "source": [
    "cnts_df.to_csv(data_path + \"ordered_by_cnts.csv\", index = False)"
   ]
  },
  {
   "cell_type": "code",
   "execution_count": null,
   "id": "7123e9a5-b444-4efc-9771-163f68de4fd0",
   "metadata": {},
   "outputs": [],
   "source": []
  },
  {
   "cell_type": "markdown",
   "id": "b04d70d5-673c-487b-bfac-4e922154acce",
   "metadata": {},
   "source": [
    "* 시총순 정렬"
   ]
  },
  {
   "cell_type": "code",
   "execution_count": 93,
   "id": "7cb1effb-e73d-47ed-b63b-df74b7826864",
   "metadata": {},
   "outputs": [],
   "source": [
    "for idx, theme in enumerate(loop_theme):\n",
    "    if idx == 0:\n",
    "        market_order_df = final_df4.loc[final_df4.Theme == theme].sort_values(\"marketCap\", ascending = False)\n",
    "    else:\n",
    "        market_order_df = market_order_df.append(final_df4.loc[final_df4.Theme == theme].sort_values(\"marketCap\", ascending = False))"
   ]
  },
  {
   "cell_type": "code",
   "execution_count": 97,
   "id": "f5673440-d1ce-4027-87a8-e6bcc0fc26e9",
   "metadata": {},
   "outputs": [],
   "source": [
    "market_order_df.to_csv(data_path + \"ordered_by_marketCap.csv\", index = False)"
   ]
  },
  {
   "cell_type": "code",
   "execution_count": null,
   "id": "7dafee53-04df-43a1-968b-3e415af54aaf",
   "metadata": {},
   "outputs": [],
   "source": []
  },
  {
   "cell_type": "markdown",
   "id": "fcecd78d-ef3e-4814-949f-89e4cf26c873",
   "metadata": {},
   "source": [
    "* 통합 정렬"
   ]
  },
  {
   "cell_type": "code",
   "execution_count": 110,
   "id": "612189ac-e7e1-4f27-b6fb-1f3fbd9e3cbc",
   "metadata": {},
   "outputs": [],
   "source": [
    "cnts_rank = []\n",
    "caps_rank = []\n",
    "for idx, theme in enumerate(loop_theme):\n",
    "    cnts_rank.extend(list(final_df4.loc[final_df4.Theme == theme]['cnts'].rank(ascending=False, method = \"min\")))\n",
    "    caps_rank.extend(list(final_df4.loc[final_df4.Theme == theme]['marketCap'].rank(ascending=False, method = \"min\")))"
   ]
  },
  {
   "cell_type": "code",
   "execution_count": 113,
   "id": "6a074b9c-c468-4e15-9af9-a18de7f218fa",
   "metadata": {},
   "outputs": [
    {
     "name": "stderr",
     "output_type": "stream",
     "text": [
      "<ipython-input-113-2d7ee2b8e57c>:1: SettingWithCopyWarning: \n",
      "A value is trying to be set on a copy of a slice from a DataFrame.\n",
      "Try using .loc[row_indexer,col_indexer] = value instead\n",
      "\n",
      "See the caveats in the documentation: https://pandas.pydata.org/pandas-docs/stable/user_guide/indexing.html#returning-a-view-versus-a-copy\n",
      "  final_df4['cnts_rank'] = cnts_rank\n",
      "<ipython-input-113-2d7ee2b8e57c>:2: SettingWithCopyWarning: \n",
      "A value is trying to be set on a copy of a slice from a DataFrame.\n",
      "Try using .loc[row_indexer,col_indexer] = value instead\n",
      "\n",
      "See the caveats in the documentation: https://pandas.pydata.org/pandas-docs/stable/user_guide/indexing.html#returning-a-view-versus-a-copy\n",
      "  final_df4['caps_rank'] = caps_rank\n"
     ]
    }
   ],
   "source": [
    "final_df4['cnts_rank'] = cnts_rank\n",
    "final_df4['caps_rank'] = caps_rank"
   ]
  },
  {
   "cell_type": "code",
   "execution_count": 115,
   "id": "74bfbdd0-21b4-48fd-8fc7-151c36b8f39d",
   "metadata": {},
   "outputs": [
    {
     "name": "stderr",
     "output_type": "stream",
     "text": [
      "<ipython-input-115-d31d57bcd899>:1: SettingWithCopyWarning: \n",
      "A value is trying to be set on a copy of a slice from a DataFrame.\n",
      "Try using .loc[row_indexer,col_indexer] = value instead\n",
      "\n",
      "See the caveats in the documentation: https://pandas.pydata.org/pandas-docs/stable/user_guide/indexing.html#returning-a-view-versus-a-copy\n",
      "  final_df4['total_rank'] = (final_df4['cnts_rank'] + final_df4['caps_rank'])/2\n"
     ]
    }
   ],
   "source": [
    "final_df4['total_rank'] = (final_df4['cnts_rank'] + final_df4['caps_rank'])/2"
   ]
  },
  {
   "cell_type": "code",
   "execution_count": 120,
   "id": "26810080-abf3-46a3-9479-9968e8c5713d",
   "metadata": {},
   "outputs": [],
   "source": [
    "for idx, theme in enumerate(loop_theme):\n",
    "    if idx == 0:\n",
    "        tot_order_df = final_df4.loc[final_df4.Theme == theme].sort_values(\"total_rank\")\n",
    "    else:\n",
    "        tot_order_df = tot_order_df.append(final_df4.loc[final_df4.Theme == theme].sort_values(\"total_rank\"))"
   ]
  },
  {
   "cell_type": "code",
   "execution_count": 121,
   "id": "7c4d8242-963f-490d-9a02-f10200a2c067",
   "metadata": {},
   "outputs": [
    {
     "data": {
      "text/html": [
       "<div>\n",
       "<style scoped>\n",
       "    .dataframe tbody tr th:only-of-type {\n",
       "        vertical-align: middle;\n",
       "    }\n",
       "\n",
       "    .dataframe tbody tr th {\n",
       "        vertical-align: top;\n",
       "    }\n",
       "\n",
       "    .dataframe thead th {\n",
       "        text-align: right;\n",
       "    }\n",
       "</style>\n",
       "<table border=\"1\" class=\"dataframe\">\n",
       "  <thead>\n",
       "    <tr style=\"text-align: right;\">\n",
       "      <th></th>\n",
       "      <th>Theme</th>\n",
       "      <th>Symbol</th>\n",
       "      <th>stock_names</th>\n",
       "      <th>cnts</th>\n",
       "      <th>marketCap</th>\n",
       "      <th>cnts_rank</th>\n",
       "      <th>caps_rank</th>\n",
       "      <th>total_rank</th>\n",
       "    </tr>\n",
       "  </thead>\n",
       "  <tbody>\n",
       "    <tr>\n",
       "      <th>5</th>\n",
       "      <td>5G</td>\n",
       "      <td>AAPL</td>\n",
       "      <td>Apple Inc.</td>\n",
       "      <td>3</td>\n",
       "      <td>2.770713e+12</td>\n",
       "      <td>2.0</td>\n",
       "      <td>1.0</td>\n",
       "      <td>1.5</td>\n",
       "    </tr>\n",
       "    <tr>\n",
       "      <th>4</th>\n",
       "      <td>5G</td>\n",
       "      <td>AMZN</td>\n",
       "      <td>Amazon.com, Inc.</td>\n",
       "      <td>3</td>\n",
       "      <td>1.573853e+12</td>\n",
       "      <td>2.0</td>\n",
       "      <td>4.0</td>\n",
       "      <td>3.0</td>\n",
       "    </tr>\n",
       "    <tr>\n",
       "      <th>0</th>\n",
       "      <td>5G</td>\n",
       "      <td>NVDA</td>\n",
       "      <td>NVIDIA Corporation</td>\n",
       "      <td>4</td>\n",
       "      <td>6.047336e+11</td>\n",
       "      <td>1.0</td>\n",
       "      <td>8.0</td>\n",
       "      <td>4.5</td>\n",
       "    </tr>\n",
       "    <tr>\n",
       "      <th>6</th>\n",
       "      <td>5G</td>\n",
       "      <td>QCOM</td>\n",
       "      <td>Qualcomm Inc</td>\n",
       "      <td>3</td>\n",
       "      <td>1.849456e+11</td>\n",
       "      <td>2.0</td>\n",
       "      <td>13.0</td>\n",
       "      <td>7.5</td>\n",
       "    </tr>\n",
       "    <tr>\n",
       "      <th>8</th>\n",
       "      <td>5G</td>\n",
       "      <td>FB</td>\n",
       "      <td>Meta Platforms Inc. Class A</td>\n",
       "      <td>2</td>\n",
       "      <td>6.055891e+11</td>\n",
       "      <td>8.0</td>\n",
       "      <td>7.0</td>\n",
       "      <td>7.5</td>\n",
       "    </tr>\n",
       "  </tbody>\n",
       "</table>\n",
       "</div>"
      ],
      "text/plain": [
       "  Theme Symbol                  stock_names  cnts     marketCap  cnts_rank  \\\n",
       "5    5G   AAPL                   Apple Inc.     3  2.770713e+12        2.0   \n",
       "4    5G   AMZN             Amazon.com, Inc.     3  1.573853e+12        2.0   \n",
       "0    5G   NVDA           NVIDIA Corporation     4  6.047336e+11        1.0   \n",
       "6    5G   QCOM                 Qualcomm Inc     3  1.849456e+11        2.0   \n",
       "8    5G     FB  Meta Platforms Inc. Class A     2  6.055891e+11        8.0   \n",
       "\n",
       "   caps_rank  total_rank  \n",
       "5        1.0         1.5  \n",
       "4        4.0         3.0  \n",
       "0        8.0         4.5  \n",
       "6       13.0         7.5  \n",
       "8        7.0         7.5  "
      ]
     },
     "execution_count": 121,
     "metadata": {},
     "output_type": "execute_result"
    }
   ],
   "source": [
    "tot_order_df.head()"
   ]
  },
  {
   "cell_type": "code",
   "execution_count": 122,
   "id": "2e1e3606-a92c-4914-9668-3ccbc712badc",
   "metadata": {},
   "outputs": [],
   "source": [
    "tot_order_df.to_csv(data_path + \"ordered_by_mean_ranks.csv\", index = False)"
   ]
  },
  {
   "cell_type": "code",
   "execution_count": null,
   "id": "adcd47c2-b8c7-4b30-8046-4b2eabaa5e9a",
   "metadata": {},
   "outputs": [],
   "source": []
  },
  {
   "cell_type": "markdown",
   "id": "bd5e8cfa-9b42-49cd-a5e9-23ac608f3595",
   "metadata": {},
   "source": [
    "* stocks namees.npy 추출"
   ]
  },
  {
   "cell_type": "code",
   "execution_count": 173,
   "id": "514d3c24-053a-4458-b4b1-f9ded3aba309",
   "metadata": {},
   "outputs": [],
   "source": [
    "import re"
   ]
  },
  {
   "cell_type": "code",
   "execution_count": 233,
   "id": "0901bab7-f27b-4ef9-bb7d-cebd9ad90388",
   "metadata": {},
   "outputs": [],
   "source": [
    "unique_list = final_df2.stock_names.unique()"
   ]
  },
  {
   "cell_type": "code",
   "execution_count": 234,
   "id": "06c24e76-1da0-44a3-8f10-966671bf589c",
   "metadata": {},
   "outputs": [],
   "source": [
    "after_list = [x for x in unique_list if ('-' not in x) and ('%' not in x)]"
   ]
  },
  {
   "cell_type": "code",
   "execution_count": 229,
   "id": "6dc21b8d-bbb4-43fb-93ba-49077975d7b2",
   "metadata": {},
   "outputs": [],
   "source": [
    "after_list = [re.sub(\" Class A\", \"\", x) for x in np.unique(after_list)]"
   ]
  },
  {
   "cell_type": "code",
   "execution_count": 230,
   "id": "8cc07c18-e73a-4abd-ae60-a4b4a0a33863",
   "metadata": {},
   "outputs": [],
   "source": [
    "after_list = [re.sub(\" Class B\", \"\", x) for x in np.unique(after_list)]"
   ]
  },
  {
   "cell_type": "code",
   "execution_count": 236,
   "id": "0fab6f6f-9e30-41f7-b624-f56447485e16",
   "metadata": {},
   "outputs": [],
   "source": [
    "np.save(data_path + \"stock_names.npy\",np.unique(after_list))"
   ]
  },
  {
   "cell_type": "code",
   "execution_count": 232,
   "id": "e257aa90-eeae-46d5-819f-0ffa3726998f",
   "metadata": {},
   "outputs": [
    {
     "data": {
      "text/plain": [
       "(10055,)"
      ]
     },
     "execution_count": 232,
     "metadata": {},
     "output_type": "execute_result"
    }
   ],
   "source": [
    "np.unique(after_list).shape"
   ]
  },
  {
   "cell_type": "code",
   "execution_count": 157,
   "id": "5a503b87-44b4-42a5-9971-646bd4da345e",
   "metadata": {},
   "outputs": [],
   "source": [
    "change_dict = {}"
   ]
  },
  {
   "cell_type": "code",
   "execution_count": 159,
   "id": "ebe008f4-6847-461e-a3d8-64bb96e3b52c",
   "metadata": {},
   "outputs": [],
   "source": [
    "for fdr_name in tot_df.Name:\n",
    "    empty_list = []\n",
    "    for etf_name in final_df2.stock_names.unique():\n",
    "        if fdr_name in etf_name:\n",
    "            empty_list.append(etf_name)\n",
    "    change_dict[fdr_name] = empty_list"
   ]
  },
  {
   "cell_type": "code",
   "execution_count": null,
   "id": "9c049f22-37b4-44d0-93d4-b7c7ced7a991",
   "metadata": {},
   "outputs": [],
   "source": []
  },
  {
   "cell_type": "code",
   "execution_count": null,
   "id": "e83deac7-9057-42aa-9196-f6590c7a358a",
   "metadata": {},
   "outputs": [],
   "source": []
  }
 ],
 "metadata": {
  "kernelspec": {
   "display_name": "Python 3",
   "language": "python",
   "name": "python3"
  },
  "language_info": {
   "codemirror_mode": {
    "name": "ipython",
    "version": 3
   },
   "file_extension": ".py",
   "mimetype": "text/x-python",
   "name": "python",
   "nbconvert_exporter": "python",
   "pygments_lexer": "ipython3",
   "version": "3.8.8"
  }
 },
 "nbformat": 4,
 "nbformat_minor": 5
}
