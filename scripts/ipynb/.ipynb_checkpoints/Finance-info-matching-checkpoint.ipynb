{
 "cells": [
  {
   "cell_type": "markdown",
   "id": "da8f20f8-ca5f-46a4-8482-0b6842881145",
   "metadata": {},
   "source": [
    "## Import"
   ]
  },
  {
   "cell_type": "code",
   "execution_count": 163,
   "id": "5a0ce671-12a9-4865-b9ce-b8e40c795e69",
   "metadata": {},
   "outputs": [],
   "source": [
    "from tqdm import tqdm\n",
    "\n",
    "import FinanceDataReader as fdr\n",
    "import numpy as np\n",
    "import pandas as pd\n",
    "import re\n"
   ]
  },
  {
   "cell_type": "code",
   "execution_count": null,
   "id": "0272f466-3e26-44a5-9ffc-a1d284c5da78",
   "metadata": {},
   "outputs": [],
   "source": []
  },
  {
   "cell_type": "markdown",
   "id": "6c3b644d-7408-4c6f-8648-015bf35f5007",
   "metadata": {},
   "source": [
    "## Load data"
   ]
  },
  {
   "cell_type": "code",
   "execution_count": 164,
   "id": "ae5d93b9-7b9f-4ff6-93bb-b70b87904d98",
   "metadata": {},
   "outputs": [],
   "source": [
    "data_path = \"C:\\\\Users\\\\PC0\\\\Documents\\\\GitHub\\\\Korea_Investment_and_Securities\\\\datasets\\\\\""
   ]
  },
  {
   "cell_type": "code",
   "execution_count": 117,
   "id": "e2ec51fb-582e-4202-a3f2-a272f35c3e89",
   "metadata": {},
   "outputs": [],
   "source": [
    "am_stocks = pd.read_csv(data_path + \"amrican_ticker_stockname.csv\")\n",
    "info_df = pd.read_csv(data_path + \"info_df.csv\")\n",
    "tot_df = pd.read_csv(data_path + \"tot_df.csv\")\n",
    "final_df = pd.read_csv(data_path + \"all_joined_stocks.csv\")\n",
    "etf_niche = pd.read_csv(data_path + \"etf_niche_grouped_df.csv\")"
   ]
  },
  {
   "cell_type": "code",
   "execution_count": 21,
   "id": "9c045f03-c84c-475b-ab78-129c50b1229e",
   "metadata": {},
   "outputs": [],
   "source": [
    "info_df.rename(columns = {\"Unnamed: 0\":\"Symbol\"}, inplace = True)"
   ]
  },
  {
   "cell_type": "code",
   "execution_count": 26,
   "id": "dae22ca6-6afa-4064-9b39-832f6ebac085",
   "metadata": {},
   "outputs": [],
   "source": [
    "cap_df = info_df.loc[:, ['Symbol', 'marketCap']]"
   ]
  },
  {
   "cell_type": "code",
   "execution_count": 27,
   "id": "5dce1503-7d92-4c28-8a7a-922f3744c429",
   "metadata": {},
   "outputs": [],
   "source": [
    "joined_df = pd.merge(am_stocks, cap_df, how = \"inner\")"
   ]
  },
  {
   "cell_type": "code",
   "execution_count": 29,
   "id": "09b3bbfb-3240-4d11-b7ef-b8fb43088151",
   "metadata": {},
   "outputs": [
    {
     "data": {
      "text/html": [
       "<div>\n",
       "<style scoped>\n",
       "    .dataframe tbody tr th:only-of-type {\n",
       "        vertical-align: middle;\n",
       "    }\n",
       "\n",
       "    .dataframe tbody tr th {\n",
       "        vertical-align: top;\n",
       "    }\n",
       "\n",
       "    .dataframe thead th {\n",
       "        text-align: right;\n",
       "    }\n",
       "</style>\n",
       "<table border=\"1\" class=\"dataframe\">\n",
       "  <thead>\n",
       "    <tr style=\"text-align: right;\">\n",
       "      <th></th>\n",
       "      <th>Symbol</th>\n",
       "      <th>Name</th>\n",
       "      <th>marketCap</th>\n",
       "    </tr>\n",
       "  </thead>\n",
       "  <tbody>\n",
       "    <tr>\n",
       "      <th>0</th>\n",
       "      <td>NVDA</td>\n",
       "      <td>NVIDIA Corp</td>\n",
       "      <td>6.047336e+11</td>\n",
       "    </tr>\n",
       "    <tr>\n",
       "      <th>1</th>\n",
       "      <td>QCOM</td>\n",
       "      <td>Qualcomm Inc</td>\n",
       "      <td>1.849456e+11</td>\n",
       "    </tr>\n",
       "    <tr>\n",
       "      <th>2</th>\n",
       "      <td>NXPI</td>\n",
       "      <td>NXP Semiconductors NV</td>\n",
       "      <td>4.943163e+10</td>\n",
       "    </tr>\n",
       "    <tr>\n",
       "      <th>3</th>\n",
       "      <td>AMD</td>\n",
       "      <td>Advanced Micro Devices Inc</td>\n",
       "      <td>1.379936e+11</td>\n",
       "    </tr>\n",
       "    <tr>\n",
       "      <th>4</th>\n",
       "      <td>MRVL</td>\n",
       "      <td>Marvell Technology Inc</td>\n",
       "      <td>5.716745e+10</td>\n",
       "    </tr>\n",
       "  </tbody>\n",
       "</table>\n",
       "</div>"
      ],
      "text/plain": [
       "  Symbol                        Name     marketCap\n",
       "0   NVDA                 NVIDIA Corp  6.047336e+11\n",
       "1   QCOM                Qualcomm Inc  1.849456e+11\n",
       "2   NXPI       NXP Semiconductors NV  4.943163e+10\n",
       "3    AMD  Advanced Micro Devices Inc  1.379936e+11\n",
       "4   MRVL      Marvell Technology Inc  5.716745e+10"
      ]
     },
     "execution_count": 29,
     "metadata": {},
     "output_type": "execute_result"
    }
   ],
   "source": [
    "joined_df.head()"
   ]
  },
  {
   "cell_type": "code",
   "execution_count": 30,
   "id": "4521e800-582a-4842-bbd7-582ce6995b29",
   "metadata": {},
   "outputs": [],
   "source": [
    "# joined_df.to_csv(data_path + \"marketCap_joined_df.csv\", index = False)"
   ]
  },
  {
   "cell_type": "code",
   "execution_count": 43,
   "id": "c937fef2-3e87-4f01-910a-f453d70842ff",
   "metadata": {},
   "outputs": [],
   "source": [
    "final_df.drop_duplicates(inplace = True)"
   ]
  },
  {
   "cell_type": "code",
   "execution_count": 77,
   "id": "8f85ea65-3158-46bb-9b20-98e3cc0138c4",
   "metadata": {},
   "outputs": [],
   "source": [
    "# ticker별 최소 길이 stock names 탐색\n",
    "for idx, ticker in enumerate(final_df.Ticker.unique()):\n",
    "    temp_df = final_df.loc[final_df.Ticker == ticker]\n",
    "    len_list = np.array([len(x) for x in temp_df.stock_names])\n",
    "    min_idx = np.argmin(len_list)\n",
    "    \n",
    "    if idx == 0:\n",
    "        output_df = pd.DataFrame(temp_df.iloc[min_idx,:]).T\n",
    "    else:\n",
    "        output_df = output_df.append(pd.DataFrame(temp_df.iloc[min_idx,:]).T)"
   ]
  },
  {
   "cell_type": "code",
   "execution_count": 83,
   "id": "fcb6dc3d-e09a-4e45-bee0-3f1c4936168d",
   "metadata": {},
   "outputs": [],
   "source": [
    "# output_df.to_csv(data_path + \"ticker_stocks_df.csv\", index = False)"
   ]
  },
  {
   "cell_type": "code",
   "execution_count": 101,
   "id": "d8385afc-c3b1-4855-b684-4b6c4b31c2ac",
   "metadata": {},
   "outputs": [],
   "source": [
    "temp_df = pd.merge(cap_df, output_df.loc[:, ['Ticker', \"stock_names\"]], left_on = 'Symbol', right_on = 'Ticker', how = \"inner\")\n",
    "\n",
    "del temp_df['Ticker']\n",
    "\n",
    "temp_df = temp_df.loc[:, ['Symbol', 'stock_names', 'marketCap']]\n",
    "theme_df = pd.merge(etf_niche, temp_df, on = \"stock_names\", how = \"outer\")\n",
    "theme_df = theme_df.loc[:, ['Theme', 'Symbol', 'stock_names', 'etf_names', 'marketCap']]"
   ]
  },
  {
   "cell_type": "code",
   "execution_count": 102,
   "id": "c8837f91-46eb-4b8c-ab99-184295bb363b",
   "metadata": {},
   "outputs": [
    {
     "data": {
      "text/html": [
       "<div>\n",
       "<style scoped>\n",
       "    .dataframe tbody tr th:only-of-type {\n",
       "        vertical-align: middle;\n",
       "    }\n",
       "\n",
       "    .dataframe tbody tr th {\n",
       "        vertical-align: top;\n",
       "    }\n",
       "\n",
       "    .dataframe thead th {\n",
       "        text-align: right;\n",
       "    }\n",
       "</style>\n",
       "<table border=\"1\" class=\"dataframe\">\n",
       "  <thead>\n",
       "    <tr style=\"text-align: right;\">\n",
       "      <th></th>\n",
       "      <th>Theme</th>\n",
       "      <th>Symbol</th>\n",
       "      <th>stock_names</th>\n",
       "      <th>etf_names</th>\n",
       "      <th>marketCap</th>\n",
       "    </tr>\n",
       "  </thead>\n",
       "  <tbody>\n",
       "    <tr>\n",
       "      <th>0</th>\n",
       "      <td>5G</td>\n",
       "      <td>NVDA</td>\n",
       "      <td>NVIDIA Corporation</td>\n",
       "      <td>4</td>\n",
       "      <td>6.047336e+11</td>\n",
       "    </tr>\n",
       "    <tr>\n",
       "      <th>1</th>\n",
       "      <td>Agriculture</td>\n",
       "      <td>NVDA</td>\n",
       "      <td>NVIDIA Corporation</td>\n",
       "      <td>1</td>\n",
       "      <td>6.047336e+11</td>\n",
       "    </tr>\n",
       "    <tr>\n",
       "      <th>2</th>\n",
       "      <td>Blockchain</td>\n",
       "      <td>NVDA</td>\n",
       "      <td>NVIDIA Corporation</td>\n",
       "      <td>5</td>\n",
       "      <td>6.047336e+11</td>\n",
       "    </tr>\n",
       "    <tr>\n",
       "      <th>3</th>\n",
       "      <td>Broad Technology</td>\n",
       "      <td>NVDA</td>\n",
       "      <td>NVIDIA Corporation</td>\n",
       "      <td>3</td>\n",
       "      <td>6.047336e+11</td>\n",
       "    </tr>\n",
       "    <tr>\n",
       "      <th>4</th>\n",
       "      <td>Broad Thematic</td>\n",
       "      <td>NVDA</td>\n",
       "      <td>NVIDIA Corporation</td>\n",
       "      <td>11</td>\n",
       "      <td>6.047336e+11</td>\n",
       "    </tr>\n",
       "  </tbody>\n",
       "</table>\n",
       "</div>"
      ],
      "text/plain": [
       "              Theme Symbol         stock_names  etf_names     marketCap\n",
       "0                5G   NVDA  NVIDIA Corporation          4  6.047336e+11\n",
       "1       Agriculture   NVDA  NVIDIA Corporation          1  6.047336e+11\n",
       "2        Blockchain   NVDA  NVIDIA Corporation          5  6.047336e+11\n",
       "3  Broad Technology   NVDA  NVIDIA Corporation          3  6.047336e+11\n",
       "4    Broad Thematic   NVDA  NVIDIA Corporation         11  6.047336e+11"
      ]
     },
     "execution_count": 102,
     "metadata": {},
     "output_type": "execute_result"
    }
   ],
   "source": [
    "theme_df.head()"
   ]
  },
  {
   "cell_type": "code",
   "execution_count": 105,
   "id": "b22b433d-c8b8-4c85-ab08-6d0ca87bc23c",
   "metadata": {},
   "outputs": [],
   "source": [
    "# 최종 데이터 합본\n",
    "for idx, theme in enumerate(theme_df.Theme.unique()):\n",
    "    temp_df2 = theme_df.loc[theme_df.Theme == theme, :]\n",
    "    \n",
    "    if idx == 0:\n",
    "        final_df2 = temp_df2.sort_values(\"etf_names\", ascending = False)\n",
    "    else:\n",
    "        final_df2 = final_df2.append(temp_df2.sort_values(\"etf_names\", ascending = False))"
   ]
  },
  {
   "cell_type": "code",
   "execution_count": 114,
   "id": "6d234852-03a5-4a6d-ad70-443262579304",
   "metadata": {},
   "outputs": [],
   "source": [
    "final_df2.rename(columns = {\"etf_names\":\"cnts\"}, inplace = True)\n",
    "# final_df2.to_csv(data_path + \"etf_niche_grouped_df2.csv\", index = False)"
   ]
  },
  {
   "cell_type": "code",
   "execution_count": 165,
   "id": "ae0d033f-4b8a-4af7-8a52-daa5118402d6",
   "metadata": {},
   "outputs": [],
   "source": [
    "final_df2 = pd.read_csv(data_path + \"etf_niche_grouped_df2.csv\")"
   ]
  },
  {
   "cell_type": "code",
   "execution_count": 166,
   "id": "bbb009d3-4157-43b7-8abf-bd168e1a7af3",
   "metadata": {},
   "outputs": [
    {
     "data": {
      "text/html": [
       "<div>\n",
       "<style scoped>\n",
       "    .dataframe tbody tr th:only-of-type {\n",
       "        vertical-align: middle;\n",
       "    }\n",
       "\n",
       "    .dataframe tbody tr th {\n",
       "        vertical-align: top;\n",
       "    }\n",
       "\n",
       "    .dataframe thead th {\n",
       "        text-align: right;\n",
       "    }\n",
       "</style>\n",
       "<table border=\"1\" class=\"dataframe\">\n",
       "  <thead>\n",
       "    <tr style=\"text-align: right;\">\n",
       "      <th></th>\n",
       "      <th>Theme</th>\n",
       "      <th>Symbol</th>\n",
       "      <th>stock_names</th>\n",
       "      <th>cnts</th>\n",
       "      <th>marketCap</th>\n",
       "    </tr>\n",
       "  </thead>\n",
       "  <tbody>\n",
       "    <tr>\n",
       "      <th>0</th>\n",
       "      <td>5G</td>\n",
       "      <td>NVDA</td>\n",
       "      <td>NVIDIA Corporation</td>\n",
       "      <td>4</td>\n",
       "      <td>6.047336e+11</td>\n",
       "    </tr>\n",
       "    <tr>\n",
       "      <th>1</th>\n",
       "      <td>5G</td>\n",
       "      <td>NXPI</td>\n",
       "      <td>NXP Semiconductors NV</td>\n",
       "      <td>3</td>\n",
       "      <td>4.943163e+10</td>\n",
       "    </tr>\n",
       "    <tr>\n",
       "      <th>2</th>\n",
       "      <td>5G</td>\n",
       "      <td>AMD</td>\n",
       "      <td>Advanced Micro Devices, Inc.</td>\n",
       "      <td>3</td>\n",
       "      <td>1.379936e+11</td>\n",
       "    </tr>\n",
       "    <tr>\n",
       "      <th>3</th>\n",
       "      <td>5G</td>\n",
       "      <td>MRVL</td>\n",
       "      <td>Marvell Technology, Inc.</td>\n",
       "      <td>3</td>\n",
       "      <td>5.716745e+10</td>\n",
       "    </tr>\n",
       "    <tr>\n",
       "      <th>4</th>\n",
       "      <td>5G</td>\n",
       "      <td>NaN</td>\n",
       "      <td>Amazon.com, Inc.</td>\n",
       "      <td>3</td>\n",
       "      <td>NaN</td>\n",
       "    </tr>\n",
       "    <tr>\n",
       "      <th>5</th>\n",
       "      <td>5G</td>\n",
       "      <td>AAPL</td>\n",
       "      <td>Apple Inc.</td>\n",
       "      <td>3</td>\n",
       "      <td>2.770713e+12</td>\n",
       "    </tr>\n",
       "    <tr>\n",
       "      <th>6</th>\n",
       "      <td>5G</td>\n",
       "      <td>QCOM</td>\n",
       "      <td>Qualcomm Inc</td>\n",
       "      <td>3</td>\n",
       "      <td>1.849456e+11</td>\n",
       "    </tr>\n",
       "    <tr>\n",
       "      <th>7</th>\n",
       "      <td>5G</td>\n",
       "      <td>NaN</td>\n",
       "      <td>Analog Devices, Inc.</td>\n",
       "      <td>2</td>\n",
       "      <td>NaN</td>\n",
       "    </tr>\n",
       "    <tr>\n",
       "      <th>8</th>\n",
       "      <td>5G</td>\n",
       "      <td>NaN</td>\n",
       "      <td>MediaTek Inc</td>\n",
       "      <td>2</td>\n",
       "      <td>NaN</td>\n",
       "    </tr>\n",
       "    <tr>\n",
       "      <th>9</th>\n",
       "      <td>5G</td>\n",
       "      <td>FB</td>\n",
       "      <td>Meta Platforms Inc. Class A</td>\n",
       "      <td>2</td>\n",
       "      <td>6.055891e+11</td>\n",
       "    </tr>\n",
       "    <tr>\n",
       "      <th>10</th>\n",
       "      <td>5G</td>\n",
       "      <td>INTC</td>\n",
       "      <td>Intel Corporation</td>\n",
       "      <td>2</td>\n",
       "      <td>1.935079e+11</td>\n",
       "    </tr>\n",
       "    <tr>\n",
       "      <th>11</th>\n",
       "      <td>5G</td>\n",
       "      <td>TMUS</td>\n",
       "      <td>T-Mobile US, Inc.</td>\n",
       "      <td>2</td>\n",
       "      <td>1.567683e+11</td>\n",
       "    </tr>\n",
       "    <tr>\n",
       "      <th>12</th>\n",
       "      <td>5G</td>\n",
       "      <td>ANET</td>\n",
       "      <td>Arista Networks, Inc.</td>\n",
       "      <td>2</td>\n",
       "      <td>3.774259e+10</td>\n",
       "    </tr>\n",
       "    <tr>\n",
       "      <th>13</th>\n",
       "      <td>5G</td>\n",
       "      <td>NaN</td>\n",
       "      <td>AT&amp;T Inc.</td>\n",
       "      <td>2</td>\n",
       "      <td>NaN</td>\n",
       "    </tr>\n",
       "    <tr>\n",
       "      <th>14</th>\n",
       "      <td>5G</td>\n",
       "      <td>NaN</td>\n",
       "      <td>VMware, Inc. Class A</td>\n",
       "      <td>2</td>\n",
       "      <td>NaN</td>\n",
       "    </tr>\n",
       "    <tr>\n",
       "      <th>15</th>\n",
       "      <td>5G</td>\n",
       "      <td>BCE</td>\n",
       "      <td>BCE Inc.</td>\n",
       "      <td>2</td>\n",
       "      <td>4.749600e+10</td>\n",
       "    </tr>\n",
       "    <tr>\n",
       "      <th>16</th>\n",
       "      <td>5G</td>\n",
       "      <td>NaN</td>\n",
       "      <td>Twilio, Inc. Class A</td>\n",
       "      <td>2</td>\n",
       "      <td>NaN</td>\n",
       "    </tr>\n",
       "    <tr>\n",
       "      <th>17</th>\n",
       "      <td>5G</td>\n",
       "      <td>SQ</td>\n",
       "      <td>Block Inc Class A</td>\n",
       "      <td>2</td>\n",
       "      <td>6.415549e+10</td>\n",
       "    </tr>\n",
       "    <tr>\n",
       "      <th>18</th>\n",
       "      <td>5G</td>\n",
       "      <td>NaN</td>\n",
       "      <td>Qorvo, Inc.</td>\n",
       "      <td>2</td>\n",
       "      <td>NaN</td>\n",
       "    </tr>\n",
       "    <tr>\n",
       "      <th>19</th>\n",
       "      <td>5G</td>\n",
       "      <td>AMT</td>\n",
       "      <td>American Tower Corporation</td>\n",
       "      <td>2</td>\n",
       "      <td>1.066989e+11</td>\n",
       "    </tr>\n",
       "  </tbody>\n",
       "</table>\n",
       "</div>"
      ],
      "text/plain": [
       "   Theme Symbol                   stock_names  cnts     marketCap\n",
       "0     5G   NVDA            NVIDIA Corporation     4  6.047336e+11\n",
       "1     5G   NXPI         NXP Semiconductors NV     3  4.943163e+10\n",
       "2     5G    AMD  Advanced Micro Devices, Inc.     3  1.379936e+11\n",
       "3     5G   MRVL      Marvell Technology, Inc.     3  5.716745e+10\n",
       "4     5G    NaN              Amazon.com, Inc.     3           NaN\n",
       "5     5G   AAPL                    Apple Inc.     3  2.770713e+12\n",
       "6     5G   QCOM                  Qualcomm Inc     3  1.849456e+11\n",
       "7     5G    NaN          Analog Devices, Inc.     2           NaN\n",
       "8     5G    NaN                  MediaTek Inc     2           NaN\n",
       "9     5G     FB   Meta Platforms Inc. Class A     2  6.055891e+11\n",
       "10    5G   INTC             Intel Corporation     2  1.935079e+11\n",
       "11    5G   TMUS             T-Mobile US, Inc.     2  1.567683e+11\n",
       "12    5G   ANET         Arista Networks, Inc.     2  3.774259e+10\n",
       "13    5G    NaN                     AT&T Inc.     2           NaN\n",
       "14    5G    NaN          VMware, Inc. Class A     2           NaN\n",
       "15    5G    BCE                      BCE Inc.     2  4.749600e+10\n",
       "16    5G    NaN          Twilio, Inc. Class A     2           NaN\n",
       "17    5G     SQ             Block Inc Class A     2  6.415549e+10\n",
       "18    5G    NaN                   Qorvo, Inc.     2           NaN\n",
       "19    5G    AMT    American Tower Corporation     2  1.066989e+11"
      ]
     },
     "execution_count": 166,
     "metadata": {},
     "output_type": "execute_result"
    }
   ],
   "source": [
    "final_df2.head(20)"
   ]
  },
  {
   "cell_type": "code",
   "execution_count": 173,
   "id": "514d3c24-053a-4458-b4b1-f9ded3aba309",
   "metadata": {},
   "outputs": [],
   "source": [
    "import re"
   ]
  },
  {
   "cell_type": "code",
   "execution_count": 233,
   "id": "0901bab7-f27b-4ef9-bb7d-cebd9ad90388",
   "metadata": {},
   "outputs": [],
   "source": [
    "unique_list = final_df2.stock_names.unique()"
   ]
  },
  {
   "cell_type": "code",
   "execution_count": 234,
   "id": "06c24e76-1da0-44a3-8f10-966671bf589c",
   "metadata": {},
   "outputs": [],
   "source": [
    "after_list = [x for x in unique_list if ('-' not in x) and ('%' not in x)]"
   ]
  },
  {
   "cell_type": "code",
   "execution_count": 229,
   "id": "6dc21b8d-bbb4-43fb-93ba-49077975d7b2",
   "metadata": {},
   "outputs": [],
   "source": [
    "after_list = [re.sub(\" Class A\", \"\", x) for x in np.unique(after_list)]"
   ]
  },
  {
   "cell_type": "code",
   "execution_count": 230,
   "id": "8cc07c18-e73a-4abd-ae60-a4b4a0a33863",
   "metadata": {},
   "outputs": [],
   "source": [
    "after_list = [re.sub(\" Class B\", \"\", x) for x in np.unique(after_list)]"
   ]
  },
  {
   "cell_type": "code",
   "execution_count": 236,
   "id": "0fab6f6f-9e30-41f7-b624-f56447485e16",
   "metadata": {},
   "outputs": [],
   "source": [
    "np.save(data_path + \"stock_names.npy\",np.unique(after_list))"
   ]
  },
  {
   "cell_type": "code",
   "execution_count": 232,
   "id": "e257aa90-eeae-46d5-819f-0ffa3726998f",
   "metadata": {},
   "outputs": [
    {
     "data": {
      "text/plain": [
       "(10055,)"
      ]
     },
     "execution_count": 232,
     "metadata": {},
     "output_type": "execute_result"
    }
   ],
   "source": [
    "np.unique(after_list).shape"
   ]
  },
  {
   "cell_type": "code",
   "execution_count": null,
   "id": "859373f1-98ab-4d1a-8d35-747a7bba6366",
   "metadata": {},
   "outputs": [],
   "source": []
  },
  {
   "cell_type": "code",
   "execution_count": null,
   "id": "2b271343-63c1-46e6-8fda-d8ab2dce97f5",
   "metadata": {},
   "outputs": [],
   "source": []
  },
  {
   "cell_type": "code",
   "execution_count": 157,
   "id": "5a503b87-44b4-42a5-9971-646bd4da345e",
   "metadata": {},
   "outputs": [],
   "source": [
    "change_dict = {}"
   ]
  },
  {
   "cell_type": "code",
   "execution_count": 159,
   "id": "ebe008f4-6847-461e-a3d8-64bb96e3b52c",
   "metadata": {},
   "outputs": [],
   "source": [
    "for fdr_name in tot_df.Name:\n",
    "    empty_list = []\n",
    "    for etf_name in final_df2.stock_names.unique():\n",
    "        if fdr_name in etf_name:\n",
    "            empty_list.append(etf_name)\n",
    "    change_dict[fdr_name] = empty_list"
   ]
  },
  {
   "cell_type": "code",
   "execution_count": null,
   "id": "9c049f22-37b4-44d0-93d4-b7c7ced7a991",
   "metadata": {},
   "outputs": [],
   "source": []
  },
  {
   "cell_type": "code",
   "execution_count": null,
   "id": "e83deac7-9057-42aa-9196-f6590c7a358a",
   "metadata": {},
   "outputs": [],
   "source": []
  }
 ],
 "metadata": {
  "kernelspec": {
   "display_name": "Python 3",
   "language": "python",
   "name": "python3"
  },
  "language_info": {
   "codemirror_mode": {
    "name": "ipython",
    "version": 3
   },
   "file_extension": ".py",
   "mimetype": "text/x-python",
   "name": "python",
   "nbconvert_exporter": "python",
   "pygments_lexer": "ipython3",
   "version": "3.8.8"
  }
 },
 "nbformat": 4,
 "nbformat_minor": 5
}
