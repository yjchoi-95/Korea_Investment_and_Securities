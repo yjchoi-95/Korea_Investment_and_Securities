{
 "cells": [
  {
   "cell_type": "markdown",
   "id": "8662f632-5c79-4011-bee5-1885c94c332b",
   "metadata": {},
   "source": [
    "## Import\n"
   ]
  },
  {
   "cell_type": "code",
   "execution_count": 1,
   "id": "a990da4d-1e1d-433e-ae15-dbdaad629bf4",
   "metadata": {},
   "outputs": [],
   "source": [
    "from tqdm import tqdm\n",
    "\n",
    "import FinanceDataReader as fdr\n",
    "import numpy as np\n",
    "import pandas as pd\n",
    "import re\n"
   ]
  },
  {
   "cell_type": "code",
   "execution_count": null,
   "id": "421b1d89-f145-4a27-a402-42786e75b66a",
   "metadata": {},
   "outputs": [],
   "source": []
  },
  {
   "cell_type": "markdown",
   "id": "409f126b-14f1-4676-a68f-298a3e478cd9",
   "metadata": {},
   "source": [
    "* america"
   ]
  },
  {
   "cell_type": "code",
   "execution_count": 2,
   "id": "6285f3b8-8cb2-457a-bd40-92bca17bdf0b",
   "metadata": {},
   "outputs": [
    {
     "name": "stderr",
     "output_type": "stream",
     "text": [
      "100%|█████████████████████████████████████████████████████████████████████████████| 3459/3459 [00:04<00:00, 825.19it/s]\n",
      "100%|█████████████████████████████████████████████████████████████████████████████| 4557/4557 [00:08<00:00, 562.27it/s]\n",
      "100%|██████████████████████████████████████████████████████████████████████████████| 306/306 [00:00<00:00, 1050.68it/s]\n"
     ]
    }
   ],
   "source": [
    "df_nyse = fdr.StockListing('NYSE')   # 뉴욕거래소\n",
    "df_nasdaq = fdr.StockListing('NASDAQ') # 나스닥\n",
    "df_amex = fdr.StockListing('AMEX')   # 아멕스"
   ]
  },
  {
   "cell_type": "markdown",
   "id": "f3d39374-924f-4ef3-a3e5-0d8d544962ef",
   "metadata": {},
   "source": [
    "* china, japan"
   ]
  },
  {
   "cell_type": "code",
   "execution_count": 3,
   "id": "4bd361de-4718-433b-a0c8-ae3944942400",
   "metadata": {},
   "outputs": [
    {
     "name": "stderr",
     "output_type": "stream",
     "text": [
      "100%|████████████████████████████████████████████████████████████████████████████| 1033/1033 [00:00<00:00, 1054.87it/s]\n",
      "100%|████████████████████████████████████████████████████████████████████████████| 1424/1424 [00:01<00:00, 1007.02it/s]\n",
      "100%|█████████████████████████████████████████████████████████████████████████████| 2645/2645 [00:03<00:00, 806.50it/s]\n",
      "100%|█████████████████████████████████████████████████████████████████████████████| 3928/3928 [00:05<00:00, 731.56it/s]\n"
     ]
    }
   ],
   "source": [
    "df_sse = fdr.StockListing('SSE')\n",
    "df_szse = fdr.StockListing('SZSE')\n",
    "df_hkex = fdr.StockListing('HKEX')\n",
    "df_tse = fdr.StockListing('TSE')"
   ]
  },
  {
   "cell_type": "code",
   "execution_count": 7,
   "id": "cf17779d-caba-4ce2-9c92-371f5bab7926",
   "metadata": {},
   "outputs": [],
   "source": [
    "tot_df = pd.concat([df_nyse, df_nasdaq, df_amex, df_sse, df_szse, df_hkex, df_tse], axis =0)\n",
    "tot_df.drop_duplicates(inplace = True)\n",
    "tot_df.shape"
   ]
  },
  {
   "cell_type": "code",
   "execution_count": 8,
   "id": "fc6dec65-fbb2-4855-917e-231e614a4911",
   "metadata": {},
   "outputs": [
    {
     "data": {
      "text/html": [
       "<div>\n",
       "<style scoped>\n",
       "    .dataframe tbody tr th:only-of-type {\n",
       "        vertical-align: middle;\n",
       "    }\n",
       "\n",
       "    .dataframe tbody tr th {\n",
       "        vertical-align: top;\n",
       "    }\n",
       "\n",
       "    .dataframe thead th {\n",
       "        text-align: right;\n",
       "    }\n",
       "</style>\n",
       "<table border=\"1\" class=\"dataframe\">\n",
       "  <thead>\n",
       "    <tr style=\"text-align: right;\">\n",
       "      <th></th>\n",
       "      <th>Symbol</th>\n",
       "      <th>Name</th>\n",
       "      <th>Industry</th>\n",
       "      <th>IndustryCode</th>\n",
       "    </tr>\n",
       "  </thead>\n",
       "  <tbody>\n",
       "    <tr>\n",
       "      <th>0</th>\n",
       "      <td>TSM</td>\n",
       "      <td>Taiwan Semiconductor Manufacturing Co Ltd ADR</td>\n",
       "      <td>반도체 및 반도체 장비</td>\n",
       "      <td>571010</td>\n",
       "    </tr>\n",
       "    <tr>\n",
       "      <th>1</th>\n",
       "      <td>V</td>\n",
       "      <td>Visa Inc Class A</td>\n",
       "      <td>소프트웨어 및 IT서비스</td>\n",
       "      <td>572010</td>\n",
       "    </tr>\n",
       "    <tr>\n",
       "      <th>2</th>\n",
       "      <td>JPM</td>\n",
       "      <td>JPMorgan Chase &amp; Co</td>\n",
       "      <td>은행</td>\n",
       "      <td>551010</td>\n",
       "    </tr>\n",
       "    <tr>\n",
       "      <th>3</th>\n",
       "      <td>UNH</td>\n",
       "      <td>UnitedHealth Group Inc</td>\n",
       "      <td>헬스케어 업체 및 서비스</td>\n",
       "      <td>561020</td>\n",
       "    </tr>\n",
       "    <tr>\n",
       "      <th>4</th>\n",
       "      <td>JNJ</td>\n",
       "      <td>Johnson &amp; Johnson</td>\n",
       "      <td>제약</td>\n",
       "      <td>562010</td>\n",
       "    </tr>\n",
       "  </tbody>\n",
       "</table>\n",
       "</div>"
      ],
      "text/plain": [
       "  Symbol                                           Name       Industry  \\\n",
       "0    TSM  Taiwan Semiconductor Manufacturing Co Ltd ADR   반도체 및 반도체 장비   \n",
       "1      V                               Visa Inc Class A  소프트웨어 및 IT서비스   \n",
       "2    JPM                            JPMorgan Chase & Co             은행   \n",
       "3    UNH                         UnitedHealth Group Inc  헬스케어 업체 및 서비스   \n",
       "4    JNJ                              Johnson & Johnson             제약   \n",
       "\n",
       "  IndustryCode  \n",
       "0       571010  \n",
       "1       572010  \n",
       "2       551010  \n",
       "3       561020  \n",
       "4       562010  "
      ]
     },
     "execution_count": 8,
     "metadata": {},
     "output_type": "execute_result"
    }
   ],
   "source": [
    "tot_df.head()"
   ]
  },
  {
   "cell_type": "markdown",
   "id": "5e2ee9cd-8326-4bf8-9045-2e3c7855c063",
   "metadata": {},
   "source": [
    "* theme df"
   ]
  },
  {
   "cell_type": "code",
   "execution_count": 9,
   "id": "2d550f2e-c86b-4101-9061-3cb063bacefb",
   "metadata": {},
   "outputs": [],
   "source": [
    "data_path = \"C:\\\\Users\\\\PC0\\\\Documents\\\\datasets\\\\\""
   ]
  },
  {
   "cell_type": "code",
   "execution_count": 10,
   "id": "d4a339d8-8509-4182-af16-e7e1e225e573",
   "metadata": {},
   "outputs": [],
   "source": [
    "df_theme = pd.read_csv(data_path + 'sector.csv', encoding = \"cp949\")\n",
    "df_theme = df_theme.dropna()"
   ]
  },
  {
   "cell_type": "code",
   "execution_count": 11,
   "id": "ffed85d1-91ed-4282-83f5-b33c430aac16",
   "metadata": {},
   "outputs": [
    {
     "data": {
      "text/html": [
       "<div>\n",
       "<style scoped>\n",
       "    .dataframe tbody tr th:only-of-type {\n",
       "        vertical-align: middle;\n",
       "    }\n",
       "\n",
       "    .dataframe tbody tr th {\n",
       "        vertical-align: top;\n",
       "    }\n",
       "\n",
       "    .dataframe thead th {\n",
       "        text-align: right;\n",
       "    }\n",
       "</style>\n",
       "<table border=\"1\" class=\"dataframe\">\n",
       "  <thead>\n",
       "    <tr style=\"text-align: right;\">\n",
       "      <th></th>\n",
       "      <th>테마</th>\n",
       "      <th>해당 주식</th>\n",
       "      <th>종목코드</th>\n",
       "    </tr>\n",
       "  </thead>\n",
       "  <tbody>\n",
       "    <tr>\n",
       "      <th>0</th>\n",
       "      <td>빅테크-A(미국)</td>\n",
       "      <td>애플</td>\n",
       "      <td>AAPL</td>\n",
       "    </tr>\n",
       "    <tr>\n",
       "      <th>1</th>\n",
       "      <td>빅테크-A(미국)</td>\n",
       "      <td>알파벳</td>\n",
       "      <td>GOOG</td>\n",
       "    </tr>\n",
       "    <tr>\n",
       "      <th>2</th>\n",
       "      <td>빅테크-A(미국)</td>\n",
       "      <td>메타</td>\n",
       "      <td>FB</td>\n",
       "    </tr>\n",
       "    <tr>\n",
       "      <th>3</th>\n",
       "      <td>빅테크-A(미국)</td>\n",
       "      <td>마이크로소프트</td>\n",
       "      <td>MSFT</td>\n",
       "    </tr>\n",
       "    <tr>\n",
       "      <th>4</th>\n",
       "      <td>빅테크-A(미국)</td>\n",
       "      <td>아마존</td>\n",
       "      <td>AMZN</td>\n",
       "    </tr>\n",
       "  </tbody>\n",
       "</table>\n",
       "</div>"
      ],
      "text/plain": [
       "          테마    해당 주식  종목코드\n",
       "0  빅테크-A(미국)       애플  AAPL\n",
       "1  빅테크-A(미국)      알파벳  GOOG\n",
       "2  빅테크-A(미국)       메타    FB\n",
       "3  빅테크-A(미국)  마이크로소프트  MSFT\n",
       "4  빅테크-A(미국)      아마존  AMZN"
      ]
     },
     "execution_count": 11,
     "metadata": {},
     "output_type": "execute_result"
    }
   ],
   "source": [
    "df_theme.head()"
   ]
  },
  {
   "cell_type": "code",
   "execution_count": null,
   "id": "3b8c6670-7620-419e-9c08-f3375dfa39ea",
   "metadata": {},
   "outputs": [],
   "source": []
  },
  {
   "cell_type": "markdown",
   "id": "23c92beb-bb29-4f3a-bbf8-9046a50ba277",
   "metadata": {},
   "source": [
    "* description"
   ]
  },
  {
   "cell_type": "code",
   "execution_count": 19,
   "id": "93f4d2ef-b633-47ef-9151-9bb214ed928f",
   "metadata": {},
   "outputs": [],
   "source": [
    "from bs4 import BeautifulSoup\n",
    "\n",
    "import requests\n",
    "import pickle"
   ]
  },
  {
   "cell_type": "code",
   "execution_count": 17,
   "id": "00aacc1a-f202-4a20-8279-787bb0ea5855",
   "metadata": {},
   "outputs": [],
   "source": [
    "agent = {\"User-Agent\":\"Mozilla/5.0 (Windows NT 10.0; Win64; x64) AppleWebKit/537.36 (KHTML, like Gecko) Chrome/98.0.4758.82 Safari/537.36\"}"
   ]
  },
  {
   "cell_type": "code",
   "execution_count": 18,
   "id": "9020e259-3382-40f3-a1c6-836ffe854359",
   "metadata": {},
   "outputs": [
    {
     "data": {
      "text/html": [
       "<div>\n",
       "<style scoped>\n",
       "    .dataframe tbody tr th:only-of-type {\n",
       "        vertical-align: middle;\n",
       "    }\n",
       "\n",
       "    .dataframe tbody tr th {\n",
       "        vertical-align: top;\n",
       "    }\n",
       "\n",
       "    .dataframe thead th {\n",
       "        text-align: right;\n",
       "    }\n",
       "</style>\n",
       "<table border=\"1\" class=\"dataframe\">\n",
       "  <thead>\n",
       "    <tr style=\"text-align: right;\">\n",
       "      <th></th>\n",
       "      <th>Symbol</th>\n",
       "      <th>Name</th>\n",
       "      <th>Industry</th>\n",
       "      <th>IndustryCode</th>\n",
       "    </tr>\n",
       "  </thead>\n",
       "  <tbody>\n",
       "    <tr>\n",
       "      <th>0</th>\n",
       "      <td>TSM</td>\n",
       "      <td>Taiwan Semiconductor Manufacturing Co Ltd ADR</td>\n",
       "      <td>반도체 및 반도체 장비</td>\n",
       "      <td>571010</td>\n",
       "    </tr>\n",
       "    <tr>\n",
       "      <th>1</th>\n",
       "      <td>V</td>\n",
       "      <td>Visa Inc Class A</td>\n",
       "      <td>소프트웨어 및 IT서비스</td>\n",
       "      <td>572010</td>\n",
       "    </tr>\n",
       "    <tr>\n",
       "      <th>2</th>\n",
       "      <td>JPM</td>\n",
       "      <td>JPMorgan Chase &amp; Co</td>\n",
       "      <td>은행</td>\n",
       "      <td>551010</td>\n",
       "    </tr>\n",
       "    <tr>\n",
       "      <th>3</th>\n",
       "      <td>UNH</td>\n",
       "      <td>UnitedHealth Group Inc</td>\n",
       "      <td>헬스케어 업체 및 서비스</td>\n",
       "      <td>561020</td>\n",
       "    </tr>\n",
       "    <tr>\n",
       "      <th>4</th>\n",
       "      <td>JNJ</td>\n",
       "      <td>Johnson &amp; Johnson</td>\n",
       "      <td>제약</td>\n",
       "      <td>562010</td>\n",
       "    </tr>\n",
       "  </tbody>\n",
       "</table>\n",
       "</div>"
      ],
      "text/plain": [
       "  Symbol                                           Name       Industry  \\\n",
       "0    TSM  Taiwan Semiconductor Manufacturing Co Ltd ADR   반도체 및 반도체 장비   \n",
       "1      V                               Visa Inc Class A  소프트웨어 및 IT서비스   \n",
       "2    JPM                            JPMorgan Chase & Co             은행   \n",
       "3    UNH                         UnitedHealth Group Inc  헬스케어 업체 및 서비스   \n",
       "4    JNJ                              Johnson & Johnson             제약   \n",
       "\n",
       "  IndustryCode  \n",
       "0       571010  \n",
       "1       572010  \n",
       "2       551010  \n",
       "3       561020  \n",
       "4       562010  "
      ]
     },
     "execution_count": 18,
     "metadata": {},
     "output_type": "execute_result"
    }
   ],
   "source": [
    "tot_df.head()"
   ]
  },
  {
   "cell_type": "code",
   "execution_count": 9,
   "id": "c7eddcf7-facb-4fbb-b994-12c0b228b54f",
   "metadata": {},
   "outputs": [],
   "source": [
    "desc_dict = {}"
   ]
  },
  {
   "cell_type": "code",
   "execution_count": 23,
   "id": "fc7b1811-3a5e-4473-86f9-a5fab996b5d3",
   "metadata": {
    "tags": []
   },
   "outputs": [
    {
     "name": "stderr",
     "output_type": "stream",
     "text": [
      "17342it [10:03:56,  2.09s/it]\n"
     ]
    }
   ],
   "source": [
    "for idx, sym in tqdm(enumerate(tot_df.Symbol)):\n",
    "    if sym in df_theme.종목코드.tolist():\n",
    "        continue\n",
    "        \n",
    "    ## HTTP GET Request\n",
    "    req = requests.get('https://finance.yahoo.com/quote/{code}/profile?p={code}'.format(code=sym),\n",
    "                  headers=agent)\n",
    "    ## HTML 소스 가져오기\n",
    "    html = req.text\n",
    "    ## HTTP Header 가져오기\n",
    "    header = req.headers\n",
    "    ## HTTP Status 가져오기 (200: 정상)\n",
    "    status = req.status_code\n",
    "    ## HTTP가 정상적으로 되었는지 (True/False)\n",
    "    is_ok = req.ok\n",
    "    \n",
    "    soup = BeautifulSoup(html, 'html.parser')\n",
    "    try:\n",
    "        description = soup.select('section > p')[0]\n",
    "    except IndexError:\n",
    "        continue\n",
    "    desc_dict[sym] = description.text\n",
    "    \n",
    "    if idx % 50 == 0:\n",
    "        with open('desc_dict.pickle', 'wb') as f:\n",
    "            pickle.dump(desc_dict, f)\n",
    "    "
   ]
  },
  {
   "cell_type": "code",
   "execution_count": 24,
   "id": "73ad4a10-1b33-4f85-b2e0-6d42f83343a4",
   "metadata": {},
   "outputs": [],
   "source": [
    "'''with open('desc_dict.pickle', 'wb') as f:\n",
    "    pickle.dump(desc_dict, f)'''"
   ]
  },
  {
   "cell_type": "code",
   "execution_count": null,
   "id": "50d697b2-d479-40ec-92df-37e152fa7c53",
   "metadata": {},
   "outputs": [],
   "source": []
  }
 ],
 "metadata": {
  "kernelspec": {
   "display_name": "Python 3",
   "language": "python",
   "name": "python3"
  },
  "language_info": {
   "codemirror_mode": {
    "name": "ipython",
    "version": 3
   },
   "file_extension": ".py",
   "mimetype": "text/x-python",
   "name": "python",
   "nbconvert_exporter": "python",
   "pygments_lexer": "ipython3",
   "version": "3.8.8"
  }
 },
 "nbformat": 4,
 "nbformat_minor": 5
}
