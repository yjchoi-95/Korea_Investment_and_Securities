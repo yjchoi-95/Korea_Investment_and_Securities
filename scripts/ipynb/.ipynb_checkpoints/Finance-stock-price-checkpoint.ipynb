{
 "cells": [
  {
   "cell_type": "markdown",
   "metadata": {},
   "source": [
    "## Import"
   ]
  },
  {
   "cell_type": "code",
   "execution_count": 1,
   "metadata": {
    "executionInfo": {
     "elapsed": 2,
     "status": "ok",
     "timestamp": 1645515169421,
     "user": {
      "displayName": "최영제",
      "photoUrl": "https://lh3.googleusercontent.com/a/default-user=s64",
      "userId": "07722901092434959404"
     },
     "user_tz": -540
    },
    "id": "5SHbc5IZ2DEe"
   },
   "outputs": [],
   "source": [
    "from tqdm import tqdm\n",
    "\n",
    "import FinanceDataReader as fdr\n",
    "import pandas_datareader as pdr\n",
    "import yfinance as yf\n",
    "import numpy as np\n",
    "import pandas as pd\n",
    "import re\n"
   ]
  },
  {
   "cell_type": "code",
   "execution_count": null,
   "metadata": {},
   "outputs": [],
   "source": []
  },
  {
   "cell_type": "markdown",
   "metadata": {
    "id": "F8yYMgqCrtzd"
   },
   "source": [
    "# Data load"
   ]
  },
  {
   "cell_type": "code",
   "execution_count": 2,
   "metadata": {},
   "outputs": [
    {
     "data": {
      "text/plain": [
       "'C:\\\\Users\\\\PC\\\\OneDrive\\\\문서\\\\GitHub\\\\Korea_Investment_and_Securities\\\\scripts\\\\ipynb'"
      ]
     },
     "execution_count": 2,
     "metadata": {},
     "output_type": "execute_result"
    }
   ],
   "source": [
    "import os\n",
    "os.getcwd()"
   ]
  },
  {
   "cell_type": "code",
   "execution_count": 3,
   "metadata": {},
   "outputs": [],
   "source": [
    "data_path = \"C:\\\\Users\\\\PC\\\\OneDrive\\\\문서\\\\GitHub\\\\Korea_Investment_and_Securities\\\\datasets\\\\\"\n",
    "out_data_path = \"C:\\\\Users\\\\PC\\\\OneDrive\\\\문서\\\\datasets\\\\\""
   ]
  },
  {
   "cell_type": "code",
   "execution_count": 4,
   "metadata": {
    "executionInfo": {
     "elapsed": 1029,
     "status": "ok",
     "timestamp": 1645515175648,
     "user": {
      "displayName": "최영제",
      "photoUrl": "https://lh3.googleusercontent.com/a/default-user=s64",
      "userId": "07722901092434959404"
     },
     "user_tz": -540
    },
    "id": "BcoHu2AR2qZM"
   },
   "outputs": [],
   "source": [
    "tot_df = pd.read_csv(data_path +\"tot_df.csv\", encoding = \"cp949\")\n",
    "df_theme = pd.read_csv(data_path +'sector.csv', encoding = \"cp949\")\n",
    "df_theme = df_theme.dropna()"
   ]
  },
  {
   "cell_type": "code",
   "execution_count": 5,
   "metadata": {
    "id": "BJqqJoyR2qbk"
   },
   "outputs": [],
   "source": [
    "# tot_df.to_csv(\"tot_df.csv\", index=False)"
   ]
  },
  {
   "cell_type": "code",
   "execution_count": 6,
   "metadata": {
    "colab": {
     "base_uri": "https://localhost:8080/",
     "height": 206
    },
    "executionInfo": {
     "elapsed": 338,
     "status": "ok",
     "timestamp": 1645510582208,
     "user": {
      "displayName": "최영제",
      "photoUrl": "https://lh3.googleusercontent.com/a/default-user=s64",
      "userId": "07722901092434959404"
     },
     "user_tz": -540
    },
    "id": "3Ec0Xt5Z2QOw",
    "outputId": "781645eb-5a39-4c6a-e6da-820e554bbb8d"
   },
   "outputs": [
    {
     "data": {
      "text/html": [
       "<div>\n",
       "<style scoped>\n",
       "    .dataframe tbody tr th:only-of-type {\n",
       "        vertical-align: middle;\n",
       "    }\n",
       "\n",
       "    .dataframe tbody tr th {\n",
       "        vertical-align: top;\n",
       "    }\n",
       "\n",
       "    .dataframe thead th {\n",
       "        text-align: right;\n",
       "    }\n",
       "</style>\n",
       "<table border=\"1\" class=\"dataframe\">\n",
       "  <thead>\n",
       "    <tr style=\"text-align: right;\">\n",
       "      <th></th>\n",
       "      <th>테마</th>\n",
       "      <th>해당 주식</th>\n",
       "      <th>종목코드</th>\n",
       "    </tr>\n",
       "  </thead>\n",
       "  <tbody>\n",
       "    <tr>\n",
       "      <th>0</th>\n",
       "      <td>빅테크-A(미국)</td>\n",
       "      <td>애플</td>\n",
       "      <td>AAPL</td>\n",
       "    </tr>\n",
       "    <tr>\n",
       "      <th>1</th>\n",
       "      <td>빅테크-A(미국)</td>\n",
       "      <td>알파벳</td>\n",
       "      <td>GOOG</td>\n",
       "    </tr>\n",
       "    <tr>\n",
       "      <th>2</th>\n",
       "      <td>빅테크-A(미국)</td>\n",
       "      <td>메타</td>\n",
       "      <td>FB</td>\n",
       "    </tr>\n",
       "    <tr>\n",
       "      <th>3</th>\n",
       "      <td>빅테크-A(미국)</td>\n",
       "      <td>마이크로소프트</td>\n",
       "      <td>MSFT</td>\n",
       "    </tr>\n",
       "    <tr>\n",
       "      <th>4</th>\n",
       "      <td>빅테크-A(미국)</td>\n",
       "      <td>아마존</td>\n",
       "      <td>AMZN</td>\n",
       "    </tr>\n",
       "  </tbody>\n",
       "</table>\n",
       "</div>"
      ],
      "text/plain": [
       "          테마    해당 주식  종목코드\n",
       "0  빅테크-A(미국)       애플  AAPL\n",
       "1  빅테크-A(미국)      알파벳  GOOG\n",
       "2  빅테크-A(미국)       메타    FB\n",
       "3  빅테크-A(미국)  마이크로소프트  MSFT\n",
       "4  빅테크-A(미국)      아마존  AMZN"
      ]
     },
     "execution_count": 6,
     "metadata": {},
     "output_type": "execute_result"
    }
   ],
   "source": [
    "df_theme.head()"
   ]
  },
  {
   "cell_type": "code",
   "execution_count": 7,
   "metadata": {
    "colab": {
     "base_uri": "https://localhost:8080/",
     "height": 206
    },
    "executionInfo": {
     "elapsed": 17,
     "status": "ok",
     "timestamp": 1645510581885,
     "user": {
      "displayName": "최영제",
      "photoUrl": "https://lh3.googleusercontent.com/a/default-user=s64",
      "userId": "07722901092434959404"
     },
     "user_tz": -540
    },
    "id": "P8rc8gnWrPzu",
    "outputId": "23f62831-295c-4c6e-95a1-f61ff37e6c16"
   },
   "outputs": [
    {
     "data": {
      "text/html": [
       "<div>\n",
       "<style scoped>\n",
       "    .dataframe tbody tr th:only-of-type {\n",
       "        vertical-align: middle;\n",
       "    }\n",
       "\n",
       "    .dataframe tbody tr th {\n",
       "        vertical-align: top;\n",
       "    }\n",
       "\n",
       "    .dataframe thead th {\n",
       "        text-align: right;\n",
       "    }\n",
       "</style>\n",
       "<table border=\"1\" class=\"dataframe\">\n",
       "  <thead>\n",
       "    <tr style=\"text-align: right;\">\n",
       "      <th></th>\n",
       "      <th>Symbol</th>\n",
       "      <th>Name</th>\n",
       "      <th>Industry</th>\n",
       "      <th>IndustryCode</th>\n",
       "    </tr>\n",
       "  </thead>\n",
       "  <tbody>\n",
       "    <tr>\n",
       "      <th>0</th>\n",
       "      <td>TSM</td>\n",
       "      <td>Taiwan Semiconductor Manufacturing Co Ltd ADR</td>\n",
       "      <td>반도체 및 반도체 장비</td>\n",
       "      <td>571010.0</td>\n",
       "    </tr>\n",
       "    <tr>\n",
       "      <th>1</th>\n",
       "      <td>V</td>\n",
       "      <td>Visa Inc Class A</td>\n",
       "      <td>소프트웨어 및 IT서비스</td>\n",
       "      <td>572010.0</td>\n",
       "    </tr>\n",
       "    <tr>\n",
       "      <th>2</th>\n",
       "      <td>JPM</td>\n",
       "      <td>JPMorgan Chase &amp; Co</td>\n",
       "      <td>은행</td>\n",
       "      <td>551010.0</td>\n",
       "    </tr>\n",
       "    <tr>\n",
       "      <th>3</th>\n",
       "      <td>UNH</td>\n",
       "      <td>UnitedHealth Group Inc</td>\n",
       "      <td>헬스케어 업체 및 서비스</td>\n",
       "      <td>561020.0</td>\n",
       "    </tr>\n",
       "    <tr>\n",
       "      <th>4</th>\n",
       "      <td>JNJ</td>\n",
       "      <td>Johnson &amp; Johnson</td>\n",
       "      <td>제약</td>\n",
       "      <td>562010.0</td>\n",
       "    </tr>\n",
       "  </tbody>\n",
       "</table>\n",
       "</div>"
      ],
      "text/plain": [
       "  Symbol                                           Name       Industry  \\\n",
       "0    TSM  Taiwan Semiconductor Manufacturing Co Ltd ADR   반도체 및 반도체 장비   \n",
       "1      V                               Visa Inc Class A  소프트웨어 및 IT서비스   \n",
       "2    JPM                            JPMorgan Chase & Co             은행   \n",
       "3    UNH                         UnitedHealth Group Inc  헬스케어 업체 및 서비스   \n",
       "4    JNJ                              Johnson & Johnson             제약   \n",
       "\n",
       "   IndustryCode  \n",
       "0      571010.0  \n",
       "1      572010.0  \n",
       "2      551010.0  \n",
       "3      561020.0  \n",
       "4      562010.0  "
      ]
     },
     "execution_count": 7,
     "metadata": {},
     "output_type": "execute_result"
    }
   ],
   "source": [
    "tot_df.head()"
   ]
  },
  {
   "cell_type": "code",
   "execution_count": null,
   "metadata": {
    "id": "r_aUd-UItRXu"
   },
   "outputs": [],
   "source": []
  },
  {
   "cell_type": "markdown",
   "metadata": {
    "id": "WKFwAO_ItTql"
   },
   "source": [
    "# Name to Symbol"
   ]
  },
  {
   "cell_type": "markdown",
   "metadata": {
    "id": "dUBLeLAZtfX2"
   },
   "source": [
    "- 가장 유사한 이름 탐색"
   ]
  },
  {
   "cell_type": "code",
   "execution_count": 11,
   "metadata": {
    "executionInfo": {
     "elapsed": 762,
     "status": "ok",
     "timestamp": 1645515220743,
     "user": {
      "displayName": "최영제",
      "photoUrl": "https://lh3.googleusercontent.com/a/default-user=s64",
      "userId": "07722901092434959404"
     },
     "user_tz": -540
    },
    "id": "r-3_X1VkcVV8"
   },
   "outputs": [],
   "source": [
    "from sklearn.feature_extraction.text import TfidfVectorizer, CountVectorizer\n",
    "from sklearn.metrics.pairwise import cosine_similarity"
   ]
  },
  {
   "cell_type": "code",
   "execution_count": 12,
   "metadata": {
    "executionInfo": {
     "elapsed": 4,
     "status": "ok",
     "timestamp": 1645515220744,
     "user": {
      "displayName": "최영제",
      "photoUrl": "https://lh3.googleusercontent.com/a/default-user=s64",
      "userId": "07722901092434959404"
     },
     "user_tz": -540
    },
    "id": "GfznpFo-tRUa"
   },
   "outputs": [],
   "source": [
    "etf_name = [\"Berkshire Hathaway Inc. Class B\",\n",
    "\"JPMorgan Chase & Co.\", \n",
    "\"Citigroup Inc.\",\n",
    "\"Goldman Sachs Group, Inc.\"]"
   ]
  },
  {
   "cell_type": "code",
   "execution_count": 13,
   "metadata": {
    "executionInfo": {
     "elapsed": 3,
     "status": "ok",
     "timestamp": 1645515221573,
     "user": {
      "displayName": "최영제",
      "photoUrl": "https://lh3.googleusercontent.com/a/default-user=s64",
      "userId": "07722901092434959404"
     },
     "user_tz": -540
    },
    "id": "mJZDMEWBfvdA"
   },
   "outputs": [],
   "source": [
    "def print_symbol(name, etf_name, tot_df):\n",
    "    # 탐색 key value 선정\n",
    "    temp_key_value = name.split(\" \")\n",
    "    key_value = temp_key_value[0]\n",
    "\n",
    "    # TDM 구축\n",
    "    total_name = []\n",
    "    total_name.extend(etf_name)\n",
    "    total_name.extend(list(tot_df.Name))\n",
    "\n",
    "    tokenizer = CountVectorizer()\n",
    "    tdm=tokenizer.fit_transform(total_name)\n",
    "\n",
    "    first_select = [idx for idx, x in enumerate(total_name) if x.startswith(key_value)]\n",
    "\n",
    "    if len(first_select) == 2:\n",
    "        output_idx = first_select[1] - len(etf_name)\n",
    "    else:\n",
    "        sims = cosine_similarity(tdm[first_select[0]], tdm[first_select[1:]])\n",
    "        output_idx = first_select[1:][np.argmax(sims)] - len(etf_name)\n",
    "\n",
    "    print(\"name: \", name,\"\\nresult:\", tot_df.Name[output_idx])\n",
    "\n",
    "    return tot_df.iloc[output_idx].Symbol"
   ]
  },
  {
   "cell_type": "code",
   "execution_count": 14,
   "metadata": {
    "colab": {
     "base_uri": "https://localhost:8080/",
     "height": 72
    },
    "executionInfo": {
     "elapsed": 682,
     "status": "ok",
     "timestamp": 1645501149085,
     "user": {
      "displayName": "최영제",
      "photoUrl": "https://lh3.googleusercontent.com/a/default-user=s64",
      "userId": "07722901092434959404"
     },
     "user_tz": -540
    },
    "id": "Lr8dtRXygGix",
    "outputId": "b4c87603-6588-4a85-f393-684986f75607"
   },
   "outputs": [
    {
     "name": "stdout",
     "output_type": "stream",
     "text": [
      "name:  Goldman Sachs Group, Inc. \n",
      "result: Goldman Sachs Group Inc\n"
     ]
    },
    {
     "data": {
      "text/plain": [
       "'GS'"
      ]
     },
     "execution_count": 14,
     "metadata": {},
     "output_type": "execute_result"
    }
   ],
   "source": [
    "symbol = print_symbol(etf_name[3], etf_name, tot_df); symbol"
   ]
  },
  {
   "cell_type": "code",
   "execution_count": null,
   "metadata": {
    "id": "_vjQTS2M09aN"
   },
   "outputs": [],
   "source": []
  },
  {
   "cell_type": "markdown",
   "metadata": {
    "id": "WO5YkfIhdbXI"
   },
   "source": [
    "* yfinance 기준 주가 데이터 수집"
   ]
  },
  {
   "cell_type": "code",
   "execution_count": 8,
   "metadata": {
    "colab": {
     "base_uri": "https://localhost:8080/",
     "height": 363
    },
    "executionInfo": {
     "elapsed": 338,
     "status": "ok",
     "timestamp": 1645510594836,
     "user": {
      "displayName": "최영제",
      "photoUrl": "https://lh3.googleusercontent.com/a/default-user=s64",
      "userId": "07722901092434959404"
     },
     "user_tz": -540
    },
    "id": "-K7o9Oyvhbvd",
    "outputId": "7437a021-44eb-4af0-f28a-d78cea3c847b"
   },
   "outputs": [
    {
     "data": {
      "text/html": [
       "<div>\n",
       "<style scoped>\n",
       "    .dataframe tbody tr th:only-of-type {\n",
       "        vertical-align: middle;\n",
       "    }\n",
       "\n",
       "    .dataframe tbody tr th {\n",
       "        vertical-align: top;\n",
       "    }\n",
       "\n",
       "    .dataframe thead th {\n",
       "        text-align: right;\n",
       "    }\n",
       "</style>\n",
       "<table border=\"1\" class=\"dataframe\">\n",
       "  <thead>\n",
       "    <tr style=\"text-align: right;\">\n",
       "      <th></th>\n",
       "      <th>Symbol</th>\n",
       "      <th>Name</th>\n",
       "      <th>Industry</th>\n",
       "      <th>IndustryCode</th>\n",
       "    </tr>\n",
       "  </thead>\n",
       "  <tbody>\n",
       "    <tr>\n",
       "      <th>0</th>\n",
       "      <td>TSM</td>\n",
       "      <td>Taiwan Semiconductor Manufacturing Co Ltd ADR</td>\n",
       "      <td>반도체 및 반도체 장비</td>\n",
       "      <td>571010.0</td>\n",
       "    </tr>\n",
       "    <tr>\n",
       "      <th>1</th>\n",
       "      <td>V</td>\n",
       "      <td>Visa Inc Class A</td>\n",
       "      <td>소프트웨어 및 IT서비스</td>\n",
       "      <td>572010.0</td>\n",
       "    </tr>\n",
       "    <tr>\n",
       "      <th>2</th>\n",
       "      <td>JPM</td>\n",
       "      <td>JPMorgan Chase &amp; Co</td>\n",
       "      <td>은행</td>\n",
       "      <td>551010.0</td>\n",
       "    </tr>\n",
       "    <tr>\n",
       "      <th>3</th>\n",
       "      <td>UNH</td>\n",
       "      <td>UnitedHealth Group Inc</td>\n",
       "      <td>헬스케어 업체 및 서비스</td>\n",
       "      <td>561020.0</td>\n",
       "    </tr>\n",
       "    <tr>\n",
       "      <th>4</th>\n",
       "      <td>JNJ</td>\n",
       "      <td>Johnson &amp; Johnson</td>\n",
       "      <td>제약</td>\n",
       "      <td>562010.0</td>\n",
       "    </tr>\n",
       "    <tr>\n",
       "      <th>5</th>\n",
       "      <td>BRK.B</td>\n",
       "      <td>Berkshire Hathaway Inc Class B</td>\n",
       "      <td>복합 기업</td>\n",
       "      <td>544010.0</td>\n",
       "    </tr>\n",
       "    <tr>\n",
       "      <th>6</th>\n",
       "      <td>BAC</td>\n",
       "      <td>Bank of America Corp</td>\n",
       "      <td>은행</td>\n",
       "      <td>551010.0</td>\n",
       "    </tr>\n",
       "    <tr>\n",
       "      <th>7</th>\n",
       "      <td>WMT</td>\n",
       "      <td>Walmart Inc</td>\n",
       "      <td>식품 및 약품소매</td>\n",
       "      <td>543010.0</td>\n",
       "    </tr>\n",
       "    <tr>\n",
       "      <th>8</th>\n",
       "      <td>PG</td>\n",
       "      <td>Procter &amp; Gamble Co</td>\n",
       "      <td>개인, 가정 용품 및 서비스</td>\n",
       "      <td>542010.0</td>\n",
       "    </tr>\n",
       "    <tr>\n",
       "      <th>9</th>\n",
       "      <td>HD</td>\n",
       "      <td>Home Depot Inc</td>\n",
       "      <td>전문품 상점</td>\n",
       "      <td>534030.0</td>\n",
       "    </tr>\n",
       "  </tbody>\n",
       "</table>\n",
       "</div>"
      ],
      "text/plain": [
       "  Symbol                                           Name         Industry  \\\n",
       "0    TSM  Taiwan Semiconductor Manufacturing Co Ltd ADR     반도체 및 반도체 장비   \n",
       "1      V                               Visa Inc Class A    소프트웨어 및 IT서비스   \n",
       "2    JPM                            JPMorgan Chase & Co               은행   \n",
       "3    UNH                         UnitedHealth Group Inc    헬스케어 업체 및 서비스   \n",
       "4    JNJ                              Johnson & Johnson               제약   \n",
       "5  BRK.B                 Berkshire Hathaway Inc Class B            복합 기업   \n",
       "6    BAC                           Bank of America Corp               은행   \n",
       "7    WMT                                    Walmart Inc        식품 및 약품소매   \n",
       "8     PG                            Procter & Gamble Co  개인, 가정 용품 및 서비스   \n",
       "9     HD                                 Home Depot Inc           전문품 상점   \n",
       "\n",
       "   IndustryCode  \n",
       "0      571010.0  \n",
       "1      572010.0  \n",
       "2      551010.0  \n",
       "3      561020.0  \n",
       "4      562010.0  \n",
       "5      544010.0  \n",
       "6      551010.0  \n",
       "7      543010.0  \n",
       "8      542010.0  \n",
       "9      534030.0  "
      ]
     },
     "execution_count": 8,
     "metadata": {},
     "output_type": "execute_result"
    }
   ],
   "source": [
    "tot_df.head(10)"
   ]
  },
  {
   "cell_type": "code",
   "execution_count": 8,
   "metadata": {
    "executionInfo": {
     "elapsed": 3,
     "status": "ok",
     "timestamp": 1645515317539,
     "user": {
      "displayName": "최영제",
      "photoUrl": "https://lh3.googleusercontent.com/a/default-user=s64",
      "userId": "07722901092434959404"
     },
     "user_tz": -540
    },
    "id": "1ESX8uCkiVz4"
   },
   "outputs": [],
   "source": [
    "stock_list = []\n",
    "col_names = []"
   ]
  },
  {
   "cell_type": "code",
   "execution_count": 9,
   "metadata": {
    "executionInfo": {
     "elapsed": 2,
     "status": "ok",
     "timestamp": 1645515318057,
     "user": {
      "displayName": "최영제",
      "photoUrl": "https://lh3.googleusercontent.com/a/default-user=s64",
      "userId": "07722901092434959404"
     },
     "user_tz": -540
    },
    "id": "wds794pqIDAu"
   },
   "outputs": [],
   "source": [
    "start_idx = 0"
   ]
  },
  {
   "cell_type": "code",
   "execution_count": null,
   "metadata": {
    "colab": {
     "base_uri": "https://localhost:8080/"
    },
    "collapsed": true,
    "id": "JOJeyrBvh5LN",
    "jupyter": {
     "outputs_hidden": true
    },
    "outputId": "310c5b27-0a23-4904-9bd0-50f7f432338d"
   },
   "outputs": [
    {
     "name": "stderr",
     "output_type": "stream",
     "text": [
      "6it [00:02,  2.14it/s]"
     ]
    },
    {
     "name": "stdout",
     "output_type": "stream",
     "text": [
      "\n",
      "1 Failed download:\n",
      "- BRK.B: No data found, symbol may be delisted\n"
     ]
    },
    {
     "name": "stderr",
     "output_type": "stream",
     "text": [
      "14it [00:06,  2.62it/s]"
     ]
    },
    {
     "name": "stdout",
     "output_type": "stream",
     "text": [
      "\n",
      "1 Failed download:\n",
      "- BRK.A: No data found, symbol may be delisted\n"
     ]
    },
    {
     "name": "stderr",
     "output_type": "stream",
     "text": [
      "31it [00:13,  3.02it/s]"
     ]
    },
    {
     "name": "stdout",
     "output_type": "stream",
     "text": [
      "\n",
      "1 Failed download:\n",
      "- RDS.A: No data found, symbol may be delisted\n"
     ]
    },
    {
     "name": "stderr",
     "output_type": "stream",
     "text": [
      "92it [00:45,  2.52it/s]"
     ]
    },
    {
     "name": "stdout",
     "output_type": "stream",
     "text": [
      "\n",
      "1 Failed download:\n",
      "- RDS.B: No data found for this date range, symbol may be delisted\n"
     ]
    },
    {
     "name": "stderr",
     "output_type": "stream",
     "text": [
      "93it [00:45,  1.98it/s]"
     ]
    },
    {
     "name": "stdout",
     "output_type": "stream",
     "text": [
      "\n",
      "1 Failed download:\n",
      "- UN: No data found, symbol may be delisted\n"
     ]
    },
    {
     "name": "stderr",
     "output_type": "stream",
     "text": [
      "249it [01:53,  2.92it/s]"
     ]
    },
    {
     "name": "stdout",
     "output_type": "stream",
     "text": [
      "\n",
      "1 Failed download:\n",
      "- PBR.A: No data found, symbol may be delisted\n"
     ]
    },
    {
     "name": "stderr",
     "output_type": "stream",
     "text": [
      "390it [02:56,  1.98it/s]"
     ]
    },
    {
     "name": "stdout",
     "output_type": "stream",
     "text": [
      "\n",
      "1 Failed download:\n",
      "- BF.B: No data found for this date range, symbol may be delisted\n"
     ]
    },
    {
     "name": "stderr",
     "output_type": "stream",
     "text": [
      "534it [03:56,  3.04it/s]"
     ]
    },
    {
     "name": "stdout",
     "output_type": "stream",
     "text": [
      "\n",
      "1 Failed download:\n",
      "- VER: No data found, symbol may be delisted\n"
     ]
    },
    {
     "name": "stderr",
     "output_type": "stream",
     "text": [
      "568it [04:08,  2.93it/s]"
     ]
    },
    {
     "name": "stdout",
     "output_type": "stream",
     "text": [
      "\n",
      "1 Failed download:\n",
      "- BF.A: No data found, symbol may be delisted\n"
     ]
    },
    {
     "name": "stderr",
     "output_type": "stream",
     "text": [
      "624it [04:33,  2.56it/s]"
     ]
    },
    {
     "name": "stdout",
     "output_type": "stream",
     "text": [
      "\n",
      "1 Failed download:\n",
      "- HEI.A: No data found, symbol may be delisted\n"
     ]
    },
    {
     "name": "stderr",
     "output_type": "stream",
     "text": [
      "641it [04:40,  1.60it/s]"
     ]
    },
    {
     "name": "stdout",
     "output_type": "stream",
     "text": [
      "\n",
      "1 Failed download:\n",
      "- XEC: No data found, symbol may be delisted\n"
     ]
    },
    {
     "name": "stderr",
     "output_type": "stream",
     "text": [
      "651it [04:43,  2.91it/s]"
     ]
    },
    {
     "name": "stdout",
     "output_type": "stream",
     "text": [
      "\n",
      "1 Failed download:\n",
      "- COG: No data found, symbol may be delisted\n"
     ]
    },
    {
     "name": "stderr",
     "output_type": "stream",
     "text": [
      "829it [05:55,  3.05it/s]"
     ]
    },
    {
     "name": "stdout",
     "output_type": "stream",
     "text": [
      "\n",
      "1 Failed download:\n",
      "- STZ.B: No data found for this date range, symbol may be delisted\n"
     ]
    },
    {
     "name": "stderr",
     "output_type": "stream",
     "text": [
      "837it [05:59,  2.73it/s]"
     ]
    },
    {
     "name": "stdout",
     "output_type": "stream",
     "text": [
      "\n",
      "1 Failed download:\n",
      "- MDLA: No data found, symbol may be delisted\n"
     ]
    },
    {
     "name": "stderr",
     "output_type": "stream",
     "text": [
      "890it [06:22,  2.96it/s]"
     ]
    },
    {
     "name": "stdout",
     "output_type": "stream",
     "text": [
      "\n",
      "1 Failed download:\n",
      "- GRP.U: No data found, symbol may be delisted\n"
     ]
    },
    {
     "name": "stderr",
     "output_type": "stream",
     "text": [
      "1060it [09:04,  2.34it/s]"
     ]
    },
    {
     "name": "stdout",
     "output_type": "stream",
     "text": [
      "\n",
      "1 Failed download:\n",
      "- SOGO: No data found, symbol may be delisted\n"
     ]
    },
    {
     "name": "stderr",
     "output_type": "stream",
     "text": [
      "1073it [09:16,  1.13it/s]"
     ]
    },
    {
     "name": "stdout",
     "output_type": "stream",
     "text": [
      "\n",
      "1 Failed download:\n",
      "- CMD: No data found, symbol may be delisted\n"
     ]
    },
    {
     "name": "stderr",
     "output_type": "stream",
     "text": [
      "1081it [09:26,  1.07s/it]"
     ]
    },
    {
     "name": "stdout",
     "output_type": "stream",
     "text": [
      "\n",
      "1 Failed download:\n",
      "- BIO.B: No data found for this date range, symbol may be delisted\n"
     ]
    },
    {
     "name": "stderr",
     "output_type": "stream",
     "text": [
      "1105it [09:38,  3.48it/s]"
     ]
    },
    {
     "name": "stdout",
     "output_type": "stream",
     "text": [
      "\n",
      "1 Failed download:\n",
      "- BXS: No data found, symbol may be delisted\n"
     ]
    },
    {
     "name": "stderr",
     "output_type": "stream",
     "text": [
      "1164it [10:01,  2.85it/s]"
     ]
    },
    {
     "name": "stdout",
     "output_type": "stream",
     "text": [
      "\n",
      "1 Failed download:\n",
      "- LEN.B: No data found for this date range, symbol may be delisted\n"
     ]
    },
    {
     "name": "stderr",
     "output_type": "stream",
     "text": [
      "1249it [10:31,  2.62it/s]"
     ]
    },
    {
     "name": "stdout",
     "output_type": "stream",
     "text": [
      "\n",
      "1 Failed download:\n",
      "- N: No data found for this date range, symbol may be delisted\n"
     ]
    },
    {
     "name": "stderr",
     "output_type": "stream",
     "text": [
      "1254it [10:32,  3.67it/s]"
     ]
    },
    {
     "name": "stdout",
     "output_type": "stream",
     "text": [
      "\n",
      "1 Failed download:\n",
      "- JW.A: No data found, symbol may be delisted\n"
     ]
    },
    {
     "name": "stderr",
     "output_type": "stream",
     "text": [
      "1266it [10:38,  2.07it/s]"
     ]
    },
    {
     "name": "stdout",
     "output_type": "stream",
     "text": [
      "\n",
      "1 Failed download:\n",
      "- CWEN.A: No data found, symbol may be delisted\n"
     ]
    },
    {
     "name": "stderr",
     "output_type": "stream",
     "text": [
      "1288it [10:45,  3.34it/s]"
     ]
    },
    {
     "name": "stdout",
     "output_type": "stream",
     "text": [
      "\n",
      "1 Failed download:\n",
      "- MOG.A: No data found, symbol may be delisted\n"
     ]
    },
    {
     "name": "stderr",
     "output_type": "stream",
     "text": [
      "1350it [11:08,  2.36it/s]"
     ]
    },
    {
     "name": "stdout",
     "output_type": "stream",
     "text": [
      "\n",
      "1 Failed download:\n",
      "- Q: No data found for this date range, symbol may be delisted\n"
     ]
    },
    {
     "name": "stderr",
     "output_type": "stream",
     "text": [
      "1365it [11:14,  3.00it/s]"
     ]
    },
    {
     "name": "stdout",
     "output_type": "stream",
     "text": [
      "\n",
      "1 Failed download:\n",
      "- CIG.C: No data found, symbol may be delisted\n"
     ]
    },
    {
     "name": "stderr",
     "output_type": "stream",
     "text": [
      "1406it [11:30,  3.25it/s]"
     ]
    },
    {
     "name": "stdout",
     "output_type": "stream",
     "text": [
      "\n",
      "1 Failed download:\n",
      "- MKC.V: No data found, symbol may be delisted\n"
     ]
    },
    {
     "name": "stderr",
     "output_type": "stream",
     "text": [
      "1418it [11:36,  1.51it/s]"
     ]
    },
    {
     "name": "stdout",
     "output_type": "stream",
     "text": [
      "\n",
      "1 Failed download:\n",
      "- Q: No data found for this date range, symbol may be delisted\n"
     ]
    },
    {
     "name": "stderr",
     "output_type": "stream",
     "text": [
      "1421it [11:39,  1.15it/s]"
     ]
    },
    {
     "name": "stdout",
     "output_type": "stream",
     "text": [
      "\n",
      "1 Failed download:\n",
      "- EBR.B: No data found, symbol may be delisted\n"
     ]
    },
    {
     "name": "stderr",
     "output_type": "stream",
     "text": [
      "1429it [11:50,  1.55s/it]"
     ]
    },
    {
     "name": "stdout",
     "output_type": "stream",
     "text": [
      "\n",
      "1 Failed download:\n",
      "- PR: No data found for this date range, symbol may be delisted\n"
     ]
    },
    {
     "name": "stderr",
     "output_type": "stream",
     "text": [
      "1446it [12:10,  1.65s/it]"
     ]
    },
    {
     "name": "stdout",
     "output_type": "stream",
     "text": [
      "\n",
      "1 Failed download:\n",
      "- PR: No data found for this date range, symbol may be delisted\n"
     ]
    },
    {
     "name": "stderr",
     "output_type": "stream",
     "text": [
      "1451it [12:16,  1.20s/it]"
     ]
    },
    {
     "name": "stdout",
     "output_type": "stream",
     "text": [
      "\n",
      "1 Failed download:\n",
      "- PR: No data found for this date range, symbol may be delisted\n"
     ]
    },
    {
     "name": "stderr",
     "output_type": "stream",
     "text": [
      "1471it [12:39,  1.33s/it]"
     ]
    },
    {
     "name": "stdout",
     "output_type": "stream",
     "text": [
      "\n",
      "1 Failed download:\n",
      "- PR: No data found for this date range, symbol may be delisted\n"
     ]
    },
    {
     "name": "stderr",
     "output_type": "stream",
     "text": [
      "1477it [12:45,  1.11it/s]"
     ]
    },
    {
     "name": "stdout",
     "output_type": "stream",
     "text": [
      "\n",
      "1 Failed download:\n",
      "- WSO.B: No data found, symbol may be delisted\n"
     ]
    },
    {
     "name": "stderr",
     "output_type": "stream",
     "text": [
      "1493it [13:02,  1.20s/it]"
     ]
    },
    {
     "name": "stdout",
     "output_type": "stream",
     "text": [
      "\n",
      "1 Failed download:\n",
      "- PR: No data found for this date range, symbol may be delisted\n"
     ]
    },
    {
     "name": "stderr",
     "output_type": "stream",
     "text": [
      "1532it [13:44,  1.61s/it]"
     ]
    },
    {
     "name": "stdout",
     "output_type": "stream",
     "text": [
      "\n",
      "1 Failed download:\n",
      "- PR: No data found for this date range, symbol may be delisted\n"
     ]
    },
    {
     "name": "stderr",
     "output_type": "stream",
     "text": [
      "1533it [13:45,  1.62s/it]"
     ]
    },
    {
     "name": "stdout",
     "output_type": "stream",
     "text": [
      "\n",
      "1 Failed download:\n",
      "- I: No data found, symbol may be delisted\n"
     ]
    },
    {
     "name": "stderr",
     "output_type": "stream",
     "text": [
      "1537it [13:47,  1.66it/s]"
     ]
    },
    {
     "name": "stdout",
     "output_type": "stream",
     "text": [
      "\n",
      "1 Failed download:\n",
      "- KAHC.U: No data found, symbol may be delisted\n"
     ]
    },
    {
     "name": "stderr",
     "output_type": "stream",
     "text": [
      "1540it [13:49,  1.42it/s]"
     ]
    },
    {
     "name": "stdout",
     "output_type": "stream",
     "text": [
      "\n",
      "1 Failed download:\n",
      "- ASZ.U: No data found, symbol may be delisted\n"
     ]
    },
    {
     "name": "stderr",
     "output_type": "stream",
     "text": [
      "1542it [13:53,  1.16s/it]"
     ]
    },
    {
     "name": "stdout",
     "output_type": "stream",
     "text": [
      "\n",
      "1 Failed download:\n",
      "- CVII.U: No data found, symbol may be delisted\n"
     ]
    },
    {
     "name": "stderr",
     "output_type": "stream",
     "text": [
      "1553it [14:03,  1.05s/it]"
     ]
    },
    {
     "name": "stdout",
     "output_type": "stream",
     "text": [
      "\n",
      "1 Failed download:\n",
      "- PR: No data found for this date range, symbol may be delisted\n"
     ]
    },
    {
     "name": "stderr",
     "output_type": "stream",
     "text": [
      "1559it [14:12,  1.71s/it]"
     ]
    },
    {
     "name": "stdout",
     "output_type": "stream",
     "text": [
      "\n",
      "1 Failed download:\n",
      "- PR: No data found for this date range, symbol may be delisted\n"
     ]
    },
    {
     "name": "stderr",
     "output_type": "stream",
     "text": [
      "1572it [14:31,  1.65s/it]"
     ]
    },
    {
     "name": "stdout",
     "output_type": "stream",
     "text": [
      "\n",
      "2 Failed downloads:\n",
      "- N: No data found for this date range, symbol may be delisted\n",
      "- PR: No data found for this date range, symbol may be delisted\n"
     ]
    },
    {
     "name": "stderr",
     "output_type": "stream",
     "text": [
      "1603it [15:06,  1.65it/s]"
     ]
    },
    {
     "name": "stdout",
     "output_type": "stream",
     "text": [
      "\n",
      "1 Failed download:\n",
      "- GEF.B: No data found for this date range, symbol may be delisted\n"
     ]
    },
    {
     "name": "stderr",
     "output_type": "stream",
     "text": [
      "1609it [15:09,  1.27it/s]"
     ]
    },
    {
     "name": "stdout",
     "output_type": "stream",
     "text": [
      "\n",
      "1 Failed download:\n",
      "- PR: No data found for this date range, symbol may be delisted\n"
     ]
    },
    {
     "name": "stderr",
     "output_type": "stream",
     "text": [
      "1626it [15:22,  2.60it/s]"
     ]
    },
    {
     "name": "stdout",
     "output_type": "stream",
     "text": [
      "\n",
      "1 Failed download:\n",
      "- IPOF.U: No data found, symbol may be delisted\n"
     ]
    },
    {
     "name": "stderr",
     "output_type": "stream",
     "text": [
      "1643it [15:32,  2.06it/s]"
     ]
    },
    {
     "name": "stdout",
     "output_type": "stream",
     "text": [
      "\n",
      "1 Failed download:\n",
      "- LGF.A: No data found, symbol may be delisted\n"
     ]
    },
    {
     "name": "stderr",
     "output_type": "stream",
     "text": [
      "1646it [15:33,  2.26it/s]"
     ]
    },
    {
     "name": "stdout",
     "output_type": "stream",
     "text": [
      "\n",
      "1 Failed download:\n",
      "- Q: No data found for this date range, symbol may be delisted\n"
     ]
    },
    {
     "name": "stderr",
     "output_type": "stream",
     "text": [
      "1649it [15:34,  2.83it/s]"
     ]
    },
    {
     "name": "stdout",
     "output_type": "stream",
     "text": [
      "\n",
      "1 Failed download:\n",
      "- LDL: No data found, symbol may be delisted\n"
     ]
    },
    {
     "name": "stderr",
     "output_type": "stream",
     "text": [
      "1659it [15:39,  2.55it/s]"
     ]
    },
    {
     "name": "stdout",
     "output_type": "stream",
     "text": [
      "\n",
      "1 Failed download:\n",
      "- PRPB.U: No data found, symbol may be delisted\n"
     ]
    },
    {
     "name": "stderr",
     "output_type": "stream",
     "text": [
      "1664it [15:41,  3.22it/s]"
     ]
    }
   ],
   "source": [
    "for idx, code in tqdm(enumerate(tot_df.Symbol[start_idx:])):\n",
    "    temp = yf.download(code,start = '2015-01-01', progress = False).loc[:, ['Close']]\n",
    "    try:\n",
    "        temp.columns = [code]\n",
    "    except ValueError:\n",
    "        start_idx += 1\n",
    "        continue\n",
    "        \n",
    "    stock_list.append(temp)\n",
    "    start_idx += 1"
   ]
  },
  {
   "cell_type": "code",
   "execution_count": null,
   "metadata": {
    "executionInfo": {
     "elapsed": 5,
     "status": "aborted",
     "timestamp": 1645511119554,
     "user": {
      "displayName": "최영제",
      "photoUrl": "https://lh3.googleusercontent.com/a/default-user=s64",
      "userId": "07722901092434959404"
     },
     "user_tz": -540
    },
    "id": "k85Zuas6htLI"
   },
   "outputs": [],
   "source": [
    "stock_df = pd.concat(stock_list, axis = 1)\n",
    "print(stock_df.shape)\n",
    "stock_df.head()"
   ]
  },
  {
   "cell_type": "code",
   "execution_count": null,
   "metadata": {
    "id": "IDBuZX1hjDoc"
   },
   "outputs": [],
   "source": [
    "stock_df.reset_index(inplace = True)\n",
    "stock_df.to_csv(out_data_path + \"stock_df.csv\", index =False)"
   ]
  },
  {
   "cell_type": "code",
   "execution_count": null,
   "metadata": {},
   "outputs": [],
   "source": []
  },
  {
   "cell_type": "markdown",
   "metadata": {},
   "source": [
    "* NaN인 애들 재크롤링"
   ]
  },
  {
   "cell_type": "code",
   "execution_count": null,
   "metadata": {},
   "outputs": [],
   "source": [
    "nan_names = stock_df.columns[(stock_df.isnull().sum(axis = 0) == 1832)]\n",
    "nan_names = [x.split(\".\")[0] for x in nan_names if type(x) == str]\n",
    "nan_names = list(pd.Series(nan_names).unique())"
   ]
  },
  {
   "cell_type": "code",
   "execution_count": null,
   "metadata": {
    "executionInfo": {
     "elapsed": 3,
     "status": "ok",
     "timestamp": 1645515317539,
     "user": {
      "displayName": "최영제",
      "photoUrl": "https://lh3.googleusercontent.com/a/default-user=s64",
      "userId": "07722901092434959404"
     },
     "user_tz": -540
    },
    "id": "1ESX8uCkiVz4"
   },
   "outputs": [],
   "source": [
    "stock_list = []\n",
    "col_names = []"
   ]
  },
  {
   "cell_type": "code",
   "execution_count": null,
   "metadata": {
    "executionInfo": {
     "elapsed": 2,
     "status": "ok",
     "timestamp": 1645515318057,
     "user": {
      "displayName": "최영제",
      "photoUrl": "https://lh3.googleusercontent.com/a/default-user=s64",
      "userId": "07722901092434959404"
     },
     "user_tz": -540
    },
    "id": "wds794pqIDAu"
   },
   "outputs": [],
   "source": [
    "start_idx = 0"
   ]
  },
  {
   "cell_type": "code",
   "execution_count": null,
   "metadata": {
    "colab": {
     "base_uri": "https://localhost:8080/"
    },
    "id": "JOJeyrBvh5LN",
    "outputId": "310c5b27-0a23-4904-9bd0-50f7f432338d"
   },
   "outputs": [],
   "source": [
    "for idx, code in tqdm(enumerate(nan_names[start_idx:])):\n",
    "    temp = yf.download(code,start = '2015-01-01', progress = False).loc[:, ['Close']]\n",
    "    try:\n",
    "        temp.columns = [code]\n",
    "    except ValueError:\n",
    "        start_idx += 1\n",
    "        continue\n",
    "        \n",
    "    stock_list.append(temp)\n",
    "    start_idx += 1"
   ]
  },
  {
   "cell_type": "code",
   "execution_count": null,
   "metadata": {},
   "outputs": [],
   "source": [
    "stock_df2 = pd.concat(stock_list, axis = 1)\n",
    "print(stock_df2.shape)\n",
    "stock_df2.head()"
   ]
  },
  {
   "cell_type": "code",
   "execution_count": null,
   "metadata": {},
   "outputs": [],
   "source": [
    "stock_df2.Date = pd.to_datetime(stock_df2.Date)"
   ]
  },
  {
   "cell_type": "code",
   "execution_count": null,
   "metadata": {},
   "outputs": [],
   "source": []
  },
  {
   "cell_type": "code",
   "execution_count": null,
   "metadata": {},
   "outputs": [],
   "source": []
  },
  {
   "cell_type": "markdown",
   "metadata": {},
   "source": [
    "* 종목 뽑아서 처리"
   ]
  },
  {
   "cell_type": "code",
   "execution_count": 61,
   "metadata": {},
   "outputs": [],
   "source": [
    "stock_df = pd.read_csv(data_path + \"stock_df.csv\")\n",
    "final_st_df = pd.read_csv(data_path + \"final_stock_df.csv\")"
   ]
  },
  {
   "cell_type": "code",
   "execution_count": 62,
   "metadata": {},
   "outputs": [
    {
     "data": {
      "text/html": [
       "<div>\n",
       "<style scoped>\n",
       "    .dataframe tbody tr th:only-of-type {\n",
       "        vertical-align: middle;\n",
       "    }\n",
       "\n",
       "    .dataframe tbody tr th {\n",
       "        vertical-align: top;\n",
       "    }\n",
       "\n",
       "    .dataframe thead th {\n",
       "        text-align: right;\n",
       "    }\n",
       "</style>\n",
       "<table border=\"1\" class=\"dataframe\">\n",
       "  <thead>\n",
       "    <tr style=\"text-align: right;\">\n",
       "      <th></th>\n",
       "      <th>Date</th>\n",
       "      <th>TSM</th>\n",
       "      <th>V</th>\n",
       "      <th>JPM</th>\n",
       "      <th>UNH</th>\n",
       "      <th>JNJ</th>\n",
       "      <th>BRK.B</th>\n",
       "      <th>BAC</th>\n",
       "      <th>WMT</th>\n",
       "      <th>PG</th>\n",
       "      <th>...</th>\n",
       "      <th>6628</th>\n",
       "      <th>1432</th>\n",
       "      <th>3039</th>\n",
       "      <th>9388</th>\n",
       "      <th>6695</th>\n",
       "      <th>3456</th>\n",
       "      <th>2452</th>\n",
       "      <th>7680</th>\n",
       "      <th>5073</th>\n",
       "      <th>9276</th>\n",
       "    </tr>\n",
       "  </thead>\n",
       "  <tbody>\n",
       "    <tr>\n",
       "      <th>0</th>\n",
       "      <td>2014-12-31</td>\n",
       "      <td>22.379999</td>\n",
       "      <td>65.550003</td>\n",
       "      <td>62.580002</td>\n",
       "      <td>101.089996</td>\n",
       "      <td>104.570000</td>\n",
       "      <td>NaN</td>\n",
       "      <td>17.889999</td>\n",
       "      <td>85.879997</td>\n",
       "      <td>91.089996</td>\n",
       "      <td>...</td>\n",
       "      <td>NaN</td>\n",
       "      <td>NaN</td>\n",
       "      <td>NaN</td>\n",
       "      <td>NaN</td>\n",
       "      <td>NaN</td>\n",
       "      <td>NaN</td>\n",
       "      <td>NaN</td>\n",
       "      <td>NaN</td>\n",
       "      <td>NaN</td>\n",
       "      <td>NaN</td>\n",
       "    </tr>\n",
       "    <tr>\n",
       "      <th>1</th>\n",
       "      <td>2015-01-02</td>\n",
       "      <td>22.280001</td>\n",
       "      <td>66.254997</td>\n",
       "      <td>62.490002</td>\n",
       "      <td>100.779999</td>\n",
       "      <td>104.519997</td>\n",
       "      <td>NaN</td>\n",
       "      <td>17.900000</td>\n",
       "      <td>85.900002</td>\n",
       "      <td>90.440002</td>\n",
       "      <td>...</td>\n",
       "      <td>NaN</td>\n",
       "      <td>NaN</td>\n",
       "      <td>NaN</td>\n",
       "      <td>NaN</td>\n",
       "      <td>NaN</td>\n",
       "      <td>NaN</td>\n",
       "      <td>NaN</td>\n",
       "      <td>NaN</td>\n",
       "      <td>NaN</td>\n",
       "      <td>NaN</td>\n",
       "    </tr>\n",
       "    <tr>\n",
       "      <th>2</th>\n",
       "      <td>2015-01-05</td>\n",
       "      <td>21.740000</td>\n",
       "      <td>64.792503</td>\n",
       "      <td>60.549999</td>\n",
       "      <td>99.120003</td>\n",
       "      <td>103.790001</td>\n",
       "      <td>NaN</td>\n",
       "      <td>17.379999</td>\n",
       "      <td>85.650002</td>\n",
       "      <td>90.010002</td>\n",
       "      <td>...</td>\n",
       "      <td>NaN</td>\n",
       "      <td>NaN</td>\n",
       "      <td>NaN</td>\n",
       "      <td>NaN</td>\n",
       "      <td>NaN</td>\n",
       "      <td>NaN</td>\n",
       "      <td>NaN</td>\n",
       "      <td>NaN</td>\n",
       "      <td>NaN</td>\n",
       "      <td>NaN</td>\n",
       "    </tr>\n",
       "    <tr>\n",
       "      <th>3</th>\n",
       "      <td>2015-01-06</td>\n",
       "      <td>21.360001</td>\n",
       "      <td>64.375000</td>\n",
       "      <td>58.980000</td>\n",
       "      <td>98.919998</td>\n",
       "      <td>103.279999</td>\n",
       "      <td>NaN</td>\n",
       "      <td>16.860001</td>\n",
       "      <td>86.309998</td>\n",
       "      <td>89.599998</td>\n",
       "      <td>...</td>\n",
       "      <td>NaN</td>\n",
       "      <td>NaN</td>\n",
       "      <td>NaN</td>\n",
       "      <td>NaN</td>\n",
       "      <td>NaN</td>\n",
       "      <td>NaN</td>\n",
       "      <td>NaN</td>\n",
       "      <td>NaN</td>\n",
       "      <td>NaN</td>\n",
       "      <td>NaN</td>\n",
       "    </tr>\n",
       "    <tr>\n",
       "      <th>4</th>\n",
       "      <td>2015-01-07</td>\n",
       "      <td>21.670000</td>\n",
       "      <td>65.237503</td>\n",
       "      <td>59.070000</td>\n",
       "      <td>99.930000</td>\n",
       "      <td>105.559998</td>\n",
       "      <td>NaN</td>\n",
       "      <td>16.940001</td>\n",
       "      <td>88.599998</td>\n",
       "      <td>90.070000</td>\n",
       "      <td>...</td>\n",
       "      <td>NaN</td>\n",
       "      <td>NaN</td>\n",
       "      <td>NaN</td>\n",
       "      <td>NaN</td>\n",
       "      <td>NaN</td>\n",
       "      <td>NaN</td>\n",
       "      <td>NaN</td>\n",
       "      <td>NaN</td>\n",
       "      <td>NaN</td>\n",
       "      <td>NaN</td>\n",
       "    </tr>\n",
       "  </tbody>\n",
       "</table>\n",
       "<p>5 rows × 16865 columns</p>\n",
       "</div>"
      ],
      "text/plain": [
       "         Date        TSM          V        JPM         UNH         JNJ  BRK.B  \\\n",
       "0  2014-12-31  22.379999  65.550003  62.580002  101.089996  104.570000    NaN   \n",
       "1  2015-01-02  22.280001  66.254997  62.490002  100.779999  104.519997    NaN   \n",
       "2  2015-01-05  21.740000  64.792503  60.549999   99.120003  103.790001    NaN   \n",
       "3  2015-01-06  21.360001  64.375000  58.980000   98.919998  103.279999    NaN   \n",
       "4  2015-01-07  21.670000  65.237503  59.070000   99.930000  105.559998    NaN   \n",
       "\n",
       "         BAC        WMT         PG  ...  6628  1432  3039  9388  6695  3456  \\\n",
       "0  17.889999  85.879997  91.089996  ...   NaN   NaN   NaN   NaN   NaN   NaN   \n",
       "1  17.900000  85.900002  90.440002  ...   NaN   NaN   NaN   NaN   NaN   NaN   \n",
       "2  17.379999  85.650002  90.010002  ...   NaN   NaN   NaN   NaN   NaN   NaN   \n",
       "3  16.860001  86.309998  89.599998  ...   NaN   NaN   NaN   NaN   NaN   NaN   \n",
       "4  16.940001  88.599998  90.070000  ...   NaN   NaN   NaN   NaN   NaN   NaN   \n",
       "\n",
       "   2452  7680  5073  9276  \n",
       "0   NaN   NaN   NaN   NaN  \n",
       "1   NaN   NaN   NaN   NaN  \n",
       "2   NaN   NaN   NaN   NaN  \n",
       "3   NaN   NaN   NaN   NaN  \n",
       "4   NaN   NaN   NaN   NaN  \n",
       "\n",
       "[5 rows x 16865 columns]"
      ]
     },
     "execution_count": 62,
     "metadata": {},
     "output_type": "execute_result"
    }
   ],
   "source": [
    "stock_df.head()"
   ]
  },
  {
   "cell_type": "code",
   "execution_count": 71,
   "metadata": {},
   "outputs": [
    {
     "data": {
      "text/html": [
       "<div>\n",
       "<style scoped>\n",
       "    .dataframe tbody tr th:only-of-type {\n",
       "        vertical-align: middle;\n",
       "    }\n",
       "\n",
       "    .dataframe tbody tr th {\n",
       "        vertical-align: top;\n",
       "    }\n",
       "\n",
       "    .dataframe thead th {\n",
       "        text-align: right;\n",
       "    }\n",
       "</style>\n",
       "<table border=\"1\" class=\"dataframe\">\n",
       "  <thead>\n",
       "    <tr style=\"text-align: right;\">\n",
       "      <th></th>\n",
       "      <th>etf_names</th>\n",
       "      <th>stock_names</th>\n",
       "    </tr>\n",
       "  </thead>\n",
       "  <tbody>\n",
       "    <tr>\n",
       "      <th>153604</th>\n",
       "      <td>AILV</td>\n",
       "      <td>American International Group, Inc.</td>\n",
       "    </tr>\n",
       "    <tr>\n",
       "      <th>153605</th>\n",
       "      <td>AILV</td>\n",
       "      <td>S&amp;P Global, Inc.</td>\n",
       "    </tr>\n",
       "    <tr>\n",
       "      <th>153606</th>\n",
       "      <td>AILV</td>\n",
       "      <td>BlackRock, Inc.</td>\n",
       "    </tr>\n",
       "    <tr>\n",
       "      <th>153607</th>\n",
       "      <td>AILV</td>\n",
       "      <td>Motorola Solutions, Inc.</td>\n",
       "    </tr>\n",
       "    <tr>\n",
       "      <th>153608</th>\n",
       "      <td>AILV</td>\n",
       "      <td>U.S. Dollar</td>\n",
       "    </tr>\n",
       "  </tbody>\n",
       "</table>\n",
       "</div>"
      ],
      "text/plain": [
       "       etf_names                         stock_names\n",
       "153604      AILV  American International Group, Inc.\n",
       "153605      AILV                    S&P Global, Inc.\n",
       "153606      AILV                     BlackRock, Inc.\n",
       "153607      AILV            Motorola Solutions, Inc.\n",
       "153608      AILV                         U.S. Dollar"
      ]
     },
     "execution_count": 71,
     "metadata": {},
     "output_type": "execute_result"
    }
   ],
   "source": [
    "final_st_df.tail()"
   ]
  },
  {
   "cell_type": "code",
   "execution_count": 64,
   "metadata": {},
   "outputs": [],
   "source": [
    "nan_cols = list(stock_df.isnull().sum(axis=0) != 1832)"
   ]
  },
  {
   "cell_type": "code",
   "execution_count": 65,
   "metadata": {},
   "outputs": [],
   "source": [
    "stock_df = stock_df.loc[:, nan_cols]"
   ]
  },
  {
   "cell_type": "code",
   "execution_count": 70,
   "metadata": {},
   "outputs": [
    {
     "data": {
      "text/html": [
       "<div>\n",
       "<style scoped>\n",
       "    .dataframe tbody tr th:only-of-type {\n",
       "        vertical-align: middle;\n",
       "    }\n",
       "\n",
       "    .dataframe tbody tr th {\n",
       "        vertical-align: top;\n",
       "    }\n",
       "\n",
       "    .dataframe thead th {\n",
       "        text-align: right;\n",
       "    }\n",
       "</style>\n",
       "<table border=\"1\" class=\"dataframe\">\n",
       "  <thead>\n",
       "    <tr style=\"text-align: right;\">\n",
       "      <th></th>\n",
       "      <th>Date</th>\n",
       "      <th>TSM</th>\n",
       "      <th>V</th>\n",
       "      <th>JPM</th>\n",
       "      <th>UNH</th>\n",
       "      <th>JNJ</th>\n",
       "      <th>BAC</th>\n",
       "      <th>WMT</th>\n",
       "      <th>PG</th>\n",
       "      <th>HD</th>\n",
       "      <th>...</th>\n",
       "      <th>4295</th>\n",
       "      <th>2769</th>\n",
       "      <th>2796</th>\n",
       "      <th>4098</th>\n",
       "      <th>8927</th>\n",
       "      <th>3161</th>\n",
       "      <th>2330</th>\n",
       "      <th>3719</th>\n",
       "      <th>3077</th>\n",
       "      <th>7859</th>\n",
       "    </tr>\n",
       "  </thead>\n",
       "  <tbody>\n",
       "    <tr>\n",
       "      <th>0</th>\n",
       "      <td>2014-12-31</td>\n",
       "      <td>22.379999</td>\n",
       "      <td>65.550003</td>\n",
       "      <td>62.580002</td>\n",
       "      <td>101.089996</td>\n",
       "      <td>104.570000</td>\n",
       "      <td>17.889999</td>\n",
       "      <td>85.879997</td>\n",
       "      <td>91.089996</td>\n",
       "      <td>104.970001</td>\n",
       "      <td>...</td>\n",
       "      <td>NaN</td>\n",
       "      <td>NaN</td>\n",
       "      <td>NaN</td>\n",
       "      <td>2260.0</td>\n",
       "      <td>NaN</td>\n",
       "      <td>NaN</td>\n",
       "      <td>NaN</td>\n",
       "      <td>NaN</td>\n",
       "      <td>NaN</td>\n",
       "      <td>NaN</td>\n",
       "    </tr>\n",
       "    <tr>\n",
       "      <th>1</th>\n",
       "      <td>2015-01-02</td>\n",
       "      <td>22.280001</td>\n",
       "      <td>66.254997</td>\n",
       "      <td>62.490002</td>\n",
       "      <td>100.779999</td>\n",
       "      <td>104.519997</td>\n",
       "      <td>17.900000</td>\n",
       "      <td>85.900002</td>\n",
       "      <td>90.440002</td>\n",
       "      <td>103.430000</td>\n",
       "      <td>...</td>\n",
       "      <td>NaN</td>\n",
       "      <td>NaN</td>\n",
       "      <td>NaN</td>\n",
       "      <td>2260.0</td>\n",
       "      <td>NaN</td>\n",
       "      <td>NaN</td>\n",
       "      <td>NaN</td>\n",
       "      <td>NaN</td>\n",
       "      <td>NaN</td>\n",
       "      <td>NaN</td>\n",
       "    </tr>\n",
       "    <tr>\n",
       "      <th>2</th>\n",
       "      <td>2015-01-05</td>\n",
       "      <td>21.740000</td>\n",
       "      <td>64.792503</td>\n",
       "      <td>60.549999</td>\n",
       "      <td>99.120003</td>\n",
       "      <td>103.790001</td>\n",
       "      <td>17.379999</td>\n",
       "      <td>85.650002</td>\n",
       "      <td>90.010002</td>\n",
       "      <td>101.260002</td>\n",
       "      <td>...</td>\n",
       "      <td>1143.0</td>\n",
       "      <td>1370.0</td>\n",
       "      <td>508.0</td>\n",
       "      <td>2280.0</td>\n",
       "      <td>112.0</td>\n",
       "      <td>606.0</td>\n",
       "      <td>222.000000</td>\n",
       "      <td>119.0</td>\n",
       "      <td>606.0</td>\n",
       "      <td>168.0</td>\n",
       "    </tr>\n",
       "    <tr>\n",
       "      <th>3</th>\n",
       "      <td>2015-01-06</td>\n",
       "      <td>21.360001</td>\n",
       "      <td>64.375000</td>\n",
       "      <td>58.980000</td>\n",
       "      <td>98.919998</td>\n",
       "      <td>103.279999</td>\n",
       "      <td>16.860001</td>\n",
       "      <td>86.309998</td>\n",
       "      <td>89.599998</td>\n",
       "      <td>100.949997</td>\n",
       "      <td>...</td>\n",
       "      <td>1148.0</td>\n",
       "      <td>1361.0</td>\n",
       "      <td>504.0</td>\n",
       "      <td>2230.0</td>\n",
       "      <td>110.0</td>\n",
       "      <td>604.0</td>\n",
       "      <td>211.000000</td>\n",
       "      <td>118.0</td>\n",
       "      <td>609.0</td>\n",
       "      <td>161.0</td>\n",
       "    </tr>\n",
       "    <tr>\n",
       "      <th>4</th>\n",
       "      <td>2015-01-07</td>\n",
       "      <td>21.670000</td>\n",
       "      <td>65.237503</td>\n",
       "      <td>59.070000</td>\n",
       "      <td>99.930000</td>\n",
       "      <td>105.559998</td>\n",
       "      <td>16.940001</td>\n",
       "      <td>88.599998</td>\n",
       "      <td>90.070000</td>\n",
       "      <td>104.410004</td>\n",
       "      <td>...</td>\n",
       "      <td>1131.0</td>\n",
       "      <td>1351.0</td>\n",
       "      <td>508.0</td>\n",
       "      <td>2400.0</td>\n",
       "      <td>112.0</td>\n",
       "      <td>620.0</td>\n",
       "      <td>34.583302</td>\n",
       "      <td>128.0</td>\n",
       "      <td>598.0</td>\n",
       "      <td>161.0</td>\n",
       "    </tr>\n",
       "  </tbody>\n",
       "</table>\n",
       "<p>5 rows × 7419 columns</p>\n",
       "</div>"
      ],
      "text/plain": [
       "         Date        TSM          V        JPM         UNH         JNJ  \\\n",
       "0  2014-12-31  22.379999  65.550003  62.580002  101.089996  104.570000   \n",
       "1  2015-01-02  22.280001  66.254997  62.490002  100.779999  104.519997   \n",
       "2  2015-01-05  21.740000  64.792503  60.549999   99.120003  103.790001   \n",
       "3  2015-01-06  21.360001  64.375000  58.980000   98.919998  103.279999   \n",
       "4  2015-01-07  21.670000  65.237503  59.070000   99.930000  105.559998   \n",
       "\n",
       "         BAC        WMT         PG          HD  ...    4295    2769   2796  \\\n",
       "0  17.889999  85.879997  91.089996  104.970001  ...     NaN     NaN    NaN   \n",
       "1  17.900000  85.900002  90.440002  103.430000  ...     NaN     NaN    NaN   \n",
       "2  17.379999  85.650002  90.010002  101.260002  ...  1143.0  1370.0  508.0   \n",
       "3  16.860001  86.309998  89.599998  100.949997  ...  1148.0  1361.0  504.0   \n",
       "4  16.940001  88.599998  90.070000  104.410004  ...  1131.0  1351.0  508.0   \n",
       "\n",
       "     4098   8927   3161        2330   3719   3077   7859  \n",
       "0  2260.0    NaN    NaN         NaN    NaN    NaN    NaN  \n",
       "1  2260.0    NaN    NaN         NaN    NaN    NaN    NaN  \n",
       "2  2280.0  112.0  606.0  222.000000  119.0  606.0  168.0  \n",
       "3  2230.0  110.0  604.0  211.000000  118.0  609.0  161.0  \n",
       "4  2400.0  112.0  620.0   34.583302  128.0  598.0  161.0  \n",
       "\n",
       "[5 rows x 7419 columns]"
      ]
     },
     "execution_count": 70,
     "metadata": {},
     "output_type": "execute_result"
    }
   ],
   "source": [
    "stock_df.head()"
   ]
  },
  {
   "cell_type": "code",
   "execution_count": 209,
   "metadata": {},
   "outputs": [],
   "source": [
    "def print_symbol(name, etf_name, tot_df):\n",
    "    # 탐색 key value 선정\n",
    "    temp_key_value = name.split(\" \")\n",
    "    key_value = temp_key_value[0]\n",
    "\n",
    "    # TDM 구축\n",
    "    total_name = [name]\n",
    "    total_name.extend(etf_name)\n",
    "    total_name.extend(list(tot_df.Name))\n",
    "\n",
    "    tokenizer = CountVectorizer(max_features = 500000)\n",
    "    tdm=tokenizer.fit_transform(total_name)\n",
    "\n",
    "    first_select = [idx for idx, x in enumerate(total_name) if x.startswith(key_value)]\n",
    "    first_select = np.array(first_select)[np.where(np.array(first_select) > len(etf_name))[0]]\n",
    "    \n",
    "    if len(first_select) == 2:\n",
    "        output_idx = first_select[1] - len(etf_name) -1\n",
    "        \n",
    "    elif len(first_select) == 0:\n",
    "        return \"zero\"\n",
    "    \n",
    "    else:\n",
    "        sims = cosine_similarity(tdm[0], tdm[first_select])\n",
    "        output_idx = first_select[np.argmax(sims)] - len(etf_name) -1\n",
    "\n",
    "    print(\"name: \", name,\"\\nresult:\", tot_df.Name[output_idx])\n",
    "\n",
    "    return tot_df.iloc[output_idx].Symbol"
   ]
  },
  {
   "cell_type": "code",
   "execution_count": 211,
   "metadata": {},
   "outputs": [
    {
     "data": {
      "text/plain": [
       "'zero'"
      ]
     },
     "execution_count": 211,
     "metadata": {},
     "output_type": "execute_result"
    }
   ],
   "source": [
    "symbol = print_symbol(final_st_df.stock_names[10], list(final_st_df.stock_names), tot_df); symbol"
   ]
  },
  {
   "cell_type": "code",
   "execution_count": null,
   "metadata": {},
   "outputs": [],
   "source": []
  },
  {
   "cell_type": "markdown",
   "metadata": {},
   "source": [
    "* 주가 정제"
   ]
  },
  {
   "cell_type": "code",
   "execution_count": 213,
   "metadata": {},
   "outputs": [],
   "source": [
    "from sklearn.preprocessing import StandardScaler\n",
    "from tqdm import tqdm\n",
    "from fastdtw import fastdtw\n",
    "\n",
    "import pickle\n",
    "import operator"
   ]
  },
  {
   "cell_type": "code",
   "execution_count": 218,
   "metadata": {
    "id": "BkSdBQXUebzf"
   },
   "outputs": [],
   "source": [
    "scaler = StandardScaler()"
   ]
  },
  {
   "cell_type": "code",
   "execution_count": 221,
   "metadata": {},
   "outputs": [],
   "source": [
    "stock_df.iloc[:, 1:] = stock_df.iloc[:, 1:].apply(lambda x: x.fillna(x.mean()),axis=0)"
   ]
  },
  {
   "cell_type": "code",
   "execution_count": 222,
   "metadata": {},
   "outputs": [
    {
     "data": {
      "text/html": [
       "<div>\n",
       "<style scoped>\n",
       "    .dataframe tbody tr th:only-of-type {\n",
       "        vertical-align: middle;\n",
       "    }\n",
       "\n",
       "    .dataframe tbody tr th {\n",
       "        vertical-align: top;\n",
       "    }\n",
       "\n",
       "    .dataframe thead th {\n",
       "        text-align: right;\n",
       "    }\n",
       "</style>\n",
       "<table border=\"1\" class=\"dataframe\">\n",
       "  <thead>\n",
       "    <tr style=\"text-align: right;\">\n",
       "      <th></th>\n",
       "      <th>Date</th>\n",
       "      <th>TSM</th>\n",
       "      <th>V</th>\n",
       "      <th>JPM</th>\n",
       "      <th>UNH</th>\n",
       "      <th>JNJ</th>\n",
       "      <th>BAC</th>\n",
       "      <th>WMT</th>\n",
       "      <th>PG</th>\n",
       "      <th>HD</th>\n",
       "      <th>...</th>\n",
       "      <th>4295</th>\n",
       "      <th>2769</th>\n",
       "      <th>2796</th>\n",
       "      <th>4098</th>\n",
       "      <th>8927</th>\n",
       "      <th>3161</th>\n",
       "      <th>2330</th>\n",
       "      <th>3719</th>\n",
       "      <th>3077</th>\n",
       "      <th>7859</th>\n",
       "    </tr>\n",
       "  </thead>\n",
       "  <tbody>\n",
       "    <tr>\n",
       "      <th>0</th>\n",
       "      <td>2014-12-31</td>\n",
       "      <td>22.379999</td>\n",
       "      <td>65.550003</td>\n",
       "      <td>62.580002</td>\n",
       "      <td>101.089996</td>\n",
       "      <td>104.570000</td>\n",
       "      <td>17.889999</td>\n",
       "      <td>85.879997</td>\n",
       "      <td>91.089996</td>\n",
       "      <td>104.970001</td>\n",
       "      <td>...</td>\n",
       "      <td>1289.532026</td>\n",
       "      <td>1320.379747</td>\n",
       "      <td>564.28513</td>\n",
       "      <td>2260.0</td>\n",
       "      <td>165.018963</td>\n",
       "      <td>575.142484</td>\n",
       "      <td>182.612052</td>\n",
       "      <td>115.973451</td>\n",
       "      <td>645.091024</td>\n",
       "      <td>179.515033</td>\n",
       "    </tr>\n",
       "    <tr>\n",
       "      <th>1</th>\n",
       "      <td>2015-01-02</td>\n",
       "      <td>22.280001</td>\n",
       "      <td>66.254997</td>\n",
       "      <td>62.490002</td>\n",
       "      <td>100.779999</td>\n",
       "      <td>104.519997</td>\n",
       "      <td>17.900000</td>\n",
       "      <td>85.900002</td>\n",
       "      <td>90.440002</td>\n",
       "      <td>103.430000</td>\n",
       "      <td>...</td>\n",
       "      <td>1289.532026</td>\n",
       "      <td>1320.379747</td>\n",
       "      <td>564.28513</td>\n",
       "      <td>2260.0</td>\n",
       "      <td>165.018963</td>\n",
       "      <td>575.142484</td>\n",
       "      <td>182.612052</td>\n",
       "      <td>115.973451</td>\n",
       "      <td>645.091024</td>\n",
       "      <td>179.515033</td>\n",
       "    </tr>\n",
       "    <tr>\n",
       "      <th>2</th>\n",
       "      <td>2015-01-05</td>\n",
       "      <td>21.740000</td>\n",
       "      <td>64.792503</td>\n",
       "      <td>60.549999</td>\n",
       "      <td>99.120003</td>\n",
       "      <td>103.790001</td>\n",
       "      <td>17.379999</td>\n",
       "      <td>85.650002</td>\n",
       "      <td>90.010002</td>\n",
       "      <td>101.260002</td>\n",
       "      <td>...</td>\n",
       "      <td>1143.000000</td>\n",
       "      <td>1370.000000</td>\n",
       "      <td>508.00000</td>\n",
       "      <td>2280.0</td>\n",
       "      <td>112.000000</td>\n",
       "      <td>606.000000</td>\n",
       "      <td>222.000000</td>\n",
       "      <td>119.000000</td>\n",
       "      <td>606.000000</td>\n",
       "      <td>168.000000</td>\n",
       "    </tr>\n",
       "    <tr>\n",
       "      <th>3</th>\n",
       "      <td>2015-01-06</td>\n",
       "      <td>21.360001</td>\n",
       "      <td>64.375000</td>\n",
       "      <td>58.980000</td>\n",
       "      <td>98.919998</td>\n",
       "      <td>103.279999</td>\n",
       "      <td>16.860001</td>\n",
       "      <td>86.309998</td>\n",
       "      <td>89.599998</td>\n",
       "      <td>100.949997</td>\n",
       "      <td>...</td>\n",
       "      <td>1148.000000</td>\n",
       "      <td>1361.000000</td>\n",
       "      <td>504.00000</td>\n",
       "      <td>2230.0</td>\n",
       "      <td>110.000000</td>\n",
       "      <td>604.000000</td>\n",
       "      <td>211.000000</td>\n",
       "      <td>118.000000</td>\n",
       "      <td>609.000000</td>\n",
       "      <td>161.000000</td>\n",
       "    </tr>\n",
       "    <tr>\n",
       "      <th>4</th>\n",
       "      <td>2015-01-07</td>\n",
       "      <td>21.670000</td>\n",
       "      <td>65.237503</td>\n",
       "      <td>59.070000</td>\n",
       "      <td>99.930000</td>\n",
       "      <td>105.559998</td>\n",
       "      <td>16.940001</td>\n",
       "      <td>88.599998</td>\n",
       "      <td>90.070000</td>\n",
       "      <td>104.410004</td>\n",
       "      <td>...</td>\n",
       "      <td>1131.000000</td>\n",
       "      <td>1351.000000</td>\n",
       "      <td>508.00000</td>\n",
       "      <td>2400.0</td>\n",
       "      <td>112.000000</td>\n",
       "      <td>620.000000</td>\n",
       "      <td>34.583302</td>\n",
       "      <td>128.000000</td>\n",
       "      <td>598.000000</td>\n",
       "      <td>161.000000</td>\n",
       "    </tr>\n",
       "  </tbody>\n",
       "</table>\n",
       "<p>5 rows × 7419 columns</p>\n",
       "</div>"
      ],
      "text/plain": [
       "         Date        TSM          V        JPM         UNH         JNJ  \\\n",
       "0  2014-12-31  22.379999  65.550003  62.580002  101.089996  104.570000   \n",
       "1  2015-01-02  22.280001  66.254997  62.490002  100.779999  104.519997   \n",
       "2  2015-01-05  21.740000  64.792503  60.549999   99.120003  103.790001   \n",
       "3  2015-01-06  21.360001  64.375000  58.980000   98.919998  103.279999   \n",
       "4  2015-01-07  21.670000  65.237503  59.070000   99.930000  105.559998   \n",
       "\n",
       "         BAC        WMT         PG          HD  ...         4295         2769  \\\n",
       "0  17.889999  85.879997  91.089996  104.970001  ...  1289.532026  1320.379747   \n",
       "1  17.900000  85.900002  90.440002  103.430000  ...  1289.532026  1320.379747   \n",
       "2  17.379999  85.650002  90.010002  101.260002  ...  1143.000000  1370.000000   \n",
       "3  16.860001  86.309998  89.599998  100.949997  ...  1148.000000  1361.000000   \n",
       "4  16.940001  88.599998  90.070000  104.410004  ...  1131.000000  1351.000000   \n",
       "\n",
       "        2796    4098        8927        3161        2330        3719  \\\n",
       "0  564.28513  2260.0  165.018963  575.142484  182.612052  115.973451   \n",
       "1  564.28513  2260.0  165.018963  575.142484  182.612052  115.973451   \n",
       "2  508.00000  2280.0  112.000000  606.000000  222.000000  119.000000   \n",
       "3  504.00000  2230.0  110.000000  604.000000  211.000000  118.000000   \n",
       "4  508.00000  2400.0  112.000000  620.000000   34.583302  128.000000   \n",
       "\n",
       "         3077        7859  \n",
       "0  645.091024  179.515033  \n",
       "1  645.091024  179.515033  \n",
       "2  606.000000  168.000000  \n",
       "3  609.000000  161.000000  \n",
       "4  598.000000  161.000000  \n",
       "\n",
       "[5 rows x 7419 columns]"
      ]
     },
     "execution_count": 222,
     "metadata": {},
     "output_type": "execute_result"
    }
   ],
   "source": [
    "stock_df.head()"
   ]
  },
  {
   "cell_type": "code",
   "execution_count": 256,
   "metadata": {},
   "outputs": [
    {
     "data": {
      "text/html": [
       "<div>\n",
       "<style scoped>\n",
       "    .dataframe tbody tr th:only-of-type {\n",
       "        vertical-align: middle;\n",
       "    }\n",
       "\n",
       "    .dataframe tbody tr th {\n",
       "        vertical-align: top;\n",
       "    }\n",
       "\n",
       "    .dataframe thead th {\n",
       "        text-align: right;\n",
       "    }\n",
       "</style>\n",
       "<table border=\"1\" class=\"dataframe\">\n",
       "  <thead>\n",
       "    <tr style=\"text-align: right;\">\n",
       "      <th></th>\n",
       "      <th>Symbol</th>\n",
       "      <th>Name</th>\n",
       "      <th>Industry</th>\n",
       "      <th>IndustryCode</th>\n",
       "    </tr>\n",
       "  </thead>\n",
       "  <tbody>\n",
       "    <tr>\n",
       "      <th>0</th>\n",
       "      <td>TSM</td>\n",
       "      <td>Taiwan Semiconductor Manufacturing Co Ltd ADR</td>\n",
       "      <td>반도체 및 반도체 장비</td>\n",
       "      <td>571010.0</td>\n",
       "    </tr>\n",
       "    <tr>\n",
       "      <th>1</th>\n",
       "      <td>V</td>\n",
       "      <td>Visa Inc Class A</td>\n",
       "      <td>소프트웨어 및 IT서비스</td>\n",
       "      <td>572010.0</td>\n",
       "    </tr>\n",
       "    <tr>\n",
       "      <th>2</th>\n",
       "      <td>JPM</td>\n",
       "      <td>JPMorgan Chase &amp; Co</td>\n",
       "      <td>은행</td>\n",
       "      <td>551010.0</td>\n",
       "    </tr>\n",
       "    <tr>\n",
       "      <th>3</th>\n",
       "      <td>UNH</td>\n",
       "      <td>UnitedHealth Group Inc</td>\n",
       "      <td>헬스케어 업체 및 서비스</td>\n",
       "      <td>561020.0</td>\n",
       "    </tr>\n",
       "    <tr>\n",
       "      <th>4</th>\n",
       "      <td>JNJ</td>\n",
       "      <td>Johnson &amp; Johnson</td>\n",
       "      <td>제약</td>\n",
       "      <td>562010.0</td>\n",
       "    </tr>\n",
       "  </tbody>\n",
       "</table>\n",
       "</div>"
      ],
      "text/plain": [
       "  Symbol                                           Name       Industry  \\\n",
       "0    TSM  Taiwan Semiconductor Manufacturing Co Ltd ADR   반도체 및 반도체 장비   \n",
       "1      V                               Visa Inc Class A  소프트웨어 및 IT서비스   \n",
       "2    JPM                            JPMorgan Chase & Co             은행   \n",
       "3    UNH                         UnitedHealth Group Inc  헬스케어 업체 및 서비스   \n",
       "4    JNJ                              Johnson & Johnson             제약   \n",
       "\n",
       "   IndustryCode  \n",
       "0      571010.0  \n",
       "1      572010.0  \n",
       "2      551010.0  \n",
       "3      561020.0  \n",
       "4      562010.0  "
      ]
     },
     "execution_count": 256,
     "metadata": {},
     "output_type": "execute_result"
    }
   ],
   "source": [
    "tot_df.head()"
   ]
  },
  {
   "cell_type": "code",
   "execution_count": 223,
   "metadata": {
    "colab": {
     "base_uri": "https://localhost:8080/"
    },
    "executionInfo": {
     "elapsed": 3,
     "status": "ok",
     "timestamp": 1644927852576,
     "user": {
      "displayName": "최영제",
      "photoUrl": "https://lh3.googleusercontent.com/a/default-user=s64",
      "userId": "07722901092434959404"
     },
     "user_tz": -540
    },
    "id": "TksS6ptceeeJ",
    "outputId": "e5a11d9a-2627-4b18-c4e7-23f42ffd6cf4"
   },
   "outputs": [],
   "source": [
    "sc_df = scaler.fit_transform(stock_df.iloc[:, 1:])"
   ]
  },
  {
   "cell_type": "code",
   "execution_count": 225,
   "metadata": {
    "id": "3_o24bOAepzP"
   },
   "outputs": [],
   "source": [
    "stock_df.iloc[:, 1:] = sc_df"
   ]
  },
  {
   "cell_type": "code",
   "execution_count": 226,
   "metadata": {},
   "outputs": [
    {
     "data": {
      "text/html": [
       "<div>\n",
       "<style scoped>\n",
       "    .dataframe tbody tr th:only-of-type {\n",
       "        vertical-align: middle;\n",
       "    }\n",
       "\n",
       "    .dataframe tbody tr th {\n",
       "        vertical-align: top;\n",
       "    }\n",
       "\n",
       "    .dataframe thead th {\n",
       "        text-align: right;\n",
       "    }\n",
       "</style>\n",
       "<table border=\"1\" class=\"dataframe\">\n",
       "  <thead>\n",
       "    <tr style=\"text-align: right;\">\n",
       "      <th></th>\n",
       "      <th>Date</th>\n",
       "      <th>TSM</th>\n",
       "      <th>V</th>\n",
       "      <th>JPM</th>\n",
       "      <th>UNH</th>\n",
       "      <th>JNJ</th>\n",
       "      <th>BAC</th>\n",
       "      <th>WMT</th>\n",
       "      <th>PG</th>\n",
       "      <th>HD</th>\n",
       "      <th>...</th>\n",
       "      <th>4295</th>\n",
       "      <th>2769</th>\n",
       "      <th>2796</th>\n",
       "      <th>4098</th>\n",
       "      <th>8927</th>\n",
       "      <th>3161</th>\n",
       "      <th>2330</th>\n",
       "      <th>3719</th>\n",
       "      <th>3077</th>\n",
       "      <th>7859</th>\n",
       "    </tr>\n",
       "  </thead>\n",
       "  <tbody>\n",
       "    <tr>\n",
       "      <th>0</th>\n",
       "      <td>2014-12-31</td>\n",
       "      <td>-0.916081</td>\n",
       "      <td>-1.316624</td>\n",
       "      <td>-1.278153</td>\n",
       "      <td>-1.394382</td>\n",
       "      <td>-1.335621</td>\n",
       "      <td>-0.987985</td>\n",
       "      <td>-0.503393</td>\n",
       "      <td>-0.486761</td>\n",
       "      <td>-1.278310</td>\n",
       "      <td>...</td>\n",
       "      <td>0.000000</td>\n",
       "      <td>0.000000</td>\n",
       "      <td>0.000000</td>\n",
       "      <td>0.418451</td>\n",
       "      <td>4.660508e-16</td>\n",
       "      <td>-2.092142e-15</td>\n",
       "      <td>4.123102e-16</td>\n",
       "      <td>0.000000</td>\n",
       "      <td>0.000000</td>\n",
       "      <td>0.000000</td>\n",
       "    </tr>\n",
       "    <tr>\n",
       "      <th>1</th>\n",
       "      <td>2015-01-02</td>\n",
       "      <td>-0.919113</td>\n",
       "      <td>-1.303987</td>\n",
       "      <td>-1.281059</td>\n",
       "      <td>-1.397518</td>\n",
       "      <td>-1.338015</td>\n",
       "      <td>-0.986837</td>\n",
       "      <td>-0.502670</td>\n",
       "      <td>-0.513431</td>\n",
       "      <td>-1.299160</td>\n",
       "      <td>...</td>\n",
       "      <td>0.000000</td>\n",
       "      <td>0.000000</td>\n",
       "      <td>0.000000</td>\n",
       "      <td>0.418451</td>\n",
       "      <td>4.660508e-16</td>\n",
       "      <td>-2.092142e-15</td>\n",
       "      <td>4.123102e-16</td>\n",
       "      <td>0.000000</td>\n",
       "      <td>0.000000</td>\n",
       "      <td>0.000000</td>\n",
       "    </tr>\n",
       "    <tr>\n",
       "      <th>2</th>\n",
       "      <td>2015-01-05</td>\n",
       "      <td>-0.935487</td>\n",
       "      <td>-1.330202</td>\n",
       "      <td>-1.343708</td>\n",
       "      <td>-1.414309</td>\n",
       "      <td>-1.372960</td>\n",
       "      <td>-1.046548</td>\n",
       "      <td>-0.511707</td>\n",
       "      <td>-0.531074</td>\n",
       "      <td>-1.328539</td>\n",
       "      <td>...</td>\n",
       "      <td>-1.622380</td>\n",
       "      <td>0.315288</td>\n",
       "      <td>-2.098144</td>\n",
       "      <td>0.493375</td>\n",
       "      <td>-8.693893e-01</td>\n",
       "      <td>5.678609e-01</td>\n",
       "      <td>5.713961e-01</td>\n",
       "      <td>0.144945</td>\n",
       "      <td>-0.417059</td>\n",
       "      <td>-0.471633</td>\n",
       "    </tr>\n",
       "    <tr>\n",
       "      <th>3</th>\n",
       "      <td>2015-01-06</td>\n",
       "      <td>-0.947009</td>\n",
       "      <td>-1.337686</td>\n",
       "      <td>-1.394409</td>\n",
       "      <td>-1.416333</td>\n",
       "      <td>-1.397375</td>\n",
       "      <td>-1.106259</td>\n",
       "      <td>-0.487848</td>\n",
       "      <td>-0.547898</td>\n",
       "      <td>-1.332736</td>\n",
       "      <td>...</td>\n",
       "      <td>-1.567021</td>\n",
       "      <td>0.258102</td>\n",
       "      <td>-2.247252</td>\n",
       "      <td>0.306066</td>\n",
       "      <td>-9.021847e-01</td>\n",
       "      <td>5.310555e-01</td>\n",
       "      <td>4.118204e-01</td>\n",
       "      <td>0.097054</td>\n",
       "      <td>-0.385053</td>\n",
       "      <td>-0.758339</td>\n",
       "    </tr>\n",
       "    <tr>\n",
       "      <th>4</th>\n",
       "      <td>2015-01-07</td>\n",
       "      <td>-0.937609</td>\n",
       "      <td>-1.322226</td>\n",
       "      <td>-1.391502</td>\n",
       "      <td>-1.406116</td>\n",
       "      <td>-1.288229</td>\n",
       "      <td>-1.097073</td>\n",
       "      <td>-0.405063</td>\n",
       "      <td>-0.528613</td>\n",
       "      <td>-1.285892</td>\n",
       "      <td>...</td>\n",
       "      <td>-1.755242</td>\n",
       "      <td>0.194562</td>\n",
       "      <td>-2.098144</td>\n",
       "      <td>0.942916</td>\n",
       "      <td>-8.693893e-01</td>\n",
       "      <td>8.254983e-01</td>\n",
       "      <td>-2.147435e+00</td>\n",
       "      <td>0.575964</td>\n",
       "      <td>-0.502411</td>\n",
       "      <td>-0.758339</td>\n",
       "    </tr>\n",
       "  </tbody>\n",
       "</table>\n",
       "<p>5 rows × 7419 columns</p>\n",
       "</div>"
      ],
      "text/plain": [
       "         Date       TSM         V       JPM       UNH       JNJ       BAC  \\\n",
       "0  2014-12-31 -0.916081 -1.316624 -1.278153 -1.394382 -1.335621 -0.987985   \n",
       "1  2015-01-02 -0.919113 -1.303987 -1.281059 -1.397518 -1.338015 -0.986837   \n",
       "2  2015-01-05 -0.935487 -1.330202 -1.343708 -1.414309 -1.372960 -1.046548   \n",
       "3  2015-01-06 -0.947009 -1.337686 -1.394409 -1.416333 -1.397375 -1.106259   \n",
       "4  2015-01-07 -0.937609 -1.322226 -1.391502 -1.406116 -1.288229 -1.097073   \n",
       "\n",
       "        WMT        PG        HD  ...      4295      2769      2796      4098  \\\n",
       "0 -0.503393 -0.486761 -1.278310  ...  0.000000  0.000000  0.000000  0.418451   \n",
       "1 -0.502670 -0.513431 -1.299160  ...  0.000000  0.000000  0.000000  0.418451   \n",
       "2 -0.511707 -0.531074 -1.328539  ... -1.622380  0.315288 -2.098144  0.493375   \n",
       "3 -0.487848 -0.547898 -1.332736  ... -1.567021  0.258102 -2.247252  0.306066   \n",
       "4 -0.405063 -0.528613 -1.285892  ... -1.755242  0.194562 -2.098144  0.942916   \n",
       "\n",
       "           8927          3161          2330      3719      3077      7859  \n",
       "0  4.660508e-16 -2.092142e-15  4.123102e-16  0.000000  0.000000  0.000000  \n",
       "1  4.660508e-16 -2.092142e-15  4.123102e-16  0.000000  0.000000  0.000000  \n",
       "2 -8.693893e-01  5.678609e-01  5.713961e-01  0.144945 -0.417059 -0.471633  \n",
       "3 -9.021847e-01  5.310555e-01  4.118204e-01  0.097054 -0.385053 -0.758339  \n",
       "4 -8.693893e-01  8.254983e-01 -2.147435e+00  0.575964 -0.502411 -0.758339  \n",
       "\n",
       "[5 rows x 7419 columns]"
      ]
     },
     "execution_count": 226,
     "metadata": {},
     "output_type": "execute_result"
    }
   ],
   "source": [
    "stock_df.head()"
   ]
  },
  {
   "cell_type": "code",
   "execution_count": 253,
   "metadata": {},
   "outputs": [
    {
     "data": {
      "text/plain": [
       "(59,)"
      ]
     },
     "execution_count": 253,
     "metadata": {},
     "output_type": "execute_result"
    }
   ],
   "source": [
    "sector_df.sector.unique().shape"
   ]
  },
  {
   "cell_type": "code",
   "execution_count": 249,
   "metadata": {},
   "outputs": [
    {
     "data": {
      "text/html": [
       "<div>\n",
       "<style scoped>\n",
       "    .dataframe tbody tr th:only-of-type {\n",
       "        vertical-align: middle;\n",
       "    }\n",
       "\n",
       "    .dataframe tbody tr th {\n",
       "        vertical-align: top;\n",
       "    }\n",
       "\n",
       "    .dataframe thead th {\n",
       "        text-align: right;\n",
       "    }\n",
       "</style>\n",
       "<table border=\"1\" class=\"dataframe\">\n",
       "  <thead>\n",
       "    <tr style=\"text-align: right;\">\n",
       "      <th></th>\n",
       "      <th>sector</th>\n",
       "      <th>etf_names</th>\n",
       "      <th>etf_links</th>\n",
       "    </tr>\n",
       "  </thead>\n",
       "  <tbody>\n",
       "    <tr>\n",
       "      <th>0</th>\n",
       "      <td>Aerospace &amp; Defense</td>\n",
       "      <td>ITA</td>\n",
       "      <td>https://www.etf.com/ITA</td>\n",
       "    </tr>\n",
       "    <tr>\n",
       "      <th>1</th>\n",
       "      <td>Aerospace &amp; Defense</td>\n",
       "      <td>XAR</td>\n",
       "      <td>https://www.etf.com/XAR</td>\n",
       "    </tr>\n",
       "    <tr>\n",
       "      <th>2</th>\n",
       "      <td>Aerospace &amp; Defense</td>\n",
       "      <td>PPA</td>\n",
       "      <td>https://www.etf.com/PPA</td>\n",
       "    </tr>\n",
       "    <tr>\n",
       "      <th>3</th>\n",
       "      <td>Aerospace &amp; Defense</td>\n",
       "      <td>DFEN</td>\n",
       "      <td>https://www.etf.com/DFEN</td>\n",
       "    </tr>\n",
       "    <tr>\n",
       "      <th>4</th>\n",
       "      <td>Aerospace &amp; Defense</td>\n",
       "      <td>SHLD</td>\n",
       "      <td>https://www.etf.com/SHLD</td>\n",
       "    </tr>\n",
       "  </tbody>\n",
       "</table>\n",
       "</div>"
      ],
      "text/plain": [
       "                sector etf_names                 etf_links\n",
       "0  Aerospace & Defense       ITA   https://www.etf.com/ITA\n",
       "1  Aerospace & Defense       XAR   https://www.etf.com/XAR\n",
       "2  Aerospace & Defense       PPA   https://www.etf.com/PPA\n",
       "3  Aerospace & Defense      DFEN  https://www.etf.com/DFEN\n",
       "4  Aerospace & Defense      SHLD  https://www.etf.com/SHLD"
      ]
     },
     "execution_count": 249,
     "metadata": {},
     "output_type": "execute_result"
    }
   ],
   "source": [
    "sector_df = pd.read_csv(data_path + \"sector_df.csv\")\n",
    "sector_df.head()"
   ]
  },
  {
   "cell_type": "code",
   "execution_count": 251,
   "metadata": {},
   "outputs": [
    {
     "data": {
      "text/plain": [
       "(1662, 3)"
      ]
     },
     "execution_count": 251,
     "metadata": {},
     "output_type": "execute_result"
    }
   ],
   "source": [
    "sector_df.shape"
   ]
  },
  {
   "cell_type": "code",
   "execution_count": 250,
   "metadata": {},
   "outputs": [
    {
     "data": {
      "text/html": [
       "<div>\n",
       "<style scoped>\n",
       "    .dataframe tbody tr th:only-of-type {\n",
       "        vertical-align: middle;\n",
       "    }\n",
       "\n",
       "    .dataframe tbody tr th {\n",
       "        vertical-align: top;\n",
       "    }\n",
       "\n",
       "    .dataframe thead th {\n",
       "        text-align: right;\n",
       "    }\n",
       "</style>\n",
       "<table border=\"1\" class=\"dataframe\">\n",
       "  <thead>\n",
       "    <tr style=\"text-align: right;\">\n",
       "      <th></th>\n",
       "      <th>etf_names</th>\n",
       "      <th>stock_names</th>\n",
       "    </tr>\n",
       "  </thead>\n",
       "  <tbody>\n",
       "    <tr>\n",
       "      <th>0</th>\n",
       "      <td>KORP</td>\n",
       "      <td>U.S. Dollar</td>\n",
       "    </tr>\n",
       "    <tr>\n",
       "      <th>1</th>\n",
       "      <td>KORP</td>\n",
       "      <td>Bank of America Corporation 3.419% 20-DEC-2028</td>\n",
       "    </tr>\n",
       "    <tr>\n",
       "      <th>2</th>\n",
       "      <td>KORP</td>\n",
       "      <td>Morgan Stanley 2.188% 28-APR-2026</td>\n",
       "    </tr>\n",
       "    <tr>\n",
       "      <th>3</th>\n",
       "      <td>KORP</td>\n",
       "      <td>HSBC Holdings Plc 2.099% 04-JUN-2026</td>\n",
       "    </tr>\n",
       "    <tr>\n",
       "      <th>4</th>\n",
       "      <td>KORP</td>\n",
       "      <td>Verizon Communications Inc. 4.329% 21-SEP-2028</td>\n",
       "    </tr>\n",
       "  </tbody>\n",
       "</table>\n",
       "</div>"
      ],
      "text/plain": [
       "  etf_names                                     stock_names\n",
       "0      KORP                                     U.S. Dollar\n",
       "1      KORP  Bank of America Corporation 3.419% 20-DEC-2028\n",
       "2      KORP               Morgan Stanley 2.188% 28-APR-2026\n",
       "3      KORP            HSBC Holdings Plc 2.099% 04-JUN-2026\n",
       "4      KORP  Verizon Communications Inc. 4.329% 21-SEP-2028"
      ]
     },
     "execution_count": 250,
     "metadata": {},
     "output_type": "execute_result"
    }
   ],
   "source": [
    "final_st_df.head()"
   ]
  },
  {
   "cell_type": "code",
   "execution_count": 252,
   "metadata": {},
   "outputs": [
    {
     "data": {
      "text/plain": [
       "(153609, 2)"
      ]
     },
     "execution_count": 252,
     "metadata": {},
     "output_type": "execute_result"
    }
   ],
   "source": [
    "final_st_df.shape"
   ]
  },
  {
   "cell_type": "code",
   "execution_count": 254,
   "metadata": {},
   "outputs": [],
   "source": [
    "sector_df = pd.merge(sector_df, final_st_df, on = \"etf_names\", how = \"inner\")"
   ]
  },
  {
   "cell_type": "code",
   "execution_count": 255,
   "metadata": {},
   "outputs": [
    {
     "data": {
      "text/html": [
       "<div>\n",
       "<style scoped>\n",
       "    .dataframe tbody tr th:only-of-type {\n",
       "        vertical-align: middle;\n",
       "    }\n",
       "\n",
       "    .dataframe tbody tr th {\n",
       "        vertical-align: top;\n",
       "    }\n",
       "\n",
       "    .dataframe thead th {\n",
       "        text-align: right;\n",
       "    }\n",
       "</style>\n",
       "<table border=\"1\" class=\"dataframe\">\n",
       "  <thead>\n",
       "    <tr style=\"text-align: right;\">\n",
       "      <th></th>\n",
       "      <th>sector</th>\n",
       "      <th>etf_names</th>\n",
       "      <th>etf_links</th>\n",
       "      <th>stock_names</th>\n",
       "    </tr>\n",
       "  </thead>\n",
       "  <tbody>\n",
       "    <tr>\n",
       "      <th>0</th>\n",
       "      <td>Artificial Intelligence</td>\n",
       "      <td>BOTZ</td>\n",
       "      <td>https://www.etf.com/BOTZ</td>\n",
       "      <td>NVIDIA Corporation</td>\n",
       "    </tr>\n",
       "    <tr>\n",
       "      <th>1</th>\n",
       "      <td>Artificial Intelligence</td>\n",
       "      <td>BOTZ</td>\n",
       "      <td>https://www.etf.com/BOTZ</td>\n",
       "      <td>Intuitive Surgical, Inc.</td>\n",
       "    </tr>\n",
       "    <tr>\n",
       "      <th>2</th>\n",
       "      <td>Artificial Intelligence</td>\n",
       "      <td>BOTZ</td>\n",
       "      <td>https://www.etf.com/BOTZ</td>\n",
       "      <td>Upstart Holdings, Inc.</td>\n",
       "    </tr>\n",
       "    <tr>\n",
       "      <th>3</th>\n",
       "      <td>Artificial Intelligence</td>\n",
       "      <td>BOTZ</td>\n",
       "      <td>https://www.etf.com/BOTZ</td>\n",
       "      <td>Azenta, Inc.</td>\n",
       "    </tr>\n",
       "    <tr>\n",
       "      <th>4</th>\n",
       "      <td>Artificial Intelligence</td>\n",
       "      <td>BOTZ</td>\n",
       "      <td>https://www.etf.com/BOTZ</td>\n",
       "      <td>John Bean Technologies Corporation</td>\n",
       "    </tr>\n",
       "  </tbody>\n",
       "</table>\n",
       "</div>"
      ],
      "text/plain": [
       "                    sector etf_names                 etf_links  \\\n",
       "0  Artificial Intelligence      BOTZ  https://www.etf.com/BOTZ   \n",
       "1  Artificial Intelligence      BOTZ  https://www.etf.com/BOTZ   \n",
       "2  Artificial Intelligence      BOTZ  https://www.etf.com/BOTZ   \n",
       "3  Artificial Intelligence      BOTZ  https://www.etf.com/BOTZ   \n",
       "4  Artificial Intelligence      BOTZ  https://www.etf.com/BOTZ   \n",
       "\n",
       "                          stock_names  \n",
       "0                  NVIDIA Corporation  \n",
       "1            Intuitive Surgical, Inc.  \n",
       "2              Upstart Holdings, Inc.  \n",
       "3                        Azenta, Inc.  \n",
       "4  John Bean Technologies Corporation  "
      ]
     },
     "execution_count": 255,
     "metadata": {},
     "output_type": "execute_result"
    }
   ],
   "source": [
    "sector_df.head()"
   ]
  },
  {
   "cell_type": "code",
   "execution_count": 247,
   "metadata": {},
   "outputs": [],
   "source": [
    "group_df = sector_df.groupby([\"sector\", \"stock_names\"])['etf_names'].count().reset_index()"
   ]
  },
  {
   "cell_type": "code",
   "execution_count": 248,
   "metadata": {},
   "outputs": [
    {
     "data": {
      "text/html": [
       "<div>\n",
       "<style scoped>\n",
       "    .dataframe tbody tr th:only-of-type {\n",
       "        vertical-align: middle;\n",
       "    }\n",
       "\n",
       "    .dataframe tbody tr th {\n",
       "        vertical-align: top;\n",
       "    }\n",
       "\n",
       "    .dataframe thead th {\n",
       "        text-align: right;\n",
       "    }\n",
       "</style>\n",
       "<table border=\"1\" class=\"dataframe\">\n",
       "  <thead>\n",
       "    <tr style=\"text-align: right;\">\n",
       "      <th></th>\n",
       "      <th>sector</th>\n",
       "      <th>stock_names</th>\n",
       "      <th>etf_names</th>\n",
       "    </tr>\n",
       "  </thead>\n",
       "  <tbody>\n",
       "    <tr>\n",
       "      <th>0</th>\n",
       "      <td>Artificial Intelligence</td>\n",
       "      <td>2U, Inc.</td>\n",
       "      <td>1</td>\n",
       "    </tr>\n",
       "    <tr>\n",
       "      <th>1</th>\n",
       "      <td>Artificial Intelligence</td>\n",
       "      <td>3D Systems Corporation</td>\n",
       "      <td>4</td>\n",
       "    </tr>\n",
       "    <tr>\n",
       "      <th>2</th>\n",
       "      <td>Artificial Intelligence</td>\n",
       "      <td>3M Company</td>\n",
       "      <td>1</td>\n",
       "    </tr>\n",
       "    <tr>\n",
       "      <th>3</th>\n",
       "      <td>Artificial Intelligence</td>\n",
       "      <td>ABB Ltd.</td>\n",
       "      <td>3</td>\n",
       "    </tr>\n",
       "    <tr>\n",
       "      <th>4</th>\n",
       "      <td>Artificial Intelligence</td>\n",
       "      <td>ABIOMED, Inc.</td>\n",
       "      <td>1</td>\n",
       "    </tr>\n",
       "  </tbody>\n",
       "</table>\n",
       "</div>"
      ],
      "text/plain": [
       "                    sector             stock_names  etf_names\n",
       "0  Artificial Intelligence                2U, Inc.          1\n",
       "1  Artificial Intelligence  3D Systems Corporation          4\n",
       "2  Artificial Intelligence              3M Company          1\n",
       "3  Artificial Intelligence                ABB Ltd.          3\n",
       "4  Artificial Intelligence           ABIOMED, Inc.          1"
      ]
     },
     "execution_count": 248,
     "metadata": {},
     "output_type": "execute_result"
    }
   ],
   "source": [
    "group_df.head()"
   ]
  },
  {
   "cell_type": "code",
   "execution_count": null,
   "metadata": {
    "id": "bVc3VnmNXmV9"
   },
   "outputs": [],
   "source": [
    "code_list = df_theme.loc[df_theme.테마 == unique_theme[1]].종목코드.tolist()\n",
    "code_list = df_theme.종목코드.tolist()"
   ]
  },
  {
   "cell_type": "code",
   "execution_count": null,
   "metadata": {
    "id": "HFOq4lNUu-Nr"
   },
   "outputs": [],
   "source": [
    "code_dict = {x:{} for x in df_theme.종목코드.tolist()}"
   ]
  },
  {
   "cell_type": "code",
   "execution_count": null,
   "metadata": {
    "id": "ntm3zq3D3QWg"
   },
   "outputs": [],
   "source": [
    "def ex_nan(inputs) :\n",
    "  return(np.array(inputs)[[~np.isnan(x) for x in np.array(inputs)]])"
   ]
  },
  {
   "cell_type": "code",
   "execution_count": null,
   "metadata": {
    "colab": {
     "base_uri": "https://localhost:8080/"
    },
    "executionInfo": {
     "elapsed": 155973,
     "status": "ok",
     "timestamp": 1644904606526,
     "user": {
      "displayName": "최영제",
      "photoUrl": "https://lh3.googleusercontent.com/a/default-user=s64",
      "userId": "07722901092434959404"
     },
     "user_tz": -540
    },
    "id": "1z2PlC4RXsKY",
    "outputId": "a4c23722-6b5a-458d-fb09-c51e79ac6fb6"
   },
   "outputs": [
    {
     "name": "stderr",
     "output_type": "stream",
     "text": [
      "100%|██████████| 124/124 [02:35<00:00,  1.25s/it]\n"
     ]
    }
   ],
   "source": [
    "for code in tqdm(code_list):\n",
    "  try:\n",
    "    a = theme_in_sc.loc[:, [code]]\n",
    "  except KeyError:\n",
    "    continue\n",
    "  b = theme_in_sc.loc[:, ~theme_in_sc.columns.isin([code])]\n",
    "\n",
    "  for code_b in b.columns:\n",
    "    dist, path = fastdtw(ex_nan(a), ex_nan(b.loc[:,code_b]))\n",
    "    if dist == 0:\n",
    "      continue\n",
    "    code_dict[code][code_b] = dist"
   ]
  },
  {
   "cell_type": "code",
   "execution_count": null,
   "metadata": {
    "id": "1icsp2jfwhpt"
   },
   "outputs": [],
   "source": [
    "'''with open('code_dict.pickle', 'wb') as f:\n",
    "  pickle.dump(code_dict, f)'''"
   ]
  },
  {
   "cell_type": "code",
   "execution_count": null,
   "metadata": {
    "id": "ernGfEqcDY8r"
   },
   "outputs": [],
   "source": [
    "with open('code_dict.pickle', 'rb') as f:\n",
    "  code_dict = pickle.load(f)"
   ]
  },
  {
   "cell_type": "code",
   "execution_count": null,
   "metadata": {
    "colab": {
     "base_uri": "https://localhost:8080/",
     "height": 206
    },
    "executionInfo": {
     "elapsed": 616,
     "status": "ok",
     "timestamp": 1644906261268,
     "user": {
      "displayName": "최영제",
      "photoUrl": "https://lh3.googleusercontent.com/a/default-user=s64",
      "userId": "07722901092434959404"
     },
     "user_tz": -540
    },
    "id": "meh8rCgeDY7V",
    "outputId": "f31cc350-d415-4351-cc98-b103e47a047d"
   },
   "outputs": [
    {
     "data": {
      "text/html": [
       "\n",
       "  <div id=\"df-2564fbb5-623c-43b5-9ec1-6572244228db\">\n",
       "    <div class=\"colab-df-container\">\n",
       "      <div>\n",
       "<style scoped>\n",
       "    .dataframe tbody tr th:only-of-type {\n",
       "        vertical-align: middle;\n",
       "    }\n",
       "\n",
       "    .dataframe tbody tr th {\n",
       "        vertical-align: top;\n",
       "    }\n",
       "\n",
       "    .dataframe thead th {\n",
       "        text-align: right;\n",
       "    }\n",
       "</style>\n",
       "<table border=\"1\" class=\"dataframe\">\n",
       "  <thead>\n",
       "    <tr style=\"text-align: right;\">\n",
       "      <th></th>\n",
       "      <th>테마</th>\n",
       "      <th>해당 주식</th>\n",
       "      <th>종목코드</th>\n",
       "    </tr>\n",
       "  </thead>\n",
       "  <tbody>\n",
       "    <tr>\n",
       "      <th>0</th>\n",
       "      <td>빅테크-A(미국)</td>\n",
       "      <td>애플</td>\n",
       "      <td>AAPL</td>\n",
       "    </tr>\n",
       "    <tr>\n",
       "      <th>1</th>\n",
       "      <td>빅테크-A(미국)</td>\n",
       "      <td>알파벳</td>\n",
       "      <td>GOOG</td>\n",
       "    </tr>\n",
       "    <tr>\n",
       "      <th>2</th>\n",
       "      <td>빅테크-A(미국)</td>\n",
       "      <td>메타</td>\n",
       "      <td>FB</td>\n",
       "    </tr>\n",
       "    <tr>\n",
       "      <th>3</th>\n",
       "      <td>빅테크-A(미국)</td>\n",
       "      <td>마이크로소프트</td>\n",
       "      <td>MSFT</td>\n",
       "    </tr>\n",
       "    <tr>\n",
       "      <th>4</th>\n",
       "      <td>빅테크-A(미국)</td>\n",
       "      <td>아마존</td>\n",
       "      <td>AMZN</td>\n",
       "    </tr>\n",
       "  </tbody>\n",
       "</table>\n",
       "</div>\n",
       "      <button class=\"colab-df-convert\" onclick=\"convertToInteractive('df-2564fbb5-623c-43b5-9ec1-6572244228db')\"\n",
       "              title=\"Convert this dataframe to an interactive table.\"\n",
       "              style=\"display:none;\">\n",
       "        \n",
       "  <svg xmlns=\"http://www.w3.org/2000/svg\" height=\"24px\"viewBox=\"0 0 24 24\"\n",
       "       width=\"24px\">\n",
       "    <path d=\"M0 0h24v24H0V0z\" fill=\"none\"/>\n",
       "    <path d=\"M18.56 5.44l.94 2.06.94-2.06 2.06-.94-2.06-.94-.94-2.06-.94 2.06-2.06.94zm-11 1L8.5 8.5l.94-2.06 2.06-.94-2.06-.94L8.5 2.5l-.94 2.06-2.06.94zm10 10l.94 2.06.94-2.06 2.06-.94-2.06-.94-.94-2.06-.94 2.06-2.06.94z\"/><path d=\"M17.41 7.96l-1.37-1.37c-.4-.4-.92-.59-1.43-.59-.52 0-1.04.2-1.43.59L10.3 9.45l-7.72 7.72c-.78.78-.78 2.05 0 2.83L4 21.41c.39.39.9.59 1.41.59.51 0 1.02-.2 1.41-.59l7.78-7.78 2.81-2.81c.8-.78.8-2.07 0-2.86zM5.41 20L4 18.59l7.72-7.72 1.47 1.35L5.41 20z\"/>\n",
       "  </svg>\n",
       "      </button>\n",
       "      \n",
       "  <style>\n",
       "    .colab-df-container {\n",
       "      display:flex;\n",
       "      flex-wrap:wrap;\n",
       "      gap: 12px;\n",
       "    }\n",
       "\n",
       "    .colab-df-convert {\n",
       "      background-color: #E8F0FE;\n",
       "      border: none;\n",
       "      border-radius: 50%;\n",
       "      cursor: pointer;\n",
       "      display: none;\n",
       "      fill: #1967D2;\n",
       "      height: 32px;\n",
       "      padding: 0 0 0 0;\n",
       "      width: 32px;\n",
       "    }\n",
       "\n",
       "    .colab-df-convert:hover {\n",
       "      background-color: #E2EBFA;\n",
       "      box-shadow: 0px 1px 2px rgba(60, 64, 67, 0.3), 0px 1px 3px 1px rgba(60, 64, 67, 0.15);\n",
       "      fill: #174EA6;\n",
       "    }\n",
       "\n",
       "    [theme=dark] .colab-df-convert {\n",
       "      background-color: #3B4455;\n",
       "      fill: #D2E3FC;\n",
       "    }\n",
       "\n",
       "    [theme=dark] .colab-df-convert:hover {\n",
       "      background-color: #434B5C;\n",
       "      box-shadow: 0px 1px 3px 1px rgba(0, 0, 0, 0.15);\n",
       "      filter: drop-shadow(0px 1px 2px rgba(0, 0, 0, 0.3));\n",
       "      fill: #FFFFFF;\n",
       "    }\n",
       "  </style>\n",
       "\n",
       "      <script>\n",
       "        const buttonEl =\n",
       "          document.querySelector('#df-2564fbb5-623c-43b5-9ec1-6572244228db button.colab-df-convert');\n",
       "        buttonEl.style.display =\n",
       "          google.colab.kernel.accessAllowed ? 'block' : 'none';\n",
       "\n",
       "        async function convertToInteractive(key) {\n",
       "          const element = document.querySelector('#df-2564fbb5-623c-43b5-9ec1-6572244228db');\n",
       "          const dataTable =\n",
       "            await google.colab.kernel.invokeFunction('convertToInteractive',\n",
       "                                                     [key], {});\n",
       "          if (!dataTable) return;\n",
       "\n",
       "          const docLinkHtml = 'Like what you see? Visit the ' +\n",
       "            '<a target=\"_blank\" href=https://colab.research.google.com/notebooks/data_table.ipynb>data table notebook</a>'\n",
       "            + ' to learn more about interactive tables.';\n",
       "          element.innerHTML = '';\n",
       "          dataTable['output_type'] = 'display_data';\n",
       "          await google.colab.output.renderOutput(dataTable, element);\n",
       "          const docLink = document.createElement('div');\n",
       "          docLink.innerHTML = docLinkHtml;\n",
       "          element.appendChild(docLink);\n",
       "        }\n",
       "      </script>\n",
       "    </div>\n",
       "  </div>\n",
       "  "
      ],
      "text/plain": [
       "          테마    해당 주식  종목코드\n",
       "0  빅테크-A(미국)       애플  AAPL\n",
       "1  빅테크-A(미국)      알파벳  GOOG\n",
       "2  빅테크-A(미국)       메타    FB\n",
       "3  빅테크-A(미국)  마이크로소프트  MSFT\n",
       "4  빅테크-A(미국)      아마존  AMZN"
      ]
     },
     "execution_count": 166,
     "metadata": {},
     "output_type": "execute_result"
    }
   ],
   "source": [
    "df_theme.head()"
   ]
  },
  {
   "cell_type": "code",
   "execution_count": null,
   "metadata": {
    "colab": {
     "base_uri": "https://localhost:8080/"
    },
    "executionInfo": {
     "elapsed": 371,
     "status": "ok",
     "timestamp": 1644929749189,
     "user": {
      "displayName": "최영제",
      "photoUrl": "https://lh3.googleusercontent.com/a/default-user=s64",
      "userId": "07722901092434959404"
     },
     "user_tz": -540
    },
    "id": "VDkgucqWDcBD",
    "outputId": "91e51a75-caae-478a-9d48-64e18ef9ca8b"
   },
   "outputs": [
    {
     "data": {
      "text/plain": [
       "array(['빅테크-A(미국)', '빅테크-C(중국)', '전기차_2차전지(미국, 중국)', 'NFT_코인(미국, 중국)',\n",
       "       '메타버스', '우주/항공', '백신/치료', '뷰티/운동', '럭셔리', '여행', '프랜차이즈'],\n",
       "      dtype=object)"
      ]
     },
     "execution_count": 80,
     "metadata": {},
     "output_type": "execute_result"
    }
   ],
   "source": [
    "unique_theme"
   ]
  },
  {
   "cell_type": "code",
   "execution_count": null,
   "metadata": {
    "id": "ERsU38XdDb2E"
   },
   "outputs": [],
   "source": [
    "import re"
   ]
  },
  {
   "cell_type": "code",
   "execution_count": null,
   "metadata": {
    "colab": {
     "base_uri": "https://localhost:8080/"
    },
    "executionInfo": {
     "elapsed": 156450,
     "status": "ok",
     "timestamp": 1644929994632,
     "user": {
      "displayName": "최영제",
      "photoUrl": "https://lh3.googleusercontent.com/a/default-user=s64",
      "userId": "07722901092434959404"
     },
     "user_tz": -540
    },
    "id": "3RNniiwdaoBE",
    "outputId": "aa0d3bbb-4642-461f-c85a-f6e81df755c1"
   },
   "outputs": [
    {
     "name": "stderr",
     "output_type": "stream",
     "text": [
      "11it [02:36, 14.19s/it]\n"
     ]
    }
   ],
   "source": [
    "for idx_0, th in tqdm(enumerate(unique_theme)):\n",
    "  th_code_list = df_theme.loc[df_theme.테마 == th, \"종목코드\"]\n",
    "  th = re.sub(\"/\",\"_\",th)\n",
    "  for idx, th_code in enumerate(th_code_list):\n",
    "    if len(list(code_dict[th_code].keys())) == 0:\n",
    "      continue\n",
    "    sorted_items = sorted(code_dict[th_code].items(), key=operator.itemgetter(1))\n",
    "    names = [x[0] for x in sorted_items]\n",
    "    sims = [x[1] for x in sorted_items]\n",
    "    names_list = [tot_df.loc[tot_df.Symbol == x, \"Name\"].values[0] for x in names]\n",
    "\n",
    "    if idx == 0:\n",
    "      sector_dict = {\"code\":names, \"name\":names_list, th_code+\"dtw\":sims}\n",
    "      sector_df = pd.DataFrame.from_dict(sector_dict)\n",
    "    else:\n",
    "      sector_dict1 = {\"code\":names, \"name\":names_list, th_code+\"dtw\":sims}\n",
    "      sector_df1 = pd.DataFrame.from_dict(sector_dict1)\n",
    "      sector_df = pd.merge(sector_df, sector_df1, on = [\"code\", \"name\"], how = \"inner\")\n",
    "\n",
    "  sector_df['mean'] = sector_df.iloc[:, 2:].mean(axis = 1)\n",
    "  sector_df.to_csv(th + \"_sector_df.csv\", index = False)\n",
    "  globals()['sector_' + str(idx_0)] = sector_df"
   ]
  },
  {
   "cell_type": "code",
   "execution_count": null,
   "metadata": {
    "colab": {
     "base_uri": "https://localhost:8080/",
     "height": 423
    },
    "executionInfo": {
     "elapsed": 923,
     "status": "ok",
     "timestamp": 1644932727401,
     "user": {
      "displayName": "최영제",
      "photoUrl": "https://lh3.googleusercontent.com/a/default-user=s64",
      "userId": "07722901092434959404"
     },
     "user_tz": -540
    },
    "id": "OfLEm9RTa0Dp",
    "outputId": "3d5441d7-6bba-4607-d92b-66d065f8ff84"
   },
   "outputs": [
    {
     "data": {
      "text/html": [
       "\n",
       "  <div id=\"df-949afc63-78a2-42e8-872b-de5ff4e31889\">\n",
       "    <div class=\"colab-df-container\">\n",
       "      <div>\n",
       "<style scoped>\n",
       "    .dataframe tbody tr th:only-of-type {\n",
       "        vertical-align: middle;\n",
       "    }\n",
       "\n",
       "    .dataframe tbody tr th {\n",
       "        vertical-align: top;\n",
       "    }\n",
       "\n",
       "    .dataframe thead th {\n",
       "        text-align: right;\n",
       "    }\n",
       "</style>\n",
       "<table border=\"1\" class=\"dataframe\">\n",
       "  <thead>\n",
       "    <tr style=\"text-align: right;\">\n",
       "      <th></th>\n",
       "      <th>code</th>\n",
       "      <th>name</th>\n",
       "      <th>PFEdtw</th>\n",
       "      <th>MRKdtw</th>\n",
       "      <th>mean</th>\n",
       "    </tr>\n",
       "  </thead>\n",
       "  <tbody>\n",
       "    <tr>\n",
       "      <th>19</th>\n",
       "      <td>PAYX</td>\n",
       "      <td>Paychex Inc</td>\n",
       "      <td>31.544509</td>\n",
       "      <td>58.536240</td>\n",
       "      <td>45.040374</td>\n",
       "    </tr>\n",
       "    <tr>\n",
       "      <th>7</th>\n",
       "      <td>FFIV</td>\n",
       "      <td>F5 Inc</td>\n",
       "      <td>28.390524</td>\n",
       "      <td>69.738214</td>\n",
       "      <td>49.064369</td>\n",
       "    </tr>\n",
       "    <tr>\n",
       "      <th>28</th>\n",
       "      <td>LIN</td>\n",
       "      <td>Linde PLC</td>\n",
       "      <td>33.589007</td>\n",
       "      <td>64.927649</td>\n",
       "      <td>49.258328</td>\n",
       "    </tr>\n",
       "    <tr>\n",
       "      <th>25</th>\n",
       "      <td>MORN</td>\n",
       "      <td>Morningstar Inc</td>\n",
       "      <td>33.028737</td>\n",
       "      <td>66.520919</td>\n",
       "      <td>49.774828</td>\n",
       "    </tr>\n",
       "    <tr>\n",
       "      <th>27</th>\n",
       "      <td>FAST</td>\n",
       "      <td>Fastenal Co</td>\n",
       "      <td>33.316243</td>\n",
       "      <td>66.869108</td>\n",
       "      <td>50.092675</td>\n",
       "    </tr>\n",
       "    <tr>\n",
       "      <th>...</th>\n",
       "      <td>...</td>\n",
       "      <td>...</td>\n",
       "      <td>...</td>\n",
       "      <td>...</td>\n",
       "      <td>...</td>\n",
       "    </tr>\n",
       "    <tr>\n",
       "      <th>1177</th>\n",
       "      <td>LCI</td>\n",
       "      <td>Lannett Company Inc</td>\n",
       "      <td>257.581044</td>\n",
       "      <td>212.484793</td>\n",
       "      <td>235.032919</td>\n",
       "    </tr>\n",
       "    <tr>\n",
       "      <th>1196</th>\n",
       "      <td>PSFE</td>\n",
       "      <td>Paysafe Ltd</td>\n",
       "      <td>273.333148</td>\n",
       "      <td>197.133123</td>\n",
       "      <td>235.233136</td>\n",
       "    </tr>\n",
       "    <tr>\n",
       "      <th>1171</th>\n",
       "      <td>TARO</td>\n",
       "      <td>Taro Pharmaceutical Industries Ltd</td>\n",
       "      <td>255.777154</td>\n",
       "      <td>214.919785</td>\n",
       "      <td>235.348470</td>\n",
       "    </tr>\n",
       "    <tr>\n",
       "      <th>1170</th>\n",
       "      <td>ML</td>\n",
       "      <td>MoneyLion Inc Class A</td>\n",
       "      <td>255.457004</td>\n",
       "      <td>221.104151</td>\n",
       "      <td>238.280578</td>\n",
       "    </tr>\n",
       "    <tr>\n",
       "      <th>1176</th>\n",
       "      <td>NTCO</td>\n",
       "      <td>Natura &amp; Co Holding SA ADR</td>\n",
       "      <td>257.457122</td>\n",
       "      <td>225.871838</td>\n",
       "      <td>241.664480</td>\n",
       "    </tr>\n",
       "  </tbody>\n",
       "</table>\n",
       "<p>1198 rows × 5 columns</p>\n",
       "</div>\n",
       "      <button class=\"colab-df-convert\" onclick=\"convertToInteractive('df-949afc63-78a2-42e8-872b-de5ff4e31889')\"\n",
       "              title=\"Convert this dataframe to an interactive table.\"\n",
       "              style=\"display:none;\">\n",
       "        \n",
       "  <svg xmlns=\"http://www.w3.org/2000/svg\" height=\"24px\"viewBox=\"0 0 24 24\"\n",
       "       width=\"24px\">\n",
       "    <path d=\"M0 0h24v24H0V0z\" fill=\"none\"/>\n",
       "    <path d=\"M18.56 5.44l.94 2.06.94-2.06 2.06-.94-2.06-.94-.94-2.06-.94 2.06-2.06.94zm-11 1L8.5 8.5l.94-2.06 2.06-.94-2.06-.94L8.5 2.5l-.94 2.06-2.06.94zm10 10l.94 2.06.94-2.06 2.06-.94-2.06-.94-.94-2.06-.94 2.06-2.06.94z\"/><path d=\"M17.41 7.96l-1.37-1.37c-.4-.4-.92-.59-1.43-.59-.52 0-1.04.2-1.43.59L10.3 9.45l-7.72 7.72c-.78.78-.78 2.05 0 2.83L4 21.41c.39.39.9.59 1.41.59.51 0 1.02-.2 1.41-.59l7.78-7.78 2.81-2.81c.8-.78.8-2.07 0-2.86zM5.41 20L4 18.59l7.72-7.72 1.47 1.35L5.41 20z\"/>\n",
       "  </svg>\n",
       "      </button>\n",
       "      \n",
       "  <style>\n",
       "    .colab-df-container {\n",
       "      display:flex;\n",
       "      flex-wrap:wrap;\n",
       "      gap: 12px;\n",
       "    }\n",
       "\n",
       "    .colab-df-convert {\n",
       "      background-color: #E8F0FE;\n",
       "      border: none;\n",
       "      border-radius: 50%;\n",
       "      cursor: pointer;\n",
       "      display: none;\n",
       "      fill: #1967D2;\n",
       "      height: 32px;\n",
       "      padding: 0 0 0 0;\n",
       "      width: 32px;\n",
       "    }\n",
       "\n",
       "    .colab-df-convert:hover {\n",
       "      background-color: #E2EBFA;\n",
       "      box-shadow: 0px 1px 2px rgba(60, 64, 67, 0.3), 0px 1px 3px 1px rgba(60, 64, 67, 0.15);\n",
       "      fill: #174EA6;\n",
       "    }\n",
       "\n",
       "    [theme=dark] .colab-df-convert {\n",
       "      background-color: #3B4455;\n",
       "      fill: #D2E3FC;\n",
       "    }\n",
       "\n",
       "    [theme=dark] .colab-df-convert:hover {\n",
       "      background-color: #434B5C;\n",
       "      box-shadow: 0px 1px 3px 1px rgba(0, 0, 0, 0.15);\n",
       "      filter: drop-shadow(0px 1px 2px rgba(0, 0, 0, 0.3));\n",
       "      fill: #FFFFFF;\n",
       "    }\n",
       "  </style>\n",
       "\n",
       "      <script>\n",
       "        const buttonEl =\n",
       "          document.querySelector('#df-949afc63-78a2-42e8-872b-de5ff4e31889 button.colab-df-convert');\n",
       "        buttonEl.style.display =\n",
       "          google.colab.kernel.accessAllowed ? 'block' : 'none';\n",
       "\n",
       "        async function convertToInteractive(key) {\n",
       "          const element = document.querySelector('#df-949afc63-78a2-42e8-872b-de5ff4e31889');\n",
       "          const dataTable =\n",
       "            await google.colab.kernel.invokeFunction('convertToInteractive',\n",
       "                                                     [key], {});\n",
       "          if (!dataTable) return;\n",
       "\n",
       "          const docLinkHtml = 'Like what you see? Visit the ' +\n",
       "            '<a target=\"_blank\" href=https://colab.research.google.com/notebooks/data_table.ipynb>data table notebook</a>'\n",
       "            + ' to learn more about interactive tables.';\n",
       "          element.innerHTML = '';\n",
       "          dataTable['output_type'] = 'display_data';\n",
       "          await google.colab.output.renderOutput(dataTable, element);\n",
       "          const docLink = document.createElement('div');\n",
       "          docLink.innerHTML = docLinkHtml;\n",
       "          element.appendChild(docLink);\n",
       "        }\n",
       "      </script>\n",
       "    </div>\n",
       "  </div>\n",
       "  "
      ],
      "text/plain": [
       "      code                                name  ...      MRKdtw        mean\n",
       "19    PAYX                         Paychex Inc  ...   58.536240   45.040374\n",
       "7     FFIV                              F5 Inc  ...   69.738214   49.064369\n",
       "28     LIN                           Linde PLC  ...   64.927649   49.258328\n",
       "25    MORN                     Morningstar Inc  ...   66.520919   49.774828\n",
       "27    FAST                         Fastenal Co  ...   66.869108   50.092675\n",
       "...    ...                                 ...  ...         ...         ...\n",
       "1177   LCI                 Lannett Company Inc  ...  212.484793  235.032919\n",
       "1196  PSFE                         Paysafe Ltd  ...  197.133123  235.233136\n",
       "1171  TARO  Taro Pharmaceutical Industries Ltd  ...  214.919785  235.348470\n",
       "1170    ML               MoneyLion Inc Class A  ...  221.104151  238.280578\n",
       "1176  NTCO          Natura & Co Holding SA ADR  ...  225.871838  241.664480\n",
       "\n",
       "[1198 rows x 5 columns]"
      ]
     },
     "execution_count": 98,
     "metadata": {},
     "output_type": "execute_result"
    }
   ],
   "source": [
    "sector_6.sort_values(\"mean\")"
   ]
  },
  {
   "cell_type": "code",
   "execution_count": null,
   "metadata": {
    "colab": {
     "base_uri": "https://localhost:8080/",
     "height": 423
    },
    "executionInfo": {
     "elapsed": 374,
     "status": "ok",
     "timestamp": 1644930046069,
     "user": {
      "displayName": "최영제",
      "photoUrl": "https://lh3.googleusercontent.com/a/default-user=s64",
      "userId": "07722901092434959404"
     },
     "user_tz": -540
    },
    "id": "obQWr9NWCfVV",
    "outputId": "032e430c-f979-424c-ab1f-1acefa7a8325"
   },
   "outputs": [
    {
     "data": {
      "text/html": [
       "\n",
       "  <div id=\"df-d6406f18-44ca-4155-9a5b-678884b8dbf7\">\n",
       "    <div class=\"colab-df-container\">\n",
       "      <div>\n",
       "<style scoped>\n",
       "    .dataframe tbody tr th:only-of-type {\n",
       "        vertical-align: middle;\n",
       "    }\n",
       "\n",
       "    .dataframe tbody tr th {\n",
       "        vertical-align: top;\n",
       "    }\n",
       "\n",
       "    .dataframe thead th {\n",
       "        text-align: right;\n",
       "    }\n",
       "</style>\n",
       "<table border=\"1\" class=\"dataframe\">\n",
       "  <thead>\n",
       "    <tr style=\"text-align: right;\">\n",
       "      <th></th>\n",
       "      <th>code</th>\n",
       "      <th>name</th>\n",
       "      <th>MCDdtw</th>\n",
       "      <th>SBUXdtw</th>\n",
       "      <th>DPZdtw</th>\n",
       "      <th>YUMdtw</th>\n",
       "      <th>SHAKdtw</th>\n",
       "      <th>CMGdtw</th>\n",
       "      <th>QSRdtw</th>\n",
       "      <th>mean</th>\n",
       "    </tr>\n",
       "  </thead>\n",
       "  <tbody>\n",
       "    <tr>\n",
       "      <th>234</th>\n",
       "      <td>GFS</td>\n",
       "      <td>Globalfoundries Inc</td>\n",
       "      <td>58.833122</td>\n",
       "      <td>41.058897</td>\n",
       "      <td>46.140646</td>\n",
       "      <td>52.547791</td>\n",
       "      <td>48.569034</td>\n",
       "      <td>31.084007</td>\n",
       "      <td>65.049437</td>\n",
       "      <td>49.040419</td>\n",
       "    </tr>\n",
       "    <tr>\n",
       "      <th>371</th>\n",
       "      <td>OLPX</td>\n",
       "      <td>Olaplex Holdings Inc</td>\n",
       "      <td>79.538694</td>\n",
       "      <td>46.967615</td>\n",
       "      <td>42.662903</td>\n",
       "      <td>53.220331</td>\n",
       "      <td>58.417225</td>\n",
       "      <td>47.341577</td>\n",
       "      <td>71.337364</td>\n",
       "      <td>57.069387</td>\n",
       "    </tr>\n",
       "    <tr>\n",
       "      <th>286</th>\n",
       "      <td>INFA</td>\n",
       "      <td>Informatica Inc Class A</td>\n",
       "      <td>66.433806</td>\n",
       "      <td>74.193651</td>\n",
       "      <td>59.211372</td>\n",
       "      <td>71.842393</td>\n",
       "      <td>46.877293</td>\n",
       "      <td>50.840673</td>\n",
       "      <td>68.049955</td>\n",
       "      <td>62.492735</td>\n",
       "    </tr>\n",
       "    <tr>\n",
       "      <th>320</th>\n",
       "      <td>LTH</td>\n",
       "      <td>Life Time Group Holdings Inc</td>\n",
       "      <td>72.894720</td>\n",
       "      <td>50.519187</td>\n",
       "      <td>78.286218</td>\n",
       "      <td>79.851062</td>\n",
       "      <td>51.759953</td>\n",
       "      <td>46.815155</td>\n",
       "      <td>71.192549</td>\n",
       "      <td>64.474120</td>\n",
       "    </tr>\n",
       "    <tr>\n",
       "      <th>380</th>\n",
       "      <td>AKA</td>\n",
       "      <td>AKA Brands Holding Corp</td>\n",
       "      <td>81.832630</td>\n",
       "      <td>51.563419</td>\n",
       "      <td>63.051476</td>\n",
       "      <td>94.836916</td>\n",
       "      <td>51.458338</td>\n",
       "      <td>48.981034</td>\n",
       "      <td>71.771825</td>\n",
       "      <td>66.213662</td>\n",
       "    </tr>\n",
       "    <tr>\n",
       "      <th>...</th>\n",
       "      <td>...</td>\n",
       "      <td>...</td>\n",
       "      <td>...</td>\n",
       "      <td>...</td>\n",
       "      <td>...</td>\n",
       "      <td>...</td>\n",
       "      <td>...</td>\n",
       "      <td>...</td>\n",
       "      <td>...</td>\n",
       "      <td>...</td>\n",
       "    </tr>\n",
       "    <tr>\n",
       "      <th>1032</th>\n",
       "      <td>DELL</td>\n",
       "      <td>Dell Technologies Inc Class C</td>\n",
       "      <td>240.559185</td>\n",
       "      <td>153.910752</td>\n",
       "      <td>213.468730</td>\n",
       "      <td>180.811225</td>\n",
       "      <td>105.099159</td>\n",
       "      <td>127.438585</td>\n",
       "      <td>72.238178</td>\n",
       "      <td>156.217974</td>\n",
       "    </tr>\n",
       "    <tr>\n",
       "      <th>254</th>\n",
       "      <td>RRD</td>\n",
       "      <td>RR Donnelley &amp; Sons Co</td>\n",
       "      <td>62.369440</td>\n",
       "      <td>188.721967</td>\n",
       "      <td>146.025362</td>\n",
       "      <td>123.743995</td>\n",
       "      <td>217.812824</td>\n",
       "      <td>157.529385</td>\n",
       "      <td>219.657424</td>\n",
       "      <td>159.408628</td>\n",
       "    </tr>\n",
       "    <tr>\n",
       "      <th>176</th>\n",
       "      <td>DLTR</td>\n",
       "      <td>Dollar Tree Inc</td>\n",
       "      <td>51.860693</td>\n",
       "      <td>207.692703</td>\n",
       "      <td>114.768363</td>\n",
       "      <td>114.470006</td>\n",
       "      <td>242.005175</td>\n",
       "      <td>161.043779</td>\n",
       "      <td>236.925420</td>\n",
       "      <td>161.252306</td>\n",
       "    </tr>\n",
       "    <tr>\n",
       "      <th>265</th>\n",
       "      <td>NPTN</td>\n",
       "      <td>NeoPhotonics Corp</td>\n",
       "      <td>64.101265</td>\n",
       "      <td>214.148922</td>\n",
       "      <td>134.125397</td>\n",
       "      <td>113.877140</td>\n",
       "      <td>225.705831</td>\n",
       "      <td>161.205880</td>\n",
       "      <td>223.253765</td>\n",
       "      <td>162.345457</td>\n",
       "    </tr>\n",
       "    <tr>\n",
       "      <th>236</th>\n",
       "      <td>ROG</td>\n",
       "      <td>Rogers Corp</td>\n",
       "      <td>59.046553</td>\n",
       "      <td>211.630711</td>\n",
       "      <td>137.584716</td>\n",
       "      <td>132.604339</td>\n",
       "      <td>250.638152</td>\n",
       "      <td>157.468388</td>\n",
       "      <td>252.226635</td>\n",
       "      <td>171.599928</td>\n",
       "    </tr>\n",
       "  </tbody>\n",
       "</table>\n",
       "<p>1193 rows × 10 columns</p>\n",
       "</div>\n",
       "      <button class=\"colab-df-convert\" onclick=\"convertToInteractive('df-d6406f18-44ca-4155-9a5b-678884b8dbf7')\"\n",
       "              title=\"Convert this dataframe to an interactive table.\"\n",
       "              style=\"display:none;\">\n",
       "        \n",
       "  <svg xmlns=\"http://www.w3.org/2000/svg\" height=\"24px\"viewBox=\"0 0 24 24\"\n",
       "       width=\"24px\">\n",
       "    <path d=\"M0 0h24v24H0V0z\" fill=\"none\"/>\n",
       "    <path d=\"M18.56 5.44l.94 2.06.94-2.06 2.06-.94-2.06-.94-.94-2.06-.94 2.06-2.06.94zm-11 1L8.5 8.5l.94-2.06 2.06-.94-2.06-.94L8.5 2.5l-.94 2.06-2.06.94zm10 10l.94 2.06.94-2.06 2.06-.94-2.06-.94-.94-2.06-.94 2.06-2.06.94z\"/><path d=\"M17.41 7.96l-1.37-1.37c-.4-.4-.92-.59-1.43-.59-.52 0-1.04.2-1.43.59L10.3 9.45l-7.72 7.72c-.78.78-.78 2.05 0 2.83L4 21.41c.39.39.9.59 1.41.59.51 0 1.02-.2 1.41-.59l7.78-7.78 2.81-2.81c.8-.78.8-2.07 0-2.86zM5.41 20L4 18.59l7.72-7.72 1.47 1.35L5.41 20z\"/>\n",
       "  </svg>\n",
       "      </button>\n",
       "      \n",
       "  <style>\n",
       "    .colab-df-container {\n",
       "      display:flex;\n",
       "      flex-wrap:wrap;\n",
       "      gap: 12px;\n",
       "    }\n",
       "\n",
       "    .colab-df-convert {\n",
       "      background-color: #E8F0FE;\n",
       "      border: none;\n",
       "      border-radius: 50%;\n",
       "      cursor: pointer;\n",
       "      display: none;\n",
       "      fill: #1967D2;\n",
       "      height: 32px;\n",
       "      padding: 0 0 0 0;\n",
       "      width: 32px;\n",
       "    }\n",
       "\n",
       "    .colab-df-convert:hover {\n",
       "      background-color: #E2EBFA;\n",
       "      box-shadow: 0px 1px 2px rgba(60, 64, 67, 0.3), 0px 1px 3px 1px rgba(60, 64, 67, 0.15);\n",
       "      fill: #174EA6;\n",
       "    }\n",
       "\n",
       "    [theme=dark] .colab-df-convert {\n",
       "      background-color: #3B4455;\n",
       "      fill: #D2E3FC;\n",
       "    }\n",
       "\n",
       "    [theme=dark] .colab-df-convert:hover {\n",
       "      background-color: #434B5C;\n",
       "      box-shadow: 0px 1px 3px 1px rgba(0, 0, 0, 0.15);\n",
       "      filter: drop-shadow(0px 1px 2px rgba(0, 0, 0, 0.3));\n",
       "      fill: #FFFFFF;\n",
       "    }\n",
       "  </style>\n",
       "\n",
       "      <script>\n",
       "        const buttonEl =\n",
       "          document.querySelector('#df-d6406f18-44ca-4155-9a5b-678884b8dbf7 button.colab-df-convert');\n",
       "        buttonEl.style.display =\n",
       "          google.colab.kernel.accessAllowed ? 'block' : 'none';\n",
       "\n",
       "        async function convertToInteractive(key) {\n",
       "          const element = document.querySelector('#df-d6406f18-44ca-4155-9a5b-678884b8dbf7');\n",
       "          const dataTable =\n",
       "            await google.colab.kernel.invokeFunction('convertToInteractive',\n",
       "                                                     [key], {});\n",
       "          if (!dataTable) return;\n",
       "\n",
       "          const docLinkHtml = 'Like what you see? Visit the ' +\n",
       "            '<a target=\"_blank\" href=https://colab.research.google.com/notebooks/data_table.ipynb>data table notebook</a>'\n",
       "            + ' to learn more about interactive tables.';\n",
       "          element.innerHTML = '';\n",
       "          dataTable['output_type'] = 'display_data';\n",
       "          await google.colab.output.renderOutput(dataTable, element);\n",
       "          const docLink = document.createElement('div');\n",
       "          docLink.innerHTML = docLinkHtml;\n",
       "          element.appendChild(docLink);\n",
       "        }\n",
       "      </script>\n",
       "    </div>\n",
       "  </div>\n",
       "  "
      ],
      "text/plain": [
       "      code                           name  ...      QSRdtw        mean\n",
       "234    GFS            Globalfoundries Inc  ...   65.049437   49.040419\n",
       "371   OLPX           Olaplex Holdings Inc  ...   71.337364   57.069387\n",
       "286   INFA        Informatica Inc Class A  ...   68.049955   62.492735\n",
       "320    LTH   Life Time Group Holdings Inc  ...   71.192549   64.474120\n",
       "380    AKA        AKA Brands Holding Corp  ...   71.771825   66.213662\n",
       "...    ...                            ...  ...         ...         ...\n",
       "1032  DELL  Dell Technologies Inc Class C  ...   72.238178  156.217974\n",
       "254    RRD         RR Donnelley & Sons Co  ...  219.657424  159.408628\n",
       "176   DLTR                Dollar Tree Inc  ...  236.925420  161.252306\n",
       "265   NPTN              NeoPhotonics Corp  ...  223.253765  162.345457\n",
       "236    ROG                    Rogers Corp  ...  252.226635  171.599928\n",
       "\n",
       "[1193 rows x 10 columns]"
      ]
     },
     "execution_count": 90,
     "metadata": {},
     "output_type": "execute_result"
    }
   ],
   "source": [
    "sector_df.sort_values(\"mean\")"
   ]
  },
  {
   "cell_type": "code",
   "execution_count": null,
   "metadata": {},
   "outputs": [],
   "source": []
  },
  {
   "cell_type": "code",
   "execution_count": null,
   "metadata": {},
   "outputs": [],
   "source": []
  },
  {
   "cell_type": "code",
   "execution_count": null,
   "metadata": {},
   "outputs": [],
   "source": []
  },
  {
   "cell_type": "code",
   "execution_count": null,
   "metadata": {},
   "outputs": [],
   "source": []
  },
  {
   "cell_type": "code",
   "execution_count": null,
   "metadata": {},
   "outputs": [],
   "source": []
  },
  {
   "cell_type": "markdown",
   "metadata": {
    "id": "w8pEKe8staV3"
   },
   "source": [
    "# Using FDR"
   ]
  },
  {
   "cell_type": "code",
   "execution_count": null,
   "metadata": {
    "id": "UjzieLMe2SXY"
   },
   "outputs": [],
   "source": [
    "theme_list = list(df_theme.종목코드)"
   ]
  },
  {
   "cell_type": "code",
   "execution_count": null,
   "metadata": {
    "id": "m-YD7rbp5hf6"
   },
   "outputs": [],
   "source": [
    "theme_stocks = []\n",
    "theme_names = []"
   ]
  },
  {
   "cell_type": "code",
   "execution_count": null,
   "metadata": {
    "colab": {
     "base_uri": "https://localhost:8080/"
    },
    "executionInfo": {
     "elapsed": 469,
     "status": "ok",
     "timestamp": 1644886956792,
     "user": {
      "displayName": "최영제",
      "photoUrl": "https://lh3.googleusercontent.com/a/default-user=s64",
      "userId": "07722901092434959404"
     },
     "user_tz": -540
    },
    "id": "xwS_EYnr5swJ",
    "outputId": "73d83fef-a452-4895-b0bb-10503b6d7b4c"
   },
   "outputs": [
    {
     "data": {
      "text/plain": [
       "(array([86]),)"
      ]
     },
     "execution_count": 23,
     "metadata": {},
     "output_type": "execute_result"
    }
   ],
   "source": [
    "np.where(code == np.array(theme_list))"
   ]
  },
  {
   "cell_type": "code",
   "execution_count": null,
   "metadata": {
    "id": "c7B7IIUs4T6P"
   },
   "outputs": [],
   "source": [
    "for code in theme_list[86:]:\n",
    "  try:\n",
    "    theme_stocks.append(fdr.DataReader(code, '2021-06-01', '2022-01-31')['Close'])\n",
    "  except KeyError:\n",
    "    continue\n",
    "  except ValueError:\n",
    "    continue\n",
    "\n",
    "  theme_names.append(code)"
   ]
  },
  {
   "cell_type": "code",
   "execution_count": null,
   "metadata": {
    "id": "Ikyi4voc4MBf"
   },
   "outputs": [],
   "source": [
    "theme_stocks_df = pd.concat(theme_stocks, axis = 1)\n",
    "theme_stocks_df.columns = theme_names"
   ]
  },
  {
   "cell_type": "code",
   "execution_count": null,
   "metadata": {
    "colab": {
     "base_uri": "https://localhost:8080/",
     "height": 299
    },
    "executionInfo": {
     "elapsed": 691,
     "status": "ok",
     "timestamp": 1644930861025,
     "user": {
      "displayName": "최영제",
      "photoUrl": "https://lh3.googleusercontent.com/a/default-user=s64",
      "userId": "07722901092434959404"
     },
     "user_tz": -540
    },
    "id": "4K74DAyL45Qt",
    "outputId": "b02ebf2a-b798-4816-a82a-1c5e21c3b1a0"
   },
   "outputs": [
    {
     "data": {
      "text/html": [
       "\n",
       "  <div id=\"df-321d6dfe-af54-4f28-a81f-61c2e1987211\">\n",
       "    <div class=\"colab-df-container\">\n",
       "      <div>\n",
       "<style scoped>\n",
       "    .dataframe tbody tr th:only-of-type {\n",
       "        vertical-align: middle;\n",
       "    }\n",
       "\n",
       "    .dataframe tbody tr th {\n",
       "        vertical-align: top;\n",
       "    }\n",
       "\n",
       "    .dataframe thead th {\n",
       "        text-align: right;\n",
       "    }\n",
       "</style>\n",
       "<table border=\"1\" class=\"dataframe\">\n",
       "  <thead>\n",
       "    <tr style=\"text-align: right;\">\n",
       "      <th></th>\n",
       "      <th>AAPL</th>\n",
       "      <th>GOOG</th>\n",
       "      <th>FB</th>\n",
       "      <th>MSFT</th>\n",
       "      <th>AMZN</th>\n",
       "      <th>NVDA</th>\n",
       "      <th>ADBE</th>\n",
       "      <th>CRM</th>\n",
       "      <th>QCOM</th>\n",
       "      <th>AVGO</th>\n",
       "      <th>INTC</th>\n",
       "      <th>CSCO</th>\n",
       "      <th>NFLX</th>\n",
       "      <th>TSM</th>\n",
       "      <th>TSLA</th>\n",
       "      <th>BABA</th>\n",
       "      <th>JD</th>\n",
       "      <th>DIDI</th>\n",
       "      <th>BIDU</th>\n",
       "      <th>TSLA.1</th>\n",
       "      <th>LIVN</th>\n",
       "      <th>LCID</th>\n",
       "      <th>F</th>\n",
       "      <th>GM</th>\n",
       "      <th>FSR</th>\n",
       "      <th>GP</th>\n",
       "      <th>ALB</th>\n",
       "      <th>002460</th>\n",
       "      <th>NFE</th>\n",
       "      <th>NXPI</th>\n",
       "      <th>FNKO</th>\n",
       "      <th>DLPN</th>\n",
       "      <th>ZKIN</th>\n",
       "      <th>NET</th>\n",
       "      <th>MAT</th>\n",
       "      <th>DKNG</th>\n",
       "      <th>TWTR</th>\n",
       "      <th>EBAY</th>\n",
       "      <th>FB.1</th>\n",
       "      <th>PLBY</th>\n",
       "      <th>...</th>\n",
       "      <th>AMZN.1</th>\n",
       "      <th>TSLA.2</th>\n",
       "      <th>PFE</th>\n",
       "      <th>MRK</th>\n",
       "      <th>EL</th>\n",
       "      <th>PG</th>\n",
       "      <th>JNJ</th>\n",
       "      <th>BBWI</th>\n",
       "      <th>ELF</th>\n",
       "      <th>NKE</th>\n",
       "      <th>UA</th>\n",
       "      <th>LULU</th>\n",
       "      <th>PTON</th>\n",
       "      <th>SHOP</th>\n",
       "      <th>SKX</th>\n",
       "      <th>RACE</th>\n",
       "      <th>HOG</th>\n",
       "      <th>DEO</th>\n",
       "      <th>TSLA.3</th>\n",
       "      <th>CCL</th>\n",
       "      <th>HLT</th>\n",
       "      <th>LVS</th>\n",
       "      <th>MAR</th>\n",
       "      <th>BKNG</th>\n",
       "      <th>V</th>\n",
       "      <th>MAR.1</th>\n",
       "      <th>PYPL.1</th>\n",
       "      <th>ABNB</th>\n",
       "      <th>DIS</th>\n",
       "      <th>EXPE</th>\n",
       "      <th>TRIP</th>\n",
       "      <th>MCD</th>\n",
       "      <th>SBUX</th>\n",
       "      <th>DPZ</th>\n",
       "      <th>YUM</th>\n",
       "      <th>SHAK</th>\n",
       "      <th>CMG</th>\n",
       "      <th>QSR</th>\n",
       "      <th>WING</th>\n",
       "      <th>FAT</th>\n",
       "    </tr>\n",
       "  </thead>\n",
       "  <tbody>\n",
       "    <tr>\n",
       "      <th>0</th>\n",
       "      <td>124.28</td>\n",
       "      <td>2429.81</td>\n",
       "      <td>329.13</td>\n",
       "      <td>247.40</td>\n",
       "      <td>3218.65</td>\n",
       "      <td>162.65</td>\n",
       "      <td>495.91</td>\n",
       "      <td>236.20</td>\n",
       "      <td>133.94</td>\n",
       "      <td>468.31</td>\n",
       "      <td>56.89</td>\n",
       "      <td>52.62</td>\n",
       "      <td>499.08</td>\n",
       "      <td>118.51</td>\n",
       "      <td>623.90</td>\n",
       "      <td>219.48</td>\n",
       "      <td>78.33</td>\n",
       "      <td>NaN</td>\n",
       "      <td>201.82</td>\n",
       "      <td>623.90</td>\n",
       "      <td>81.69</td>\n",
       "      <td>21.56</td>\n",
       "      <td>14.81</td>\n",
       "      <td>59.65</td>\n",
       "      <td>13.40</td>\n",
       "      <td>17.09</td>\n",
       "      <td>171.43</td>\n",
       "      <td>13150.0</td>\n",
       "      <td>44.43</td>\n",
       "      <td>207.91</td>\n",
       "      <td>26.13</td>\n",
       "      <td>9.72</td>\n",
       "      <td>5.15</td>\n",
       "      <td>83.07</td>\n",
       "      <td>21.13</td>\n",
       "      <td>49.57</td>\n",
       "      <td>57.44</td>\n",
       "      <td>61.37</td>\n",
       "      <td>329.13</td>\n",
       "      <td>42.69</td>\n",
       "      <td>...</td>\n",
       "      <td>3218.65</td>\n",
       "      <td>623.90</td>\n",
       "      <td>38.50</td>\n",
       "      <td>71.69</td>\n",
       "      <td>304.08</td>\n",
       "      <td>132.88</td>\n",
       "      <td>165.53</td>\n",
       "      <td>57.21</td>\n",
       "      <td>27.57</td>\n",
       "      <td>134.51</td>\n",
       "      <td>19.63</td>\n",
       "      <td>318.62</td>\n",
       "      <td>108.89</td>\n",
       "      <td>1251.56</td>\n",
       "      <td>47.34</td>\n",
       "      <td>212.70</td>\n",
       "      <td>48.43</td>\n",
       "      <td>193.69</td>\n",
       "      <td>623.90</td>\n",
       "      <td>30.15</td>\n",
       "      <td>126.61</td>\n",
       "      <td>59.20</td>\n",
       "      <td>145.18</td>\n",
       "      <td>2328.28</td>\n",
       "      <td>226.63</td>\n",
       "      <td>145.18</td>\n",
       "      <td>259.27</td>\n",
       "      <td>144.31</td>\n",
       "      <td>178.84</td>\n",
       "      <td>177.31</td>\n",
       "      <td>43.34</td>\n",
       "      <td>233.24</td>\n",
       "      <td>113.34</td>\n",
       "      <td>423.00</td>\n",
       "      <td>119.90</td>\n",
       "      <td>90.92</td>\n",
       "      <td>1361.13</td>\n",
       "      <td>70.47</td>\n",
       "      <td>140.25</td>\n",
       "      <td>10.55</td>\n",
       "    </tr>\n",
       "    <tr>\n",
       "      <th>1</th>\n",
       "      <td>125.06</td>\n",
       "      <td>2421.28</td>\n",
       "      <td>329.15</td>\n",
       "      <td>247.30</td>\n",
       "      <td>3233.99</td>\n",
       "      <td>167.78</td>\n",
       "      <td>495.77</td>\n",
       "      <td>234.62</td>\n",
       "      <td>133.82</td>\n",
       "      <td>473.73</td>\n",
       "      <td>57.48</td>\n",
       "      <td>52.96</td>\n",
       "      <td>499.24</td>\n",
       "      <td>118.95</td>\n",
       "      <td>605.12</td>\n",
       "      <td>219.59</td>\n",
       "      <td>76.54</td>\n",
       "      <td>NaN</td>\n",
       "      <td>197.85</td>\n",
       "      <td>605.12</td>\n",
       "      <td>79.24</td>\n",
       "      <td>23.56</td>\n",
       "      <td>14.91</td>\n",
       "      <td>59.65</td>\n",
       "      <td>14.69</td>\n",
       "      <td>17.43</td>\n",
       "      <td>170.36</td>\n",
       "      <td>13250.0</td>\n",
       "      <td>41.92</td>\n",
       "      <td>207.85</td>\n",
       "      <td>26.00</td>\n",
       "      <td>9.11</td>\n",
       "      <td>4.58</td>\n",
       "      <td>83.86</td>\n",
       "      <td>21.54</td>\n",
       "      <td>50.97</td>\n",
       "      <td>57.16</td>\n",
       "      <td>63.41</td>\n",
       "      <td>329.15</td>\n",
       "      <td>43.37</td>\n",
       "      <td>...</td>\n",
       "      <td>3233.99</td>\n",
       "      <td>605.12</td>\n",
       "      <td>38.79</td>\n",
       "      <td>72.34</td>\n",
       "      <td>303.66</td>\n",
       "      <td>133.46</td>\n",
       "      <td>166.20</td>\n",
       "      <td>55.09</td>\n",
       "      <td>27.59</td>\n",
       "      <td>134.17</td>\n",
       "      <td>19.55</td>\n",
       "      <td>320.78</td>\n",
       "      <td>108.55</td>\n",
       "      <td>1229.59</td>\n",
       "      <td>46.42</td>\n",
       "      <td>214.41</td>\n",
       "      <td>48.62</td>\n",
       "      <td>194.52</td>\n",
       "      <td>605.12</td>\n",
       "      <td>31.31</td>\n",
       "      <td>125.17</td>\n",
       "      <td>58.92</td>\n",
       "      <td>142.63</td>\n",
       "      <td>2317.90</td>\n",
       "      <td>229.66</td>\n",
       "      <td>142.63</td>\n",
       "      <td>262.17</td>\n",
       "      <td>151.00</td>\n",
       "      <td>177.00</td>\n",
       "      <td>175.17</td>\n",
       "      <td>42.44</td>\n",
       "      <td>233.78</td>\n",
       "      <td>113.00</td>\n",
       "      <td>426.20</td>\n",
       "      <td>119.24</td>\n",
       "      <td>94.81</td>\n",
       "      <td>1362.39</td>\n",
       "      <td>69.73</td>\n",
       "      <td>142.23</td>\n",
       "      <td>10.89</td>\n",
       "    </tr>\n",
       "    <tr>\n",
       "      <th>2</th>\n",
       "      <td>123.54</td>\n",
       "      <td>2404.61</td>\n",
       "      <td>326.04</td>\n",
       "      <td>245.71</td>\n",
       "      <td>3187.01</td>\n",
       "      <td>169.70</td>\n",
       "      <td>493.14</td>\n",
       "      <td>230.84</td>\n",
       "      <td>131.78</td>\n",
       "      <td>464.80</td>\n",
       "      <td>56.24</td>\n",
       "      <td>53.33</td>\n",
       "      <td>489.43</td>\n",
       "      <td>116.82</td>\n",
       "      <td>572.84</td>\n",
       "      <td>217.04</td>\n",
       "      <td>75.52</td>\n",
       "      <td>NaN</td>\n",
       "      <td>189.97</td>\n",
       "      <td>572.84</td>\n",
       "      <td>79.26</td>\n",
       "      <td>22.96</td>\n",
       "      <td>15.99</td>\n",
       "      <td>63.46</td>\n",
       "      <td>15.91</td>\n",
       "      <td>17.04</td>\n",
       "      <td>168.17</td>\n",
       "      <td>13250.0</td>\n",
       "      <td>41.03</td>\n",
       "      <td>200.75</td>\n",
       "      <td>23.50</td>\n",
       "      <td>8.90</td>\n",
       "      <td>4.50</td>\n",
       "      <td>81.92</td>\n",
       "      <td>20.86</td>\n",
       "      <td>49.71</td>\n",
       "      <td>57.01</td>\n",
       "      <td>64.07</td>\n",
       "      <td>326.04</td>\n",
       "      <td>44.69</td>\n",
       "      <td>...</td>\n",
       "      <td>3187.01</td>\n",
       "      <td>572.84</td>\n",
       "      <td>38.97</td>\n",
       "      <td>73.91</td>\n",
       "      <td>302.88</td>\n",
       "      <td>135.85</td>\n",
       "      <td>166.04</td>\n",
       "      <td>53.40</td>\n",
       "      <td>27.33</td>\n",
       "      <td>134.17</td>\n",
       "      <td>19.06</td>\n",
       "      <td>317.36</td>\n",
       "      <td>103.10</td>\n",
       "      <td>1199.00</td>\n",
       "      <td>46.63</td>\n",
       "      <td>215.43</td>\n",
       "      <td>48.98</td>\n",
       "      <td>192.88</td>\n",
       "      <td>572.84</td>\n",
       "      <td>30.67</td>\n",
       "      <td>123.13</td>\n",
       "      <td>56.76</td>\n",
       "      <td>140.40</td>\n",
       "      <td>2295.80</td>\n",
       "      <td>228.11</td>\n",
       "      <td>140.40</td>\n",
       "      <td>257.79</td>\n",
       "      <td>144.19</td>\n",
       "      <td>176.24</td>\n",
       "      <td>170.75</td>\n",
       "      <td>42.26</td>\n",
       "      <td>232.45</td>\n",
       "      <td>111.12</td>\n",
       "      <td>425.12</td>\n",
       "      <td>118.72</td>\n",
       "      <td>90.59</td>\n",
       "      <td>1333.04</td>\n",
       "      <td>69.12</td>\n",
       "      <td>137.55</td>\n",
       "      <td>10.78</td>\n",
       "    </tr>\n",
       "    <tr>\n",
       "      <th>3</th>\n",
       "      <td>125.89</td>\n",
       "      <td>2451.76</td>\n",
       "      <td>330.35</td>\n",
       "      <td>250.79</td>\n",
       "      <td>3206.22</td>\n",
       "      <td>175.78</td>\n",
       "      <td>504.50</td>\n",
       "      <td>237.48</td>\n",
       "      <td>134.34</td>\n",
       "      <td>475.00</td>\n",
       "      <td>57.37</td>\n",
       "      <td>54.07</td>\n",
       "      <td>494.74</td>\n",
       "      <td>119.51</td>\n",
       "      <td>599.05</td>\n",
       "      <td>219.02</td>\n",
       "      <td>75.43</td>\n",
       "      <td>NaN</td>\n",
       "      <td>192.99</td>\n",
       "      <td>599.05</td>\n",
       "      <td>80.08</td>\n",
       "      <td>23.95</td>\n",
       "      <td>15.97</td>\n",
       "      <td>63.37</td>\n",
       "      <td>15.92</td>\n",
       "      <td>17.12</td>\n",
       "      <td>173.54</td>\n",
       "      <td>13300.0</td>\n",
       "      <td>39.63</td>\n",
       "      <td>202.00</td>\n",
       "      <td>23.54</td>\n",
       "      <td>8.51</td>\n",
       "      <td>4.77</td>\n",
       "      <td>83.08</td>\n",
       "      <td>20.68</td>\n",
       "      <td>50.33</td>\n",
       "      <td>59.00</td>\n",
       "      <td>65.23</td>\n",
       "      <td>330.35</td>\n",
       "      <td>45.92</td>\n",
       "      <td>...</td>\n",
       "      <td>3206.22</td>\n",
       "      <td>599.05</td>\n",
       "      <td>39.15</td>\n",
       "      <td>74.11</td>\n",
       "      <td>303.35</td>\n",
       "      <td>135.95</td>\n",
       "      <td>165.97</td>\n",
       "      <td>53.11</td>\n",
       "      <td>27.30</td>\n",
       "      <td>133.74</td>\n",
       "      <td>19.02</td>\n",
       "      <td>329.52</td>\n",
       "      <td>103.01</td>\n",
       "      <td>1205.74</td>\n",
       "      <td>46.39</td>\n",
       "      <td>216.88</td>\n",
       "      <td>48.05</td>\n",
       "      <td>192.62</td>\n",
       "      <td>599.05</td>\n",
       "      <td>30.54</td>\n",
       "      <td>124.75</td>\n",
       "      <td>56.52</td>\n",
       "      <td>142.06</td>\n",
       "      <td>2315.69</td>\n",
       "      <td>230.14</td>\n",
       "      <td>142.06</td>\n",
       "      <td>263.04</td>\n",
       "      <td>150.73</td>\n",
       "      <td>177.18</td>\n",
       "      <td>171.42</td>\n",
       "      <td>41.26</td>\n",
       "      <td>233.38</td>\n",
       "      <td>111.99</td>\n",
       "      <td>431.14</td>\n",
       "      <td>118.77</td>\n",
       "      <td>89.28</td>\n",
       "      <td>1326.34</td>\n",
       "      <td>69.18</td>\n",
       "      <td>137.80</td>\n",
       "      <td>11.34</td>\n",
       "    </tr>\n",
       "    <tr>\n",
       "      <th>4</th>\n",
       "      <td>125.90</td>\n",
       "      <td>2466.09</td>\n",
       "      <td>336.58</td>\n",
       "      <td>253.81</td>\n",
       "      <td>3198.01</td>\n",
       "      <td>176.19</td>\n",
       "      <td>509.47</td>\n",
       "      <td>238.14</td>\n",
       "      <td>133.32</td>\n",
       "      <td>463.78</td>\n",
       "      <td>57.09</td>\n",
       "      <td>53.92</td>\n",
       "      <td>494.66</td>\n",
       "      <td>118.22</td>\n",
       "      <td>605.13</td>\n",
       "      <td>216.90</td>\n",
       "      <td>74.68</td>\n",
       "      <td>NaN</td>\n",
       "      <td>188.92</td>\n",
       "      <td>605.13</td>\n",
       "      <td>80.09</td>\n",
       "      <td>26.50</td>\n",
       "      <td>15.88</td>\n",
       "      <td>63.23</td>\n",
       "      <td>17.40</td>\n",
       "      <td>17.23</td>\n",
       "      <td>170.78</td>\n",
       "      <td>13450.0</td>\n",
       "      <td>40.85</td>\n",
       "      <td>201.15</td>\n",
       "      <td>23.72</td>\n",
       "      <td>8.75</td>\n",
       "      <td>5.02</td>\n",
       "      <td>85.84</td>\n",
       "      <td>20.69</td>\n",
       "      <td>53.51</td>\n",
       "      <td>59.63</td>\n",
       "      <td>65.45</td>\n",
       "      <td>336.58</td>\n",
       "      <td>52.09</td>\n",
       "      <td>...</td>\n",
       "      <td>3198.01</td>\n",
       "      <td>605.13</td>\n",
       "      <td>38.99</td>\n",
       "      <td>72.80</td>\n",
       "      <td>302.96</td>\n",
       "      <td>136.42</td>\n",
       "      <td>164.84</td>\n",
       "      <td>53.45</td>\n",
       "      <td>27.52</td>\n",
       "      <td>133.95</td>\n",
       "      <td>19.25</td>\n",
       "      <td>331.61</td>\n",
       "      <td>109.79</td>\n",
       "      <td>1230.55</td>\n",
       "      <td>46.71</td>\n",
       "      <td>219.37</td>\n",
       "      <td>47.17</td>\n",
       "      <td>193.16</td>\n",
       "      <td>605.13</td>\n",
       "      <td>30.89</td>\n",
       "      <td>124.90</td>\n",
       "      <td>56.52</td>\n",
       "      <td>142.48</td>\n",
       "      <td>2298.50</td>\n",
       "      <td>231.32</td>\n",
       "      <td>142.48</td>\n",
       "      <td>260.60</td>\n",
       "      <td>148.97</td>\n",
       "      <td>176.99</td>\n",
       "      <td>170.35</td>\n",
       "      <td>42.25</td>\n",
       "      <td>231.69</td>\n",
       "      <td>111.33</td>\n",
       "      <td>437.92</td>\n",
       "      <td>118.32</td>\n",
       "      <td>95.11</td>\n",
       "      <td>1323.26</td>\n",
       "      <td>68.67</td>\n",
       "      <td>139.91</td>\n",
       "      <td>11.60</td>\n",
       "    </tr>\n",
       "  </tbody>\n",
       "</table>\n",
       "<p>5 rows × 109 columns</p>\n",
       "</div>\n",
       "      <button class=\"colab-df-convert\" onclick=\"convertToInteractive('df-321d6dfe-af54-4f28-a81f-61c2e1987211')\"\n",
       "              title=\"Convert this dataframe to an interactive table.\"\n",
       "              style=\"display:none;\">\n",
       "        \n",
       "  <svg xmlns=\"http://www.w3.org/2000/svg\" height=\"24px\"viewBox=\"0 0 24 24\"\n",
       "       width=\"24px\">\n",
       "    <path d=\"M0 0h24v24H0V0z\" fill=\"none\"/>\n",
       "    <path d=\"M18.56 5.44l.94 2.06.94-2.06 2.06-.94-2.06-.94-.94-2.06-.94 2.06-2.06.94zm-11 1L8.5 8.5l.94-2.06 2.06-.94-2.06-.94L8.5 2.5l-.94 2.06-2.06.94zm10 10l.94 2.06.94-2.06 2.06-.94-2.06-.94-.94-2.06-.94 2.06-2.06.94z\"/><path d=\"M17.41 7.96l-1.37-1.37c-.4-.4-.92-.59-1.43-.59-.52 0-1.04.2-1.43.59L10.3 9.45l-7.72 7.72c-.78.78-.78 2.05 0 2.83L4 21.41c.39.39.9.59 1.41.59.51 0 1.02-.2 1.41-.59l7.78-7.78 2.81-2.81c.8-.78.8-2.07 0-2.86zM5.41 20L4 18.59l7.72-7.72 1.47 1.35L5.41 20z\"/>\n",
       "  </svg>\n",
       "      </button>\n",
       "      \n",
       "  <style>\n",
       "    .colab-df-container {\n",
       "      display:flex;\n",
       "      flex-wrap:wrap;\n",
       "      gap: 12px;\n",
       "    }\n",
       "\n",
       "    .colab-df-convert {\n",
       "      background-color: #E8F0FE;\n",
       "      border: none;\n",
       "      border-radius: 50%;\n",
       "      cursor: pointer;\n",
       "      display: none;\n",
       "      fill: #1967D2;\n",
       "      height: 32px;\n",
       "      padding: 0 0 0 0;\n",
       "      width: 32px;\n",
       "    }\n",
       "\n",
       "    .colab-df-convert:hover {\n",
       "      background-color: #E2EBFA;\n",
       "      box-shadow: 0px 1px 2px rgba(60, 64, 67, 0.3), 0px 1px 3px 1px rgba(60, 64, 67, 0.15);\n",
       "      fill: #174EA6;\n",
       "    }\n",
       "\n",
       "    [theme=dark] .colab-df-convert {\n",
       "      background-color: #3B4455;\n",
       "      fill: #D2E3FC;\n",
       "    }\n",
       "\n",
       "    [theme=dark] .colab-df-convert:hover {\n",
       "      background-color: #434B5C;\n",
       "      box-shadow: 0px 1px 3px 1px rgba(0, 0, 0, 0.15);\n",
       "      filter: drop-shadow(0px 1px 2px rgba(0, 0, 0, 0.3));\n",
       "      fill: #FFFFFF;\n",
       "    }\n",
       "  </style>\n",
       "\n",
       "      <script>\n",
       "        const buttonEl =\n",
       "          document.querySelector('#df-321d6dfe-af54-4f28-a81f-61c2e1987211 button.colab-df-convert');\n",
       "        buttonEl.style.display =\n",
       "          google.colab.kernel.accessAllowed ? 'block' : 'none';\n",
       "\n",
       "        async function convertToInteractive(key) {\n",
       "          const element = document.querySelector('#df-321d6dfe-af54-4f28-a81f-61c2e1987211');\n",
       "          const dataTable =\n",
       "            await google.colab.kernel.invokeFunction('convertToInteractive',\n",
       "                                                     [key], {});\n",
       "          if (!dataTable) return;\n",
       "\n",
       "          const docLinkHtml = 'Like what you see? Visit the ' +\n",
       "            '<a target=\"_blank\" href=https://colab.research.google.com/notebooks/data_table.ipynb>data table notebook</a>'\n",
       "            + ' to learn more about interactive tables.';\n",
       "          element.innerHTML = '';\n",
       "          dataTable['output_type'] = 'display_data';\n",
       "          await google.colab.output.renderOutput(dataTable, element);\n",
       "          const docLink = document.createElement('div');\n",
       "          docLink.innerHTML = docLinkHtml;\n",
       "          element.appendChild(docLink);\n",
       "        }\n",
       "      </script>\n",
       "    </div>\n",
       "  </div>\n",
       "  "
      ],
      "text/plain": [
       "     AAPL     GOOG      FB    MSFT  ...      CMG    QSR    WING    FAT\n",
       "0  124.28  2429.81  329.13  247.40  ...  1361.13  70.47  140.25  10.55\n",
       "1  125.06  2421.28  329.15  247.30  ...  1362.39  69.73  142.23  10.89\n",
       "2  123.54  2404.61  326.04  245.71  ...  1333.04  69.12  137.55  10.78\n",
       "3  125.89  2451.76  330.35  250.79  ...  1326.34  69.18  137.80  11.34\n",
       "4  125.90  2466.09  336.58  253.81  ...  1323.26  68.67  139.91  11.60\n",
       "\n",
       "[5 rows x 109 columns]"
      ]
     },
     "execution_count": 96,
     "metadata": {},
     "output_type": "execute_result"
    }
   ],
   "source": [
    "theme_stocks_df.head()"
   ]
  },
  {
   "cell_type": "code",
   "execution_count": null,
   "metadata": {
    "id": "KgbDemHn6RZy"
   },
   "outputs": [],
   "source": [
    "# theme_stocks_df.to_csv(\"theme_stocks.csv\", index =False)"
   ]
  },
  {
   "cell_type": "code",
   "execution_count": null,
   "metadata": {
    "id": "bSEQ1iIeVnI2"
   },
   "outputs": [],
   "source": [
    "theme_stocks_df = pd.read_csv(\"theme_stocks.csv\")"
   ]
  },
  {
   "cell_type": "code",
   "execution_count": null,
   "metadata": {
    "colab": {
     "base_uri": "https://localhost:8080/",
     "height": 206
    },
    "executionInfo": {
     "elapsed": 1077,
     "status": "ok",
     "timestamp": 1644887196954,
     "user": {
      "displayName": "최영제",
      "photoUrl": "https://lh3.googleusercontent.com/a/default-user=s64",
      "userId": "07722901092434959404"
     },
     "user_tz": -540
    },
    "id": "NB_3Wn6p6WFt",
    "outputId": "d536fa8c-6b53-4d84-fdc4-c960f44efc6e"
   },
   "outputs": [
    {
     "data": {
      "text/html": [
       "\n",
       "  <div id=\"df-cb843eda-b323-4580-ae7d-132ee8c91401\">\n",
       "    <div class=\"colab-df-container\">\n",
       "      <div>\n",
       "<style scoped>\n",
       "    .dataframe tbody tr th:only-of-type {\n",
       "        vertical-align: middle;\n",
       "    }\n",
       "\n",
       "    .dataframe tbody tr th {\n",
       "        vertical-align: top;\n",
       "    }\n",
       "\n",
       "    .dataframe thead th {\n",
       "        text-align: right;\n",
       "    }\n",
       "</style>\n",
       "<table border=\"1\" class=\"dataframe\">\n",
       "  <thead>\n",
       "    <tr style=\"text-align: right;\">\n",
       "      <th></th>\n",
       "      <th>테마</th>\n",
       "      <th>해당 주식</th>\n",
       "      <th>종목코드</th>\n",
       "    </tr>\n",
       "  </thead>\n",
       "  <tbody>\n",
       "    <tr>\n",
       "      <th>0</th>\n",
       "      <td>빅테크-A(미국)</td>\n",
       "      <td>애플</td>\n",
       "      <td>AAPL</td>\n",
       "    </tr>\n",
       "    <tr>\n",
       "      <th>1</th>\n",
       "      <td>빅테크-A(미국)</td>\n",
       "      <td>알파벳</td>\n",
       "      <td>GOOG</td>\n",
       "    </tr>\n",
       "    <tr>\n",
       "      <th>2</th>\n",
       "      <td>빅테크-A(미국)</td>\n",
       "      <td>메타</td>\n",
       "      <td>FB</td>\n",
       "    </tr>\n",
       "    <tr>\n",
       "      <th>3</th>\n",
       "      <td>빅테크-A(미국)</td>\n",
       "      <td>마이크로소프트</td>\n",
       "      <td>MSFT</td>\n",
       "    </tr>\n",
       "    <tr>\n",
       "      <th>4</th>\n",
       "      <td>빅테크-A(미국)</td>\n",
       "      <td>아마존</td>\n",
       "      <td>AMZN</td>\n",
       "    </tr>\n",
       "  </tbody>\n",
       "</table>\n",
       "</div>\n",
       "      <button class=\"colab-df-convert\" onclick=\"convertToInteractive('df-cb843eda-b323-4580-ae7d-132ee8c91401')\"\n",
       "              title=\"Convert this dataframe to an interactive table.\"\n",
       "              style=\"display:none;\">\n",
       "        \n",
       "  <svg xmlns=\"http://www.w3.org/2000/svg\" height=\"24px\"viewBox=\"0 0 24 24\"\n",
       "       width=\"24px\">\n",
       "    <path d=\"M0 0h24v24H0V0z\" fill=\"none\"/>\n",
       "    <path d=\"M18.56 5.44l.94 2.06.94-2.06 2.06-.94-2.06-.94-.94-2.06-.94 2.06-2.06.94zm-11 1L8.5 8.5l.94-2.06 2.06-.94-2.06-.94L8.5 2.5l-.94 2.06-2.06.94zm10 10l.94 2.06.94-2.06 2.06-.94-2.06-.94-.94-2.06-.94 2.06-2.06.94z\"/><path d=\"M17.41 7.96l-1.37-1.37c-.4-.4-.92-.59-1.43-.59-.52 0-1.04.2-1.43.59L10.3 9.45l-7.72 7.72c-.78.78-.78 2.05 0 2.83L4 21.41c.39.39.9.59 1.41.59.51 0 1.02-.2 1.41-.59l7.78-7.78 2.81-2.81c.8-.78.8-2.07 0-2.86zM5.41 20L4 18.59l7.72-7.72 1.47 1.35L5.41 20z\"/>\n",
       "  </svg>\n",
       "      </button>\n",
       "      \n",
       "  <style>\n",
       "    .colab-df-container {\n",
       "      display:flex;\n",
       "      flex-wrap:wrap;\n",
       "      gap: 12px;\n",
       "    }\n",
       "\n",
       "    .colab-df-convert {\n",
       "      background-color: #E8F0FE;\n",
       "      border: none;\n",
       "      border-radius: 50%;\n",
       "      cursor: pointer;\n",
       "      display: none;\n",
       "      fill: #1967D2;\n",
       "      height: 32px;\n",
       "      padding: 0 0 0 0;\n",
       "      width: 32px;\n",
       "    }\n",
       "\n",
       "    .colab-df-convert:hover {\n",
       "      background-color: #E2EBFA;\n",
       "      box-shadow: 0px 1px 2px rgba(60, 64, 67, 0.3), 0px 1px 3px 1px rgba(60, 64, 67, 0.15);\n",
       "      fill: #174EA6;\n",
       "    }\n",
       "\n",
       "    [theme=dark] .colab-df-convert {\n",
       "      background-color: #3B4455;\n",
       "      fill: #D2E3FC;\n",
       "    }\n",
       "\n",
       "    [theme=dark] .colab-df-convert:hover {\n",
       "      background-color: #434B5C;\n",
       "      box-shadow: 0px 1px 3px 1px rgba(0, 0, 0, 0.15);\n",
       "      filter: drop-shadow(0px 1px 2px rgba(0, 0, 0, 0.3));\n",
       "      fill: #FFFFFF;\n",
       "    }\n",
       "  </style>\n",
       "\n",
       "      <script>\n",
       "        const buttonEl =\n",
       "          document.querySelector('#df-cb843eda-b323-4580-ae7d-132ee8c91401 button.colab-df-convert');\n",
       "        buttonEl.style.display =\n",
       "          google.colab.kernel.accessAllowed ? 'block' : 'none';\n",
       "\n",
       "        async function convertToInteractive(key) {\n",
       "          const element = document.querySelector('#df-cb843eda-b323-4580-ae7d-132ee8c91401');\n",
       "          const dataTable =\n",
       "            await google.colab.kernel.invokeFunction('convertToInteractive',\n",
       "                                                     [key], {});\n",
       "          if (!dataTable) return;\n",
       "\n",
       "          const docLinkHtml = 'Like what you see? Visit the ' +\n",
       "            '<a target=\"_blank\" href=https://colab.research.google.com/notebooks/data_table.ipynb>data table notebook</a>'\n",
       "            + ' to learn more about interactive tables.';\n",
       "          element.innerHTML = '';\n",
       "          dataTable['output_type'] = 'display_data';\n",
       "          await google.colab.output.renderOutput(dataTable, element);\n",
       "          const docLink = document.createElement('div');\n",
       "          docLink.innerHTML = docLinkHtml;\n",
       "          element.appendChild(docLink);\n",
       "        }\n",
       "      </script>\n",
       "    </div>\n",
       "  </div>\n",
       "  "
      ],
      "text/plain": [
       "          테마    해당 주식  종목코드\n",
       "0  빅테크-A(미국)       애플  AAPL\n",
       "1  빅테크-A(미국)      알파벳  GOOG\n",
       "2  빅테크-A(미국)       메타    FB\n",
       "3  빅테크-A(미국)  마이크로소프트  MSFT\n",
       "4  빅테크-A(미국)      아마존  AMZN"
      ]
     },
     "execution_count": 33,
     "metadata": {},
     "output_type": "execute_result"
    }
   ],
   "source": [
    "df_theme.head()"
   ]
  },
  {
   "cell_type": "code",
   "execution_count": null,
   "metadata": {
    "colab": {
     "base_uri": "https://localhost:8080/",
     "height": 206
    },
    "executionInfo": {
     "elapsed": 9,
     "status": "ok",
     "timestamp": 1644898335189,
     "user": {
      "displayName": "최영제",
      "photoUrl": "https://lh3.googleusercontent.com/a/default-user=s64",
      "userId": "07722901092434959404"
     },
     "user_tz": -540
    },
    "id": "GRYg6gaJ6fnN",
    "outputId": "89360b0e-779b-4113-b81f-6281e79d82fd"
   },
   "outputs": [
    {
     "data": {
      "text/html": [
       "\n",
       "  <div id=\"df-37ad736c-206f-44e6-b211-981c17fed6ef\">\n",
       "    <div class=\"colab-df-container\">\n",
       "      <div>\n",
       "<style scoped>\n",
       "    .dataframe tbody tr th:only-of-type {\n",
       "        vertical-align: middle;\n",
       "    }\n",
       "\n",
       "    .dataframe tbody tr th {\n",
       "        vertical-align: top;\n",
       "    }\n",
       "\n",
       "    .dataframe thead th {\n",
       "        text-align: right;\n",
       "    }\n",
       "</style>\n",
       "<table border=\"1\" class=\"dataframe\">\n",
       "  <thead>\n",
       "    <tr style=\"text-align: right;\">\n",
       "      <th></th>\n",
       "      <th>Symbol</th>\n",
       "      <th>Name</th>\n",
       "      <th>Industry</th>\n",
       "      <th>IndustryCode</th>\n",
       "    </tr>\n",
       "  </thead>\n",
       "  <tbody>\n",
       "    <tr>\n",
       "      <th>0</th>\n",
       "      <td>TSM</td>\n",
       "      <td>Taiwan Semiconductor Manufacturing Co Ltd ADR</td>\n",
       "      <td>반도체 및 반도체 장비</td>\n",
       "      <td>571010</td>\n",
       "    </tr>\n",
       "    <tr>\n",
       "      <th>1</th>\n",
       "      <td>V</td>\n",
       "      <td>Visa Inc Class A</td>\n",
       "      <td>소프트웨어 및 IT서비스</td>\n",
       "      <td>572010</td>\n",
       "    </tr>\n",
       "    <tr>\n",
       "      <th>2</th>\n",
       "      <td>JPM</td>\n",
       "      <td>JPMorgan Chase &amp; Co</td>\n",
       "      <td>은행</td>\n",
       "      <td>551010</td>\n",
       "    </tr>\n",
       "    <tr>\n",
       "      <th>3</th>\n",
       "      <td>UNH</td>\n",
       "      <td>UnitedHealth Group Inc</td>\n",
       "      <td>헬스케어 업체 및 서비스</td>\n",
       "      <td>561020</td>\n",
       "    </tr>\n",
       "    <tr>\n",
       "      <th>4</th>\n",
       "      <td>JNJ</td>\n",
       "      <td>Johnson &amp; Johnson</td>\n",
       "      <td>제약</td>\n",
       "      <td>562010</td>\n",
       "    </tr>\n",
       "  </tbody>\n",
       "</table>\n",
       "</div>\n",
       "      <button class=\"colab-df-convert\" onclick=\"convertToInteractive('df-37ad736c-206f-44e6-b211-981c17fed6ef')\"\n",
       "              title=\"Convert this dataframe to an interactive table.\"\n",
       "              style=\"display:none;\">\n",
       "        \n",
       "  <svg xmlns=\"http://www.w3.org/2000/svg\" height=\"24px\"viewBox=\"0 0 24 24\"\n",
       "       width=\"24px\">\n",
       "    <path d=\"M0 0h24v24H0V0z\" fill=\"none\"/>\n",
       "    <path d=\"M18.56 5.44l.94 2.06.94-2.06 2.06-.94-2.06-.94-.94-2.06-.94 2.06-2.06.94zm-11 1L8.5 8.5l.94-2.06 2.06-.94-2.06-.94L8.5 2.5l-.94 2.06-2.06.94zm10 10l.94 2.06.94-2.06 2.06-.94-2.06-.94-.94-2.06-.94 2.06-2.06.94z\"/><path d=\"M17.41 7.96l-1.37-1.37c-.4-.4-.92-.59-1.43-.59-.52 0-1.04.2-1.43.59L10.3 9.45l-7.72 7.72c-.78.78-.78 2.05 0 2.83L4 21.41c.39.39.9.59 1.41.59.51 0 1.02-.2 1.41-.59l7.78-7.78 2.81-2.81c.8-.78.8-2.07 0-2.86zM5.41 20L4 18.59l7.72-7.72 1.47 1.35L5.41 20z\"/>\n",
       "  </svg>\n",
       "      </button>\n",
       "      \n",
       "  <style>\n",
       "    .colab-df-container {\n",
       "      display:flex;\n",
       "      flex-wrap:wrap;\n",
       "      gap: 12px;\n",
       "    }\n",
       "\n",
       "    .colab-df-convert {\n",
       "      background-color: #E8F0FE;\n",
       "      border: none;\n",
       "      border-radius: 50%;\n",
       "      cursor: pointer;\n",
       "      display: none;\n",
       "      fill: #1967D2;\n",
       "      height: 32px;\n",
       "      padding: 0 0 0 0;\n",
       "      width: 32px;\n",
       "    }\n",
       "\n",
       "    .colab-df-convert:hover {\n",
       "      background-color: #E2EBFA;\n",
       "      box-shadow: 0px 1px 2px rgba(60, 64, 67, 0.3), 0px 1px 3px 1px rgba(60, 64, 67, 0.15);\n",
       "      fill: #174EA6;\n",
       "    }\n",
       "\n",
       "    [theme=dark] .colab-df-convert {\n",
       "      background-color: #3B4455;\n",
       "      fill: #D2E3FC;\n",
       "    }\n",
       "\n",
       "    [theme=dark] .colab-df-convert:hover {\n",
       "      background-color: #434B5C;\n",
       "      box-shadow: 0px 1px 3px 1px rgba(0, 0, 0, 0.15);\n",
       "      filter: drop-shadow(0px 1px 2px rgba(0, 0, 0, 0.3));\n",
       "      fill: #FFFFFF;\n",
       "    }\n",
       "  </style>\n",
       "\n",
       "      <script>\n",
       "        const buttonEl =\n",
       "          document.querySelector('#df-37ad736c-206f-44e6-b211-981c17fed6ef button.colab-df-convert');\n",
       "        buttonEl.style.display =\n",
       "          google.colab.kernel.accessAllowed ? 'block' : 'none';\n",
       "\n",
       "        async function convertToInteractive(key) {\n",
       "          const element = document.querySelector('#df-37ad736c-206f-44e6-b211-981c17fed6ef');\n",
       "          const dataTable =\n",
       "            await google.colab.kernel.invokeFunction('convertToInteractive',\n",
       "                                                     [key], {});\n",
       "          if (!dataTable) return;\n",
       "\n",
       "          const docLinkHtml = 'Like what you see? Visit the ' +\n",
       "            '<a target=\"_blank\" href=https://colab.research.google.com/notebooks/data_table.ipynb>data table notebook</a>'\n",
       "            + ' to learn more about interactive tables.';\n",
       "          element.innerHTML = '';\n",
       "          dataTable['output_type'] = 'display_data';\n",
       "          await google.colab.output.renderOutput(dataTable, element);\n",
       "          const docLink = document.createElement('div');\n",
       "          docLink.innerHTML = docLinkHtml;\n",
       "          element.appendChild(docLink);\n",
       "        }\n",
       "      </script>\n",
       "    </div>\n",
       "  </div>\n",
       "  "
      ],
      "text/plain": [
       "  Symbol  ... IndustryCode\n",
       "0    TSM  ...       571010\n",
       "1      V  ...       572010\n",
       "2    JPM  ...       551010\n",
       "3    UNH  ...       561020\n",
       "4    JNJ  ...       562010\n",
       "\n",
       "[5 rows x 4 columns]"
      ]
     },
     "execution_count": 109,
     "metadata": {},
     "output_type": "execute_result"
    }
   ],
   "source": [
    "tot_df.head()"
   ]
  },
  {
   "cell_type": "code",
   "execution_count": null,
   "metadata": {
    "id": "3a6KM5xq6un3"
   },
   "outputs": [],
   "source": [
    "industry_list = tot_df.loc[tot_df.Symbol.isin(df_theme.종목코드),:].Industry.unique()"
   ]
  },
  {
   "cell_type": "code",
   "execution_count": null,
   "metadata": {
    "colab": {
     "base_uri": "https://localhost:8080/"
    },
    "executionInfo": {
     "elapsed": 4,
     "status": "ok",
     "timestamp": 1644887398950,
     "user": {
      "displayName": "최영제",
      "photoUrl": "https://lh3.googleusercontent.com/a/default-user=s64",
      "userId": "07722901092434959404"
     },
     "user_tz": -540
    },
    "id": "RE0fnCxk64do",
    "outputId": "b5ac524e-1352-4b60-9aeb-70f5aea2b9a6"
   },
   "outputs": [
    {
     "data": {
      "text/plain": [
       "(8065, 4)"
      ]
     },
     "execution_count": 42,
     "metadata": {},
     "output_type": "execute_result"
    }
   ],
   "source": [
    "tot_df_in = tot_df.loc[tot_df.Industry.isin(industry_list)]; tot_df_in.shape"
   ]
  },
  {
   "cell_type": "code",
   "execution_count": null,
   "metadata": {
    "id": "IFf_UGVg7o-6"
   },
   "outputs": [],
   "source": [
    "theme_in = []\n",
    "theme_names = []"
   ]
  },
  {
   "cell_type": "code",
   "execution_count": null,
   "metadata": {
    "colab": {
     "base_uri": "https://localhost:8080/"
    },
    "executionInfo": {
     "elapsed": 4212062,
     "status": "ok",
     "timestamp": 1644891710162,
     "user": {
      "displayName": "최영제",
      "photoUrl": "https://lh3.googleusercontent.com/a/default-user=s64",
      "userId": "07722901092434959404"
     },
     "user_tz": -540
    },
    "id": "H8085Jr87X9r",
    "outputId": "e2f98cff-1e08-41f0-8ec9-8b798361c05d"
   },
   "outputs": [
    {
     "name": "stderr",
     "output_type": "stream",
     "text": [
      "100%|██████████| 8065/8065 [1:10:11<00:00,  1.91it/s]\n"
     ]
    }
   ],
   "source": [
    "for code in tqdm(tot_df_in.Symbol):\n",
    "  try:\n",
    "    theme_in.append(fdr.DataReader(code, '2021-06-01', '2022-01-31')['Close'])\n",
    "  except KeyError:\n",
    "    continue\n",
    "  except ValueError:\n",
    "    continue\n",
    "\n",
    "  theme_names.append(code)"
   ]
  },
  {
   "cell_type": "code",
   "execution_count": null,
   "metadata": {
    "id": "VNJPptlQ71r6"
   },
   "outputs": [],
   "source": [
    "theme_in_df = pd.concat(theme_in, axis = 1)\n",
    "theme_in_df.columns = theme_names"
   ]
  },
  {
   "cell_type": "code",
   "execution_count": null,
   "metadata": {
    "id": "COtGqYzsTuCh"
   },
   "outputs": [],
   "source": [
    "# theme_in_df.to_csv(\"theme_in_df.csv\", index = False)"
   ]
  },
  {
   "cell_type": "code",
   "execution_count": null,
   "metadata": {
    "id": "tH2T87OQVuvL"
   },
   "outputs": [],
   "source": [
    "theme_in_df = pd.read_csv(\"theme_in_df.csv\")"
   ]
  },
  {
   "cell_type": "code",
   "execution_count": null,
   "metadata": {
    "id": "i7h3LwsteQvB"
   },
   "outputs": [],
   "source": [
    "from sklearn.preprocessing import StandardScaler\n",
    "from tqdm import tqdm\n",
    "from fastdtw import fastdtw\n",
    "\n",
    "import pickle\n",
    "import operator"
   ]
  },
  {
   "cell_type": "code",
   "execution_count": null,
   "metadata": {
    "id": "BkSdBQXUebzf"
   },
   "outputs": [],
   "source": [
    "scaler = StandardScaler()"
   ]
  },
  {
   "cell_type": "code",
   "execution_count": null,
   "metadata": {
    "colab": {
     "base_uri": "https://localhost:8080/"
    },
    "executionInfo": {
     "elapsed": 3,
     "status": "ok",
     "timestamp": 1644927852576,
     "user": {
      "displayName": "최영제",
      "photoUrl": "https://lh3.googleusercontent.com/a/default-user=s64",
      "userId": "07722901092434959404"
     },
     "user_tz": -540
    },
    "id": "TksS6ptceeeJ",
    "outputId": "e5a11d9a-2627-4b18-c4e7-23f42ffd6cf4"
   },
   "outputs": [
    {
     "name": "stderr",
     "output_type": "stream",
     "text": [
      "/usr/local/lib/python3.7/dist-packages/sklearn/utils/extmath.py:985: RuntimeWarning: invalid value encountered in true_divide\n",
      "  updated_mean = (last_sum + new_sum) / updated_sample_count\n",
      "/usr/local/lib/python3.7/dist-packages/sklearn/utils/extmath.py:990: RuntimeWarning: invalid value encountered in true_divide\n",
      "  T = new_sum / new_sample_count\n",
      "/usr/local/lib/python3.7/dist-packages/sklearn/utils/extmath.py:1020: RuntimeWarning: invalid value encountered in true_divide\n",
      "  new_unnormalized_variance -= correction ** 2 / new_sample_count\n"
     ]
    }
   ],
   "source": [
    "theme_in_sc = scaler.fit_transform(theme_in_df)"
   ]
  },
  {
   "cell_type": "code",
   "execution_count": null,
   "metadata": {
    "id": "3_o24bOAepzP"
   },
   "outputs": [],
   "source": [
    "theme_in_sc = pd.DataFrame(theme_in_sc, columns = theme_in_df.columns)"
   ]
  },
  {
   "cell_type": "code",
   "execution_count": null,
   "metadata": {
    "colab": {
     "base_uri": "https://localhost:8080/"
    },
    "executionInfo": {
     "elapsed": 386,
     "status": "ok",
     "timestamp": 1644928088431,
     "user": {
      "displayName": "최영제",
      "photoUrl": "https://lh3.googleusercontent.com/a/default-user=s64",
      "userId": "07722901092434959404"
     },
     "user_tz": -540
    },
    "id": "jvcaV5xWWqmI",
    "outputId": "a1bea217-6992-4c53-d7e2-8a4ebc5f559c"
   },
   "outputs": [
    {
     "data": {
      "text/plain": [
       "(175, 1217)"
      ]
     },
     "execution_count": 27,
     "metadata": {},
     "output_type": "execute_result"
    }
   ],
   "source": [
    "theme_in_sc.shape"
   ]
  },
  {
   "cell_type": "code",
   "execution_count": null,
   "metadata": {
    "colab": {
     "base_uri": "https://localhost:8080/",
     "height": 299
    },
    "executionInfo": {
     "elapsed": 1009,
     "status": "ok",
     "timestamp": 1644928095961,
     "user": {
      "displayName": "최영제",
      "photoUrl": "https://lh3.googleusercontent.com/a/default-user=s64",
      "userId": "07722901092434959404"
     },
     "user_tz": -540
    },
    "id": "5y-5dsv0WsKB",
    "outputId": "bdb8c6c8-33a4-43d8-901b-452773f22527"
   },
   "outputs": [
    {
     "data": {
      "text/html": [
       "\n",
       "  <div id=\"df-d3d27920-f36e-47ca-a1a5-b77254222d92\">\n",
       "    <div class=\"colab-df-container\">\n",
       "      <div>\n",
       "<style scoped>\n",
       "    .dataframe tbody tr th:only-of-type {\n",
       "        vertical-align: middle;\n",
       "    }\n",
       "\n",
       "    .dataframe tbody tr th {\n",
       "        vertical-align: top;\n",
       "    }\n",
       "\n",
       "    .dataframe thead th {\n",
       "        text-align: right;\n",
       "    }\n",
       "</style>\n",
       "<table border=\"1\" class=\"dataframe\">\n",
       "  <thead>\n",
       "    <tr style=\"text-align: right;\">\n",
       "      <th></th>\n",
       "      <th>TSM</th>\n",
       "      <th>V</th>\n",
       "      <th>JNJ</th>\n",
       "      <th>PG</th>\n",
       "      <th>HD</th>\n",
       "      <th>MA</th>\n",
       "      <th>BABA</th>\n",
       "      <th>PFE</th>\n",
       "      <th>DIS</th>\n",
       "      <th>TM</th>\n",
       "      <th>KO</th>\n",
       "      <th>ABBV</th>\n",
       "      <th>LLY</th>\n",
       "      <th>TMO</th>\n",
       "      <th>ABT</th>\n",
       "      <th>NKE</th>\n",
       "      <th>ORCL</th>\n",
       "      <th>ACN</th>\n",
       "      <th>CRM</th>\n",
       "      <th>DHR</th>\n",
       "      <th>MRK</th>\n",
       "      <th>NVS</th>\n",
       "      <th>MCD</th>\n",
       "      <th>NVO</th>\n",
       "      <th>LOW</th>\n",
       "      <th>LIN</th>\n",
       "      <th>BMY</th>\n",
       "      <th>RTX</th>\n",
       "      <th>SAP</th>\n",
       "      <th>MDT</th>\n",
       "      <th>UL</th>\n",
       "      <th>SONY</th>\n",
       "      <th>BA</th>\n",
       "      <th>DE</th>\n",
       "      <th>IBM</th>\n",
       "      <th>DEO</th>\n",
       "      <th>NOW</th>\n",
       "      <th>GSK</th>\n",
       "      <th>CAT</th>\n",
       "      <th>LMT</th>\n",
       "      <th>...</th>\n",
       "      <th>002025</th>\n",
       "      <th>002690</th>\n",
       "      <th>000547</th>\n",
       "      <th>000400</th>\n",
       "      <th>000860</th>\n",
       "      <th>000997</th>\n",
       "      <th>002670</th>\n",
       "      <th>000990</th>\n",
       "      <th>002810</th>\n",
       "      <th>002250</th>\n",
       "      <th>002960</th>\n",
       "      <th>000970</th>\n",
       "      <th>000810</th>\n",
       "      <th>002390</th>\n",
       "      <th>002530</th>\n",
       "      <th>000030</th>\n",
       "      <th>000650</th>\n",
       "      <th>300080</th>\n",
       "      <th>000420</th>\n",
       "      <th>000950</th>\n",
       "      <th>002210</th>\n",
       "      <th>002540</th>\n",
       "      <th>002020</th>\n",
       "      <th>002990</th>\n",
       "      <th>002550</th>\n",
       "      <th>000910</th>\n",
       "      <th>002880</th>\n",
       "      <th>000680</th>\n",
       "      <th>002170</th>\n",
       "      <th>002300</th>\n",
       "      <th>000070</th>\n",
       "      <th>000815</th>\n",
       "      <th>000850</th>\n",
       "      <th>000700</th>\n",
       "      <th>300300</th>\n",
       "      <th>002355</th>\n",
       "      <th>002365</th>\n",
       "      <th>002630</th>\n",
       "      <th>002620</th>\n",
       "      <th>000687</th>\n",
       "    </tr>\n",
       "  </thead>\n",
       "  <tbody>\n",
       "    <tr>\n",
       "      <th>0</th>\n",
       "      <td>-0.011203</td>\n",
       "      <td>0.164016</td>\n",
       "      <td>-0.312882</td>\n",
       "      <td>-1.461858</td>\n",
       "      <td>-1.034969</td>\n",
       "      <td>0.133729</td>\n",
       "      <td>1.565127</td>\n",
       "      <td>-1.349979</td>\n",
       "      <td>0.821313</td>\n",
       "      <td>-1.151640</td>\n",
       "      <td>-0.429394</td>\n",
       "      <td>-0.668152</td>\n",
       "      <td>-2.811619</td>\n",
       "      <td>-2.219179</td>\n",
       "      <td>-2.329895</td>\n",
       "      <td>-1.990233</td>\n",
       "      <td>-1.699424</td>\n",
       "      <td>-1.775676</td>\n",
       "      <td>-0.985123</td>\n",
       "      <td>-2.319409</td>\n",
       "      <td>-1.659477</td>\n",
       "      <td>0.168633</td>\n",
       "      <td>-1.137565</td>\n",
       "      <td>-2.024923</td>\n",
       "      <td>-1.070353</td>\n",
       "      <td>-0.602096</td>\n",
       "      <td>0.535698</td>\n",
       "      <td>0.780628</td>\n",
       "      <td>-0.239532</td>\n",
       "      <td>0.403656</td>\n",
       "      <td>1.616226</td>\n",
       "      <td>-1.172258</td>\n",
       "      <td>2.322877</td>\n",
       "      <td>0.651766</td>\n",
       "      <td>0.955565</td>\n",
       "      <td>-0.729743</td>\n",
       "      <td>-2.240246</td>\n",
       "      <td>-1.384802</td>\n",
       "      <td>3.132330</td>\n",
       "      <td>1.255687</td>\n",
       "      <td>...</td>\n",
       "      <td>0.853093</td>\n",
       "      <td>1.311524</td>\n",
       "      <td>2.036518</td>\n",
       "      <td>1.294404</td>\n",
       "      <td>0.583670</td>\n",
       "      <td>NaN</td>\n",
       "      <td>NaN</td>\n",
       "      <td>-1.402684</td>\n",
       "      <td>0.995194</td>\n",
       "      <td>NaN</td>\n",
       "      <td>-0.319417</td>\n",
       "      <td>0.498066</td>\n",
       "      <td>-0.787342</td>\n",
       "      <td>1.652292</td>\n",
       "      <td>NaN</td>\n",
       "      <td>NaN</td>\n",
       "      <td>2.039887</td>\n",
       "      <td>-0.469143</td>\n",
       "      <td>NaN</td>\n",
       "      <td>-0.146460</td>\n",
       "      <td>1.542639</td>\n",
       "      <td>NaN</td>\n",
       "      <td>-0.684561</td>\n",
       "      <td>-0.852512</td>\n",
       "      <td>NaN</td>\n",
       "      <td>1.153135</td>\n",
       "      <td>-1.195939</td>\n",
       "      <td>0.269075</td>\n",
       "      <td>1.653742</td>\n",
       "      <td>NaN</td>\n",
       "      <td>0.957888</td>\n",
       "      <td>-0.669667</td>\n",
       "      <td>0.746944</td>\n",
       "      <td>3.233125</td>\n",
       "      <td>NaN</td>\n",
       "      <td>0.137668</td>\n",
       "      <td>NaN</td>\n",
       "      <td>2.188377</td>\n",
       "      <td>1.663012</td>\n",
       "      <td>NaN</td>\n",
       "    </tr>\n",
       "    <tr>\n",
       "      <th>1</th>\n",
       "      <td>0.072681</td>\n",
       "      <td>0.394277</td>\n",
       "      <td>-0.179134</td>\n",
       "      <td>-1.394935</td>\n",
       "      <td>-1.125536</td>\n",
       "      <td>0.567692</td>\n",
       "      <td>1.568350</td>\n",
       "      <td>-1.302943</td>\n",
       "      <td>0.679482</td>\n",
       "      <td>-0.619130</td>\n",
       "      <td>-0.324328</td>\n",
       "      <td>-0.759770</td>\n",
       "      <td>-2.769999</td>\n",
       "      <td>-2.180470</td>\n",
       "      <td>-2.187783</td>\n",
       "      <td>-2.018070</td>\n",
       "      <td>-1.572608</td>\n",
       "      <td>-1.747557</td>\n",
       "      <td>-1.052237</td>\n",
       "      <td>-2.455833</td>\n",
       "      <td>-1.483276</td>\n",
       "      <td>0.339327</td>\n",
       "      <td>-1.087849</td>\n",
       "      <td>-2.058789</td>\n",
       "      <td>-1.115248</td>\n",
       "      <td>-0.741510</td>\n",
       "      <td>0.434980</td>\n",
       "      <td>0.645140</td>\n",
       "      <td>-0.396727</td>\n",
       "      <td>0.301679</td>\n",
       "      <td>1.765998</td>\n",
       "      <td>-1.285048</td>\n",
       "      <td>2.382513</td>\n",
       "      <td>0.090752</td>\n",
       "      <td>1.123526</td>\n",
       "      <td>-0.628686</td>\n",
       "      <td>-2.275731</td>\n",
       "      <td>-1.365273</td>\n",
       "      <td>3.196942</td>\n",
       "      <td>1.436727</td>\n",
       "      <td>...</td>\n",
       "      <td>0.853093</td>\n",
       "      <td>1.373466</td>\n",
       "      <td>1.832576</td>\n",
       "      <td>1.261502</td>\n",
       "      <td>0.682896</td>\n",
       "      <td>NaN</td>\n",
       "      <td>NaN</td>\n",
       "      <td>-1.195347</td>\n",
       "      <td>1.104463</td>\n",
       "      <td>NaN</td>\n",
       "      <td>-0.182054</td>\n",
       "      <td>0.619772</td>\n",
       "      <td>-0.558512</td>\n",
       "      <td>1.652292</td>\n",
       "      <td>NaN</td>\n",
       "      <td>NaN</td>\n",
       "      <td>2.396694</td>\n",
       "      <td>-0.551452</td>\n",
       "      <td>NaN</td>\n",
       "      <td>-0.034092</td>\n",
       "      <td>1.491726</td>\n",
       "      <td>NaN</td>\n",
       "      <td>-0.605762</td>\n",
       "      <td>-0.125581</td>\n",
       "      <td>NaN</td>\n",
       "      <td>1.096909</td>\n",
       "      <td>-1.099034</td>\n",
       "      <td>0.284920</td>\n",
       "      <td>1.744329</td>\n",
       "      <td>NaN</td>\n",
       "      <td>1.015675</td>\n",
       "      <td>-0.741912</td>\n",
       "      <td>1.070749</td>\n",
       "      <td>2.987142</td>\n",
       "      <td>NaN</td>\n",
       "      <td>0.174930</td>\n",
       "      <td>NaN</td>\n",
       "      <td>2.099248</td>\n",
       "      <td>1.677423</td>\n",
       "      <td>NaN</td>\n",
       "    </tr>\n",
       "    <tr>\n",
       "      <th>2</th>\n",
       "      <td>-0.333394</td>\n",
       "      <td>0.276487</td>\n",
       "      <td>-0.211074</td>\n",
       "      <td>-1.119164</td>\n",
       "      <td>-1.178464</td>\n",
       "      <td>0.258509</td>\n",
       "      <td>1.493632</td>\n",
       "      <td>-1.273747</td>\n",
       "      <td>0.620900</td>\n",
       "      <td>-0.241780</td>\n",
       "      <td>-0.257468</td>\n",
       "      <td>-0.668152</td>\n",
       "      <td>-2.560726</td>\n",
       "      <td>-2.248739</td>\n",
       "      <td>-1.893317</td>\n",
       "      <td>-2.018070</td>\n",
       "      <td>-1.424051</td>\n",
       "      <td>-1.813880</td>\n",
       "      <td>-1.212801</td>\n",
       "      <td>-2.498465</td>\n",
       "      <td>-1.057683</td>\n",
       "      <td>0.432432</td>\n",
       "      <td>-1.210296</td>\n",
       "      <td>-1.976115</td>\n",
       "      <td>-1.134786</td>\n",
       "      <td>-0.832890</td>\n",
       "      <td>0.462002</td>\n",
       "      <td>0.663958</td>\n",
       "      <td>-0.626337</td>\n",
       "      <td>0.226483</td>\n",
       "      <td>1.792624</td>\n",
       "      <td>-1.215561</td>\n",
       "      <td>2.027378</td>\n",
       "      <td>0.246984</td>\n",
       "      <td>1.104864</td>\n",
       "      <td>-0.828366</td>\n",
       "      <td>-2.404038</td>\n",
       "      <td>-1.209049</td>\n",
       "      <td>3.232017</td>\n",
       "      <td>1.565798</td>\n",
       "      <td>...</td>\n",
       "      <td>0.896594</td>\n",
       "      <td>1.212753</td>\n",
       "      <td>2.189474</td>\n",
       "      <td>1.919540</td>\n",
       "      <td>0.749047</td>\n",
       "      <td>NaN</td>\n",
       "      <td>NaN</td>\n",
       "      <td>-0.853850</td>\n",
       "      <td>1.104463</td>\n",
       "      <td>NaN</td>\n",
       "      <td>0.367399</td>\n",
       "      <td>0.480680</td>\n",
       "      <td>-0.787342</td>\n",
       "      <td>1.652292</td>\n",
       "      <td>NaN</td>\n",
       "      <td>NaN</td>\n",
       "      <td>2.329793</td>\n",
       "      <td>-0.539694</td>\n",
       "      <td>NaN</td>\n",
       "      <td>0.265558</td>\n",
       "      <td>1.237160</td>\n",
       "      <td>NaN</td>\n",
       "      <td>-0.511203</td>\n",
       "      <td>0.056152</td>\n",
       "      <td>NaN</td>\n",
       "      <td>1.420208</td>\n",
       "      <td>-1.074807</td>\n",
       "      <td>0.324532</td>\n",
       "      <td>1.744329</td>\n",
       "      <td>NaN</td>\n",
       "      <td>1.015675</td>\n",
       "      <td>-0.886400</td>\n",
       "      <td>1.145473</td>\n",
       "      <td>2.790356</td>\n",
       "      <td>NaN</td>\n",
       "      <td>0.305347</td>\n",
       "      <td>NaN</td>\n",
       "      <td>2.158667</td>\n",
       "      <td>1.648600</td>\n",
       "      <td>NaN</td>\n",
       "    </tr>\n",
       "    <tr>\n",
       "      <th>3</th>\n",
       "      <td>0.179442</td>\n",
       "      <td>0.430753</td>\n",
       "      <td>-0.225047</td>\n",
       "      <td>-1.107625</td>\n",
       "      <td>-1.190814</td>\n",
       "      <td>0.516674</td>\n",
       "      <td>1.551648</td>\n",
       "      <td>-1.244552</td>\n",
       "      <td>0.693357</td>\n",
       "      <td>0.098332</td>\n",
       "      <td>0.029076</td>\n",
       "      <td>-0.651186</td>\n",
       "      <td>-2.600587</td>\n",
       "      <td>-2.188388</td>\n",
       "      <td>-1.881795</td>\n",
       "      <td>-2.053277</td>\n",
       "      <td>-1.097952</td>\n",
       "      <td>-1.705685</td>\n",
       "      <td>-0.930752</td>\n",
       "      <td>-2.444748</td>\n",
       "      <td>-1.003468</td>\n",
       "      <td>0.541056</td>\n",
       "      <td>-1.124675</td>\n",
       "      <td>-1.849613</td>\n",
       "      <td>-1.150998</td>\n",
       "      <td>-0.742681</td>\n",
       "      <td>0.496394</td>\n",
       "      <td>0.791919</td>\n",
       "      <td>-0.266026</td>\n",
       "      <td>0.306829</td>\n",
       "      <td>1.825907</td>\n",
       "      <td>-1.020192</td>\n",
       "      <td>2.000576</td>\n",
       "      <td>0.085781</td>\n",
       "      <td>1.310150</td>\n",
       "      <td>-0.860023</td>\n",
       "      <td>-2.380216</td>\n",
       "      <td>-1.116290</td>\n",
       "      <td>3.248632</td>\n",
       "      <td>1.951295</td>\n",
       "      <td>...</td>\n",
       "      <td>0.418081</td>\n",
       "      <td>1.296457</td>\n",
       "      <td>1.679620</td>\n",
       "      <td>1.886638</td>\n",
       "      <td>0.633283</td>\n",
       "      <td>NaN</td>\n",
       "      <td>NaN</td>\n",
       "      <td>-0.744084</td>\n",
       "      <td>0.995194</td>\n",
       "      <td>NaN</td>\n",
       "      <td>0.642125</td>\n",
       "      <td>0.411134</td>\n",
       "      <td>-0.558512</td>\n",
       "      <td>1.546115</td>\n",
       "      <td>NaN</td>\n",
       "      <td>NaN</td>\n",
       "      <td>1.906085</td>\n",
       "      <td>-0.616124</td>\n",
       "      <td>NaN</td>\n",
       "      <td>0.377926</td>\n",
       "      <td>1.186247</td>\n",
       "      <td>NaN</td>\n",
       "      <td>-0.621522</td>\n",
       "      <td>0.237885</td>\n",
       "      <td>NaN</td>\n",
       "      <td>1.448320</td>\n",
       "      <td>-0.953676</td>\n",
       "      <td>0.387910</td>\n",
       "      <td>1.537272</td>\n",
       "      <td>NaN</td>\n",
       "      <td>0.900100</td>\n",
       "      <td>-0.814156</td>\n",
       "      <td>0.996025</td>\n",
       "      <td>3.019940</td>\n",
       "      <td>NaN</td>\n",
       "      <td>0.379871</td>\n",
       "      <td>NaN</td>\n",
       "      <td>2.336925</td>\n",
       "      <td>1.677423</td>\n",
       "      <td>NaN</td>\n",
       "    </tr>\n",
       "    <tr>\n",
       "      <th>4</th>\n",
       "      <td>-0.066490</td>\n",
       "      <td>0.520426</td>\n",
       "      <td>-0.450623</td>\n",
       "      <td>-1.053394</td>\n",
       "      <td>-1.221689</td>\n",
       "      <td>0.397426</td>\n",
       "      <td>1.489530</td>\n",
       "      <td>-1.270503</td>\n",
       "      <td>0.678712</td>\n",
       "      <td>-0.101515</td>\n",
       "      <td>-0.066439</td>\n",
       "      <td>-0.577665</td>\n",
       "      <td>-1.398879</td>\n",
       "      <td>-2.264223</td>\n",
       "      <td>-1.790894</td>\n",
       "      <td>-2.036083</td>\n",
       "      <td>-0.907728</td>\n",
       "      <td>-1.735638</td>\n",
       "      <td>-0.902717</td>\n",
       "      <td>-2.531293</td>\n",
       "      <td>-1.358580</td>\n",
       "      <td>0.512237</td>\n",
       "      <td>-1.280266</td>\n",
       "      <td>-1.824711</td>\n",
       "      <td>-1.136864</td>\n",
       "      <td>-1.227701</td>\n",
       "      <td>0.454632</td>\n",
       "      <td>0.773101</td>\n",
       "      <td>-0.084104</td>\n",
       "      <td>0.318160</td>\n",
       "      <td>1.845876</td>\n",
       "      <td>-1.074573</td>\n",
       "      <td>2.184173</td>\n",
       "      <td>-0.000146</td>\n",
       "      <td>1.376017</td>\n",
       "      <td>-0.794274</td>\n",
       "      <td>-2.399766</td>\n",
       "      <td>-1.189520</td>\n",
       "      <td>2.855422</td>\n",
       "      <td>1.803378</td>\n",
       "      <td>...</td>\n",
       "      <td>0.418081</td>\n",
       "      <td>1.242887</td>\n",
       "      <td>1.220751</td>\n",
       "      <td>1.886638</td>\n",
       "      <td>0.649821</td>\n",
       "      <td>NaN</td>\n",
       "      <td>NaN</td>\n",
       "      <td>-0.866047</td>\n",
       "      <td>0.885926</td>\n",
       "      <td>NaN</td>\n",
       "      <td>0.962639</td>\n",
       "      <td>0.532839</td>\n",
       "      <td>-0.329681</td>\n",
       "      <td>1.546115</td>\n",
       "      <td>NaN</td>\n",
       "      <td>NaN</td>\n",
       "      <td>1.526978</td>\n",
       "      <td>-0.692554</td>\n",
       "      <td>NaN</td>\n",
       "      <td>0.040820</td>\n",
       "      <td>1.186247</td>\n",
       "      <td>NaN</td>\n",
       "      <td>-0.668801</td>\n",
       "      <td>0.722506</td>\n",
       "      <td>NaN</td>\n",
       "      <td>1.588885</td>\n",
       "      <td>-0.953676</td>\n",
       "      <td>0.292842</td>\n",
       "      <td>1.589036</td>\n",
       "      <td>NaN</td>\n",
       "      <td>0.842313</td>\n",
       "      <td>-0.669667</td>\n",
       "      <td>0.821668</td>\n",
       "      <td>2.872350</td>\n",
       "      <td>NaN</td>\n",
       "      <td>0.603442</td>\n",
       "      <td>NaN</td>\n",
       "      <td>2.069538</td>\n",
       "      <td>1.691835</td>\n",
       "      <td>NaN</td>\n",
       "    </tr>\n",
       "  </tbody>\n",
       "</table>\n",
       "<p>5 rows × 1217 columns</p>\n",
       "</div>\n",
       "      <button class=\"colab-df-convert\" onclick=\"convertToInteractive('df-d3d27920-f36e-47ca-a1a5-b77254222d92')\"\n",
       "              title=\"Convert this dataframe to an interactive table.\"\n",
       "              style=\"display:none;\">\n",
       "        \n",
       "  <svg xmlns=\"http://www.w3.org/2000/svg\" height=\"24px\"viewBox=\"0 0 24 24\"\n",
       "       width=\"24px\">\n",
       "    <path d=\"M0 0h24v24H0V0z\" fill=\"none\"/>\n",
       "    <path d=\"M18.56 5.44l.94 2.06.94-2.06 2.06-.94-2.06-.94-.94-2.06-.94 2.06-2.06.94zm-11 1L8.5 8.5l.94-2.06 2.06-.94-2.06-.94L8.5 2.5l-.94 2.06-2.06.94zm10 10l.94 2.06.94-2.06 2.06-.94-2.06-.94-.94-2.06-.94 2.06-2.06.94z\"/><path d=\"M17.41 7.96l-1.37-1.37c-.4-.4-.92-.59-1.43-.59-.52 0-1.04.2-1.43.59L10.3 9.45l-7.72 7.72c-.78.78-.78 2.05 0 2.83L4 21.41c.39.39.9.59 1.41.59.51 0 1.02-.2 1.41-.59l7.78-7.78 2.81-2.81c.8-.78.8-2.07 0-2.86zM5.41 20L4 18.59l7.72-7.72 1.47 1.35L5.41 20z\"/>\n",
       "  </svg>\n",
       "      </button>\n",
       "      \n",
       "  <style>\n",
       "    .colab-df-container {\n",
       "      display:flex;\n",
       "      flex-wrap:wrap;\n",
       "      gap: 12px;\n",
       "    }\n",
       "\n",
       "    .colab-df-convert {\n",
       "      background-color: #E8F0FE;\n",
       "      border: none;\n",
       "      border-radius: 50%;\n",
       "      cursor: pointer;\n",
       "      display: none;\n",
       "      fill: #1967D2;\n",
       "      height: 32px;\n",
       "      padding: 0 0 0 0;\n",
       "      width: 32px;\n",
       "    }\n",
       "\n",
       "    .colab-df-convert:hover {\n",
       "      background-color: #E2EBFA;\n",
       "      box-shadow: 0px 1px 2px rgba(60, 64, 67, 0.3), 0px 1px 3px 1px rgba(60, 64, 67, 0.15);\n",
       "      fill: #174EA6;\n",
       "    }\n",
       "\n",
       "    [theme=dark] .colab-df-convert {\n",
       "      background-color: #3B4455;\n",
       "      fill: #D2E3FC;\n",
       "    }\n",
       "\n",
       "    [theme=dark] .colab-df-convert:hover {\n",
       "      background-color: #434B5C;\n",
       "      box-shadow: 0px 1px 3px 1px rgba(0, 0, 0, 0.15);\n",
       "      filter: drop-shadow(0px 1px 2px rgba(0, 0, 0, 0.3));\n",
       "      fill: #FFFFFF;\n",
       "    }\n",
       "  </style>\n",
       "\n",
       "      <script>\n",
       "        const buttonEl =\n",
       "          document.querySelector('#df-d3d27920-f36e-47ca-a1a5-b77254222d92 button.colab-df-convert');\n",
       "        buttonEl.style.display =\n",
       "          google.colab.kernel.accessAllowed ? 'block' : 'none';\n",
       "\n",
       "        async function convertToInteractive(key) {\n",
       "          const element = document.querySelector('#df-d3d27920-f36e-47ca-a1a5-b77254222d92');\n",
       "          const dataTable =\n",
       "            await google.colab.kernel.invokeFunction('convertToInteractive',\n",
       "                                                     [key], {});\n",
       "          if (!dataTable) return;\n",
       "\n",
       "          const docLinkHtml = 'Like what you see? Visit the ' +\n",
       "            '<a target=\"_blank\" href=https://colab.research.google.com/notebooks/data_table.ipynb>data table notebook</a>'\n",
       "            + ' to learn more about interactive tables.';\n",
       "          element.innerHTML = '';\n",
       "          dataTable['output_type'] = 'display_data';\n",
       "          await google.colab.output.renderOutput(dataTable, element);\n",
       "          const docLink = document.createElement('div');\n",
       "          docLink.innerHTML = docLinkHtml;\n",
       "          element.appendChild(docLink);\n",
       "        }\n",
       "      </script>\n",
       "    </div>\n",
       "  </div>\n",
       "  "
      ],
      "text/plain": [
       "        TSM         V       JNJ        PG  ...  002365    002630    002620  000687\n",
       "0 -0.011203  0.164016 -0.312882 -1.461858  ...     NaN  2.188377  1.663012     NaN\n",
       "1  0.072681  0.394277 -0.179134 -1.394935  ...     NaN  2.099248  1.677423     NaN\n",
       "2 -0.333394  0.276487 -0.211074 -1.119164  ...     NaN  2.158667  1.648600     NaN\n",
       "3  0.179442  0.430753 -0.225047 -1.107625  ...     NaN  2.336925  1.677423     NaN\n",
       "4 -0.066490  0.520426 -0.450623 -1.053394  ...     NaN  2.069538  1.691835     NaN\n",
       "\n",
       "[5 rows x 1217 columns]"
      ]
     },
     "execution_count": 28,
     "metadata": {},
     "output_type": "execute_result"
    }
   ],
   "source": [
    "theme_in_sc.head()"
   ]
  },
  {
   "cell_type": "code",
   "execution_count": null,
   "metadata": {
    "colab": {
     "base_uri": "https://localhost:8080/",
     "height": 206
    },
    "executionInfo": {
     "elapsed": 484,
     "status": "ok",
     "timestamp": 1644894761005,
     "user": {
      "displayName": "최영제",
      "photoUrl": "https://lh3.googleusercontent.com/a/default-user=s64",
      "userId": "07722901092434959404"
     },
     "user_tz": -540
    },
    "id": "GmZk5MWdXE2L",
    "outputId": "e93dfd5b-9ca7-4423-9f85-5f9953d78925"
   },
   "outputs": [
    {
     "data": {
      "text/html": [
       "\n",
       "  <div id=\"df-cb47ca97-7aff-4f66-88b5-a37ae7311651\">\n",
       "    <div class=\"colab-df-container\">\n",
       "      <div>\n",
       "<style scoped>\n",
       "    .dataframe tbody tr th:only-of-type {\n",
       "        vertical-align: middle;\n",
       "    }\n",
       "\n",
       "    .dataframe tbody tr th {\n",
       "        vertical-align: top;\n",
       "    }\n",
       "\n",
       "    .dataframe thead th {\n",
       "        text-align: right;\n",
       "    }\n",
       "</style>\n",
       "<table border=\"1\" class=\"dataframe\">\n",
       "  <thead>\n",
       "    <tr style=\"text-align: right;\">\n",
       "      <th></th>\n",
       "      <th>테마</th>\n",
       "      <th>해당 주식</th>\n",
       "      <th>종목코드</th>\n",
       "    </tr>\n",
       "  </thead>\n",
       "  <tbody>\n",
       "    <tr>\n",
       "      <th>0</th>\n",
       "      <td>빅테크-A(미국)</td>\n",
       "      <td>애플</td>\n",
       "      <td>AAPL</td>\n",
       "    </tr>\n",
       "    <tr>\n",
       "      <th>1</th>\n",
       "      <td>빅테크-A(미국)</td>\n",
       "      <td>알파벳</td>\n",
       "      <td>GOOG</td>\n",
       "    </tr>\n",
       "    <tr>\n",
       "      <th>2</th>\n",
       "      <td>빅테크-A(미국)</td>\n",
       "      <td>메타</td>\n",
       "      <td>FB</td>\n",
       "    </tr>\n",
       "    <tr>\n",
       "      <th>3</th>\n",
       "      <td>빅테크-A(미국)</td>\n",
       "      <td>마이크로소프트</td>\n",
       "      <td>MSFT</td>\n",
       "    </tr>\n",
       "    <tr>\n",
       "      <th>4</th>\n",
       "      <td>빅테크-A(미국)</td>\n",
       "      <td>아마존</td>\n",
       "      <td>AMZN</td>\n",
       "    </tr>\n",
       "  </tbody>\n",
       "</table>\n",
       "</div>\n",
       "      <button class=\"colab-df-convert\" onclick=\"convertToInteractive('df-cb47ca97-7aff-4f66-88b5-a37ae7311651')\"\n",
       "              title=\"Convert this dataframe to an interactive table.\"\n",
       "              style=\"display:none;\">\n",
       "        \n",
       "  <svg xmlns=\"http://www.w3.org/2000/svg\" height=\"24px\"viewBox=\"0 0 24 24\"\n",
       "       width=\"24px\">\n",
       "    <path d=\"M0 0h24v24H0V0z\" fill=\"none\"/>\n",
       "    <path d=\"M18.56 5.44l.94 2.06.94-2.06 2.06-.94-2.06-.94-.94-2.06-.94 2.06-2.06.94zm-11 1L8.5 8.5l.94-2.06 2.06-.94-2.06-.94L8.5 2.5l-.94 2.06-2.06.94zm10 10l.94 2.06.94-2.06 2.06-.94-2.06-.94-.94-2.06-.94 2.06-2.06.94z\"/><path d=\"M17.41 7.96l-1.37-1.37c-.4-.4-.92-.59-1.43-.59-.52 0-1.04.2-1.43.59L10.3 9.45l-7.72 7.72c-.78.78-.78 2.05 0 2.83L4 21.41c.39.39.9.59 1.41.59.51 0 1.02-.2 1.41-.59l7.78-7.78 2.81-2.81c.8-.78.8-2.07 0-2.86zM5.41 20L4 18.59l7.72-7.72 1.47 1.35L5.41 20z\"/>\n",
       "  </svg>\n",
       "      </button>\n",
       "      \n",
       "  <style>\n",
       "    .colab-df-container {\n",
       "      display:flex;\n",
       "      flex-wrap:wrap;\n",
       "      gap: 12px;\n",
       "    }\n",
       "\n",
       "    .colab-df-convert {\n",
       "      background-color: #E8F0FE;\n",
       "      border: none;\n",
       "      border-radius: 50%;\n",
       "      cursor: pointer;\n",
       "      display: none;\n",
       "      fill: #1967D2;\n",
       "      height: 32px;\n",
       "      padding: 0 0 0 0;\n",
       "      width: 32px;\n",
       "    }\n",
       "\n",
       "    .colab-df-convert:hover {\n",
       "      background-color: #E2EBFA;\n",
       "      box-shadow: 0px 1px 2px rgba(60, 64, 67, 0.3), 0px 1px 3px 1px rgba(60, 64, 67, 0.15);\n",
       "      fill: #174EA6;\n",
       "    }\n",
       "\n",
       "    [theme=dark] .colab-df-convert {\n",
       "      background-color: #3B4455;\n",
       "      fill: #D2E3FC;\n",
       "    }\n",
       "\n",
       "    [theme=dark] .colab-df-convert:hover {\n",
       "      background-color: #434B5C;\n",
       "      box-shadow: 0px 1px 3px 1px rgba(0, 0, 0, 0.15);\n",
       "      filter: drop-shadow(0px 1px 2px rgba(0, 0, 0, 0.3));\n",
       "      fill: #FFFFFF;\n",
       "    }\n",
       "  </style>\n",
       "\n",
       "      <script>\n",
       "        const buttonEl =\n",
       "          document.querySelector('#df-cb47ca97-7aff-4f66-88b5-a37ae7311651 button.colab-df-convert');\n",
       "        buttonEl.style.display =\n",
       "          google.colab.kernel.accessAllowed ? 'block' : 'none';\n",
       "\n",
       "        async function convertToInteractive(key) {\n",
       "          const element = document.querySelector('#df-cb47ca97-7aff-4f66-88b5-a37ae7311651');\n",
       "          const dataTable =\n",
       "            await google.colab.kernel.invokeFunction('convertToInteractive',\n",
       "                                                     [key], {});\n",
       "          if (!dataTable) return;\n",
       "\n",
       "          const docLinkHtml = 'Like what you see? Visit the ' +\n",
       "            '<a target=\"_blank\" href=https://colab.research.google.com/notebooks/data_table.ipynb>data table notebook</a>'\n",
       "            + ' to learn more about interactive tables.';\n",
       "          element.innerHTML = '';\n",
       "          dataTable['output_type'] = 'display_data';\n",
       "          await google.colab.output.renderOutput(dataTable, element);\n",
       "          const docLink = document.createElement('div');\n",
       "          docLink.innerHTML = docLinkHtml;\n",
       "          element.appendChild(docLink);\n",
       "        }\n",
       "      </script>\n",
       "    </div>\n",
       "  </div>\n",
       "  "
      ],
      "text/plain": [
       "          테마    해당 주식  종목코드\n",
       "0  빅테크-A(미국)       애플  AAPL\n",
       "1  빅테크-A(미국)      알파벳  GOOG\n",
       "2  빅테크-A(미국)       메타    FB\n",
       "3  빅테크-A(미국)  마이크로소프트  MSFT\n",
       "4  빅테크-A(미국)      아마존  AMZN"
      ]
     },
     "execution_count": 54,
     "metadata": {},
     "output_type": "execute_result"
    }
   ],
   "source": [
    "df_theme.head()"
   ]
  },
  {
   "cell_type": "code",
   "execution_count": null,
   "metadata": {
    "colab": {
     "base_uri": "https://localhost:8080/"
    },
    "executionInfo": {
     "elapsed": 3,
     "status": "ok",
     "timestamp": 1644927859953,
     "user": {
      "displayName": "최영제",
      "photoUrl": "https://lh3.googleusercontent.com/a/default-user=s64",
      "userId": "07722901092434959404"
     },
     "user_tz": -540
    },
    "id": "uqY7bhVXXQTG",
    "outputId": "1f11bf36-85ee-45a4-c5ea-a5fd2636435f"
   },
   "outputs": [
    {
     "data": {
      "text/plain": [
       "array(['빅테크-A(미국)', '빅테크-C(중국)', '전기차_2차전지(미국, 중국)', 'NFT_코인(미국, 중국)',\n",
       "       '메타버스', '우주/항공', '백신/치료', '뷰티/운동', '럭셔리', '여행', '프랜차이즈'],\n",
       "      dtype=object)"
      ]
     },
     "execution_count": 17,
     "metadata": {},
     "output_type": "execute_result"
    }
   ],
   "source": [
    "unique_theme = df_theme.테마.unique()\n",
    "unique_theme"
   ]
  },
  {
   "cell_type": "code",
   "execution_count": null,
   "metadata": {
    "id": "bVc3VnmNXmV9"
   },
   "outputs": [],
   "source": [
    "code_list = df_theme.loc[df_theme.테마 == unique_theme[1]].종목코드.tolist()\n",
    "code_list = df_theme.종목코드.tolist()"
   ]
  },
  {
   "cell_type": "code",
   "execution_count": null,
   "metadata": {
    "id": "HFOq4lNUu-Nr"
   },
   "outputs": [],
   "source": [
    "code_dict = {x:{} for x in df_theme.종목코드.tolist()}"
   ]
  },
  {
   "cell_type": "code",
   "execution_count": null,
   "metadata": {
    "id": "ntm3zq3D3QWg"
   },
   "outputs": [],
   "source": [
    "def ex_nan(inputs) :\n",
    "  return(np.array(inputs)[[~np.isnan(x) for x in np.array(inputs)]])"
   ]
  },
  {
   "cell_type": "code",
   "execution_count": null,
   "metadata": {
    "colab": {
     "base_uri": "https://localhost:8080/"
    },
    "executionInfo": {
     "elapsed": 155973,
     "status": "ok",
     "timestamp": 1644904606526,
     "user": {
      "displayName": "최영제",
      "photoUrl": "https://lh3.googleusercontent.com/a/default-user=s64",
      "userId": "07722901092434959404"
     },
     "user_tz": -540
    },
    "id": "1z2PlC4RXsKY",
    "outputId": "a4c23722-6b5a-458d-fb09-c51e79ac6fb6"
   },
   "outputs": [
    {
     "name": "stderr",
     "output_type": "stream",
     "text": [
      "100%|██████████| 124/124 [02:35<00:00,  1.25s/it]\n"
     ]
    }
   ],
   "source": [
    "for code in tqdm(code_list):\n",
    "  try:\n",
    "    a = theme_in_sc.loc[:, [code]]\n",
    "  except KeyError:\n",
    "    continue\n",
    "  b = theme_in_sc.loc[:, ~theme_in_sc.columns.isin([code])]\n",
    "\n",
    "  for code_b in b.columns:\n",
    "    dist, path = fastdtw(ex_nan(a), ex_nan(b.loc[:,code_b]))\n",
    "    if dist == 0:\n",
    "      continue\n",
    "    code_dict[code][code_b] = dist"
   ]
  },
  {
   "cell_type": "code",
   "execution_count": null,
   "metadata": {
    "id": "1icsp2jfwhpt"
   },
   "outputs": [],
   "source": [
    "'''with open('code_dict.pickle', 'wb') as f:\n",
    "  pickle.dump(code_dict, f)'''"
   ]
  },
  {
   "cell_type": "code",
   "execution_count": null,
   "metadata": {
    "id": "ernGfEqcDY8r"
   },
   "outputs": [],
   "source": [
    "with open('code_dict.pickle', 'rb') as f:\n",
    "  code_dict = pickle.load(f)"
   ]
  },
  {
   "cell_type": "code",
   "execution_count": null,
   "metadata": {
    "colab": {
     "base_uri": "https://localhost:8080/",
     "height": 206
    },
    "executionInfo": {
     "elapsed": 616,
     "status": "ok",
     "timestamp": 1644906261268,
     "user": {
      "displayName": "최영제",
      "photoUrl": "https://lh3.googleusercontent.com/a/default-user=s64",
      "userId": "07722901092434959404"
     },
     "user_tz": -540
    },
    "id": "meh8rCgeDY7V",
    "outputId": "f31cc350-d415-4351-cc98-b103e47a047d"
   },
   "outputs": [
    {
     "data": {
      "text/html": [
       "\n",
       "  <div id=\"df-2564fbb5-623c-43b5-9ec1-6572244228db\">\n",
       "    <div class=\"colab-df-container\">\n",
       "      <div>\n",
       "<style scoped>\n",
       "    .dataframe tbody tr th:only-of-type {\n",
       "        vertical-align: middle;\n",
       "    }\n",
       "\n",
       "    .dataframe tbody tr th {\n",
       "        vertical-align: top;\n",
       "    }\n",
       "\n",
       "    .dataframe thead th {\n",
       "        text-align: right;\n",
       "    }\n",
       "</style>\n",
       "<table border=\"1\" class=\"dataframe\">\n",
       "  <thead>\n",
       "    <tr style=\"text-align: right;\">\n",
       "      <th></th>\n",
       "      <th>테마</th>\n",
       "      <th>해당 주식</th>\n",
       "      <th>종목코드</th>\n",
       "    </tr>\n",
       "  </thead>\n",
       "  <tbody>\n",
       "    <tr>\n",
       "      <th>0</th>\n",
       "      <td>빅테크-A(미국)</td>\n",
       "      <td>애플</td>\n",
       "      <td>AAPL</td>\n",
       "    </tr>\n",
       "    <tr>\n",
       "      <th>1</th>\n",
       "      <td>빅테크-A(미국)</td>\n",
       "      <td>알파벳</td>\n",
       "      <td>GOOG</td>\n",
       "    </tr>\n",
       "    <tr>\n",
       "      <th>2</th>\n",
       "      <td>빅테크-A(미국)</td>\n",
       "      <td>메타</td>\n",
       "      <td>FB</td>\n",
       "    </tr>\n",
       "    <tr>\n",
       "      <th>3</th>\n",
       "      <td>빅테크-A(미국)</td>\n",
       "      <td>마이크로소프트</td>\n",
       "      <td>MSFT</td>\n",
       "    </tr>\n",
       "    <tr>\n",
       "      <th>4</th>\n",
       "      <td>빅테크-A(미국)</td>\n",
       "      <td>아마존</td>\n",
       "      <td>AMZN</td>\n",
       "    </tr>\n",
       "  </tbody>\n",
       "</table>\n",
       "</div>\n",
       "      <button class=\"colab-df-convert\" onclick=\"convertToInteractive('df-2564fbb5-623c-43b5-9ec1-6572244228db')\"\n",
       "              title=\"Convert this dataframe to an interactive table.\"\n",
       "              style=\"display:none;\">\n",
       "        \n",
       "  <svg xmlns=\"http://www.w3.org/2000/svg\" height=\"24px\"viewBox=\"0 0 24 24\"\n",
       "       width=\"24px\">\n",
       "    <path d=\"M0 0h24v24H0V0z\" fill=\"none\"/>\n",
       "    <path d=\"M18.56 5.44l.94 2.06.94-2.06 2.06-.94-2.06-.94-.94-2.06-.94 2.06-2.06.94zm-11 1L8.5 8.5l.94-2.06 2.06-.94-2.06-.94L8.5 2.5l-.94 2.06-2.06.94zm10 10l.94 2.06.94-2.06 2.06-.94-2.06-.94-.94-2.06-.94 2.06-2.06.94z\"/><path d=\"M17.41 7.96l-1.37-1.37c-.4-.4-.92-.59-1.43-.59-.52 0-1.04.2-1.43.59L10.3 9.45l-7.72 7.72c-.78.78-.78 2.05 0 2.83L4 21.41c.39.39.9.59 1.41.59.51 0 1.02-.2 1.41-.59l7.78-7.78 2.81-2.81c.8-.78.8-2.07 0-2.86zM5.41 20L4 18.59l7.72-7.72 1.47 1.35L5.41 20z\"/>\n",
       "  </svg>\n",
       "      </button>\n",
       "      \n",
       "  <style>\n",
       "    .colab-df-container {\n",
       "      display:flex;\n",
       "      flex-wrap:wrap;\n",
       "      gap: 12px;\n",
       "    }\n",
       "\n",
       "    .colab-df-convert {\n",
       "      background-color: #E8F0FE;\n",
       "      border: none;\n",
       "      border-radius: 50%;\n",
       "      cursor: pointer;\n",
       "      display: none;\n",
       "      fill: #1967D2;\n",
       "      height: 32px;\n",
       "      padding: 0 0 0 0;\n",
       "      width: 32px;\n",
       "    }\n",
       "\n",
       "    .colab-df-convert:hover {\n",
       "      background-color: #E2EBFA;\n",
       "      box-shadow: 0px 1px 2px rgba(60, 64, 67, 0.3), 0px 1px 3px 1px rgba(60, 64, 67, 0.15);\n",
       "      fill: #174EA6;\n",
       "    }\n",
       "\n",
       "    [theme=dark] .colab-df-convert {\n",
       "      background-color: #3B4455;\n",
       "      fill: #D2E3FC;\n",
       "    }\n",
       "\n",
       "    [theme=dark] .colab-df-convert:hover {\n",
       "      background-color: #434B5C;\n",
       "      box-shadow: 0px 1px 3px 1px rgba(0, 0, 0, 0.15);\n",
       "      filter: drop-shadow(0px 1px 2px rgba(0, 0, 0, 0.3));\n",
       "      fill: #FFFFFF;\n",
       "    }\n",
       "  </style>\n",
       "\n",
       "      <script>\n",
       "        const buttonEl =\n",
       "          document.querySelector('#df-2564fbb5-623c-43b5-9ec1-6572244228db button.colab-df-convert');\n",
       "        buttonEl.style.display =\n",
       "          google.colab.kernel.accessAllowed ? 'block' : 'none';\n",
       "\n",
       "        async function convertToInteractive(key) {\n",
       "          const element = document.querySelector('#df-2564fbb5-623c-43b5-9ec1-6572244228db');\n",
       "          const dataTable =\n",
       "            await google.colab.kernel.invokeFunction('convertToInteractive',\n",
       "                                                     [key], {});\n",
       "          if (!dataTable) return;\n",
       "\n",
       "          const docLinkHtml = 'Like what you see? Visit the ' +\n",
       "            '<a target=\"_blank\" href=https://colab.research.google.com/notebooks/data_table.ipynb>data table notebook</a>'\n",
       "            + ' to learn more about interactive tables.';\n",
       "          element.innerHTML = '';\n",
       "          dataTable['output_type'] = 'display_data';\n",
       "          await google.colab.output.renderOutput(dataTable, element);\n",
       "          const docLink = document.createElement('div');\n",
       "          docLink.innerHTML = docLinkHtml;\n",
       "          element.appendChild(docLink);\n",
       "        }\n",
       "      </script>\n",
       "    </div>\n",
       "  </div>\n",
       "  "
      ],
      "text/plain": [
       "          테마    해당 주식  종목코드\n",
       "0  빅테크-A(미국)       애플  AAPL\n",
       "1  빅테크-A(미국)      알파벳  GOOG\n",
       "2  빅테크-A(미국)       메타    FB\n",
       "3  빅테크-A(미국)  마이크로소프트  MSFT\n",
       "4  빅테크-A(미국)      아마존  AMZN"
      ]
     },
     "execution_count": 166,
     "metadata": {},
     "output_type": "execute_result"
    }
   ],
   "source": [
    "df_theme.head()"
   ]
  },
  {
   "cell_type": "code",
   "execution_count": null,
   "metadata": {
    "colab": {
     "base_uri": "https://localhost:8080/"
    },
    "executionInfo": {
     "elapsed": 371,
     "status": "ok",
     "timestamp": 1644929749189,
     "user": {
      "displayName": "최영제",
      "photoUrl": "https://lh3.googleusercontent.com/a/default-user=s64",
      "userId": "07722901092434959404"
     },
     "user_tz": -540
    },
    "id": "VDkgucqWDcBD",
    "outputId": "91e51a75-caae-478a-9d48-64e18ef9ca8b"
   },
   "outputs": [
    {
     "data": {
      "text/plain": [
       "array(['빅테크-A(미국)', '빅테크-C(중국)', '전기차_2차전지(미국, 중국)', 'NFT_코인(미국, 중국)',\n",
       "       '메타버스', '우주/항공', '백신/치료', '뷰티/운동', '럭셔리', '여행', '프랜차이즈'],\n",
       "      dtype=object)"
      ]
     },
     "execution_count": 80,
     "metadata": {},
     "output_type": "execute_result"
    }
   ],
   "source": [
    "unique_theme"
   ]
  },
  {
   "cell_type": "code",
   "execution_count": null,
   "metadata": {
    "id": "ERsU38XdDb2E"
   },
   "outputs": [],
   "source": [
    "import re"
   ]
  },
  {
   "cell_type": "code",
   "execution_count": null,
   "metadata": {
    "colab": {
     "base_uri": "https://localhost:8080/"
    },
    "executionInfo": {
     "elapsed": 156450,
     "status": "ok",
     "timestamp": 1644929994632,
     "user": {
      "displayName": "최영제",
      "photoUrl": "https://lh3.googleusercontent.com/a/default-user=s64",
      "userId": "07722901092434959404"
     },
     "user_tz": -540
    },
    "id": "3RNniiwdaoBE",
    "outputId": "aa0d3bbb-4642-461f-c85a-f6e81df755c1"
   },
   "outputs": [
    {
     "name": "stderr",
     "output_type": "stream",
     "text": [
      "11it [02:36, 14.19s/it]\n"
     ]
    }
   ],
   "source": [
    "for idx_0, th in tqdm(enumerate(unique_theme)):\n",
    "  th_code_list = df_theme.loc[df_theme.테마 == th, \"종목코드\"]\n",
    "  th = re.sub(\"/\",\"_\",th)\n",
    "  for idx, th_code in enumerate(th_code_list):\n",
    "    if len(list(code_dict[th_code].keys())) == 0:\n",
    "      continue\n",
    "    sorted_items = sorted(code_dict[th_code].items(), key=operator.itemgetter(1))\n",
    "    names = [x[0] for x in sorted_items]\n",
    "    sims = [x[1] for x in sorted_items]\n",
    "    names_list = [tot_df.loc[tot_df.Symbol == x, \"Name\"].values[0] for x in names]\n",
    "\n",
    "    if idx == 0:\n",
    "      sector_dict = {\"code\":names, \"name\":names_list, th_code+\"dtw\":sims}\n",
    "      sector_df = pd.DataFrame.from_dict(sector_dict)\n",
    "    else:\n",
    "      sector_dict1 = {\"code\":names, \"name\":names_list, th_code+\"dtw\":sims}\n",
    "      sector_df1 = pd.DataFrame.from_dict(sector_dict1)\n",
    "      sector_df = pd.merge(sector_df, sector_df1, on = [\"code\", \"name\"], how = \"inner\")\n",
    "\n",
    "  sector_df['mean'] = sector_df.iloc[:, 2:].mean(axis = 1)\n",
    "  sector_df.to_csv(th + \"_sector_df.csv\", index = False)\n",
    "  globals()['sector_' + str(idx_0)] = sector_df"
   ]
  },
  {
   "cell_type": "code",
   "execution_count": null,
   "metadata": {
    "colab": {
     "base_uri": "https://localhost:8080/",
     "height": 423
    },
    "executionInfo": {
     "elapsed": 923,
     "status": "ok",
     "timestamp": 1644932727401,
     "user": {
      "displayName": "최영제",
      "photoUrl": "https://lh3.googleusercontent.com/a/default-user=s64",
      "userId": "07722901092434959404"
     },
     "user_tz": -540
    },
    "id": "OfLEm9RTa0Dp",
    "outputId": "3d5441d7-6bba-4607-d92b-66d065f8ff84"
   },
   "outputs": [
    {
     "data": {
      "text/html": [
       "\n",
       "  <div id=\"df-949afc63-78a2-42e8-872b-de5ff4e31889\">\n",
       "    <div class=\"colab-df-container\">\n",
       "      <div>\n",
       "<style scoped>\n",
       "    .dataframe tbody tr th:only-of-type {\n",
       "        vertical-align: middle;\n",
       "    }\n",
       "\n",
       "    .dataframe tbody tr th {\n",
       "        vertical-align: top;\n",
       "    }\n",
       "\n",
       "    .dataframe thead th {\n",
       "        text-align: right;\n",
       "    }\n",
       "</style>\n",
       "<table border=\"1\" class=\"dataframe\">\n",
       "  <thead>\n",
       "    <tr style=\"text-align: right;\">\n",
       "      <th></th>\n",
       "      <th>code</th>\n",
       "      <th>name</th>\n",
       "      <th>PFEdtw</th>\n",
       "      <th>MRKdtw</th>\n",
       "      <th>mean</th>\n",
       "    </tr>\n",
       "  </thead>\n",
       "  <tbody>\n",
       "    <tr>\n",
       "      <th>19</th>\n",
       "      <td>PAYX</td>\n",
       "      <td>Paychex Inc</td>\n",
       "      <td>31.544509</td>\n",
       "      <td>58.536240</td>\n",
       "      <td>45.040374</td>\n",
       "    </tr>\n",
       "    <tr>\n",
       "      <th>7</th>\n",
       "      <td>FFIV</td>\n",
       "      <td>F5 Inc</td>\n",
       "      <td>28.390524</td>\n",
       "      <td>69.738214</td>\n",
       "      <td>49.064369</td>\n",
       "    </tr>\n",
       "    <tr>\n",
       "      <th>28</th>\n",
       "      <td>LIN</td>\n",
       "      <td>Linde PLC</td>\n",
       "      <td>33.589007</td>\n",
       "      <td>64.927649</td>\n",
       "      <td>49.258328</td>\n",
       "    </tr>\n",
       "    <tr>\n",
       "      <th>25</th>\n",
       "      <td>MORN</td>\n",
       "      <td>Morningstar Inc</td>\n",
       "      <td>33.028737</td>\n",
       "      <td>66.520919</td>\n",
       "      <td>49.774828</td>\n",
       "    </tr>\n",
       "    <tr>\n",
       "      <th>27</th>\n",
       "      <td>FAST</td>\n",
       "      <td>Fastenal Co</td>\n",
       "      <td>33.316243</td>\n",
       "      <td>66.869108</td>\n",
       "      <td>50.092675</td>\n",
       "    </tr>\n",
       "    <tr>\n",
       "      <th>...</th>\n",
       "      <td>...</td>\n",
       "      <td>...</td>\n",
       "      <td>...</td>\n",
       "      <td>...</td>\n",
       "      <td>...</td>\n",
       "    </tr>\n",
       "    <tr>\n",
       "      <th>1177</th>\n",
       "      <td>LCI</td>\n",
       "      <td>Lannett Company Inc</td>\n",
       "      <td>257.581044</td>\n",
       "      <td>212.484793</td>\n",
       "      <td>235.032919</td>\n",
       "    </tr>\n",
       "    <tr>\n",
       "      <th>1196</th>\n",
       "      <td>PSFE</td>\n",
       "      <td>Paysafe Ltd</td>\n",
       "      <td>273.333148</td>\n",
       "      <td>197.133123</td>\n",
       "      <td>235.233136</td>\n",
       "    </tr>\n",
       "    <tr>\n",
       "      <th>1171</th>\n",
       "      <td>TARO</td>\n",
       "      <td>Taro Pharmaceutical Industries Ltd</td>\n",
       "      <td>255.777154</td>\n",
       "      <td>214.919785</td>\n",
       "      <td>235.348470</td>\n",
       "    </tr>\n",
       "    <tr>\n",
       "      <th>1170</th>\n",
       "      <td>ML</td>\n",
       "      <td>MoneyLion Inc Class A</td>\n",
       "      <td>255.457004</td>\n",
       "      <td>221.104151</td>\n",
       "      <td>238.280578</td>\n",
       "    </tr>\n",
       "    <tr>\n",
       "      <th>1176</th>\n",
       "      <td>NTCO</td>\n",
       "      <td>Natura &amp; Co Holding SA ADR</td>\n",
       "      <td>257.457122</td>\n",
       "      <td>225.871838</td>\n",
       "      <td>241.664480</td>\n",
       "    </tr>\n",
       "  </tbody>\n",
       "</table>\n",
       "<p>1198 rows × 5 columns</p>\n",
       "</div>\n",
       "      <button class=\"colab-df-convert\" onclick=\"convertToInteractive('df-949afc63-78a2-42e8-872b-de5ff4e31889')\"\n",
       "              title=\"Convert this dataframe to an interactive table.\"\n",
       "              style=\"display:none;\">\n",
       "        \n",
       "  <svg xmlns=\"http://www.w3.org/2000/svg\" height=\"24px\"viewBox=\"0 0 24 24\"\n",
       "       width=\"24px\">\n",
       "    <path d=\"M0 0h24v24H0V0z\" fill=\"none\"/>\n",
       "    <path d=\"M18.56 5.44l.94 2.06.94-2.06 2.06-.94-2.06-.94-.94-2.06-.94 2.06-2.06.94zm-11 1L8.5 8.5l.94-2.06 2.06-.94-2.06-.94L8.5 2.5l-.94 2.06-2.06.94zm10 10l.94 2.06.94-2.06 2.06-.94-2.06-.94-.94-2.06-.94 2.06-2.06.94z\"/><path d=\"M17.41 7.96l-1.37-1.37c-.4-.4-.92-.59-1.43-.59-.52 0-1.04.2-1.43.59L10.3 9.45l-7.72 7.72c-.78.78-.78 2.05 0 2.83L4 21.41c.39.39.9.59 1.41.59.51 0 1.02-.2 1.41-.59l7.78-7.78 2.81-2.81c.8-.78.8-2.07 0-2.86zM5.41 20L4 18.59l7.72-7.72 1.47 1.35L5.41 20z\"/>\n",
       "  </svg>\n",
       "      </button>\n",
       "      \n",
       "  <style>\n",
       "    .colab-df-container {\n",
       "      display:flex;\n",
       "      flex-wrap:wrap;\n",
       "      gap: 12px;\n",
       "    }\n",
       "\n",
       "    .colab-df-convert {\n",
       "      background-color: #E8F0FE;\n",
       "      border: none;\n",
       "      border-radius: 50%;\n",
       "      cursor: pointer;\n",
       "      display: none;\n",
       "      fill: #1967D2;\n",
       "      height: 32px;\n",
       "      padding: 0 0 0 0;\n",
       "      width: 32px;\n",
       "    }\n",
       "\n",
       "    .colab-df-convert:hover {\n",
       "      background-color: #E2EBFA;\n",
       "      box-shadow: 0px 1px 2px rgba(60, 64, 67, 0.3), 0px 1px 3px 1px rgba(60, 64, 67, 0.15);\n",
       "      fill: #174EA6;\n",
       "    }\n",
       "\n",
       "    [theme=dark] .colab-df-convert {\n",
       "      background-color: #3B4455;\n",
       "      fill: #D2E3FC;\n",
       "    }\n",
       "\n",
       "    [theme=dark] .colab-df-convert:hover {\n",
       "      background-color: #434B5C;\n",
       "      box-shadow: 0px 1px 3px 1px rgba(0, 0, 0, 0.15);\n",
       "      filter: drop-shadow(0px 1px 2px rgba(0, 0, 0, 0.3));\n",
       "      fill: #FFFFFF;\n",
       "    }\n",
       "  </style>\n",
       "\n",
       "      <script>\n",
       "        const buttonEl =\n",
       "          document.querySelector('#df-949afc63-78a2-42e8-872b-de5ff4e31889 button.colab-df-convert');\n",
       "        buttonEl.style.display =\n",
       "          google.colab.kernel.accessAllowed ? 'block' : 'none';\n",
       "\n",
       "        async function convertToInteractive(key) {\n",
       "          const element = document.querySelector('#df-949afc63-78a2-42e8-872b-de5ff4e31889');\n",
       "          const dataTable =\n",
       "            await google.colab.kernel.invokeFunction('convertToInteractive',\n",
       "                                                     [key], {});\n",
       "          if (!dataTable) return;\n",
       "\n",
       "          const docLinkHtml = 'Like what you see? Visit the ' +\n",
       "            '<a target=\"_blank\" href=https://colab.research.google.com/notebooks/data_table.ipynb>data table notebook</a>'\n",
       "            + ' to learn more about interactive tables.';\n",
       "          element.innerHTML = '';\n",
       "          dataTable['output_type'] = 'display_data';\n",
       "          await google.colab.output.renderOutput(dataTable, element);\n",
       "          const docLink = document.createElement('div');\n",
       "          docLink.innerHTML = docLinkHtml;\n",
       "          element.appendChild(docLink);\n",
       "        }\n",
       "      </script>\n",
       "    </div>\n",
       "  </div>\n",
       "  "
      ],
      "text/plain": [
       "      code                                name  ...      MRKdtw        mean\n",
       "19    PAYX                         Paychex Inc  ...   58.536240   45.040374\n",
       "7     FFIV                              F5 Inc  ...   69.738214   49.064369\n",
       "28     LIN                           Linde PLC  ...   64.927649   49.258328\n",
       "25    MORN                     Morningstar Inc  ...   66.520919   49.774828\n",
       "27    FAST                         Fastenal Co  ...   66.869108   50.092675\n",
       "...    ...                                 ...  ...         ...         ...\n",
       "1177   LCI                 Lannett Company Inc  ...  212.484793  235.032919\n",
       "1196  PSFE                         Paysafe Ltd  ...  197.133123  235.233136\n",
       "1171  TARO  Taro Pharmaceutical Industries Ltd  ...  214.919785  235.348470\n",
       "1170    ML               MoneyLion Inc Class A  ...  221.104151  238.280578\n",
       "1176  NTCO          Natura & Co Holding SA ADR  ...  225.871838  241.664480\n",
       "\n",
       "[1198 rows x 5 columns]"
      ]
     },
     "execution_count": 98,
     "metadata": {},
     "output_type": "execute_result"
    }
   ],
   "source": [
    "sector_6.sort_values(\"mean\")"
   ]
  },
  {
   "cell_type": "code",
   "execution_count": null,
   "metadata": {
    "colab": {
     "base_uri": "https://localhost:8080/",
     "height": 423
    },
    "executionInfo": {
     "elapsed": 374,
     "status": "ok",
     "timestamp": 1644930046069,
     "user": {
      "displayName": "최영제",
      "photoUrl": "https://lh3.googleusercontent.com/a/default-user=s64",
      "userId": "07722901092434959404"
     },
     "user_tz": -540
    },
    "id": "obQWr9NWCfVV",
    "outputId": "032e430c-f979-424c-ab1f-1acefa7a8325"
   },
   "outputs": [
    {
     "data": {
      "text/html": [
       "\n",
       "  <div id=\"df-d6406f18-44ca-4155-9a5b-678884b8dbf7\">\n",
       "    <div class=\"colab-df-container\">\n",
       "      <div>\n",
       "<style scoped>\n",
       "    .dataframe tbody tr th:only-of-type {\n",
       "        vertical-align: middle;\n",
       "    }\n",
       "\n",
       "    .dataframe tbody tr th {\n",
       "        vertical-align: top;\n",
       "    }\n",
       "\n",
       "    .dataframe thead th {\n",
       "        text-align: right;\n",
       "    }\n",
       "</style>\n",
       "<table border=\"1\" class=\"dataframe\">\n",
       "  <thead>\n",
       "    <tr style=\"text-align: right;\">\n",
       "      <th></th>\n",
       "      <th>code</th>\n",
       "      <th>name</th>\n",
       "      <th>MCDdtw</th>\n",
       "      <th>SBUXdtw</th>\n",
       "      <th>DPZdtw</th>\n",
       "      <th>YUMdtw</th>\n",
       "      <th>SHAKdtw</th>\n",
       "      <th>CMGdtw</th>\n",
       "      <th>QSRdtw</th>\n",
       "      <th>mean</th>\n",
       "    </tr>\n",
       "  </thead>\n",
       "  <tbody>\n",
       "    <tr>\n",
       "      <th>234</th>\n",
       "      <td>GFS</td>\n",
       "      <td>Globalfoundries Inc</td>\n",
       "      <td>58.833122</td>\n",
       "      <td>41.058897</td>\n",
       "      <td>46.140646</td>\n",
       "      <td>52.547791</td>\n",
       "      <td>48.569034</td>\n",
       "      <td>31.084007</td>\n",
       "      <td>65.049437</td>\n",
       "      <td>49.040419</td>\n",
       "    </tr>\n",
       "    <tr>\n",
       "      <th>371</th>\n",
       "      <td>OLPX</td>\n",
       "      <td>Olaplex Holdings Inc</td>\n",
       "      <td>79.538694</td>\n",
       "      <td>46.967615</td>\n",
       "      <td>42.662903</td>\n",
       "      <td>53.220331</td>\n",
       "      <td>58.417225</td>\n",
       "      <td>47.341577</td>\n",
       "      <td>71.337364</td>\n",
       "      <td>57.069387</td>\n",
       "    </tr>\n",
       "    <tr>\n",
       "      <th>286</th>\n",
       "      <td>INFA</td>\n",
       "      <td>Informatica Inc Class A</td>\n",
       "      <td>66.433806</td>\n",
       "      <td>74.193651</td>\n",
       "      <td>59.211372</td>\n",
       "      <td>71.842393</td>\n",
       "      <td>46.877293</td>\n",
       "      <td>50.840673</td>\n",
       "      <td>68.049955</td>\n",
       "      <td>62.492735</td>\n",
       "    </tr>\n",
       "    <tr>\n",
       "      <th>320</th>\n",
       "      <td>LTH</td>\n",
       "      <td>Life Time Group Holdings Inc</td>\n",
       "      <td>72.894720</td>\n",
       "      <td>50.519187</td>\n",
       "      <td>78.286218</td>\n",
       "      <td>79.851062</td>\n",
       "      <td>51.759953</td>\n",
       "      <td>46.815155</td>\n",
       "      <td>71.192549</td>\n",
       "      <td>64.474120</td>\n",
       "    </tr>\n",
       "    <tr>\n",
       "      <th>380</th>\n",
       "      <td>AKA</td>\n",
       "      <td>AKA Brands Holding Corp</td>\n",
       "      <td>81.832630</td>\n",
       "      <td>51.563419</td>\n",
       "      <td>63.051476</td>\n",
       "      <td>94.836916</td>\n",
       "      <td>51.458338</td>\n",
       "      <td>48.981034</td>\n",
       "      <td>71.771825</td>\n",
       "      <td>66.213662</td>\n",
       "    </tr>\n",
       "    <tr>\n",
       "      <th>...</th>\n",
       "      <td>...</td>\n",
       "      <td>...</td>\n",
       "      <td>...</td>\n",
       "      <td>...</td>\n",
       "      <td>...</td>\n",
       "      <td>...</td>\n",
       "      <td>...</td>\n",
       "      <td>...</td>\n",
       "      <td>...</td>\n",
       "      <td>...</td>\n",
       "    </tr>\n",
       "    <tr>\n",
       "      <th>1032</th>\n",
       "      <td>DELL</td>\n",
       "      <td>Dell Technologies Inc Class C</td>\n",
       "      <td>240.559185</td>\n",
       "      <td>153.910752</td>\n",
       "      <td>213.468730</td>\n",
       "      <td>180.811225</td>\n",
       "      <td>105.099159</td>\n",
       "      <td>127.438585</td>\n",
       "      <td>72.238178</td>\n",
       "      <td>156.217974</td>\n",
       "    </tr>\n",
       "    <tr>\n",
       "      <th>254</th>\n",
       "      <td>RRD</td>\n",
       "      <td>RR Donnelley &amp; Sons Co</td>\n",
       "      <td>62.369440</td>\n",
       "      <td>188.721967</td>\n",
       "      <td>146.025362</td>\n",
       "      <td>123.743995</td>\n",
       "      <td>217.812824</td>\n",
       "      <td>157.529385</td>\n",
       "      <td>219.657424</td>\n",
       "      <td>159.408628</td>\n",
       "    </tr>\n",
       "    <tr>\n",
       "      <th>176</th>\n",
       "      <td>DLTR</td>\n",
       "      <td>Dollar Tree Inc</td>\n",
       "      <td>51.860693</td>\n",
       "      <td>207.692703</td>\n",
       "      <td>114.768363</td>\n",
       "      <td>114.470006</td>\n",
       "      <td>242.005175</td>\n",
       "      <td>161.043779</td>\n",
       "      <td>236.925420</td>\n",
       "      <td>161.252306</td>\n",
       "    </tr>\n",
       "    <tr>\n",
       "      <th>265</th>\n",
       "      <td>NPTN</td>\n",
       "      <td>NeoPhotonics Corp</td>\n",
       "      <td>64.101265</td>\n",
       "      <td>214.148922</td>\n",
       "      <td>134.125397</td>\n",
       "      <td>113.877140</td>\n",
       "      <td>225.705831</td>\n",
       "      <td>161.205880</td>\n",
       "      <td>223.253765</td>\n",
       "      <td>162.345457</td>\n",
       "    </tr>\n",
       "    <tr>\n",
       "      <th>236</th>\n",
       "      <td>ROG</td>\n",
       "      <td>Rogers Corp</td>\n",
       "      <td>59.046553</td>\n",
       "      <td>211.630711</td>\n",
       "      <td>137.584716</td>\n",
       "      <td>132.604339</td>\n",
       "      <td>250.638152</td>\n",
       "      <td>157.468388</td>\n",
       "      <td>252.226635</td>\n",
       "      <td>171.599928</td>\n",
       "    </tr>\n",
       "  </tbody>\n",
       "</table>\n",
       "<p>1193 rows × 10 columns</p>\n",
       "</div>\n",
       "      <button class=\"colab-df-convert\" onclick=\"convertToInteractive('df-d6406f18-44ca-4155-9a5b-678884b8dbf7')\"\n",
       "              title=\"Convert this dataframe to an interactive table.\"\n",
       "              style=\"display:none;\">\n",
       "        \n",
       "  <svg xmlns=\"http://www.w3.org/2000/svg\" height=\"24px\"viewBox=\"0 0 24 24\"\n",
       "       width=\"24px\">\n",
       "    <path d=\"M0 0h24v24H0V0z\" fill=\"none\"/>\n",
       "    <path d=\"M18.56 5.44l.94 2.06.94-2.06 2.06-.94-2.06-.94-.94-2.06-.94 2.06-2.06.94zm-11 1L8.5 8.5l.94-2.06 2.06-.94-2.06-.94L8.5 2.5l-.94 2.06-2.06.94zm10 10l.94 2.06.94-2.06 2.06-.94-2.06-.94-.94-2.06-.94 2.06-2.06.94z\"/><path d=\"M17.41 7.96l-1.37-1.37c-.4-.4-.92-.59-1.43-.59-.52 0-1.04.2-1.43.59L10.3 9.45l-7.72 7.72c-.78.78-.78 2.05 0 2.83L4 21.41c.39.39.9.59 1.41.59.51 0 1.02-.2 1.41-.59l7.78-7.78 2.81-2.81c.8-.78.8-2.07 0-2.86zM5.41 20L4 18.59l7.72-7.72 1.47 1.35L5.41 20z\"/>\n",
       "  </svg>\n",
       "      </button>\n",
       "      \n",
       "  <style>\n",
       "    .colab-df-container {\n",
       "      display:flex;\n",
       "      flex-wrap:wrap;\n",
       "      gap: 12px;\n",
       "    }\n",
       "\n",
       "    .colab-df-convert {\n",
       "      background-color: #E8F0FE;\n",
       "      border: none;\n",
       "      border-radius: 50%;\n",
       "      cursor: pointer;\n",
       "      display: none;\n",
       "      fill: #1967D2;\n",
       "      height: 32px;\n",
       "      padding: 0 0 0 0;\n",
       "      width: 32px;\n",
       "    }\n",
       "\n",
       "    .colab-df-convert:hover {\n",
       "      background-color: #E2EBFA;\n",
       "      box-shadow: 0px 1px 2px rgba(60, 64, 67, 0.3), 0px 1px 3px 1px rgba(60, 64, 67, 0.15);\n",
       "      fill: #174EA6;\n",
       "    }\n",
       "\n",
       "    [theme=dark] .colab-df-convert {\n",
       "      background-color: #3B4455;\n",
       "      fill: #D2E3FC;\n",
       "    }\n",
       "\n",
       "    [theme=dark] .colab-df-convert:hover {\n",
       "      background-color: #434B5C;\n",
       "      box-shadow: 0px 1px 3px 1px rgba(0, 0, 0, 0.15);\n",
       "      filter: drop-shadow(0px 1px 2px rgba(0, 0, 0, 0.3));\n",
       "      fill: #FFFFFF;\n",
       "    }\n",
       "  </style>\n",
       "\n",
       "      <script>\n",
       "        const buttonEl =\n",
       "          document.querySelector('#df-d6406f18-44ca-4155-9a5b-678884b8dbf7 button.colab-df-convert');\n",
       "        buttonEl.style.display =\n",
       "          google.colab.kernel.accessAllowed ? 'block' : 'none';\n",
       "\n",
       "        async function convertToInteractive(key) {\n",
       "          const element = document.querySelector('#df-d6406f18-44ca-4155-9a5b-678884b8dbf7');\n",
       "          const dataTable =\n",
       "            await google.colab.kernel.invokeFunction('convertToInteractive',\n",
       "                                                     [key], {});\n",
       "          if (!dataTable) return;\n",
       "\n",
       "          const docLinkHtml = 'Like what you see? Visit the ' +\n",
       "            '<a target=\"_blank\" href=https://colab.research.google.com/notebooks/data_table.ipynb>data table notebook</a>'\n",
       "            + ' to learn more about interactive tables.';\n",
       "          element.innerHTML = '';\n",
       "          dataTable['output_type'] = 'display_data';\n",
       "          await google.colab.output.renderOutput(dataTable, element);\n",
       "          const docLink = document.createElement('div');\n",
       "          docLink.innerHTML = docLinkHtml;\n",
       "          element.appendChild(docLink);\n",
       "        }\n",
       "      </script>\n",
       "    </div>\n",
       "  </div>\n",
       "  "
      ],
      "text/plain": [
       "      code                           name  ...      QSRdtw        mean\n",
       "234    GFS            Globalfoundries Inc  ...   65.049437   49.040419\n",
       "371   OLPX           Olaplex Holdings Inc  ...   71.337364   57.069387\n",
       "286   INFA        Informatica Inc Class A  ...   68.049955   62.492735\n",
       "320    LTH   Life Time Group Holdings Inc  ...   71.192549   64.474120\n",
       "380    AKA        AKA Brands Holding Corp  ...   71.771825   66.213662\n",
       "...    ...                            ...  ...         ...         ...\n",
       "1032  DELL  Dell Technologies Inc Class C  ...   72.238178  156.217974\n",
       "254    RRD         RR Donnelley & Sons Co  ...  219.657424  159.408628\n",
       "176   DLTR                Dollar Tree Inc  ...  236.925420  161.252306\n",
       "265   NPTN              NeoPhotonics Corp  ...  223.253765  162.345457\n",
       "236    ROG                    Rogers Corp  ...  252.226635  171.599928\n",
       "\n",
       "[1193 rows x 10 columns]"
      ]
     },
     "execution_count": 90,
     "metadata": {},
     "output_type": "execute_result"
    }
   ],
   "source": [
    "sector_df.sort_values(\"mean\")"
   ]
  },
  {
   "cell_type": "code",
   "execution_count": null,
   "metadata": {},
   "outputs": [],
   "source": []
  }
 ],
 "metadata": {
  "accelerator": "GPU",
  "colab": {
   "authorship_tag": "ABX9TyO4gQKkmOXbBtccyG/ys1kR",
   "collapsed_sections": [],
   "mount_file_id": "1EdeIi8WPtTaSwuS3ZSFdzIxaSBbnTMH1",
   "name": "finance.ipynb",
   "provenance": []
  },
  "kernelspec": {
   "display_name": "Python 3",
   "language": "python",
   "name": "python3"
  },
  "language_info": {
   "codemirror_mode": {
    "name": "ipython",
    "version": 3
   },
   "file_extension": ".py",
   "mimetype": "text/x-python",
   "name": "python",
   "nbconvert_exporter": "python",
   "pygments_lexer": "ipython3",
   "version": "3.7.6"
  }
 },
 "nbformat": 4,
 "nbformat_minor": 4
}
